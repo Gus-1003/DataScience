{
  "nbformat": 4,
  "nbformat_minor": 0,
  "metadata": {
    "colab": {
      "name": "1_Introdução_e_Metodos.ipynb",
      "provenance": [],
      "toc_visible": true,
      "authorship_tag": "ABX9TyNXZi3jTQdT5yvRE4TPB7wv",
      "include_colab_link": true
    },
    "kernelspec": {
      "name": "python3",
      "display_name": "Python 3"
    },
    "language_info": {
      "name": "python"
    }
  },
  "cells": [
    {
      "cell_type": "markdown",
      "metadata": {
        "id": "view-in-github",
        "colab_type": "text"
      },
      "source": [
        "<a href=\"https://colab.research.google.com/github/Gus-1003/DataScience/blob/main/Numpy/1_Introdu%C3%A7%C3%A3o_e_Metodos.ipynb\" target=\"_parent\"><img src=\"https://colab.research.google.com/assets/colab-badge.svg\" alt=\"Open In Colab\"/></a>"
      ]
    },
    {
      "cell_type": "markdown",
      "source": [
        "# Base para Ciência de Dados - Numpy"
      ],
      "metadata": {
        "id": "SmseTzBfOmqR"
      }
    },
    {
      "cell_type": "markdown",
      "source": [
        "## Fontes:"
      ],
      "metadata": {
        "id": "4JHuhsVuO9hi"
      }
    },
    {
      "cell_type": "markdown",
      "source": [
        "*   Numpy = https://numpy.org/doc/stable/reference/generated/numpy.reshape.html\n",
        "\n",
        "*   Guthub - Professora Laura Emmanuealla - TADS/EAJ/UFRN = https://github.com/lauraemmanuella/IntroducaoPython/blob/main/8_NumPy.ipynb\n",
        "\n"
      ],
      "metadata": {
        "id": "vrPbA3shPEew"
      }
    },
    {
      "cell_type": "markdown",
      "source": [
        "## Introdução Básica:"
      ],
      "metadata": {
        "id": "m5StuNUyQAE5"
      }
    },
    {
      "cell_type": "markdown",
      "source": [
        "Numpy é uma biblioteca de álgebra linear para Python, a razão pela qual é tão importante para a ciência de dados em Python é que quase todas as bibliotecas dependem do Numpy como um dos seus principais blocos de construção."
      ],
      "metadata": {
        "id": "RltZ9sVXQVPJ"
      }
    },
    {
      "cell_type": "markdown",
      "source": [
        "*   O objeto principal do NumPy é a criação e manipulação de matrizes multidimensionais homogêneas.\n",
        "*   É uma tabela de elementos (geralmente números), todos do mesmo tipo, indexados por uma tupla de inteiros não negativos.\n",
        "\n"
      ],
      "metadata": {
        "id": "Ya15gP5NP9ey"
      }
    },
    {
      "cell_type": "markdown",
      "source": [
        "## Visualização:"
      ],
      "metadata": {
        "id": "iQoZHqiDPvFi"
      }
    },
    {
      "cell_type": "markdown",
      "source": [
        "### Importando Biblioteca:"
      ],
      "metadata": {
        "id": "ZVdZ9oF0RtCK"
      }
    },
    {
      "cell_type": "code",
      "execution_count": 1,
      "metadata": {
        "id": "EjJhi6iSOiMo"
      },
      "outputs": [],
      "source": [
        "# 1º Passo: Importa a biblioteca\n",
        "import numpy as np"
      ]
    },
    {
      "cell_type": "markdown",
      "source": [
        "### Criando Numpy Arrays"
      ],
      "metadata": {
        "id": "1QDAvlGdRx5S"
      }
    },
    {
      "cell_type": "markdown",
      "source": [
        "Numpy arrays essencialmente vêm de duas formas:\n",
        "\n",
        "*   Vetores (Lista de uma Dimensão)\n",
        "*   Matrizes (Lista de duas Dimensões)\n",
        "\n",
        "Para arrays 3D ou dimensões superiores, o termo **\"tensor\"** é comumente usado."
      ],
      "metadata": {
        "id": "j5OSkhnVRHxa"
      }
    },
    {
      "cell_type": "code",
      "source": [
        "lista_simples = [1,2,3] # Array\n",
        "vetor = np.array(lista_simples) \n",
        "type(vetor)"
      ],
      "metadata": {
        "colab": {
          "base_uri": "https://localhost:8080/"
        },
        "id": "Myoi60YoQxp7",
        "outputId": "1f24e413-2bf3-403c-b3bd-29a6d7c432af"
      },
      "execution_count": 21,
      "outputs": [
        {
          "output_type": "execute_result",
          "data": {
            "text/plain": [
              "numpy.ndarray"
            ]
          },
          "metadata": {},
          "execution_count": 21
        }
      ]
    },
    {
      "cell_type": "code",
      "source": [
        "print(vetor)"
      ],
      "metadata": {
        "colab": {
          "base_uri": "https://localhost:8080/"
        },
        "id": "JdrYFSYeSK_B",
        "outputId": "cf1ee3f2-a0d6-47b8-9f82-fda338f0d665"
      },
      "execution_count": 22,
      "outputs": [
        {
          "output_type": "stream",
          "name": "stdout",
          "text": [
            "[1 2 3]\n"
          ]
        }
      ]
    },
    {
      "cell_type": "code",
      "source": [
        "matriz_simples = [[1,2,3],[4,5,6],[7,8,9]] # Matriz passo a passo\n",
        "Matriz_1 = np.array(matriz_simples)\n",
        "type(Matriz_1)"
      ],
      "metadata": {
        "colab": {
          "base_uri": "https://localhost:8080/"
        },
        "id": "CEFzOp8RU6O1",
        "outputId": "73779d4d-ef9c-40a7-ada7-c550596c8dea"
      },
      "execution_count": 23,
      "outputs": [
        {
          "output_type": "execute_result",
          "data": {
            "text/plain": [
              "numpy.ndarray"
            ]
          },
          "metadata": {},
          "execution_count": 23
        }
      ]
    },
    {
      "cell_type": "code",
      "source": [
        "print(Matriz_1)"
      ],
      "metadata": {
        "colab": {
          "base_uri": "https://localhost:8080/"
        },
        "id": "O0j0-ol4VP-r",
        "outputId": "91ebc2e4-afeb-4d96-8faf-d83fb6931172"
      },
      "execution_count": 24,
      "outputs": [
        {
          "output_type": "stream",
          "name": "stdout",
          "text": [
            "[[1 2 3]\n",
            " [4 5 6]\n",
            " [7 8 9]]\n"
          ]
        }
      ]
    },
    {
      "cell_type": "markdown",
      "source": [
        "## Tipos dos Elementos"
      ],
      "metadata": {
        "id": "769KDn6rbEzL"
      }
    },
    {
      "cell_type": "markdown",
      "source": [
        "Os elementos do array numpy são do mesmo tipo (estrutura homogênea)"
      ],
      "metadata": {
        "id": "0NUU5qj8bXw7"
      }
    },
    {
      "cell_type": "code",
      "source": [
        "lista_exemplo = [25, 'natal', 7.8, True]\n",
        "print(lista_exemplo)"
      ],
      "metadata": {
        "colab": {
          "base_uri": "https://localhost:8080/"
        },
        "id": "bYDk7nGFbaCz",
        "outputId": "5059f0f2-8d44-454d-ebf2-136099e46bf6"
      },
      "execution_count": 25,
      "outputs": [
        {
          "output_type": "stream",
          "name": "stdout",
          "text": [
            "[25, 'natal', 7.8, True]\n"
          ]
        }
      ]
    },
    {
      "cell_type": "code",
      "source": [
        "type(lista_exemplo[2]) # Lembrando que listas se iniciam no indice 0"
      ],
      "metadata": {
        "colab": {
          "base_uri": "https://localhost:8080/"
        },
        "id": "q1USzlp3blwD",
        "outputId": "22a58ba0-3c0d-4031-e6e0-15201d23ea2d"
      },
      "execution_count": 27,
      "outputs": [
        {
          "output_type": "execute_result",
          "data": {
            "text/plain": [
              "float"
            ]
          },
          "metadata": {},
          "execution_count": 27
        }
      ]
    },
    {
      "cell_type": "code",
      "source": [
        "vetor_exemplo = np.array(lista_exemplo) # Criamos um array numpy\n",
        "print(vetor_exemplo)"
      ],
      "metadata": {
        "colab": {
          "base_uri": "https://localhost:8080/"
        },
        "id": "UHZ99UUabu_b",
        "outputId": "14648d02-89f4-469a-e0f6-c69702c9ba7f"
      },
      "execution_count": 29,
      "outputs": [
        {
          "output_type": "stream",
          "name": "stdout",
          "text": [
            "['25' 'natal' '7.8' 'True']\n"
          ]
        }
      ]
    },
    {
      "cell_type": "code",
      "source": [
        "type(vetor_exemplo[0]) # Todos os elementos se transformaram em string"
      ],
      "metadata": {
        "colab": {
          "base_uri": "https://localhost:8080/"
        },
        "id": "oxKPCHzEb_c7",
        "outputId": "853193ea-bf86-4368-d7af-2c583a913137"
      },
      "execution_count": 35,
      "outputs": [
        {
          "output_type": "execute_result",
          "data": {
            "text/plain": [
              "numpy.str_"
            ]
          },
          "metadata": {},
          "execution_count": 35
        }
      ]
    },
    {
      "cell_type": "code",
      "source": [
        "type(vetor_exemplo)"
      ],
      "metadata": {
        "colab": {
          "base_uri": "https://localhost:8080/"
        },
        "id": "gweAdLuScEtx",
        "outputId": "a89d348e-2c1f-4972-e94a-826a9417d28b"
      },
      "execution_count": 32,
      "outputs": [
        {
          "output_type": "execute_result",
          "data": {
            "text/plain": [
              "numpy.ndarray"
            ]
          },
          "metadata": {},
          "execution_count": 32
        }
      ]
    },
    {
      "cell_type": "markdown",
      "source": [
        "## Métodos Numpy"
      ],
      "metadata": {
        "id": "M5uQkNNtYIIb"
      }
    },
    {
      "cell_type": "markdown",
      "source": [
        "### arange"
      ],
      "metadata": {
        "id": "CjoYODyKYVmS"
      }
    },
    {
      "cell_type": "code",
      "source": [
        "np.arange(0,10) # Gera um array que si inicia em X e vai até Y"
      ],
      "metadata": {
        "colab": {
          "base_uri": "https://localhost:8080/"
        },
        "id": "9IKqsQ_Scoq7",
        "outputId": "2aa2f300-35fe-4960-d080-20cc887c6d9f"
      },
      "execution_count": 36,
      "outputs": [
        {
          "output_type": "execute_result",
          "data": {
            "text/plain": [
              "array([0, 1, 2, 3, 4, 5, 6, 7, 8, 9])"
            ]
          },
          "metadata": {},
          "execution_count": 36
        }
      ]
    },
    {
      "cell_type": "code",
      "source": [
        "np.arange(0,11,2) # o Z seria o intervalo entre um elemento e outro"
      ],
      "metadata": {
        "colab": {
          "base_uri": "https://localhost:8080/"
        },
        "id": "3lC2vuK3cyBT",
        "outputId": "8483caaf-f08c-4df2-b30e-9a1b62a44b49"
      },
      "execution_count": 37,
      "outputs": [
        {
          "output_type": "execute_result",
          "data": {
            "text/plain": [
              "array([ 0,  2,  4,  6,  8, 10])"
            ]
          },
          "metadata": {},
          "execution_count": 37
        }
      ]
    },
    {
      "cell_type": "markdown",
      "source": [
        "### reshape"
      ],
      "metadata": {
        "id": "VsQlW_B1Y4ES"
      }
    },
    {
      "cell_type": "code",
      "source": [
        "exemplo_1 = np.arange(12) # Criamos um array de 12 elementos\n",
        "print(exemplo_1)"
      ],
      "metadata": {
        "colab": {
          "base_uri": "https://localhost:8080/"
        },
        "id": "li4k4pf1c-87",
        "outputId": "29699009-4802-4873-f83c-1702ba61cc22"
      },
      "execution_count": 39,
      "outputs": [
        {
          "output_type": "stream",
          "name": "stdout",
          "text": [
            "[ 0  1  2  3  4  5  6  7  8  9 10 11]\n"
          ]
        }
      ]
    },
    {
      "cell_type": "code",
      "source": [
        "exemplo_1 = exemplo_1.reshape(4,3) # Reorganizamos esses dados em uma matriz de 4 x 3\n",
        "print(exemplo_1)"
      ],
      "metadata": {
        "colab": {
          "base_uri": "https://localhost:8080/"
        },
        "id": "zdJ2SpUidOPK",
        "outputId": "42bd5730-3fe0-428b-d684-504bade78d62"
      },
      "execution_count": 41,
      "outputs": [
        {
          "output_type": "stream",
          "name": "stdout",
          "text": [
            "[[ 0  1  2]\n",
            " [ 3  4  5]\n",
            " [ 6  7  8]\n",
            " [ 9 10 11]]\n"
          ]
        }
      ]
    },
    {
      "cell_type": "markdown",
      "source": [
        "### shape"
      ],
      "metadata": {
        "id": "y91T2OHOZXY7"
      }
    },
    {
      "cell_type": "code",
      "source": [
        "Matriz_1.shape"
      ],
      "metadata": {
        "colab": {
          "base_uri": "https://localhost:8080/"
        },
        "id": "a5Bc5kJed1UL",
        "outputId": "4dc9113d-3c72-4e65-f40e-afcb70050b5b"
      },
      "execution_count": 45,
      "outputs": [
        {
          "output_type": "execute_result",
          "data": {
            "text/plain": [
              "(3, 3)"
            ]
          },
          "metadata": {},
          "execution_count": 45
        }
      ]
    },
    {
      "cell_type": "code",
      "source": [
        "exemplo_1.shape"
      ],
      "metadata": {
        "colab": {
          "base_uri": "https://localhost:8080/"
        },
        "id": "4HaI1YzGdsHk",
        "outputId": "c60bbcfa-c8c9-439a-d3b3-756fa648fc24"
      },
      "execution_count": 42,
      "outputs": [
        {
          "output_type": "execute_result",
          "data": {
            "text/plain": [
              "(4, 3)"
            ]
          },
          "metadata": {},
          "execution_count": 42
        }
      ]
    },
    {
      "cell_type": "markdown",
      "source": [
        "### ndim"
      ],
      "metadata": {
        "id": "UfSmu42iZaWr"
      }
    },
    {
      "cell_type": "markdown",
      "source": [
        "ndmin = retorna o número de dimensões de uma estrutura;\n",
        "\n",
        "\n",
        "*   arrays = ele sempre retorná 1\n",
        "*   matrizes = ele sempre retorná 2\n",
        "\n"
      ],
      "metadata": {
        "id": "jNbWaXpdeSiz"
      }
    },
    {
      "cell_type": "code",
      "source": [
        "vetor.ndim "
      ],
      "metadata": {
        "colab": {
          "base_uri": "https://localhost:8080/"
        },
        "id": "59QYWcwAeiw7",
        "outputId": "cbdf2560-93c0-4b38-8ac4-7a76729ece0d"
      },
      "execution_count": 48,
      "outputs": [
        {
          "output_type": "execute_result",
          "data": {
            "text/plain": [
              "1"
            ]
          },
          "metadata": {},
          "execution_count": 48
        }
      ]
    },
    {
      "cell_type": "code",
      "source": [
        "Matriz_1.ndim "
      ],
      "metadata": {
        "colab": {
          "base_uri": "https://localhost:8080/"
        },
        "id": "to4CAZjYeH8E",
        "outputId": "3fc46b5b-2170-4e48-e865-fc7226681a99"
      },
      "execution_count": 46,
      "outputs": [
        {
          "output_type": "execute_result",
          "data": {
            "text/plain": [
              "2"
            ]
          },
          "metadata": {},
          "execution_count": 46
        }
      ]
    },
    {
      "cell_type": "code",
      "source": [
        "exemplo_1.ndim"
      ],
      "metadata": {
        "colab": {
          "base_uri": "https://localhost:8080/"
        },
        "id": "8JAoEmwteLKT",
        "outputId": "1236e498-edf2-4d6d-d62e-505f7a38aa1b"
      },
      "execution_count": 47,
      "outputs": [
        {
          "output_type": "execute_result",
          "data": {
            "text/plain": [
              "2"
            ]
          },
          "metadata": {},
          "execution_count": 47
        }
      ]
    },
    {
      "cell_type": "markdown",
      "source": [
        "### itemsize"
      ],
      "metadata": {
        "id": "MU-CzBDVZpKK"
      }
    },
    {
      "cell_type": "code",
      "source": [
        "vetor.itemsize"
      ],
      "metadata": {
        "colab": {
          "base_uri": "https://localhost:8080/"
        },
        "id": "KL3XCxmTenkD",
        "outputId": "202866e1-d59e-4b27-c204-2a7d4284c3dc"
      },
      "execution_count": 50,
      "outputs": [
        {
          "output_type": "execute_result",
          "data": {
            "text/plain": [
              "8"
            ]
          },
          "metadata": {},
          "execution_count": 50
        }
      ]
    },
    {
      "cell_type": "code",
      "source": [
        "Matriz_1.itemsize"
      ],
      "metadata": {
        "colab": {
          "base_uri": "https://localhost:8080/"
        },
        "id": "xUWHiqqmesO7",
        "outputId": "c5cab22a-c84b-4bab-ad96-e0b27689f0c8"
      },
      "execution_count": 51,
      "outputs": [
        {
          "output_type": "execute_result",
          "data": {
            "text/plain": [
              "8"
            ]
          },
          "metadata": {},
          "execution_count": 51
        }
      ]
    },
    {
      "cell_type": "code",
      "source": [
        "exemplo_1.itemsize"
      ],
      "metadata": {
        "colab": {
          "base_uri": "https://localhost:8080/"
        },
        "id": "hVrx57V1evZ8",
        "outputId": "c1b44dc7-c121-489d-dc7a-7a9fbffa9be9"
      },
      "execution_count": 52,
      "outputs": [
        {
          "output_type": "execute_result",
          "data": {
            "text/plain": [
              "8"
            ]
          },
          "metadata": {},
          "execution_count": 52
        }
      ]
    },
    {
      "cell_type": "markdown",
      "source": [
        "### size"
      ],
      "metadata": {
        "id": "wCFHiOGlZtYb"
      }
    },
    {
      "cell_type": "code",
      "source": [
        "vetor.size"
      ],
      "metadata": {
        "colab": {
          "base_uri": "https://localhost:8080/"
        },
        "id": "9XVfPnQIe-sj",
        "outputId": "5a8f10e9-5770-4f99-e2b9-081174dccba7"
      },
      "execution_count": 53,
      "outputs": [
        {
          "output_type": "execute_result",
          "data": {
            "text/plain": [
              "3"
            ]
          },
          "metadata": {},
          "execution_count": 53
        }
      ]
    },
    {
      "cell_type": "code",
      "source": [
        "Matriz_1.size"
      ],
      "metadata": {
        "colab": {
          "base_uri": "https://localhost:8080/"
        },
        "id": "akl4XWKAfETz",
        "outputId": "59d70c1d-32bd-4a7e-b1ad-be57919c7cfe"
      },
      "execution_count": 54,
      "outputs": [
        {
          "output_type": "execute_result",
          "data": {
            "text/plain": [
              "9"
            ]
          },
          "metadata": {},
          "execution_count": 54
        }
      ]
    },
    {
      "cell_type": "code",
      "source": [
        "exemplo_1.size"
      ],
      "metadata": {
        "colab": {
          "base_uri": "https://localhost:8080/"
        },
        "id": "npSZhupUfGIL",
        "outputId": "36bef772-0877-4669-e8cd-77f5ed0cd0ee"
      },
      "execution_count": 55,
      "outputs": [
        {
          "output_type": "execute_result",
          "data": {
            "text/plain": [
              "12"
            ]
          },
          "metadata": {},
          "execution_count": 55
        }
      ]
    },
    {
      "cell_type": "markdown",
      "source": [
        "### dtype"
      ],
      "metadata": {
        "id": "5q-LMLDgZza7"
      }
    },
    {
      "cell_type": "code",
      "source": [
        "exemplo_1.dtype"
      ],
      "metadata": {
        "colab": {
          "base_uri": "https://localhost:8080/"
        },
        "id": "m_ZC9fBOfNQb",
        "outputId": "d326a5be-fca9-4774-efc3-e8e29ba156f7"
      },
      "execution_count": 56,
      "outputs": [
        {
          "output_type": "execute_result",
          "data": {
            "text/plain": [
              "dtype('int64')"
            ]
          },
          "metadata": {},
          "execution_count": 56
        }
      ]
    },
    {
      "cell_type": "markdown",
      "source": [
        "### Random"
      ],
      "metadata": {
        "id": "D2fSKH8PYjyK"
      }
    },
    {
      "cell_type": "markdown",
      "source": [
        "#### Rand"
      ],
      "metadata": {
        "id": "vFvR__GqYxpK"
      }
    },
    {
      "cell_type": "markdown",
      "source": [
        "Cria uma matriz da forma dada e preencha com amostras aleatórias de uma distribuição uniforme sobre [0, 1)."
      ],
      "metadata": {
        "id": "1dxZ1yHEflsc"
      }
    },
    {
      "cell_type": "code",
      "source": [
        "np.random.rand()"
      ],
      "metadata": {
        "colab": {
          "base_uri": "https://localhost:8080/"
        },
        "id": "DUL2LXFbfYXj",
        "outputId": "5e6f5830-ebde-4c33-9f64-224057e6e7cb"
      },
      "execution_count": 57,
      "outputs": [
        {
          "output_type": "execute_result",
          "data": {
            "text/plain": [
              "0.09784297656430552"
            ]
          },
          "metadata": {},
          "execution_count": 57
        }
      ]
    },
    {
      "cell_type": "code",
      "source": [
        "np.random.rand(2)"
      ],
      "metadata": {
        "colab": {
          "base_uri": "https://localhost:8080/"
        },
        "id": "Dagi6cCOfaK9",
        "outputId": "01d5831e-75c6-4312-cd4a-a2007fdf43b4"
      },
      "execution_count": 58,
      "outputs": [
        {
          "output_type": "execute_result",
          "data": {
            "text/plain": [
              "array([0.40676724, 0.89643185])"
            ]
          },
          "metadata": {},
          "execution_count": 58
        }
      ]
    },
    {
      "cell_type": "code",
      "source": [
        "np.random.rand(2)*10"
      ],
      "metadata": {
        "colab": {
          "base_uri": "https://localhost:8080/"
        },
        "id": "08hI0IJIfdzk",
        "outputId": "e7b0d6fb-1505-4951-f94e-8a844bebb62a"
      },
      "execution_count": 59,
      "outputs": [
        {
          "output_type": "execute_result",
          "data": {
            "text/plain": [
              "array([4.77357374, 9.92960464])"
            ]
          },
          "metadata": {},
          "execution_count": 59
        }
      ]
    },
    {
      "cell_type": "code",
      "source": [
        "np.random.rand(5,5)*100"
      ],
      "metadata": {
        "colab": {
          "base_uri": "https://localhost:8080/"
        },
        "id": "c7FZv-1QfhqU",
        "outputId": "9ec264ab-5b88-442c-a1e8-18bfd6d99778"
      },
      "execution_count": 60,
      "outputs": [
        {
          "output_type": "execute_result",
          "data": {
            "text/plain": [
              "array([[ 5.92069404, 15.89577097, 74.26552651, 27.17663778, 71.00973881],\n",
              "       [73.04317078, 89.12409696,  3.81209792, 85.71833969, 41.10123267],\n",
              "       [98.17097045, 89.28411454, 69.51837875, 89.21773376, 85.6315631 ],\n",
              "       [89.37275855, 31.64463881, 10.60451048, 18.96993729, 33.38334452],\n",
              "       [51.17294303, 98.86174653, 49.79393482, 54.40310633,  3.91452215]])"
            ]
          },
          "metadata": {},
          "execution_count": 60
        }
      ]
    },
    {
      "cell_type": "markdown",
      "source": [
        "#### Randint"
      ],
      "metadata": {
        "id": "PE4nX9VcY0BL"
      }
    },
    {
      "cell_type": "markdown",
      "source": [
        "Retorna inteiros aleatórios de \"low\" (inclusive) para \"high\" (not inclusive)."
      ],
      "metadata": {
        "id": "RIva3crqfq68"
      }
    },
    {
      "cell_type": "code",
      "source": [
        "np.random.randint(5) #entre 0 e 4"
      ],
      "metadata": {
        "colab": {
          "base_uri": "https://localhost:8080/"
        },
        "id": "S-ljxtFKftv8",
        "outputId": "62dad431-5cb2-4a2d-e008-5b428485dca0"
      },
      "execution_count": 61,
      "outputs": [
        {
          "output_type": "execute_result",
          "data": {
            "text/plain": [
              "1"
            ]
          },
          "metadata": {},
          "execution_count": 61
        }
      ]
    },
    {
      "cell_type": "code",
      "source": [
        "np.random.randint(1,5,10) #entre 1 e 4, 10 elementos"
      ],
      "metadata": {
        "colab": {
          "base_uri": "https://localhost:8080/"
        },
        "id": "gmPtz3Jtfwfr",
        "outputId": "b27a5229-fad1-4b9a-d8ce-db7967136bed"
      },
      "execution_count": 62,
      "outputs": [
        {
          "output_type": "execute_result",
          "data": {
            "text/plain": [
              "array([1, 2, 1, 3, 3, 4, 3, 3, 3, 4])"
            ]
          },
          "metadata": {},
          "execution_count": 62
        }
      ]
    },
    {
      "cell_type": "code",
      "source": [
        "np.random.randint(1,5, size=(2, 4)) #entre 1 e 4, matriz 2X4"
      ],
      "metadata": {
        "colab": {
          "base_uri": "https://localhost:8080/"
        },
        "id": "tEyQRJK0f-Yj",
        "outputId": "eb3a37d1-756d-4783-e487-efc3b07c8f33"
      },
      "execution_count": 63,
      "outputs": [
        {
          "output_type": "execute_result",
          "data": {
            "text/plain": [
              "array([[2, 1, 2, 1],\n",
              "       [2, 1, 1, 2]])"
            ]
          },
          "metadata": {},
          "execution_count": 63
        }
      ]
    },
    {
      "cell_type": "markdown",
      "source": [
        "### Zeros"
      ],
      "metadata": {
        "id": "lJawIcaGYZMS"
      }
    },
    {
      "cell_type": "code",
      "source": [
        "np.zeros(3)"
      ],
      "metadata": {
        "colab": {
          "base_uri": "https://localhost:8080/"
        },
        "id": "lB8saUdJgIoD",
        "outputId": "7c007918-d872-4268-f3da-ab3b4879ab16"
      },
      "execution_count": 64,
      "outputs": [
        {
          "output_type": "execute_result",
          "data": {
            "text/plain": [
              "array([0., 0., 0.])"
            ]
          },
          "metadata": {},
          "execution_count": 64
        }
      ]
    },
    {
      "cell_type": "code",
      "source": [
        "np.zeros((5,5))"
      ],
      "metadata": {
        "colab": {
          "base_uri": "https://localhost:8080/"
        },
        "id": "yTa9m7FsgKpr",
        "outputId": "602d789e-9c00-4f7f-eb10-d5cddef831d5"
      },
      "execution_count": 65,
      "outputs": [
        {
          "output_type": "execute_result",
          "data": {
            "text/plain": [
              "array([[0., 0., 0., 0., 0.],\n",
              "       [0., 0., 0., 0., 0.],\n",
              "       [0., 0., 0., 0., 0.],\n",
              "       [0., 0., 0., 0., 0.],\n",
              "       [0., 0., 0., 0., 0.]])"
            ]
          },
          "metadata": {},
          "execution_count": 65
        }
      ]
    },
    {
      "cell_type": "markdown",
      "source": [
        "### Ones"
      ],
      "metadata": {
        "id": "IINTUQgMgHCs"
      }
    },
    {
      "cell_type": "code",
      "source": [
        "np.ones(3)"
      ],
      "metadata": {
        "colab": {
          "base_uri": "https://localhost:8080/"
        },
        "id": "aw_wUJwJgMer",
        "outputId": "30288349-f80d-4dd3-c696-39f3f87aa172"
      },
      "execution_count": 66,
      "outputs": [
        {
          "output_type": "execute_result",
          "data": {
            "text/plain": [
              "array([1., 1., 1.])"
            ]
          },
          "metadata": {},
          "execution_count": 66
        }
      ]
    },
    {
      "cell_type": "code",
      "source": [
        "np.ones((3,3))"
      ],
      "metadata": {
        "colab": {
          "base_uri": "https://localhost:8080/"
        },
        "id": "lvxlzIHPgN_D",
        "outputId": "b558f5a7-c567-430b-c76c-77eea43bc19d"
      },
      "execution_count": 67,
      "outputs": [
        {
          "output_type": "execute_result",
          "data": {
            "text/plain": [
              "array([[1., 1., 1.],\n",
              "       [1., 1., 1.],\n",
              "       [1., 1., 1.]])"
            ]
          },
          "metadata": {},
          "execution_count": 67
        }
      ]
    },
    {
      "cell_type": "markdown",
      "source": [
        "### Eye"
      ],
      "metadata": {
        "id": "PmE9U7MHYfKC"
      }
    },
    {
      "cell_type": "markdown",
      "source": [
        "Cria uma matriz identidade"
      ],
      "metadata": {
        "id": "b30e3fzggjyE"
      }
    },
    {
      "cell_type": "code",
      "source": [
        "np.eye(5)"
      ],
      "metadata": {
        "colab": {
          "base_uri": "https://localhost:8080/"
        },
        "id": "01Nyr5TVgiWF",
        "outputId": "f94a32bd-9aef-4e9e-84f0-3b16a5d59222"
      },
      "execution_count": 73,
      "outputs": [
        {
          "output_type": "execute_result",
          "data": {
            "text/plain": [
              "array([[1., 0., 0., 0., 0.],\n",
              "       [0., 1., 0., 0., 0.],\n",
              "       [0., 0., 1., 0., 0.],\n",
              "       [0., 0., 0., 1., 0.],\n",
              "       [0., 0., 0., 0., 1.]])"
            ]
          },
          "metadata": {},
          "execution_count": 73
        }
      ]
    },
    {
      "cell_type": "markdown",
      "source": [
        "### Linspace"
      ],
      "metadata": {
        "id": "T9HdplQ_YcYD"
      }
    },
    {
      "cell_type": "markdown",
      "source": [
        "Retorna números uniformemente espaçados ao longo de um intervalo especificado."
      ],
      "metadata": {
        "id": "vcPGwemggTRM"
      }
    },
    {
      "cell_type": "code",
      "source": [
        "np.linspace(0,20,5)"
      ],
      "metadata": {
        "colab": {
          "base_uri": "https://localhost:8080/"
        },
        "id": "G-CBcjxigQu7",
        "outputId": "19843da5-5777-4e44-d2fd-64a81bd10cee"
      },
      "execution_count": 69,
      "outputs": [
        {
          "output_type": "execute_result",
          "data": {
            "text/plain": [
              "array([ 0.,  5., 10., 15., 20.])"
            ]
          },
          "metadata": {},
          "execution_count": 69
        }
      ]
    },
    {
      "cell_type": "code",
      "source": [
        "np.linspace(0,1,15)"
      ],
      "metadata": {
        "colab": {
          "base_uri": "https://localhost:8080/"
        },
        "id": "LsgAoC8TgYir",
        "outputId": "ccf0659b-8fd4-4d38-f289-762ba5e331d6"
      },
      "execution_count": 71,
      "outputs": [
        {
          "output_type": "execute_result",
          "data": {
            "text/plain": [
              "array([0.        , 0.07142857, 0.14285714, 0.21428571, 0.28571429,\n",
              "       0.35714286, 0.42857143, 0.5       , 0.57142857, 0.64285714,\n",
              "       0.71428571, 0.78571429, 0.85714286, 0.92857143, 1.        ])"
            ]
          },
          "metadata": {},
          "execution_count": 71
        }
      ]
    },
    {
      "cell_type": "markdown",
      "source": [
        "## Buscas:"
      ],
      "metadata": {
        "id": "3PiOMeYnaUni"
      }
    },
    {
      "cell_type": "code",
      "source": [
        "exemplo_2 = np.random.randint(0,25,15)\n",
        "print(exemplo_2)"
      ],
      "metadata": {
        "colab": {
          "base_uri": "https://localhost:8080/"
        },
        "id": "XZQIzaFAgu_r",
        "outputId": "eb25305b-90f5-4d9a-9949-94c5844a4aeb"
      },
      "execution_count": 75,
      "outputs": [
        {
          "output_type": "stream",
          "name": "stdout",
          "text": [
            "[16 11  5  6 24 14 17 17 14  5  9  8 21 14  7]\n"
          ]
        }
      ]
    },
    {
      "cell_type": "markdown",
      "source": [
        "### max"
      ],
      "metadata": {
        "id": "4QskiKf5ae9D"
      }
    },
    {
      "cell_type": "markdown",
      "source": [
        "Utilizao para encontrar um valor maximo em um array"
      ],
      "metadata": {
        "id": "BA309tRVcaPc"
      }
    },
    {
      "cell_type": "code",
      "source": [
        "exemplo_2.max() #valor máximo"
      ],
      "metadata": {
        "colab": {
          "base_uri": "https://localhost:8080/"
        },
        "id": "GB9d1JVGcZfD",
        "outputId": "86ae336e-8564-4242-e367-f65b0c51bae2"
      },
      "execution_count": 77,
      "outputs": [
        {
          "output_type": "execute_result",
          "data": {
            "text/plain": [
              "24"
            ]
          },
          "metadata": {},
          "execution_count": 77
        }
      ]
    },
    {
      "cell_type": "markdown",
      "source": [
        "### argmax"
      ],
      "metadata": {
        "id": "AkrOeMrAamCr"
      }
    },
    {
      "cell_type": "markdown",
      "source": [
        "índice do valor máximo"
      ],
      "metadata": {
        "id": "Se1SxRZahEjO"
      }
    },
    {
      "cell_type": "code",
      "source": [
        "exemplo_2.argmax()"
      ],
      "metadata": {
        "colab": {
          "base_uri": "https://localhost:8080/"
        },
        "id": "I5LR39AShFUF",
        "outputId": "46f8fa2b-8b0a-4073-e509-7034e4d43bae"
      },
      "execution_count": 78,
      "outputs": [
        {
          "output_type": "execute_result",
          "data": {
            "text/plain": [
              "4"
            ]
          },
          "metadata": {},
          "execution_count": 78
        }
      ]
    },
    {
      "cell_type": "markdown",
      "source": [
        "### min"
      ],
      "metadata": {
        "id": "Rq1tMiWJajLb"
      }
    },
    {
      "cell_type": "markdown",
      "source": [
        "valor mínimo"
      ],
      "metadata": {
        "id": "ty-98XfKhJOc"
      }
    },
    {
      "cell_type": "code",
      "source": [
        "exemplo_2.min()"
      ],
      "metadata": {
        "colab": {
          "base_uri": "https://localhost:8080/"
        },
        "id": "clkDJ9_PhLX7",
        "outputId": "46f3099b-6071-48be-ed15-c61d70bfb939"
      },
      "execution_count": 79,
      "outputs": [
        {
          "output_type": "execute_result",
          "data": {
            "text/plain": [
              "5"
            ]
          },
          "metadata": {},
          "execution_count": 79
        }
      ]
    },
    {
      "cell_type": "markdown",
      "source": [
        "### argmin"
      ],
      "metadata": {
        "id": "Bq0-cawyapM9"
      }
    },
    {
      "cell_type": "markdown",
      "source": [
        "índice do valor mínimo"
      ],
      "metadata": {
        "id": "Va93FcmehOPU"
      }
    },
    {
      "cell_type": "code",
      "source": [
        "exemplo_2.argmin()"
      ],
      "metadata": {
        "colab": {
          "base_uri": "https://localhost:8080/"
        },
        "id": "Y6uje3nwhQBU",
        "outputId": "5e6aff81-5bd0-475f-fdd0-69452a6aad35"
      },
      "execution_count": 80,
      "outputs": [
        {
          "output_type": "execute_result",
          "data": {
            "text/plain": [
              "2"
            ]
          },
          "metadata": {},
          "execution_count": 80
        }
      ]
    }
  ]
}