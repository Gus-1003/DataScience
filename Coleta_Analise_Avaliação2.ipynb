{
  "cells": [
    {
      "cell_type": "markdown",
      "metadata": {
        "id": "view-in-github",
        "colab_type": "text"
      },
      "source": [
        "<a href=\"https://colab.research.google.com/github/Gus-1003/DataScience/blob/main/Coleta_Analise_Avalia%C3%A7%C3%A3o2.ipynb\" target=\"_parent\"><img src=\"https://colab.research.google.com/assets/colab-badge.svg\" alt=\"Open In Colab\"/></a>"
      ]
    },
    {
      "cell_type": "markdown",
      "metadata": {
        "id": "fVEh8UqgXtGp"
      },
      "source": [
        "# Bibliotecas necessárias:"
      ]
    },
    {
      "cell_type": "code",
      "execution_count": null,
      "metadata": {
        "id": "SBNGkjgVgvjB"
      },
      "outputs": [],
      "source": [
        "import pandas as pd\n",
        "import numpy as np\n",
        "import seaborn as sb\n",
        "import matplotlib.pyplot as plt\n",
        "import requests as rq\n",
        "from bs4 import BeautifulSoup\n",
        "import re"
      ]
    },
    {
      "cell_type": "markdown",
      "metadata": {
        "id": "nV277h9MJ3yQ"
      },
      "source": [
        "# Recebimento da URL:"
      ]
    },
    {
      "cell_type": "code",
      "execution_count": null,
      "metadata": {
        "id": "wmU5VyTY07lp",
        "colab": {
          "base_uri": "https://localhost:8080/"
        },
        "outputId": "979bd974-77af-4f62-fd78-9839e9f6c584"
      },
      "outputs": [
        {
          "name": "stdout",
          "output_type": "stream",
          "text": [
            "Digite o tema: inseto\n"
          ]
        }
      ],
      "source": [
        "inserir = input(\"Digite o tema: \")\n",
        "page = rq.get('https://search.scielo.org/?lang=pt&count=80&from=0&output=site&sort=&format=summary&fb=&page=1&q=' + inserir)#Obter dados html da url\n",
        "soup = BeautifulSoup(page.text,'html.parser') #Cria objeto BeautifulSoup com analisador de HTML (parser)"
      ]
    },
    {
      "cell_type": "markdown",
      "metadata": {
        "id": "jSKoFU7yJzCZ"
      },
      "source": [
        "# Demonstração da página:"
      ]
    },
    {
      "cell_type": "code",
      "execution_count": null,
      "metadata": {
        "id": "wuOp9z_z1Dz-"
      },
      "outputs": [],
      "source": [
        "#print(soup) # Impime todo o conteudo da pagina;"
      ]
    },
    {
      "cell_type": "code",
      "execution_count": null,
      "metadata": {
        "id": "89YGOpWI-m1F"
      },
      "outputs": [],
      "source": [
        "#print(soup.prettify()) # Impime todo o conteudo da pagina de forma aninhada;"
      ]
    },
    {
      "cell_type": "code",
      "execution_count": null,
      "metadata": {
        "id": "9E-70YRe1iNE"
      },
      "outputs": [],
      "source": [
        "#soup.head # Identifica e impime exatamente o head da página;"
      ]
    },
    {
      "cell_type": "code",
      "execution_count": null,
      "metadata": {
        "id": "O5Dgz1Jx1MB0"
      },
      "outputs": [],
      "source": [
        "#soup.body # Identifica e impime exatamente o body da página;"
      ]
    },
    {
      "cell_type": "markdown",
      "metadata": {
        "id": "Pu-f7eHpJnVG"
      },
      "source": [
        "# Raspagem dos dados:\n",
        "\n"
      ]
    },
    {
      "cell_type": "markdown",
      "metadata": {
        "id": "wZe2R6-g2LYH"
      },
      "source": [
        "> Para identificar melhor o que você precisa, você pode inspecionar o código no navegador para encontrar a localização dos itens e nomes de ids;\n",
        "\n",
        "> A forma normalmente usada para busca os elementos são: **find() e find_all()**. \n",
        "\n",
        "\n",
        "---\n",
        "\n",
        "\n",
        "\"find()\" é usada quando queremos recuperar apenas uma ocorrência da tag (a primeira encontrada será retornada) -> O retorno dele é uma tag, possibilitando a realização de pesquisas internas.\n",
        "\n",
        "\n",
        "---\n",
        "\n",
        "\n",
        "\"find_all()\" vai buscar todas as ocorrências do elemento procurado imprimindo uma lista desses elementos. -> O retorno dele é um ResultSet,que permite que o usemos como uma lista.\n",
        "\n",
        "\n",
        "---"
      ]
    },
    {
      "cell_type": "markdown",
      "source": [
        "## Pagina Scielo:"
      ],
      "metadata": {
        "id": "OyOrzL2fwozz"
      }
    },
    {
      "cell_type": "code",
      "execution_count": null,
      "metadata": {
        "id": "9_jnvqXbJ-wE",
        "colab": {
          "base_uri": "https://localhost:8080/"
        },
        "outputId": "556a7b46-0216-4ad0-ae19-e46333f30b7c"
      },
      "outputs": [
        {
          "output_type": "stream",
          "name": "stdout",
          "text": [
            "['Ecotoxicological effects of commercial herbicides on the reproductive system of aquatic arthropod Limnocoris submontandoni (Hemiptera: Naucoridae)', 'Mortality of the cotton boll weevil in drip and sprinkler irrigated cotton crops', 'Natural parasitism in fruit fly (Diptera: Tephritidae) and interaction with wild hosts surrounding apple orchards adjacent to Atlantic Forest fragments in Paraná State, Brazil', 'Yersinia massiliensis (Enterobacteriales: Enterobacteriaceae) in the host Anaphes nitens (Hymenoptera: Mymaridae): first report of association with insects', 'Distribution of galling insects and their parasitoids on Caryocar brasiliense tree crowns', 'Seroprevalence of Chagas disease in Southern Brazilian cardiac patients and their knowledge about the parasitosis and vectors', 'História com maiúscula de um minúsculo inseto', 'Biological control of dryocosmus kuriphilus yasumatsu with the parasitoid torymus sinensis kamijo', 'Efeito da temperatura no desenvolvimento e na reprodução de Blastopsylla occidentalis (Hemiptera: Aphalaridae) em condições de laboratório', 'Saprophytic flies in impacted areas of the Belo Monte Dam, Pará, Brazil (Diptera: Mesembrinellidae, Neriidae, Ropalomeridae, and Sarcophagidae): community composition, abundance, and species richness', 'Biological and morphological parameters of Dysdercus maurus fed with low- or high-oil cotton seeds', 'POPULATION DYNAMICS OF Hypothenemus hampei (Coleoptera: Scolytidae) IN AGROFORESTRY AND MONOCULTURE SYSTEMS OF CONILON COFFEE IN THE SOUTHERN PORTION OF THE STATE OF AMAZONAS, BRAZIL', 'Effect of light stress on Crotalaria spectabilis (Fabaceae) and on its herbivore insect, the moth Utetheisa ornatrix (Erebidae: Arctiinae)', 'Record of aquatic invertebrates associated with the bromeliads Aechmea ornata (Baker) and Aechmea recurvata (Klotzsch) L. B. Sm in two Atlantic Rainforest fragments of south Brazil', 'Intraspecific variation in the Chrysodeixis includens (Walker) (Lepidoptera: Noctuidae) susceptibility to insecticides', 'AS DENOMINAÇÕES PARA LIBÉLULA, NO ATLAS LINGUÍSTICO DO BRASIL: UM ESTUDO SOBRE A MOTIVAÇÃO DOS SIGNOS', 'A compilation of host plants and their gall-inducing insects for the Caatinga Biome', 'Nephrotic syndrome after insect sting: a case report', 'ENTOMOPATHOGENIC NEMATODES ON CONTROL OF MEDITERRANEAN FRUIT FLY (DIPTERA: TEPHRITIDAE)', 'Insecticidal and inhibitory effects of Meliaceae and Asteraceae extracts to silverleaf whitefly', '[SciELO Preprints] - Identification of pest insects, predators and phytopathogenic fungi of Cucurbita moschata Loche', 'A cochonilha no mundo luso-brasileiro: o manuscrito setecentista editado por Manuel Joaquim Henriques de Paiva', 'Insecticidal activity of plant extracts on Dysmicoccus brevipes in pineapple', 'Bruchine-Predated Seeds of Ipomoea nil (L.) Roth., A Cotton Crop Weed in Santiago Del Estero, Argentina', 'Impact of global warming on the distribution of Anastrepha grandis (Diptera: Tephritidae) in Brazil', 'Damage by the green-belly stink bug to corn', 'Biological aspects and feeding behavior of cotton aphid in watermelon cultivars submitted to silicon application', 'Diet of Phylloicus (Trichoptera: Calamoceratidae) caddisfly larvae in forest streams of western Pará, central Brazilian Amazonia', 'Performance of insecticides in control of Diatraea saccharalis (Lepidoptera: Crambidae) in sugarcane', 'Investigation of Chagas disease within the same family: case study', 'Ocorrência e análise de injúrias de Costalimaita ferruginea (Fabricius, 1801) (Coleoptera: Chrysomelidae) em clones de Eucalyptus em Alagoas', 'Effect of canopy cover on development of cedar (Cedrela fissilis) and aspects of damage caused by Hypsipyla grandella in agroforestry system', 'Compostos de esterco de galinha e de ovino melhoram a produtividade de plantas de cafeeiro sob um sistema de produção orgânica', 'Galling inducing insects associated with a tropical shrub: The role of resource concentration and species interactions', 'Entomofauna associated with Avena sativa in southern Mato Grosso do Sul, Brazil', 'Compared activity of agonist molecules towards ecdysone receptor in insect cell-based screening system', 'Silicon as resistance inducer in to control black aphid Aphis craccivora Koch, 1854 in Phaseolus lunatus lima beans', 'Preferences and demographic parameters of cowpea aphid on advanced lines of semiprostrate cowpea', 'Leptocybe invasa (HYMENOPTERA: EULOPHIDAE) ON Eucalyptus SEEDLINGS IN SANTA CATARINA STATE, BRAZIL', 'Integrated management of pine wilt disease in Troia', 'Insecticidal action of Drimys brasiliensis Miers on black citrus aphid', 'Occurrences of Ornithocoris toledoi (Cimicidae) on a free-range chicken farm in the state of Rio de Janeiro, Brazil', 'Toxicity of Cymbopogon flexuosus essential oil and citral for Spodoptera frugiperda', 'Structural and histochemical profile of Lopesia sp. Rübsaamen 1908 pinnula galls on Mimosa tenuiflora (Willd.) Poir. in a Caatinga environment', 'Population density of Tibraca limbativentris on flood irrigated rice and alternative host plants', 'EFICIÊNCIA DE Beauveria bassiana VUILL. E Isaria sp. PARA O CONTROLE DE Thaumastocoris peregrinus CARPINTERO & DELLAPÉ (HEMIPTERA: THAUMASTOCORIDAE)', 'Attractiveness, non-preference for feeding and oviposition to Ascia monuste orseis Godart (Lepidoptera: Pieridae) in collard greens', 'Potencial de desenvolvimento de Lasioderma serricorne (Fabricius, 1792) (Coleoptera: Anobiidae) em dietas contendo soja', 'ECOPHYSIOLOGICAL ANALYSIS OF Eucalyptus camaldulensis (DEHNH) SUBMITTED TO ATTACK FROM Thaumastocoris peregrinus (CARPINTERO & DELLAPE)', 'Mortality of Conotrachelus humeropictus in response to combined application of the nematode Steinernema brazilense and the fungus Beauveria bassiana', 'Trophic structure of the fish community throughout the reservoirs and tributaries of the Middle and Lower Tietê River (São Paulo, Brazil)', 'OCORRÊNCIA ESPONTÂNEA DE Beauveria bassiana (Bals. Criv.) Vuill. 1912 (ASCOMYCETES: CLAVICIPITACEAE) SOBRE Thaumastocoris peregrinus (HEMIPTERA: THAUMASTOCORIDAE)', 'First record of acerola weevil, Anthonomus tomentosus (Faust, 1894) (Coleoptera: Curculionidae), in Brazil', 'CHEMICAL COMPOSITION AND TOXICITY OF CITRUS ESSENTIAL OILS ON Dysmicoccus brevipes (HEMIPTERA: PSEUDOCOCCIDAE)', 'EFEITO DA COR DE ARMADILHAS ADESIVAS PARA MONITORAMENTO DE Thaumastocoris peregrinus CARPINTERO & DELLAPÉ (HEMIPTERA: THAUMASTOCORIDAE) NO CAMPO', 'Host-seeking behavior of the Heterorhabditis amazonensis nematode in response to stimulant sources1', 'ECONOMIC INJURY LEVEL OF CITRUS BLACK-FLY IN COMMERCIAL ‘PERA-RIO’ ORANGE AREA', 'Spatial and temporal distribution of gerrid (Heteroptera) and predation on microcrustaceans from a tropical shallow lake', 'BIOLOGIA DE Thaumastocoris peregrinus CARPINTERO E DELLAPÉ (HEMIPTERA: THAUMASTOCORIDAE) EM DEZ ESPÉCIES DE EUCALIPTO', 'Infection of silkworm larvae by the entomopathogenic fungus Metarhizium anisopliae', 'White grubs (Cyclocephala flavipennis) damaging perennial winter pastures in the South Region of Brazil', 'Predispersal infestation of Vochysia haenkeana seeds by Lius conicus', 'Populational fluctuation of lace bug in cassava', 'Toxicity of essential oils from leaves of Piperaceae species in rice stalk stink bug eggs, Tibraca limbativentris (Hemiptera: Pentatomidae)', 'Walking stability of Rhyzopertha dominica (Fabricius, 1792) (Coleoptera: Bostrichidae)', 'Primeiro registro do besouro-amarelo-do-eucalipto em plantio de eucalipto no Estado do Acre', 'Effect of the flavonoid rutin on the biology of Spodoptera frugiperda (Lepidoptera: Noctuidae)', 'Seleção de clones de braquiária para resistência à lagarta-do-cartucho', 'Mitochondrial markers to distinguish Spodoptera frugiperda populations associated with corn and cotton crops', 'Tratamento de sementes para manejo do percevejo-barriga-verde na cultura de soja e milho em sucessão', 'Pollination in the oil palms Elaeis guineensis, E. oleifera and their hybrids (OxG), in tropical America', 'Effects of environmental and architectural diversity of Caryocar brasiliense (Malpighiales: Caryocaraceae) on Edessa ruformaginata (Hemiptera: Pentatomidae) and its biology', 'Patogenicidade de Beauveria bassiana no controle in vitro da lagarta-da-espiga do milho (Helicoverpa zea)', 'Efficiency of inert mineral dusts in the control of corn weevil', 'Registro de Isogonoceraia divergipennis White & Hodkinson associado a Poincianella pluviosa (Fabaceae) em Mato Grosso, Brasil', 'OCURRENCE OF Revena plaumanni BONDAR, 1943 (Coleoptera: CURCULIONIDAE) IN PINDO PALM FRUIT', 'Trophic structure of macroinvertebrates in tropical pasture streams', 'Feeding resource partitioning between two understorey insectivorous birds in a fragment of Neotropical cloud forest', 'Plant vibration of american pepper cultivars for fruit production in protected environment with and without closed sides', 'Occurrence of insects causing injuries to the yacon crop']\n"
          ]
        }
      ],
      "source": [
        "Titulos_Relacionados = soup.findAll('strong', {'class': 'title'}) # Titulos dos projetos encontrados;\n",
        "contador = 0\n",
        "\n",
        "ArmazenarTitulos = [] # Array responsavel pelo armazenamento da lista de nomes de projetos\n",
        "\n",
        "for id in Titulos_Relacionados:\n",
        "  ArmazenarTitulos.append(id.get_text())  # get_text(): Método para deixar o texto legível dentro de um documento ou tag;\n",
        "\n",
        "print(ArmazenarTitulos) # Demonstração dos resultados"
      ]
    },
    {
      "cell_type": "code",
      "execution_count": null,
      "metadata": {
        "id": "35FNJKJ32LkP",
        "colab": {
          "base_uri": "https://localhost:8080/"
        },
        "outputId": "7e4eab81-ff41-4e81-c940-ab5a4b8944e6"
      },
      "outputs": [
        {
          "output_type": "stream",
          "name": "stdout",
          "text": [
            "['Faustino, R.F.', 'Silva, C.A.D.', 'Zanuncio, J.C.', 'Pereira, J.R.', 'Pereira, A.I.A.']\n"
          ]
        }
      ],
      "source": [
        "Lista_autores = soup.findAll('div', {'class': 'line authors'}) # Nomes de todos os autores envolvidos;\n",
        "contador = 0\n",
        "\n",
        "ArmazenarAutores = [] # Array responsavel pelo armazenamento da lista de nomes dos autores\n",
        "\n",
        "for autors in Lista_autores:\n",
        "  autores = []\n",
        "  for a in autors.findAll('a'):\n",
        "    autores.append(a.text)\n",
        "  ArmazenarAutores.append(autores[::2])\n",
        "\n",
        "print(ArmazenarAutores[1]) # Demonstração dos resultados"
      ]
    },
    {
      "cell_type": "code",
      "execution_count": null,
      "metadata": {
        "id": "E7PDS4NaCutL",
        "colab": {
          "base_uri": "https://localhost:8080/"
        },
        "outputId": "c3d021d6-353a-4019-b0c5-963f96dfbe60"
      },
      "outputs": [
        {
          "output_type": "stream",
          "name": "stdout",
          "text": [
            "[2024, 2023, 2023, 2022, 2022, 2021, 2021, 2021, 2021, 2021, 2021, 2021, 2021, 2021, 2021, 2021, 2021, 2020, 2020, 2020, nan, 2020, 2020, 2020, 2020, 2020, 2020, 2020, 2020, 2019, 2019, 2019, 2019, 2019, 2019, 2019, 2019, 2019, 2018, 2018, 2018, 2018, 2018, 2018, 2018, 2018, 2018, 2018, 2018, 2018, 2018, 2017, 2017, 2017, 2017, 2017, 2017, 2017, 2017, 2017, 2017, 2017, 2017, 2016, 2016, 2016, 2016, 2016, 2016, 2016, 2016, 2016, 2016, 2016, 2016, 2016, 2016, 2015, 2015, 2015]\n"
          ]
        }
      ],
      "source": [
        "Ano_projeto = soup.findAll('div', {'class': 'line source'}) # Captura dos dados referentes a publicação do projeto;\n",
        "\n",
        "arraySpans = [] # Array responsavel pelo armazenamento dos arrays de Anos\n",
        "\n",
        "for i in Ano_projeto:\n",
        "  try:\n",
        "    arraySpans.append(int(i.findAll('span')[2].text[:4].split()[0]))\n",
        "  except:\n",
        "    arraySpans.append(np.nan)\n",
        "print(arraySpans) # Demonstração dos resultados\n",
        "    "
      ]
    },
    {
      "cell_type": "code",
      "source": [
        "volume_Projeto = soup.findAll('div', {'class': 'line source'}) # Captura dos dados referentes a publicação do projeto;\n",
        "\n",
        "arraysource = [] # Array responsavel pelo armazenamento dos arrays de Volumes\n",
        "\n",
        "for i in volume_Projeto:\n",
        "  try:\n",
        "    arraysource.append(int(i.findAll('span')[3].text[:4].split()[0]))\n",
        "  except:\n",
        "    arraysource.append(np.nan)\n",
        "print(arraysource) # Demonstração dos resultados"
      ],
      "metadata": {
        "colab": {
          "base_uri": "https://localhost:8080/"
        },
        "id": "mwjnNOQgr2Wb",
        "outputId": "6c04de47-0145-47fd-9168-c3353652cb4d"
      },
      "execution_count": null,
      "outputs": [
        {
          "output_type": "stream",
          "name": "stdout",
          "text": [
            "[84, 83, 83, 82, 82, 81, 22, 14, 31, 21, 56, 45, 111, 33, 51, 65, 21, 42, 33, 38, nan, 27, 43, 38, 87, 55, 87, 32, 87, 55, 29, 29, 26, 29, 86, 86, 86, 54, 28, 41, 49, 27, 42, 45, 53, 28, 85, 21, 42, 85, 30, 27, 77, 30, 27, 47, 39, 77, 27, 47, 47, 47, 84, 40, 76, 63, 38, 51, 51, 51, 46, 38, 39, 20, 83, 38, 28, 75, 45, 33]\n"
          ]
        }
      ]
    },
    {
      "cell_type": "code",
      "source": [
        "instituicoes = soup.findAll('div', {'class': 'line source'}) # Captura dos dados referentes a publicação do projeto;\n",
        "\n",
        "Instituição_Projeto = [] # Array responsavel pelo armazenamento dos arrays de Instituição\n",
        "\n",
        "for i in instituicoes:\n",
        "  try:\n",
        "    Instituição_Projeto.append(i.findAll('a')[0].text.replace(\"\\n\", \"\").strip())\n",
        "  except:\n",
        "    Instituição_Projeto.append(np.nan)\n",
        "print(Instituição_Projeto) # Demonstração dos resultados"
      ],
      "metadata": {
        "colab": {
          "base_uri": "https://localhost:8080/"
        },
        "id": "kNxb6i3xxe3P",
        "outputId": "b5f0c760-cb94-488c-f81f-0dd53bbd4fd3"
      },
      "execution_count": null,
      "outputs": [
        {
          "output_type": "stream",
          "name": "stdout",
          "text": [
            "['Brazilian Journal of Biology', 'Brazilian Journal of Biology', 'Brazilian Journal of Biology', 'Brazilian Journal of Biology', 'Brazilian Journal of Biology', 'Brazilian Journal of Biology', 'Topoi (Rio de Janeiro)', 'Millenium - Journal of Education, Technologies, and Health', 'Ciência Florestal', 'Biota Neotropica', 'Pesquisa Agropecuária Brasileira', 'Revista Árvore', 'Iheringia. Série Zoologia', 'Acta Limnologica Brasiliensia', 'Pesquisa Agropecuária Tropical', 'Alfa: Revista de Linguística (São José do Rio Preto)', 'Biota Neotropica', 'Brazilian Journal of Nephrology', 'Revista Caatinga', 'Horticultura Brasileira', '', 'História, Ciências, Saúde-Manguinhos', 'Revista de Ciências Agrárias', 'Planta Daninha', 'Arquivos do Instituto Biológico', 'Pesquisa Agropecuária Brasileira', 'Arquivos do Instituto Biológico', 'Acta Limnologica Brasiliensia', 'Arquivos do Instituto Biológico', 'Jornal Brasileiro de Patologia e Medicina Laboratorial', 'Ciência Florestal', 'Ciência Florestal', 'Arnaldoa', 'Ecología austral', 'Arquivos do Instituto Biológico', 'Arquivos do Instituto Biológico', 'Arquivos do Instituto Biológico', 'Pesquisa Agropecuária Brasileira', 'Ciência Florestal', 'Revista de Ciências Agrárias', 'Revista Ciência Agronômica', 'Revista Brasileira de Parasitologia Veterinária', 'Ciência e Agrotecnologia', 'Hoehnea', 'Pesquisa Agropecuária Brasileira', 'Ciência Florestal', 'Arquivos do Instituto Biológico', 'Brazilian Journal of Food Technology', 'Revista Árvore', 'Arquivos do Instituto Biológico', 'Acta Limnologica Brasiliensia', 'Ciência Florestal', 'Brazilian Journal of Biology', 'Revista Caatinga', 'Ciência Florestal', 'Pesquisa Agropecuária Tropical', 'Revista Brasileira de Fruticultura', 'Brazilian Journal of Biology', 'Ciência Florestal', 'Ciência Rural', 'Ciência Rural', 'Ciência Rural', 'Arquivos do Instituto Biológico', 'Ciência e Agrotecnologia', 'Brazilian Journal of Biology', 'Revista Ceres', 'Acta Scientiarum. Agronomy', 'Pesquisa Agropecuária Brasileira', 'Pesquisa Agropecuária Brasileira', 'Pesquisa Agropecuária Brasileira', 'Pesquisa Agropecuária Tropical', 'Acta Scientiarum. Agronomy', 'Revista de Ciências Agrárias', 'Revista Brasileira de Engenharia Agrícola e Ambiental', 'Arquivos do Instituto Biológico', 'Revista Brasileira de Fruticultura', 'Acta Limnologica Brasiliensia', 'Brazilian Journal of Biology', 'Ciência Rural', 'Horticultura Brasileira']\n"
          ]
        }
      ]
    },
    {
      "cell_type": "code",
      "execution_count": null,
      "metadata": {
        "colab": {
          "base_uri": "https://localhost:8080/"
        },
        "id": "L9Qq67FY2LK-",
        "outputId": "8f49d0f3-45c4-402a-cf4b-31adef6f11aa"
      },
      "outputs": [
        {
          "output_type": "stream",
          "name": "stdout",
          "text": [
            "['http://www.scielo.br/scielo.php?script=sci_arttext&pid=S1519-69842024000100105&lang=pt', '#', 'http://www.scielo.br/scielo.php?script=sci_arttext&pid=S1519-69842023000100260&lang=pt', '#', 'http://www.scielo.br/scielo.php?script=sci_arttext&pid=S1519-69842023000100286&lang=pt', '#', 'http://www.scielo.br/scielo.php?script=sci_arttext&pid=S1519-69842022000100119&lang=pt', '#', 'http://www.scielo.br/scielo.php?script=sci_arttext&pid=S1519-69842022000100159&lang=pt', '#', 'http://www.scielo.br/scielo.php?script=sci_arttext&pid=S1519-69842021000400867&lang=pt', '#', 'http://www.scielo.br/scielo.php?script=sci_arttext&pid=S2237-101X2021000300814&lang=pt', '#', 'http://www.scielo.pt/scielo.php?script=sci_arttext&pid=S0873-30152021000100091&lang=pt', '#', 'http://www.scielo.br/scielo.php?script=sci_arttext&pid=S1980-50982021000100440&lang=pt', '#', 'http://www.scielo.br/scielo.php?script=sci_arttext&pid=S1676-06032021000100302&lang=pt', '#', 'http://www.scielo.br/scielo.php?script=sci_arttext&pid=S0100-204X2021000102001&lang=pt', '#', 'http://www.scielo.br/scielo.php?script=sci_arttext&pid=S0100-67622021000100223&lang=pt', '#', 'http://www.scielo.br/scielo.php?script=sci_arttext&pid=S0073-47212021000100218&lang=pt', '#', 'http://www.scielo.br/scielo.php?script=sci_arttext&pid=S2179-975X2021000100803&lang=pt', '#', 'http://www.scielo.br/scielo.php?script=sci_arttext&pid=S1983-40632021000100223&lang=pt', '#', 'http://www.scielo.br/scielo.php?script=sci_arttext&pid=S1981-57942021000100246&lang=pt', '#', 'http://www.scielo.br/scielo.php?script=sci_arttext&pid=S1676-06032021000400207&lang=pt', '#', 'http://www.scielo.br/scielo.php?script=sci_arttext&pid=S0101-28002020000400498&lang=pt', '#', 'http://www.scielo.br/scielo.php?script=sci_arttext&pid=S1983-21252020000400974&lang=pt', '#', 'http://www.scielo.br/scielo.php?script=sci_arttext&pid=S0102-05362020000300280&lang=pt', '#', 'https://preprints.scielo.org/index.php/scielo/preprint/view/673', '#', 'http://www.scielo.br/scielo.php?script=sci_arttext&pid=S0104-59702020000100275&lang=pt', '#', 'http://www.scielo.pt/scielo.php?script=sci_arttext&pid=S0871-018X2020000100175&lang=pt', '#', 'http://www.scielo.br/scielo.php?script=sci_arttext&pid=S0100-83582020000100225&lang=pt', '#', 'http://www.scielo.br/scielo.php?script=sci_arttext&pid=S1808-16572020000100201&lang=pt', '#', 'http://www.scielo.br/scielo.php?script=sci_arttext&pid=S0100-204X2020000102000&lang=pt', '#', 'http://www.scielo.br/scielo.php?script=sci_arttext&pid=S1808-16572020000100229&lang=pt', '#', 'http://www.scielo.br/scielo.php?script=sci_arttext&pid=S2179-975X2020000100509&lang=pt', '#', 'http://www.scielo.br/scielo.php?script=sci_arttext&pid=S1808-16572020000100224&lang=pt', '#', 'http://www.scielo.br/scielo.php?script=sci_arttext&pid=S1676-24442019000600693&lang=pt', '#', 'http://www.scielo.br/scielo.php?script=sci_arttext&pid=S1980-50982019000301452&lang=pt', '#', 'http://www.scielo.br/scielo.php?script=sci_arttext&pid=S1980-50982019000301324&lang=pt', '#', 'http://www.scielo.org.pe/scielo.php?script=sci_arttext&pid=S2413-32992019000200015&lang=pt', '#', 'http://www.scielo.org.ar/scielo.php?script=sci_arttext&pid=S1667-782X2019000100002&lang=pt', '#', 'http://www.scielo.br/scielo.php?script=sci_arttext&pid=S1808-16572019000100229&lang=pt', '#', 'http://www.scielo.br/scielo.php?script=sci_arttext&pid=S1808-16572019000100409&lang=pt', '#', 'http://www.scielo.br/scielo.php?script=sci_arttext&pid=S1808-16572019000100238&lang=pt', '#', 'http://www.scielo.br/scielo.php?script=sci_arttext&pid=S0100-204X2019000101901&lang=pt', '#', 'http://www.scielo.br/scielo.php?script=sci_arttext&pid=S1980-50982018000401770&lang=pt', '#', 'http://www.scielo.pt/scielo.php?script=sci_arttext&pid=S0871-018X2018000500002&lang=pt', '#', 'http://www.scielo.br/scielo.php?script=sci_arttext&pid=S1806-66902018000300484&lang=pt', '#', 'http://www.scielo.br/scielo.php?script=sci_arttext&pid=S1984-29612018000300396&lang=pt', '#', 'http://www.scielo.br/scielo.php?script=sci_arttext&pid=S1413-70542018000400408&lang=pt', '#', 'http://www.scielo.br/scielo.php?script=sci_arttext&pid=S2236-89062018000200314&lang=pt', '#', 'http://www.scielo.br/scielo.php?script=sci_arttext&pid=S0100-204X2018000300265&lang=pt', '#', 'http://www.scielo.br/scielo.php?script=sci_arttext&pid=S1980-50982018000100403&lang=pt', '#', 'http://www.scielo.br/scielo.php?script=sci_arttext&pid=S1808-16572018000100221&lang=pt', '#', 'http://www.scielo.br/scielo.php?script=sci_arttext&pid=S1981-67232018000100420&lang=pt', '#', 'http://www.scielo.br/scielo.php?script=sci_arttext&pid=S0100-67622018000100218&lang=pt', '#', 'http://www.scielo.br/scielo.php?script=sci_arttext&pid=S1808-16572018000100207&lang=pt', '#', 'http://www.scielo.br/scielo.php?script=sci_arttext&pid=S2179-975X2018000101003&lang=pt', '#', 'http://www.scielo.br/scielo.php?script=sci_arttext&pid=S1980-50982017000401403&lang=pt', '#', 'http://www.scielo.br/scielo.php?script=sci_arttext&pid=S1519-69842017000400803&lang=pt', '#', 'http://www.scielo.br/scielo.php?script=sci_arttext&pid=S1983-21252017000300811&lang=pt', '#', 'http://www.scielo.br/scielo.php?script=sci_arttext&pid=S1980-50982017000300799&lang=pt', '#', 'http://www.scielo.br/scielo.php?script=sci_arttext&pid=S1983-40632017000300265&lang=pt', '#', 'http://www.scielo.br/scielo.php?script=sci_arttext&pid=S0100-29452017000300401&lang=pt', '#', 'http://www.scielo.br/scielo.php?script=sci_arttext&pid=S1519-69842017000200289&lang=pt', '#', 'http://www.scielo.br/scielo.php?script=sci_arttext&pid=S1980-50982017000200679&lang=pt', '#', 'http://www.scielo.br/scielo.php?script=sci_arttext&pid=S0103-84782017000400151&lang=pt', '#', 'http://www.scielo.br/scielo.php?script=sci_arttext&pid=S0103-84782017000500153&lang=pt', '#', 'http://www.scielo.br/scielo.php?script=sci_arttext&pid=S0103-84782017000900153&lang=pt', '#', 'http://www.scielo.br/scielo.php?script=sci_arttext&pid=S1808-16572017000100225&lang=pt', '#', 'http://www.scielo.br/scielo.php?script=sci_arttext&pid=S1413-70542016000600676&lang=pt', '#', 'http://www.scielo.br/scielo.php?script=sci_arttext&pid=S1519-69842016000300568&lang=pt', '#', 'http://www.scielo.br/scielo.php?script=sci_arttext&pid=S0034-737X2016000400584&lang=pt', '#', 'http://www.scielo.br/scielo.php?script=sci_arttext&pid=S1807-86212016000200165&lang=pt', '#', 'http://www.scielo.br/scielo.php?script=sci_arttext&pid=S0100-204X2016000500579&lang=pt', '#', 'http://www.scielo.br/scielo.php?script=sci_arttext&pid=S0100-204X2016000500692&lang=pt', '#', 'http://www.scielo.br/scielo.php?script=sci_arttext&pid=S0100-204X2016000400301&lang=pt', '#', 'http://www.scielo.br/scielo.php?script=sci_arttext&pid=S1983-40632016000100102&lang=pt', '#', 'http://www.scielo.br/scielo.php?script=sci_arttext&pid=S1807-86212016000100019&lang=pt', '#', 'http://www.scielo.pt/scielo.php?script=sci_arttext&pid=S0871-018X2016000100010&lang=pt', '#', 'http://www.scielo.br/scielo.php?script=sci_arttext&pid=S1415-43662016000200158&lang=pt', '#', 'http://www.scielo.br/scielo.php?script=sci_arttext&pid=S1808-16572016000100301&lang=pt', '#', 'http://www.scielo.br/scielo.php?script=sci_arttext&pid=S0100-29452016000300404&lang=pt', '#', 'http://www.scielo.br/scielo.php?script=sci_arttext&pid=S2179-975X2016000100312&lang=pt', '#', 'http://www.scielo.br/scielo.php?script=sci_arttext&pid=S1519-69842015000800176&lang=pt', '#', 'http://www.scielo.br/scielo.php?script=sci_arttext&pid=S0103-84782015001101959&lang=pt', '#', 'http://www.scielo.br/scielo.php?script=sci_arttext&pid=S0102-05362015000300394&lang=pt', '#']\n"
          ]
        }
      ],
      "source": [
        "divList = soup.findAll('div', {'class': 'line'}) # Captura dos links;\n",
        "\n",
        "arraylinks = []\n",
        "\n",
        "for i in range(0, len(divList)):\n",
        "  spanList = divList[i].findAll('a', title=True)\n",
        "  try:\n",
        "    if (spanList[0].findAll('strong', {'class': 'title'}) != None):\n",
        "      arraylinks.append(spanList[0]['href'])\n",
        "  except:\n",
        "    continue\n",
        "print(arraylinks) # Demonstração dos resultados\n"
      ]
    },
    {
      "cell_type": "markdown",
      "source": [
        "## Dados Artigo:"
      ],
      "metadata": {
        "id": "8aiM0NH5wywU"
      }
    },
    {
      "cell_type": "markdown",
      "metadata": {
        "id": "9ztvU2tQJKhw"
      },
      "source": [
        "# Dicionario:\n"
      ]
    },
    {
      "cell_type": "code",
      "execution_count": null,
      "metadata": {
        "id": "zL4wGBtCM8WB"
      },
      "outputs": [],
      "source": [
        "fonte = {} # Dicionário que armazenará os dados desejados nessa pagina\n",
        "\n",
        "try: # Inserir arrays de dados dentro das colunas do dicionairo\n",
        "  fonte ['Titulos'] = ArmazenarTitulos\n",
        "  fonte ['Instituições'] = Instituição_Projeto\n",
        "  fonte ['Autores'] = ArmazenarAutores\n",
        "  fonte ['Ano'] = arraySpans\n",
        "  fonte ['Volume'] = arraysource\n",
        "  fonte ['Links'] = arraylinks[::2]\n",
        "\n",
        "except Exception as e:\n",
        "  print(e)"
      ]
    },
    {
      "cell_type": "code",
      "execution_count": null,
      "metadata": {
        "id": "4HVt5jhFaZyE",
        "colab": {
          "base_uri": "https://localhost:8080/"
        },
        "outputId": "f0667204-d71a-4bcd-8829-84c431f3f28b"
      },
      "outputs": [
        {
          "output_type": "stream",
          "name": "stdout",
          "text": [
            "{'Titulos': ['Ecotoxicological effects of commercial herbicides on the reproductive system of aquatic arthropod Limnocoris submontandoni (Hemiptera: Naucoridae)', 'Mortality of the cotton boll weevil in drip and sprinkler irrigated cotton crops', 'Natural parasitism in fruit fly (Diptera: Tephritidae) and interaction with wild hosts surrounding apple orchards adjacent to Atlantic Forest fragments in Paraná State, Brazil', 'Yersinia massiliensis (Enterobacteriales: Enterobacteriaceae) in the host Anaphes nitens (Hymenoptera: Mymaridae): first report of association with insects', 'Distribution of galling insects and their parasitoids on Caryocar brasiliense tree crowns', 'Seroprevalence of Chagas disease in Southern Brazilian cardiac patients and their knowledge about the parasitosis and vectors', 'História com maiúscula de um minúsculo inseto', 'Biological control of dryocosmus kuriphilus yasumatsu with the parasitoid torymus sinensis kamijo', 'Efeito da temperatura no desenvolvimento e na reprodução de Blastopsylla occidentalis (Hemiptera: Aphalaridae) em condições de laboratório', 'Saprophytic flies in impacted areas of the Belo Monte Dam, Pará, Brazil (Diptera: Mesembrinellidae, Neriidae, Ropalomeridae, and Sarcophagidae): community composition, abundance, and species richness', 'Biological and morphological parameters of Dysdercus maurus fed with low- or high-oil cotton seeds', 'POPULATION DYNAMICS OF Hypothenemus hampei (Coleoptera: Scolytidae) IN AGROFORESTRY AND MONOCULTURE SYSTEMS OF CONILON COFFEE IN THE SOUTHERN PORTION OF THE STATE OF AMAZONAS, BRAZIL', 'Effect of light stress on Crotalaria spectabilis (Fabaceae) and on its herbivore insect, the moth Utetheisa ornatrix (Erebidae: Arctiinae)', 'Record of aquatic invertebrates associated with the bromeliads Aechmea ornata (Baker) and Aechmea recurvata (Klotzsch) L. B. Sm in two Atlantic Rainforest fragments of south Brazil', 'Intraspecific variation in the Chrysodeixis includens (Walker) (Lepidoptera: Noctuidae) susceptibility to insecticides', 'AS DENOMINAÇÕES PARA LIBÉLULA, NO ATLAS LINGUÍSTICO DO BRASIL: UM ESTUDO SOBRE A MOTIVAÇÃO DOS SIGNOS', 'A compilation of host plants and their gall-inducing insects for the Caatinga Biome', 'Nephrotic syndrome after insect sting: a case report', 'ENTOMOPATHOGENIC NEMATODES ON CONTROL OF MEDITERRANEAN FRUIT FLY (DIPTERA: TEPHRITIDAE)', 'Insecticidal and inhibitory effects of Meliaceae and Asteraceae extracts to silverleaf whitefly', '[SciELO Preprints] - Identification of pest insects, predators and phytopathogenic fungi of Cucurbita moschata Loche', 'A cochonilha no mundo luso-brasileiro: o manuscrito setecentista editado por Manuel Joaquim Henriques de Paiva', 'Insecticidal activity of plant extracts on Dysmicoccus brevipes in pineapple', 'Bruchine-Predated Seeds of Ipomoea nil (L.) Roth., A Cotton Crop Weed in Santiago Del Estero, Argentina', 'Impact of global warming on the distribution of Anastrepha grandis (Diptera: Tephritidae) in Brazil', 'Damage by the green-belly stink bug to corn', 'Biological aspects and feeding behavior of cotton aphid in watermelon cultivars submitted to silicon application', 'Diet of Phylloicus (Trichoptera: Calamoceratidae) caddisfly larvae in forest streams of western Pará, central Brazilian Amazonia', 'Performance of insecticides in control of Diatraea saccharalis (Lepidoptera: Crambidae) in sugarcane', 'Investigation of Chagas disease within the same family: case study', 'Ocorrência e análise de injúrias de Costalimaita ferruginea (Fabricius, 1801) (Coleoptera: Chrysomelidae) em clones de Eucalyptus em Alagoas', 'Effect of canopy cover on development of cedar (Cedrela fissilis) and aspects of damage caused by Hypsipyla grandella in agroforestry system', 'Compostos de esterco de galinha e de ovino melhoram a produtividade de plantas de cafeeiro sob um sistema de produção orgânica', 'Galling inducing insects associated with a tropical shrub: The role of resource concentration and species interactions', 'Entomofauna associated with Avena sativa in southern Mato Grosso do Sul, Brazil', 'Compared activity of agonist molecules towards ecdysone receptor in insect cell-based screening system', 'Silicon as resistance inducer in to control black aphid Aphis craccivora Koch, 1854 in Phaseolus lunatus lima beans', 'Preferences and demographic parameters of cowpea aphid on advanced lines of semiprostrate cowpea', 'Leptocybe invasa (HYMENOPTERA: EULOPHIDAE) ON Eucalyptus SEEDLINGS IN SANTA CATARINA STATE, BRAZIL', 'Integrated management of pine wilt disease in Troia', 'Insecticidal action of Drimys brasiliensis Miers on black citrus aphid', 'Occurrences of Ornithocoris toledoi (Cimicidae) on a free-range chicken farm in the state of Rio de Janeiro, Brazil', 'Toxicity of Cymbopogon flexuosus essential oil and citral for Spodoptera frugiperda', 'Structural and histochemical profile of Lopesia sp. Rübsaamen 1908 pinnula galls on Mimosa tenuiflora (Willd.) Poir. in a Caatinga environment', 'Population density of Tibraca limbativentris on flood irrigated rice and alternative host plants', 'EFICIÊNCIA DE Beauveria bassiana VUILL. E Isaria sp. PARA O CONTROLE DE Thaumastocoris peregrinus CARPINTERO & DELLAPÉ (HEMIPTERA: THAUMASTOCORIDAE)', 'Attractiveness, non-preference for feeding and oviposition to Ascia monuste orseis Godart (Lepidoptera: Pieridae) in collard greens', 'Potencial de desenvolvimento de Lasioderma serricorne (Fabricius, 1792) (Coleoptera: Anobiidae) em dietas contendo soja', 'ECOPHYSIOLOGICAL ANALYSIS OF Eucalyptus camaldulensis (DEHNH) SUBMITTED TO ATTACK FROM Thaumastocoris peregrinus (CARPINTERO & DELLAPE)', 'Mortality of Conotrachelus humeropictus in response to combined application of the nematode Steinernema brazilense and the fungus Beauveria bassiana', 'Trophic structure of the fish community throughout the reservoirs and tributaries of the Middle and Lower Tietê River (São Paulo, Brazil)', 'OCORRÊNCIA ESPONTÂNEA DE Beauveria bassiana (Bals. Criv.) Vuill. 1912 (ASCOMYCETES: CLAVICIPITACEAE) SOBRE Thaumastocoris peregrinus (HEMIPTERA: THAUMASTOCORIDAE)', 'First record of acerola weevil, Anthonomus tomentosus (Faust, 1894) (Coleoptera: Curculionidae), in Brazil', 'CHEMICAL COMPOSITION AND TOXICITY OF CITRUS ESSENTIAL OILS ON Dysmicoccus brevipes (HEMIPTERA: PSEUDOCOCCIDAE)', 'EFEITO DA COR DE ARMADILHAS ADESIVAS PARA MONITORAMENTO DE Thaumastocoris peregrinus CARPINTERO & DELLAPÉ (HEMIPTERA: THAUMASTOCORIDAE) NO CAMPO', 'Host-seeking behavior of the Heterorhabditis amazonensis nematode in response to stimulant sources1', 'ECONOMIC INJURY LEVEL OF CITRUS BLACK-FLY IN COMMERCIAL ‘PERA-RIO’ ORANGE AREA', 'Spatial and temporal distribution of gerrid (Heteroptera) and predation on microcrustaceans from a tropical shallow lake', 'BIOLOGIA DE Thaumastocoris peregrinus CARPINTERO E DELLAPÉ (HEMIPTERA: THAUMASTOCORIDAE) EM DEZ ESPÉCIES DE EUCALIPTO', 'Infection of silkworm larvae by the entomopathogenic fungus Metarhizium anisopliae', 'White grubs (Cyclocephala flavipennis) damaging perennial winter pastures in the South Region of Brazil', 'Predispersal infestation of Vochysia haenkeana seeds by Lius conicus', 'Populational fluctuation of lace bug in cassava', 'Toxicity of essential oils from leaves of Piperaceae species in rice stalk stink bug eggs, Tibraca limbativentris (Hemiptera: Pentatomidae)', 'Walking stability of Rhyzopertha dominica (Fabricius, 1792) (Coleoptera: Bostrichidae)', 'Primeiro registro do besouro-amarelo-do-eucalipto em plantio de eucalipto no Estado do Acre', 'Effect of the flavonoid rutin on the biology of Spodoptera frugiperda (Lepidoptera: Noctuidae)', 'Seleção de clones de braquiária para resistência à lagarta-do-cartucho', 'Mitochondrial markers to distinguish Spodoptera frugiperda populations associated with corn and cotton crops', 'Tratamento de sementes para manejo do percevejo-barriga-verde na cultura de soja e milho em sucessão', 'Pollination in the oil palms Elaeis guineensis, E. oleifera and their hybrids (OxG), in tropical America', 'Effects of environmental and architectural diversity of Caryocar brasiliense (Malpighiales: Caryocaraceae) on Edessa ruformaginata (Hemiptera: Pentatomidae) and its biology', 'Patogenicidade de Beauveria bassiana no controle in vitro da lagarta-da-espiga do milho (Helicoverpa zea)', 'Efficiency of inert mineral dusts in the control of corn weevil', 'Registro de Isogonoceraia divergipennis White & Hodkinson associado a Poincianella pluviosa (Fabaceae) em Mato Grosso, Brasil', 'OCURRENCE OF Revena plaumanni BONDAR, 1943 (Coleoptera: CURCULIONIDAE) IN PINDO PALM FRUIT', 'Trophic structure of macroinvertebrates in tropical pasture streams', 'Feeding resource partitioning between two understorey insectivorous birds in a fragment of Neotropical cloud forest', 'Plant vibration of american pepper cultivars for fruit production in protected environment with and without closed sides', 'Occurrence of insects causing injuries to the yacon crop'], 'Instituições': ['Brazilian Journal of Biology', 'Brazilian Journal of Biology', 'Brazilian Journal of Biology', 'Brazilian Journal of Biology', 'Brazilian Journal of Biology', 'Brazilian Journal of Biology', 'Topoi (Rio de Janeiro)', 'Millenium - Journal of Education, Technologies, and Health', 'Ciência Florestal', 'Biota Neotropica', 'Pesquisa Agropecuária Brasileira', 'Revista Árvore', 'Iheringia. Série Zoologia', 'Acta Limnologica Brasiliensia', 'Pesquisa Agropecuária Tropical', 'Alfa: Revista de Linguística (São José do Rio Preto)', 'Biota Neotropica', 'Brazilian Journal of Nephrology', 'Revista Caatinga', 'Horticultura Brasileira', '', 'História, Ciências, Saúde-Manguinhos', 'Revista de Ciências Agrárias', 'Planta Daninha', 'Arquivos do Instituto Biológico', 'Pesquisa Agropecuária Brasileira', 'Arquivos do Instituto Biológico', 'Acta Limnologica Brasiliensia', 'Arquivos do Instituto Biológico', 'Jornal Brasileiro de Patologia e Medicina Laboratorial', 'Ciência Florestal', 'Ciência Florestal', 'Arnaldoa', 'Ecología austral', 'Arquivos do Instituto Biológico', 'Arquivos do Instituto Biológico', 'Arquivos do Instituto Biológico', 'Pesquisa Agropecuária Brasileira', 'Ciência Florestal', 'Revista de Ciências Agrárias', 'Revista Ciência Agronômica', 'Revista Brasileira de Parasitologia Veterinária', 'Ciência e Agrotecnologia', 'Hoehnea', 'Pesquisa Agropecuária Brasileira', 'Ciência Florestal', 'Arquivos do Instituto Biológico', 'Brazilian Journal of Food Technology', 'Revista Árvore', 'Arquivos do Instituto Biológico', 'Acta Limnologica Brasiliensia', 'Ciência Florestal', 'Brazilian Journal of Biology', 'Revista Caatinga', 'Ciência Florestal', 'Pesquisa Agropecuária Tropical', 'Revista Brasileira de Fruticultura', 'Brazilian Journal of Biology', 'Ciência Florestal', 'Ciência Rural', 'Ciência Rural', 'Ciência Rural', 'Arquivos do Instituto Biológico', 'Ciência e Agrotecnologia', 'Brazilian Journal of Biology', 'Revista Ceres', 'Acta Scientiarum. Agronomy', 'Pesquisa Agropecuária Brasileira', 'Pesquisa Agropecuária Brasileira', 'Pesquisa Agropecuária Brasileira', 'Pesquisa Agropecuária Tropical', 'Acta Scientiarum. Agronomy', 'Revista de Ciências Agrárias', 'Revista Brasileira de Engenharia Agrícola e Ambiental', 'Arquivos do Instituto Biológico', 'Revista Brasileira de Fruticultura', 'Acta Limnologica Brasiliensia', 'Brazilian Journal of Biology', 'Ciência Rural', 'Horticultura Brasileira'], 'Autores': [['Souza, A. M.', 'Maciel, J. C.', 'Barroso, G. M.', 'Silva, R. S.', 'Garraffoni, A. R. S.', 'Neves, C. A.', 'Soares, M. A.', 'Santos, J. B.'], ['Faustino, R.F.', 'Silva, C.A.D.', 'Zanuncio, J.C.', 'Pereira, J.R.', 'Pereira, A.I.A.'], ['Monteiro, L. B.', 'Nishimura, G.', 'Monteiro, R. S.'], ['Ribeiro, M. F.', 'Carvalho, V. R.', 'Favoreto, A. L.', 'De Marchi, B. R.', 'Jordan, C.', 'Zanuncio, J. C.', 'Soares, M. A.', 'Zanuncio, A. J. V.', 'Wilcken, C. F.'], ['Leite, G. L. D.', 'Veloso, R. V. S.', 'Azevedo, A. M.', 'Almeida, C. I. Maia e', 'Soares, M. A.', 'Pereira, A. I. A.', 'Lemes, P. G.', 'Zanuncio, J. C.'], ['Dutra, A. S.', 'Stauffert, D.', 'Bianchi, T. F.', 'Ribeiro, D. R. P.', 'Villela, M. M.'], ['Correa, Sílvio Marcus de Souza'], ['Cardoso, João', 'Almeida, Maria Teresa', 'Bento, Albino'], ['Künast, Talita Benedcta Santos', 'Queiroz, Dalva Luiz de', 'Burckhardt, Daniel', 'Andrade, Ednaldo Antônio de', 'Barreto, Marliton Rocha'], ['Queiroz, Camila Lorena Damasceno', 'De-Souza, Caroline Costa', 'Medeiros, Hermes Fonseca de', 'Overal, William Leslie', 'Viana-Junior, Arleu Barbosa', 'Carvalho-Filho, Fernando da Silva'], ['Silva, Carlos Alberto Domingues da', 'Galdino, Josivaldo da Silva', 'Carvalho, Thiele da Silva', 'Zanuncio, José Cola'], ['Botelho, Juliana Formiga', 'Queiroz, Ruan Sobreira de', 'Anjos, Marcelo Rodrigues dos', 'Souza, Moisés Santos de'], ['Moreno, Carolina', 'Barbosa, Letícia L.', 'Lima, Lorena S.', 'Ferro, Viviane G.'], ['Silva, Yuri Kataoka', 'Moser, Anderson de Souza', 'Ceneviva-Bastos, Mônica', 'Affonso, Ana Lucia Suriani'], ['Restelatto, Samanta Souza', 'Wille, Paulo Eduardo', 'Buss, Nayara', 'Wille, Cleiton Luis', 'Boff, Mari Inês Carissimi', 'Contini, Rafael Ermenegildo', 'Franco, Cláudio Roberto'], ['AGUILERA, Vanderci de Andrade', 'SILVA, Helen Cristina da'], ['Cintra, Fernanda C. F.', 'Maia, Valéria C.', 'Urso-Guimarães, Maria V.', 'Araújo, Walter S. de', 'Carneiro, Marco A. A.', 'Venâncio, Henrique', 'Almeida, Wanessa R. de', 'Santos, Jean C.'], ['Junqueira, Vânia', 'Donato, Beatriz', 'Teixeira, Catarina', 'Mascarenhas, Maria Isabel', 'Silva, Isabel Costa', 'Almeida, Edgar'], ['ROHDE, CRISTHIANE', 'MERTZ, NATÁLIA RAMOS', 'JUNIOR, ALCIDES MOINO'], ['Baldin, Edson Luiz Lopes', 'Schlick-Souza, Eunice Cláudia', 'Soares, Muriel Cicatti Emanoeli', 'Lopes, Norberto Peporine', 'Lopes, João Luis Callegari', 'Bogorni, Paulo César', 'Vendramim, José Djair'], ['Esquen-Bayona , Damaris', 'Arias , Carmen Patricia Calderon'], ['Santos, Clara Braz dos', 'Pereira, Milena da Silveira'], ['Lira, Josélia A.', 'Pereira, Rosane R. da C.', 'Costa, Leidiane de O.', 'Nogueira, Rayele C. C.', 'Pereira, Carlos E.'], ['HELMAN, S.', 'SOBRERO, M.T.', 'RAÑA, E.'], ['Lisbôa, Heitor', 'Grutzmacher, Anderson Dionei', 'Wrege, Marcos Silveira', 'Garcia, Flávio Roberto Mello', 'Nava, Dori Edson'], ['Fernandes, Paulo Henrique Ramos', 'Ávila, Crébio José', 'Silva, Ivana Fernandes da', 'Zulin, Daniele'], ['Pereira, Rosane Rodrigues da Costa', 'Barbosa, Roneres Deniz', 'Ferreira, Luciana Diniz', 'Silva, Douglas Marcelo Pinheiro da', 'Zaché, Ronelza Rodrigues da Costa', 'Pereira, Carlos Eduardo'], ['Pimentel, Diego Ramos', 'Couceiro, Sheyla Regina Marques', 'Salcedo, Ana Karina Moreyra'], ['Silva, Marcelo Feitosa da', 'Funichello, Marina', 'Souza, Diego Miranda de'], ['Takamiya, Nayore Tamie', 'Costa, Erika Alessandra P. N.', 'Lucheis, Simone B.', 'Santos, Rodrigo M.'], ['Xavier, Maria Eugênia Vieira', 'Breda, Mariana Oliveira', 'Gonzaga, Elmadã Pereira', 'Santos, Djison Silvestre dos', 'Costa, João Gomes da'], ['Borges, Rafael', 'Boff, Mari Inês Carissimi', 'Mantovani, Adelar', 'Biscaro-Borges, Camila', 'Blassioli-Moraes, Maria Carolina'], ['Rocca Jara, Quemin', 'Julca Otiniano, Alberto', 'Cuti Tapia, Rosa', 'Alvarado Huamán, Leonel', 'Castro Cépero, Viviana', 'Borjas Ventura, Ricardo'], ['Fagundes, Marcilio', 'Barbosa, Elizete M', 'Oliveira, Jefferson B. B. S', 'Brito, Betânia G. S', 'Freitas, Kamila T', 'Freitas, Kleiperry F', 'Reis-Junior, Ronaldo'], ['Silva, Rafael Azevedo da', 'Degrande, Paulo', 'Souza, Ellen Patricia de', 'Carducci, Carlos Eduardo', 'Leal, Matheus Fuchs', 'Pereira, Matheus Dalla Cort'], ['Pinto, Ciro Pedro Guidotti', 'Rickes, Letícia Neutzling', 'Zotti, Moisés João', 'Grutzmacher, Anderson Dionei'], ['Fortes Portela, Gilson Lages', 'Ramalho Silva, Paulo Roberto', 'Girão Filho, José Edmir', 'de Moura Pádua, Luiz Evaldo', 'de Melo Júnior, Luiz Carlos'], ['Silva, Leandro Carvalho da', 'Nere, Daniel Rodrigues', 'Bleicher, Ervino', 'Tavares, Eraldo José Madureira', 'Barbosa, Antônio Vinícius Correa'], ['Barbosa, Leonardo Rodrigues', 'Rodrigues, Angelo Peruffo', 'Souza, Amanda Rodrigues de', 'Puretz, Barbara de Oliveira', 'Wilcken, Carlos Frederico', 'Zanuncio, José Cola'], ['Naves, Pedro', 'Bonifácio, Luís', 'Inácio, Maria Lurdes', 'Sousa, Edmundo'], ['Anese, Simoni', 'Gambarra, Wanessa Porto Tito', 'Grisi, Patrícia Umeda', 'Gualtieri, Sonia Cristina Juliano'], ['Pires, Marcus Sandes', 'Luz, Hermes Ribeiro', 'Peckle, Maristela', 'Silva, Claudia Bezerra da', 'Vitari, Gabriela Lopes Vivas', 'Costa, Renata Lins da', 'Graciosa, Mariana Guimarães', 'Santos, Huarrisson Azevedo', 'Faccini, João Luiz Horacio', 'Massard, Carlos Luiz'], ['Oliveira, Ellison Rosario de', 'Alves, Dejane Santos', 'Carvalho, Geraldo Andrade', 'Oliveira, Bárbara Maria Ribeiro Guimarães de', 'Aazza, Smail', 'Bertolucci, Suzan Kelly Vilela'], ['Nogueira, Ravena Malheiros', 'Costa, Elaine Cotrim', 'Silva, Juliana Santos', 'Isaias, Rosy Mary dos Santos'], ['Pasini, Mauricio Paulo Batistella', 'Lúcio, Alessandro Dal’Col', 'Cargnelutti Filho, Alberto', 'Ribeiro, Ana Lúcia de Paula', 'Zamberlan, João Fernando', 'Lopes, Sidinei José'], ['Lorencetti, Grasielle Adriane Toscan', 'Potrich, Michele', 'Mazaro, Sergio Miguel', 'Lozano, Everton Ricardi', 'Barbosa, Leonardo Rodrigues', 'Menezes, Marta Juliana Schmatz', 'Gonçalves, Thiago Evandro'], ['Nogueira, Luciano', 'Almeida, André Cirilo de Sousa', 'Freitas, Marcelo Mueller de', 'Ribeiro, Zulene Antonio', 'Boiça Junior, Arlindo Leal', 'Jesus, Flávio Gonçalves de'], ['Ferri, Glaucia Cristina', 'Lorini, Irineu', 'Ventura, Mauricio Ursi'], ['Almeida, Kamilla Emmanuelle Carvalho de', 'Silva, Junia Grazielle Soares da', 'Silva, Inaê Mariê de Araujo', 'Costa, Alisson Lucrecio da', 'Laia, Marcelo Luiz de'], ['Simi, Lucas Detogni', 'Leite, Luís Garrigós', 'Trevisan, Olzeno', 'Costa, José Nilton Medeiros', 'Oliveira, Leandro Ezequiel', 'Schmidt, Fabio Silber', 'Bueno, Roselaine Nunes da Silva', 'Batista Filho, Antonio'], ['Smith, Welber Senteio', 'Pereira, Camila Galvão Francisco', 'Espindola, Evaldo Luiz Gaeta', 'Rocha, Odete'], ['Lorencetti, Grasielle Adriane Toscan', 'Potrich, Michele', 'Mazaro, Sérgio Miguel', 'Lozano, Everton Ricardi', 'Gonçalves, Thiago Evandro', 'Dallacort, Sidinei'], ['Marsaro Júnior, A. L.', 'Pereira, P. R. V. S.', 'Rosado-Neto, G. H.', 'Morais, E. G. F.'], ['MARTINS, GISELE DOS SANTOS OLIVEIRA', 'ZAGO, HUGO BOLSONI', 'COSTA, ADILSON VIDAL', 'ARAUJO JUNIOR, LUIS MOREIRA DE', 'CARVALHO, JOSÉ ROMÁRIO DE'], ['Smaniotto, Márcia Aparecida', 'Cunha, Uemerson Silva da', 'Finkenauer, Elder', 'Garcia, Mauro Silveira'], ['Andaló, Vanessa', 'Moreira, Grazielle Furtado', 'Moino Junior, Alcides'], ['LIMA, BRUNO GONÇALVES', 'FARIAS, PAULO ROBERTO SILVA', 'RAMOS, EDSON MARCOS LEAL SOARES', 'SALES, TIAGO DE MELO', 'SILVA, ANDERSON GONÇALVES DA'], ['Domingos, A. R.', 'Arcifa, M. S.'], ['Smaniotto, Márcia Aparecida', 'Silva, Alexandre da', 'Cunha, Uemerson Silva da', 'Garcia, Mauro Silveira'], ['Ribeiro, Lucineia de Fátima Chasko', 'Tavares, Jeronimo', 'Silva, Sóstenez Alexandre Vessaro', 'Alvez, Luis Francisco Angeli', 'Loth, Eduardo Alexandre', 'Brancalhão, Rose Meire Costa'], ['Duchini, Paulo Gonçalves', 'Echeverria, Joilson Roda', 'Américo, Luana Fidelis', 'Guzatti, Gabriela Cristina', 'Cherman, Mariana Alejandra', 'Sbrissia, André Fischer'], ['Lourenço, Samara Letícia Oliveira', 'Luiz, Marcelo Felix', 'Jesus, Flávio Gonçalves de', 'Carvalho, Daniel Diego Costa', 'Hornburg, Michael', 'Araújo, Márcio da Silva'], ['Bellon, Patrícia Paula', 'Oliveira, Harley Nonato de', 'Loureiro, Elisângela de Souza', 'Santana, Danilo Renato Santiago', 'Otsubo, Auro Akio', 'Mota, Thiago Alexandre'], ['Krinski, Diones', 'Foerster, Luís Amilton'], ['Pires, E. M.', 'Nogueira, R. M.', 'Pina, D. S.', 'Manica, C. L. M.', 'Faroni, L. R. A.', 'Moreira, P. S. A.'], ['Santos, Rodrigo Souza', 'Gonçalves, Roberto', 'Silva, Norivaldo dos Anjos'], ['Silva, Talita Roberta Ferreira Borges', 'Almeida, André Cirilo de Sousa', 'Moura, Tony de Lima', 'Silva, Anderson Rodrigo da', 'Freitas, Silvia de Sousa', 'Jesus, Flávio Gonçalves'], ['Auad, Alexander Machado', 'Souza Sobrinho, Fausto', 'Mendes, Simone Martins', 'Toledo, Antônio Marcos Oliveira', 'Lucindo, Thiago de Souza', 'Benites, Flavio Rodrigo Gantolfi'], ['Queiroz, Paulo Roberto', 'Ramiro, Carolina Almeida', 'Martins, Érica Soares', 'Soberón, Mário', 'Bravo, Alejandra', 'Monnerat, Rose Gomes'], ['Chiesa, Ana Carolina Montenegro', 'Sismeiro, Mariana Nunes dos Santos', 'Pasini, Amarildo', 'Roggia, Samuel'], ['Meléndez, María Raquel', 'Ponce, William Patricio'], ['Leite, Germano Leão Demolin', 'Lopes, Paulo Sérgio Nascimento', 'Zanuncio, José Cola', 'Martins, Cristina de Paula Santos', 'Moreira, Thiago Marçal Borges', 'Costa, Renildo Ismael Félix da'], ['Zambiazzi, Everton Vinicius', 'Guilherme, Scheila R.', 'Corassa, Janaina de N.', 'Bonaldo, Solange M.', 'Zuffo, Alan M.', 'Soares, Igor O.', 'Oliveira, Danyela de C. da S.'], ['Jairoce, Carlos F.', 'Teixeira, Cristiano M.', 'Nunes, Adrise M.', 'Holdefer, Daniela R.', 'Krüger, Alexandra P.', 'Garcia, Flávio R. M.'], ['Mazzardo, Tatiana', 'Barreto, Marliton Rocha', 'Pezzini, Leonir Antunes', 'Sedano, Alisson Diego Bassoli', 'Burckhardt, Daniel', 'Queiroz, Dalva Luiz de'], ['TONIETTO, ADILSON', 'SCHLINDWEIN, GILSON'], ['Silveira-Manzotti, Bruna Neves da', 'Manzotti, Angelo Rodrigo', 'Ceneviva-Bastos, Mônica', 'Casatti, Lilian'], ['Manhães, M. A.', 'Dias, M. M.', 'Lima, A. L. C.'], ['Freitas, Pâmela Gomes Nakada', 'Magro, Felipe Oliveira', 'Claudio, Marina de Toledo Rodrigues', 'Tavares, Ana Emília Barbosa', 'Cardoso, Antonio Ismael Inácio', 'Lanna, Natália de Brito Lima'], ['Silva, Diego MN', 'Oliveira, Fábio L', 'Dalvi, Leandro P', 'Pratissoli, Dirceu', 'Erlacher, Wellington A', 'Quaresma, Mateus AL']], 'Ano': [2024, 2023, 2023, 2022, 2022, 2021, 2021, 2021, 2021, 2021, 2021, 2021, 2021, 2021, 2021, 2021, 2021, 2020, 2020, 2020, nan, 2020, 2020, 2020, 2020, 2020, 2020, 2020, 2020, 2019, 2019, 2019, 2019, 2019, 2019, 2019, 2019, 2019, 2018, 2018, 2018, 2018, 2018, 2018, 2018, 2018, 2018, 2018, 2018, 2018, 2018, 2017, 2017, 2017, 2017, 2017, 2017, 2017, 2017, 2017, 2017, 2017, 2017, 2016, 2016, 2016, 2016, 2016, 2016, 2016, 2016, 2016, 2016, 2016, 2016, 2016, 2016, 2015, 2015, 2015], 'Volume': [84, 83, 83, 82, 82, 81, 22, 14, 31, 21, 56, 45, 111, 33, 51, 65, 21, 42, 33, 38, nan, 27, 43, 38, 87, 55, 87, 32, 87, 55, 29, 29, 26, 29, 86, 86, 86, 54, 28, 41, 49, 27, 42, 45, 53, 28, 85, 21, 42, 85, 30, 27, 77, 30, 27, 47, 39, 77, 27, 47, 47, 47, 84, 40, 76, 63, 38, 51, 51, 51, 46, 38, 39, 20, 83, 38, 28, 75, 45, 33], 'Links': ['http://www.scielo.br/scielo.php?script=sci_arttext&pid=S1519-69842024000100105&lang=pt', 'http://www.scielo.br/scielo.php?script=sci_arttext&pid=S1519-69842023000100260&lang=pt', 'http://www.scielo.br/scielo.php?script=sci_arttext&pid=S1519-69842023000100286&lang=pt', 'http://www.scielo.br/scielo.php?script=sci_arttext&pid=S1519-69842022000100119&lang=pt', 'http://www.scielo.br/scielo.php?script=sci_arttext&pid=S1519-69842022000100159&lang=pt', 'http://www.scielo.br/scielo.php?script=sci_arttext&pid=S1519-69842021000400867&lang=pt', 'http://www.scielo.br/scielo.php?script=sci_arttext&pid=S2237-101X2021000300814&lang=pt', 'http://www.scielo.pt/scielo.php?script=sci_arttext&pid=S0873-30152021000100091&lang=pt', 'http://www.scielo.br/scielo.php?script=sci_arttext&pid=S1980-50982021000100440&lang=pt', 'http://www.scielo.br/scielo.php?script=sci_arttext&pid=S1676-06032021000100302&lang=pt', 'http://www.scielo.br/scielo.php?script=sci_arttext&pid=S0100-204X2021000102001&lang=pt', 'http://www.scielo.br/scielo.php?script=sci_arttext&pid=S0100-67622021000100223&lang=pt', 'http://www.scielo.br/scielo.php?script=sci_arttext&pid=S0073-47212021000100218&lang=pt', 'http://www.scielo.br/scielo.php?script=sci_arttext&pid=S2179-975X2021000100803&lang=pt', 'http://www.scielo.br/scielo.php?script=sci_arttext&pid=S1983-40632021000100223&lang=pt', 'http://www.scielo.br/scielo.php?script=sci_arttext&pid=S1981-57942021000100246&lang=pt', 'http://www.scielo.br/scielo.php?script=sci_arttext&pid=S1676-06032021000400207&lang=pt', 'http://www.scielo.br/scielo.php?script=sci_arttext&pid=S0101-28002020000400498&lang=pt', 'http://www.scielo.br/scielo.php?script=sci_arttext&pid=S1983-21252020000400974&lang=pt', 'http://www.scielo.br/scielo.php?script=sci_arttext&pid=S0102-05362020000300280&lang=pt', 'https://preprints.scielo.org/index.php/scielo/preprint/view/673', 'http://www.scielo.br/scielo.php?script=sci_arttext&pid=S0104-59702020000100275&lang=pt', 'http://www.scielo.pt/scielo.php?script=sci_arttext&pid=S0871-018X2020000100175&lang=pt', 'http://www.scielo.br/scielo.php?script=sci_arttext&pid=S0100-83582020000100225&lang=pt', 'http://www.scielo.br/scielo.php?script=sci_arttext&pid=S1808-16572020000100201&lang=pt', 'http://www.scielo.br/scielo.php?script=sci_arttext&pid=S0100-204X2020000102000&lang=pt', 'http://www.scielo.br/scielo.php?script=sci_arttext&pid=S1808-16572020000100229&lang=pt', 'http://www.scielo.br/scielo.php?script=sci_arttext&pid=S2179-975X2020000100509&lang=pt', 'http://www.scielo.br/scielo.php?script=sci_arttext&pid=S1808-16572020000100224&lang=pt', 'http://www.scielo.br/scielo.php?script=sci_arttext&pid=S1676-24442019000600693&lang=pt', 'http://www.scielo.br/scielo.php?script=sci_arttext&pid=S1980-50982019000301452&lang=pt', 'http://www.scielo.br/scielo.php?script=sci_arttext&pid=S1980-50982019000301324&lang=pt', 'http://www.scielo.org.pe/scielo.php?script=sci_arttext&pid=S2413-32992019000200015&lang=pt', 'http://www.scielo.org.ar/scielo.php?script=sci_arttext&pid=S1667-782X2019000100002&lang=pt', 'http://www.scielo.br/scielo.php?script=sci_arttext&pid=S1808-16572019000100229&lang=pt', 'http://www.scielo.br/scielo.php?script=sci_arttext&pid=S1808-16572019000100409&lang=pt', 'http://www.scielo.br/scielo.php?script=sci_arttext&pid=S1808-16572019000100238&lang=pt', 'http://www.scielo.br/scielo.php?script=sci_arttext&pid=S0100-204X2019000101901&lang=pt', 'http://www.scielo.br/scielo.php?script=sci_arttext&pid=S1980-50982018000401770&lang=pt', 'http://www.scielo.pt/scielo.php?script=sci_arttext&pid=S0871-018X2018000500002&lang=pt', 'http://www.scielo.br/scielo.php?script=sci_arttext&pid=S1806-66902018000300484&lang=pt', 'http://www.scielo.br/scielo.php?script=sci_arttext&pid=S1984-29612018000300396&lang=pt', 'http://www.scielo.br/scielo.php?script=sci_arttext&pid=S1413-70542018000400408&lang=pt', 'http://www.scielo.br/scielo.php?script=sci_arttext&pid=S2236-89062018000200314&lang=pt', 'http://www.scielo.br/scielo.php?script=sci_arttext&pid=S0100-204X2018000300265&lang=pt', 'http://www.scielo.br/scielo.php?script=sci_arttext&pid=S1980-50982018000100403&lang=pt', 'http://www.scielo.br/scielo.php?script=sci_arttext&pid=S1808-16572018000100221&lang=pt', 'http://www.scielo.br/scielo.php?script=sci_arttext&pid=S1981-67232018000100420&lang=pt', 'http://www.scielo.br/scielo.php?script=sci_arttext&pid=S0100-67622018000100218&lang=pt', 'http://www.scielo.br/scielo.php?script=sci_arttext&pid=S1808-16572018000100207&lang=pt', 'http://www.scielo.br/scielo.php?script=sci_arttext&pid=S2179-975X2018000101003&lang=pt', 'http://www.scielo.br/scielo.php?script=sci_arttext&pid=S1980-50982017000401403&lang=pt', 'http://www.scielo.br/scielo.php?script=sci_arttext&pid=S1519-69842017000400803&lang=pt', 'http://www.scielo.br/scielo.php?script=sci_arttext&pid=S1983-21252017000300811&lang=pt', 'http://www.scielo.br/scielo.php?script=sci_arttext&pid=S1980-50982017000300799&lang=pt', 'http://www.scielo.br/scielo.php?script=sci_arttext&pid=S1983-40632017000300265&lang=pt', 'http://www.scielo.br/scielo.php?script=sci_arttext&pid=S0100-29452017000300401&lang=pt', 'http://www.scielo.br/scielo.php?script=sci_arttext&pid=S1519-69842017000200289&lang=pt', 'http://www.scielo.br/scielo.php?script=sci_arttext&pid=S1980-50982017000200679&lang=pt', 'http://www.scielo.br/scielo.php?script=sci_arttext&pid=S0103-84782017000400151&lang=pt', 'http://www.scielo.br/scielo.php?script=sci_arttext&pid=S0103-84782017000500153&lang=pt', 'http://www.scielo.br/scielo.php?script=sci_arttext&pid=S0103-84782017000900153&lang=pt', 'http://www.scielo.br/scielo.php?script=sci_arttext&pid=S1808-16572017000100225&lang=pt', 'http://www.scielo.br/scielo.php?script=sci_arttext&pid=S1413-70542016000600676&lang=pt', 'http://www.scielo.br/scielo.php?script=sci_arttext&pid=S1519-69842016000300568&lang=pt', 'http://www.scielo.br/scielo.php?script=sci_arttext&pid=S0034-737X2016000400584&lang=pt', 'http://www.scielo.br/scielo.php?script=sci_arttext&pid=S1807-86212016000200165&lang=pt', 'http://www.scielo.br/scielo.php?script=sci_arttext&pid=S0100-204X2016000500579&lang=pt', 'http://www.scielo.br/scielo.php?script=sci_arttext&pid=S0100-204X2016000500692&lang=pt', 'http://www.scielo.br/scielo.php?script=sci_arttext&pid=S0100-204X2016000400301&lang=pt', 'http://www.scielo.br/scielo.php?script=sci_arttext&pid=S1983-40632016000100102&lang=pt', 'http://www.scielo.br/scielo.php?script=sci_arttext&pid=S1807-86212016000100019&lang=pt', 'http://www.scielo.pt/scielo.php?script=sci_arttext&pid=S0871-018X2016000100010&lang=pt', 'http://www.scielo.br/scielo.php?script=sci_arttext&pid=S1415-43662016000200158&lang=pt', 'http://www.scielo.br/scielo.php?script=sci_arttext&pid=S1808-16572016000100301&lang=pt', 'http://www.scielo.br/scielo.php?script=sci_arttext&pid=S0100-29452016000300404&lang=pt', 'http://www.scielo.br/scielo.php?script=sci_arttext&pid=S2179-975X2016000100312&lang=pt', 'http://www.scielo.br/scielo.php?script=sci_arttext&pid=S1519-69842015000800176&lang=pt', 'http://www.scielo.br/scielo.php?script=sci_arttext&pid=S0103-84782015001101959&lang=pt', 'http://www.scielo.br/scielo.php?script=sci_arttext&pid=S0102-05362015000300394&lang=pt']}\n"
          ]
        }
      ],
      "source": [
        "print(fonte)"
      ]
    },
    {
      "cell_type": "code",
      "execution_count": null,
      "metadata": {
        "id": "_VjvOCH0Zby8",
        "colab": {
          "base_uri": "https://localhost:8080/"
        },
        "outputId": "6f61d250-4a7f-48b2-9e6d-30bd47492542"
      },
      "outputs": [
        {
          "output_type": "execute_result",
          "data": {
            "text/plain": [
              "[\"{'Titulos': ['Ecotoxicological effects of commercial herbicides on the reproductive system of aquatic arthropod Limnocoris submontandoni (Hemiptera: Naucoridae)', 'Mortality of the cotton boll weevil in drip and sprinkler irrigated cotton crops', 'Natural parasitism in fruit fly (Diptera: Tephritidae) and interaction with wild hosts surrounding apple orchards adjacent to Atlantic Forest fragments in Paraná State, Brazil', 'Yersinia massiliensis (Enterobacteriales: Enterobacteriaceae) in the host Anaphes nitens (Hymenoptera: Mymaridae): first report of association with insects', 'Distribution of galling insects and their parasitoids on Caryocar brasiliense tree crowns', 'Seroprevalence of Chagas disease in Southern Brazilian cardiac patients and their knowledge about the parasitosis and vectors', 'História com maiúscula de um minúsculo inseto', 'Biological control of dryocosmus kuriphilus yasumatsu with the parasitoid torymus sinensis kamijo', 'Efeito da temperatura no desenvolvimento e na reprodução de Blastopsylla occidentalis (Hemiptera: Aphalaridae) em condições de laboratório', 'Saprophytic flies in impacted areas of the Belo Monte Dam, Pará, Brazil (Diptera: Mesembrinellidae, Neriidae, Ropalomeridae, and Sarcophagidae): community composition, abundance, and species richness', 'Biological and morphological parameters of Dysdercus maurus fed with low- or high-oil cotton seeds', 'POPULATION DYNAMICS OF Hypothenemus hampei (Coleoptera: Scolytidae) IN AGROFORESTRY AND MONOCULTURE SYSTEMS OF CONILON COFFEE IN THE SOUTHERN PORTION OF THE STATE OF AMAZONAS, BRAZIL', 'Effect of light stress on Crotalaria spectabilis (Fabaceae) and on its herbivore insect, the moth Utetheisa ornatrix (Erebidae: Arctiinae)', 'Record of aquatic invertebrates associated with the bromeliads Aechmea ornata (Baker) and Aechmea recurvata (Klotzsch) L. B. Sm in two Atlantic Rainforest fragments of south Brazil', 'Intraspecific variation in the Chrysodeixis includens (Walker) (Lepidoptera: Noctuidae) susceptibility to insecticides', 'AS DENOMINAÇÕES PARA LIBÉLULA, NO ATLAS LINGUÍSTICO DO BRASIL: UM ESTUDO SOBRE A MOTIVAÇÃO DOS SIGNOS', 'A compilation of host plants and their gall-inducing insects for the Caatinga Biome', 'Nephrotic syndrome after insect sting: a case report', 'ENTOMOPATHOGENIC NEMATODES ON CONTROL OF MEDITERRANEAN FRUIT FLY (DIPTERA: TEPHRITIDAE)', 'Insecticidal and inhibitory effects of Meliaceae and Asteraceae extracts to silverleaf whitefly', '[SciELO Preprints] - Identification of pest insects, predators and phytopathogenic fungi of Cucurbita moschata Loche', 'A cochonilha no mundo luso-brasileiro: o manuscrito setecentista editado por Manuel Joaquim Henriques de Paiva', 'Insecticidal activity of plant extracts on Dysmicoccus brevipes in pineapple', 'Bruchine-Predated Seeds of Ipomoea nil (L.) Roth., A Cotton Crop Weed in Santiago Del Estero, Argentina', 'Impact of global warming on the distribution of Anastrepha grandis (Diptera: Tephritidae) in Brazil', 'Damage by the green-belly stink bug to corn', 'Biological aspects and feeding behavior of cotton aphid in watermelon cultivars submitted to silicon application', 'Diet of Phylloicus (Trichoptera: Calamoceratidae) caddisfly larvae in forest streams of western Pará, central Brazilian Amazonia', 'Performance of insecticides in control of Diatraea saccharalis (Lepidoptera: Crambidae) in sugarcane', 'Investigation of Chagas disease within the same family: case study', 'Ocorrência e análise de injúrias de Costalimaita ferruginea (Fabricius, 1801) (Coleoptera: Chrysomelidae) em clones de Eucalyptus em Alagoas', 'Effect of canopy cover on development of cedar (Cedrela fissilis) and aspects of damage caused by Hypsipyla grandella in agroforestry system', 'Compostos de esterco de galinha e de ovino melhoram a produtividade de plantas de cafeeiro sob um sistema de produção orgânica', 'Galling inducing insects associated with a tropical shrub: The role of resource concentration and species interactions', 'Entomofauna associated with Avena sativa in southern Mato Grosso do Sul, Brazil', 'Compared activity of agonist molecules towards ecdysone receptor in insect cell-based screening system', 'Silicon as resistance inducer in to control black aphid Aphis craccivora Koch, 1854 in Phaseolus lunatus lima beans', 'Preferences and demographic parameters of cowpea aphid on advanced lines of semiprostrate cowpea', 'Leptocybe invasa (HYMENOPTERA: EULOPHIDAE) ON Eucalyptus SEEDLINGS IN SANTA CATARINA STATE, BRAZIL', 'Integrated management of pine wilt disease in Troia', 'Insecticidal action of Drimys brasiliensis Miers on black citrus aphid', 'Occurrences of Ornithocoris toledoi (Cimicidae) on a free-range chicken farm in the state of Rio de Janeiro, Brazil', 'Toxicity of Cymbopogon flexuosus essential oil and citral for Spodoptera frugiperda', 'Structural and histochemical profile of Lopesia sp. Rübsaamen 1908 pinnula galls on Mimosa tenuiflora (Willd.) Poir. in a Caatinga environment', 'Population density of Tibraca limbativentris on flood irrigated rice and alternative host plants', 'EFICIÊNCIA DE Beauveria bassiana VUILL. E Isaria sp. PARA O CONTROLE DE Thaumastocoris peregrinus CARPINTERO & DELLAPÉ (HEMIPTERA: THAUMASTOCORIDAE)', 'Attractiveness, non-preference for feeding and oviposition to Ascia monuste orseis Godart (Lepidoptera: Pieridae) in collard greens', 'Potencial de desenvolvimento de Lasioderma serricorne (Fabricius, 1792) (Coleoptera: Anobiidae) em dietas contendo soja', 'ECOPHYSIOLOGICAL ANALYSIS OF Eucalyptus camaldulensis (DEHNH) SUBMITTED TO ATTACK FROM Thaumastocoris peregrinus (CARPINTERO & DELLAPE)', 'Mortality of Conotrachelus humeropictus in response to combined application of the nematode Steinernema brazilense and the fungus Beauveria bassiana', 'Trophic structure of the fish community throughout the reservoirs and tributaries of the Middle and Lower Tietê River (São Paulo, Brazil)', 'OCORRÊNCIA ESPONTÂNEA DE Beauveria bassiana (Bals. Criv.) Vuill. 1912 (ASCOMYCETES: CLAVICIPITACEAE) SOBRE Thaumastocoris peregrinus (HEMIPTERA: THAUMASTOCORIDAE)', 'First record of acerola weevil, Anthonomus tomentosus (Faust, 1894) (Coleoptera: Curculionidae), in Brazil', 'CHEMICAL COMPOSITION AND TOXICITY OF CITRUS ESSENTIAL OILS ON Dysmicoccus brevipes (HEMIPTERA: PSEUDOCOCCIDAE)', 'EFEITO DA COR DE ARMADILHAS ADESIVAS PARA MONITORAMENTO DE Thaumastocoris peregrinus CARPINTERO & DELLAPÉ (HEMIPTERA: THAUMASTOCORIDAE) NO CAMPO', 'Host-seeking behavior of the Heterorhabditis amazonensis nematode in response to stimulant sources1', 'ECONOMIC INJURY LEVEL OF CITRUS BLACK-FLY IN COMMERCIAL ‘PERA-RIO’ ORANGE AREA', 'Spatial and temporal distribution of gerrid (Heteroptera) and predation on microcrustaceans from a tropical shallow lake', 'BIOLOGIA DE Thaumastocoris peregrinus CARPINTERO E DELLAPÉ (HEMIPTERA: THAUMASTOCORIDAE) EM DEZ ESPÉCIES DE EUCALIPTO', 'Infection of silkworm larvae by the entomopathogenic fungus Metarhizium anisopliae', 'White grubs (Cyclocephala flavipennis) damaging perennial winter pastures in the South Region of Brazil', 'Predispersal infestation of Vochysia haenkeana seeds by Lius conicus', 'Populational fluctuation of lace bug in cassava', 'Toxicity of essential oils from leaves of Piperaceae species in rice stalk stink bug eggs, Tibraca limbativentris (Hemiptera: Pentatomidae)', 'Walking stability of Rhyzopertha dominica (Fabricius, 1792) (Coleoptera: Bostrichidae)', 'Primeiro registro do besouro-amarelo-do-eucalipto em plantio de eucalipto no Estado do Acre', 'Effect of the flavonoid rutin on the biology of Spodoptera frugiperda (Lepidoptera: Noctuidae)', 'Seleção de clones de braquiária para resistência à lagarta-do-cartucho', 'Mitochondrial markers to distinguish Spodoptera frugiperda populations associated with corn and cotton crops', 'Tratamento de sementes para manejo do percevejo-barriga-verde na cultura de soja e milho em sucessão', 'Pollination in the oil palms Elaeis guineensis, E. oleifera and their hybrids (OxG), in tropical America', 'Effects of environmental and architectural diversity of Caryocar brasiliense (Malpighiales: Caryocaraceae) on Edessa ruformaginata (Hemiptera: Pentatomidae) and its biology', 'Patogenicidade de Beauveria bassiana no controle in vitro da lagarta-da-espiga do milho (Helicoverpa zea)', 'Efficiency of inert mineral dusts in the control of corn weevil', 'Registro de Isogonoceraia divergipennis White & Hodkinson associado a Poincianella pluviosa (Fabaceae) em Mato Grosso, Brasil', 'OCURRENCE OF Revena plaumanni BONDAR, 1943 (Coleoptera: CURCULIONIDAE) IN PINDO PALM FRUIT', 'Trophic structure of macroinvertebrates in tropical pasture streams', 'Feeding resource partitioning between two understorey insectivorous birds in a fragment of Neotropical cloud forest', 'Plant vibration of american pepper cultivars for fruit production in protected environment with and without closed sides', 'Occurrence of insects causing injuries to the yacon crop'\",\n",
              " \" 'Instituições': ['Brazilian Journal of Biology', 'Brazilian Journal of Biology', 'Brazilian Journal of Biology', 'Brazilian Journal of Biology', 'Brazilian Journal of Biology', 'Brazilian Journal of Biology', 'Topoi (Rio de Janeiro)', 'Millenium - Journal of Education, Technologies, and Health', 'Ciência Florestal', 'Biota Neotropica', 'Pesquisa Agropecuária Brasileira', 'Revista Árvore', 'Iheringia. Série Zoologia', 'Acta Limnologica Brasiliensia', 'Pesquisa Agropecuária Tropical', 'Alfa: Revista de Linguística (São José do Rio Preto)', 'Biota Neotropica', 'Brazilian Journal of Nephrology', 'Revista Caatinga', 'Horticultura Brasileira', '', 'História, Ciências, Saúde-Manguinhos', 'Revista de Ciências Agrárias', 'Planta Daninha', 'Arquivos do Instituto Biológico', 'Pesquisa Agropecuária Brasileira', 'Arquivos do Instituto Biológico', 'Acta Limnologica Brasiliensia', 'Arquivos do Instituto Biológico', 'Jornal Brasileiro de Patologia e Medicina Laboratorial', 'Ciência Florestal', 'Ciência Florestal', 'Arnaldoa', 'Ecología austral', 'Arquivos do Instituto Biológico', 'Arquivos do Instituto Biológico', 'Arquivos do Instituto Biológico', 'Pesquisa Agropecuária Brasileira', 'Ciência Florestal', 'Revista de Ciências Agrárias', 'Revista Ciência Agronômica', 'Revista Brasileira de Parasitologia Veterinária', 'Ciência e Agrotecnologia', 'Hoehnea', 'Pesquisa Agropecuária Brasileira', 'Ciência Florestal', 'Arquivos do Instituto Biológico', 'Brazilian Journal of Food Technology', 'Revista Árvore', 'Arquivos do Instituto Biológico', 'Acta Limnologica Brasiliensia', 'Ciência Florestal', 'Brazilian Journal of Biology', 'Revista Caatinga', 'Ciência Florestal', 'Pesquisa Agropecuária Tropical', 'Revista Brasileira de Fruticultura', 'Brazilian Journal of Biology', 'Ciência Florestal', 'Ciência Rural', 'Ciência Rural', 'Ciência Rural', 'Arquivos do Instituto Biológico', 'Ciência e Agrotecnologia', 'Brazilian Journal of Biology', 'Revista Ceres', 'Acta Scientiarum. Agronomy', 'Pesquisa Agropecuária Brasileira', 'Pesquisa Agropecuária Brasileira', 'Pesquisa Agropecuária Brasileira', 'Pesquisa Agropecuária Tropical', 'Acta Scientiarum. Agronomy', 'Revista de Ciências Agrárias', 'Revista Brasileira de Engenharia Agrícola e Ambiental', 'Arquivos do Instituto Biológico', 'Revista Brasileira de Fruticultura', 'Acta Limnologica Brasiliensia', 'Brazilian Journal of Biology', 'Ciência Rural', 'Horticultura Brasileira'\",\n",
              " \" 'Autores': [['Souza, A. M.', 'Maciel, J. C.', 'Barroso, G. M.', 'Silva, R. S.', 'Garraffoni, A. R. S.', 'Neves, C. A.', 'Soares, M. A.', 'Santos, J. B.'\",\n",
              " \" ['Faustino, R.F.', 'Silva, C.A.D.', 'Zanuncio, J.C.', 'Pereira, J.R.', 'Pereira, A.I.A.'\",\n",
              " \" ['Monteiro, L. B.', 'Nishimura, G.', 'Monteiro, R. S.'\",\n",
              " \" ['Ribeiro, M. F.', 'Carvalho, V. R.', 'Favoreto, A. L.', 'De Marchi, B. R.', 'Jordan, C.', 'Zanuncio, J. C.', 'Soares, M. A.', 'Zanuncio, A. J. V.', 'Wilcken, C. F.'\",\n",
              " \" ['Leite, G. L. D.', 'Veloso, R. V. S.', 'Azevedo, A. M.', 'Almeida, C. I. Maia e', 'Soares, M. A.', 'Pereira, A. I. A.', 'Lemes, P. G.', 'Zanuncio, J. C.'\",\n",
              " \" ['Dutra, A. S.', 'Stauffert, D.', 'Bianchi, T. F.', 'Ribeiro, D. R. P.', 'Villela, M. M.'\",\n",
              " \" ['Correa, Sílvio Marcus de Souza'\",\n",
              " \" ['Cardoso, João', 'Almeida, Maria Teresa', 'Bento, Albino'\",\n",
              " \" ['Künast, Talita Benedcta Santos', 'Queiroz, Dalva Luiz de', 'Burckhardt, Daniel', 'Andrade, Ednaldo Antônio de', 'Barreto, Marliton Rocha'\",\n",
              " \" ['Queiroz, Camila Lorena Damasceno', 'De-Souza, Caroline Costa', 'Medeiros, Hermes Fonseca de', 'Overal, William Leslie', 'Viana-Junior, Arleu Barbosa', 'Carvalho-Filho, Fernando da Silva'\",\n",
              " \" ['Silva, Carlos Alberto Domingues da', 'Galdino, Josivaldo da Silva', 'Carvalho, Thiele da Silva', 'Zanuncio, José Cola'\",\n",
              " \" ['Botelho, Juliana Formiga', 'Queiroz, Ruan Sobreira de', 'Anjos, Marcelo Rodrigues dos', 'Souza, Moisés Santos de'\",\n",
              " \" ['Moreno, Carolina', 'Barbosa, Letícia L.', 'Lima, Lorena S.', 'Ferro, Viviane G.'\",\n",
              " \" ['Silva, Yuri Kataoka', 'Moser, Anderson de Souza', 'Ceneviva-Bastos, Mônica', 'Affonso, Ana Lucia Suriani'\",\n",
              " \" ['Restelatto, Samanta Souza', 'Wille, Paulo Eduardo', 'Buss, Nayara', 'Wille, Cleiton Luis', 'Boff, Mari Inês Carissimi', 'Contini, Rafael Ermenegildo', 'Franco, Cláudio Roberto'\",\n",
              " \" ['AGUILERA, Vanderci de Andrade', 'SILVA, Helen Cristina da'\",\n",
              " \" ['Cintra, Fernanda C. F.', 'Maia, Valéria C.', 'Urso-Guimarães, Maria V.', 'Araújo, Walter S. de', 'Carneiro, Marco A. A.', 'Venâncio, Henrique', 'Almeida, Wanessa R. de', 'Santos, Jean C.'\",\n",
              " \" ['Junqueira, Vânia', 'Donato, Beatriz', 'Teixeira, Catarina', 'Mascarenhas, Maria Isabel', 'Silva, Isabel Costa', 'Almeida, Edgar'\",\n",
              " \" ['ROHDE, CRISTHIANE', 'MERTZ, NATÁLIA RAMOS', 'JUNIOR, ALCIDES MOINO'\",\n",
              " \" ['Baldin, Edson Luiz Lopes', 'Schlick-Souza, Eunice Cláudia', 'Soares, Muriel Cicatti Emanoeli', 'Lopes, Norberto Peporine', 'Lopes, João Luis Callegari', 'Bogorni, Paulo César', 'Vendramim, José Djair'\",\n",
              " \" ['Esquen-Bayona , Damaris', 'Arias , Carmen Patricia Calderon'\",\n",
              " \" ['Santos, Clara Braz dos', 'Pereira, Milena da Silveira'\",\n",
              " \" ['Lira, Josélia A.', 'Pereira, Rosane R. da C.', 'Costa, Leidiane de O.', 'Nogueira, Rayele C. C.', 'Pereira, Carlos E.'\",\n",
              " \" ['HELMAN, S.', 'SOBRERO, M.T.', 'RAÑA, E.'\",\n",
              " \" ['Lisbôa, Heitor', 'Grutzmacher, Anderson Dionei', 'Wrege, Marcos Silveira', 'Garcia, Flávio Roberto Mello', 'Nava, Dori Edson'\",\n",
              " \" ['Fernandes, Paulo Henrique Ramos', 'Ávila, Crébio José', 'Silva, Ivana Fernandes da', 'Zulin, Daniele'\",\n",
              " \" ['Pereira, Rosane Rodrigues da Costa', 'Barbosa, Roneres Deniz', 'Ferreira, Luciana Diniz', 'Silva, Douglas Marcelo Pinheiro da', 'Zaché, Ronelza Rodrigues da Costa', 'Pereira, Carlos Eduardo'\",\n",
              " \" ['Pimentel, Diego Ramos', 'Couceiro, Sheyla Regina Marques', 'Salcedo, Ana Karina Moreyra'\",\n",
              " \" ['Silva, Marcelo Feitosa da', 'Funichello, Marina', 'Souza, Diego Miranda de'\",\n",
              " \" ['Takamiya, Nayore Tamie', 'Costa, Erika Alessandra P. N.', 'Lucheis, Simone B.', 'Santos, Rodrigo M.'\",\n",
              " \" ['Xavier, Maria Eugênia Vieira', 'Breda, Mariana Oliveira', 'Gonzaga, Elmadã Pereira', 'Santos, Djison Silvestre dos', 'Costa, João Gomes da'\",\n",
              " \" ['Borges, Rafael', 'Boff, Mari Inês Carissimi', 'Mantovani, Adelar', 'Biscaro-Borges, Camila', 'Blassioli-Moraes, Maria Carolina'\",\n",
              " \" ['Rocca Jara, Quemin', 'Julca Otiniano, Alberto', 'Cuti Tapia, Rosa', 'Alvarado Huamán, Leonel', 'Castro Cépero, Viviana', 'Borjas Ventura, Ricardo'\",\n",
              " \" ['Fagundes, Marcilio', 'Barbosa, Elizete M', 'Oliveira, Jefferson B. B. S', 'Brito, Betânia G. S', 'Freitas, Kamila T', 'Freitas, Kleiperry F', 'Reis-Junior, Ronaldo'\",\n",
              " \" ['Silva, Rafael Azevedo da', 'Degrande, Paulo', 'Souza, Ellen Patricia de', 'Carducci, Carlos Eduardo', 'Leal, Matheus Fuchs', 'Pereira, Matheus Dalla Cort'\",\n",
              " \" ['Pinto, Ciro Pedro Guidotti', 'Rickes, Letícia Neutzling', 'Zotti, Moisés João', 'Grutzmacher, Anderson Dionei'\",\n",
              " \" ['Fortes Portela, Gilson Lages', 'Ramalho Silva, Paulo Roberto', 'Girão Filho, José Edmir', 'de Moura Pádua, Luiz Evaldo', 'de Melo Júnior, Luiz Carlos'\",\n",
              " \" ['Silva, Leandro Carvalho da', 'Nere, Daniel Rodrigues', 'Bleicher, Ervino', 'Tavares, Eraldo José Madureira', 'Barbosa, Antônio Vinícius Correa'\",\n",
              " \" ['Barbosa, Leonardo Rodrigues', 'Rodrigues, Angelo Peruffo', 'Souza, Amanda Rodrigues de', 'Puretz, Barbara de Oliveira', 'Wilcken, Carlos Frederico', 'Zanuncio, José Cola'\",\n",
              " \" ['Naves, Pedro', 'Bonifácio, Luís', 'Inácio, Maria Lurdes', 'Sousa, Edmundo'\",\n",
              " \" ['Anese, Simoni', 'Gambarra, Wanessa Porto Tito', 'Grisi, Patrícia Umeda', 'Gualtieri, Sonia Cristina Juliano'\",\n",
              " \" ['Pires, Marcus Sandes', 'Luz, Hermes Ribeiro', 'Peckle, Maristela', 'Silva, Claudia Bezerra da', 'Vitari, Gabriela Lopes Vivas', 'Costa, Renata Lins da', 'Graciosa, Mariana Guimarães', 'Santos, Huarrisson Azevedo', 'Faccini, João Luiz Horacio', 'Massard, Carlos Luiz'\",\n",
              " \" ['Oliveira, Ellison Rosario de', 'Alves, Dejane Santos', 'Carvalho, Geraldo Andrade', 'Oliveira, Bárbara Maria Ribeiro Guimarães de', 'Aazza, Smail', 'Bertolucci, Suzan Kelly Vilela'\",\n",
              " \" ['Nogueira, Ravena Malheiros', 'Costa, Elaine Cotrim', 'Silva, Juliana Santos', 'Isaias, Rosy Mary dos Santos'\",\n",
              " \" ['Pasini, Mauricio Paulo Batistella', 'Lúcio, Alessandro Dal’Col', 'Cargnelutti Filho, Alberto', 'Ribeiro, Ana Lúcia de Paula', 'Zamberlan, João Fernando', 'Lopes, Sidinei José'\",\n",
              " \" ['Lorencetti, Grasielle Adriane Toscan', 'Potrich, Michele', 'Mazaro, Sergio Miguel', 'Lozano, Everton Ricardi', 'Barbosa, Leonardo Rodrigues', 'Menezes, Marta Juliana Schmatz', 'Gonçalves, Thiago Evandro'\",\n",
              " \" ['Nogueira, Luciano', 'Almeida, André Cirilo de Sousa', 'Freitas, Marcelo Mueller de', 'Ribeiro, Zulene Antonio', 'Boiça Junior, Arlindo Leal', 'Jesus, Flávio Gonçalves de'\",\n",
              " \" ['Ferri, Glaucia Cristina', 'Lorini, Irineu', 'Ventura, Mauricio Ursi'\",\n",
              " \" ['Almeida, Kamilla Emmanuelle Carvalho de', 'Silva, Junia Grazielle Soares da', 'Silva, Inaê Mariê de Araujo', 'Costa, Alisson Lucrecio da', 'Laia, Marcelo Luiz de'\",\n",
              " \" ['Simi, Lucas Detogni', 'Leite, Luís Garrigós', 'Trevisan, Olzeno', 'Costa, José Nilton Medeiros', 'Oliveira, Leandro Ezequiel', 'Schmidt, Fabio Silber', 'Bueno, Roselaine Nunes da Silva', 'Batista Filho, Antonio'\",\n",
              " \" ['Smith, Welber Senteio', 'Pereira, Camila Galvão Francisco', 'Espindola, Evaldo Luiz Gaeta', 'Rocha, Odete'\",\n",
              " \" ['Lorencetti, Grasielle Adriane Toscan', 'Potrich, Michele', 'Mazaro, Sérgio Miguel', 'Lozano, Everton Ricardi', 'Gonçalves, Thiago Evandro', 'Dallacort, Sidinei'\",\n",
              " \" ['Marsaro Júnior, A. L.', 'Pereira, P. R. V. S.', 'Rosado-Neto, G. H.', 'Morais, E. G. F.'\",\n",
              " \" ['MARTINS, GISELE DOS SANTOS OLIVEIRA', 'ZAGO, HUGO BOLSONI', 'COSTA, ADILSON VIDAL', 'ARAUJO JUNIOR, LUIS MOREIRA DE', 'CARVALHO, JOSÉ ROMÁRIO DE'\",\n",
              " \" ['Smaniotto, Márcia Aparecida', 'Cunha, Uemerson Silva da', 'Finkenauer, Elder', 'Garcia, Mauro Silveira'\",\n",
              " \" ['Andaló, Vanessa', 'Moreira, Grazielle Furtado', 'Moino Junior, Alcides'\",\n",
              " \" ['LIMA, BRUNO GONÇALVES', 'FARIAS, PAULO ROBERTO SILVA', 'RAMOS, EDSON MARCOS LEAL SOARES', 'SALES, TIAGO DE MELO', 'SILVA, ANDERSON GONÇALVES DA'\",\n",
              " \" ['Domingos, A. R.', 'Arcifa, M. S.'\",\n",
              " \" ['Smaniotto, Márcia Aparecida', 'Silva, Alexandre da', 'Cunha, Uemerson Silva da', 'Garcia, Mauro Silveira'\",\n",
              " \" ['Ribeiro, Lucineia de Fátima Chasko', 'Tavares, Jeronimo', 'Silva, Sóstenez Alexandre Vessaro', 'Alvez, Luis Francisco Angeli', 'Loth, Eduardo Alexandre', 'Brancalhão, Rose Meire Costa'\",\n",
              " \" ['Duchini, Paulo Gonçalves', 'Echeverria, Joilson Roda', 'Américo, Luana Fidelis', 'Guzatti, Gabriela Cristina', 'Cherman, Mariana Alejandra', 'Sbrissia, André Fischer'\",\n",
              " \" ['Lourenço, Samara Letícia Oliveira', 'Luiz, Marcelo Felix', 'Jesus, Flávio Gonçalves de', 'Carvalho, Daniel Diego Costa', 'Hornburg, Michael', 'Araújo, Márcio da Silva'\",\n",
              " \" ['Bellon, Patrícia Paula', 'Oliveira, Harley Nonato de', 'Loureiro, Elisângela de Souza', 'Santana, Danilo Renato Santiago', 'Otsubo, Auro Akio', 'Mota, Thiago Alexandre'\",\n",
              " \" ['Krinski, Diones', 'Foerster, Luís Amilton'\",\n",
              " \" ['Pires, E. M.', 'Nogueira, R. M.', 'Pina, D. S.', 'Manica, C. L. M.', 'Faroni, L. R. A.', 'Moreira, P. S. A.'\",\n",
              " \" ['Santos, Rodrigo Souza', 'Gonçalves, Roberto', 'Silva, Norivaldo dos Anjos'\",\n",
              " \" ['Silva, Talita Roberta Ferreira Borges', 'Almeida, André Cirilo de Sousa', 'Moura, Tony de Lima', 'Silva, Anderson Rodrigo da', 'Freitas, Silvia de Sousa', 'Jesus, Flávio Gonçalves'\",\n",
              " \" ['Auad, Alexander Machado', 'Souza Sobrinho, Fausto', 'Mendes, Simone Martins', 'Toledo, Antônio Marcos Oliveira', 'Lucindo, Thiago de Souza', 'Benites, Flavio Rodrigo Gantolfi'\",\n",
              " \" ['Queiroz, Paulo Roberto', 'Ramiro, Carolina Almeida', 'Martins, Érica Soares', 'Soberón, Mário', 'Bravo, Alejandra', 'Monnerat, Rose Gomes'\",\n",
              " \" ['Chiesa, Ana Carolina Montenegro', 'Sismeiro, Mariana Nunes dos Santos', 'Pasini, Amarildo', 'Roggia, Samuel'\",\n",
              " \" ['Meléndez, María Raquel', 'Ponce, William Patricio'\",\n",
              " \" ['Leite, Germano Leão Demolin', 'Lopes, Paulo Sérgio Nascimento', 'Zanuncio, José Cola', 'Martins, Cristina de Paula Santos', 'Moreira, Thiago Marçal Borges', 'Costa, Renildo Ismael Félix da'\",\n",
              " \" ['Zambiazzi, Everton Vinicius', 'Guilherme, Scheila R.', 'Corassa, Janaina de N.', 'Bonaldo, Solange M.', 'Zuffo, Alan M.', 'Soares, Igor O.', 'Oliveira, Danyela de C. da S.'\",\n",
              " \" ['Jairoce, Carlos F.', 'Teixeira, Cristiano M.', 'Nunes, Adrise M.', 'Holdefer, Daniela R.', 'Krüger, Alexandra P.', 'Garcia, Flávio R. M.'\",\n",
              " \" ['Mazzardo, Tatiana', 'Barreto, Marliton Rocha', 'Pezzini, Leonir Antunes', 'Sedano, Alisson Diego Bassoli', 'Burckhardt, Daniel', 'Queiroz, Dalva Luiz de'\",\n",
              " \" ['TONIETTO, ADILSON', 'SCHLINDWEIN, GILSON'\",\n",
              " \" ['Silveira-Manzotti, Bruna Neves da', 'Manzotti, Angelo Rodrigo', 'Ceneviva-Bastos, Mônica', 'Casatti, Lilian'\",\n",
              " \" ['Manhães, M. A.', 'Dias, M. M.', 'Lima, A. L. C.'\",\n",
              " \" ['Freitas, Pâmela Gomes Nakada', 'Magro, Felipe Oliveira', 'Claudio, Marina de Toledo Rodrigues', 'Tavares, Ana Emília Barbosa', 'Cardoso, Antonio Ismael Inácio', 'Lanna, Natália de Brito Lima'\",\n",
              " \" ['Silva, Diego MN', 'Oliveira, Fábio L', 'Dalvi, Leandro P', 'Pratissoli, Dirceu', 'Erlacher, Wellington A', 'Quaresma, Mateus AL']\",\n",
              " \" 'Ano': [2024, 2023, 2023, 2022, 2022, 2021, 2021, 2021, 2021, 2021, 2021, 2021, 2021, 2021, 2021, 2021, 2021, 2020, 2020, 2020, nan, 2020, 2020, 2020, 2020, 2020, 2020, 2020, 2020, 2019, 2019, 2019, 2019, 2019, 2019, 2019, 2019, 2019, 2018, 2018, 2018, 2018, 2018, 2018, 2018, 2018, 2018, 2018, 2018, 2018, 2018, 2017, 2017, 2017, 2017, 2017, 2017, 2017, 2017, 2017, 2017, 2017, 2017, 2016, 2016, 2016, 2016, 2016, 2016, 2016, 2016, 2016, 2016, 2016, 2016, 2016, 2016, 2015, 2015, 2015\",\n",
              " \" 'Volume': [84, 83, 83, 82, 82, 81, 22, 14, 31, 21, 56, 45, 111, 33, 51, 65, 21, 42, 33, 38, nan, 27, 43, 38, 87, 55, 87, 32, 87, 55, 29, 29, 26, 29, 86, 86, 86, 54, 28, 41, 49, 27, 42, 45, 53, 28, 85, 21, 42, 85, 30, 27, 77, 30, 27, 47, 39, 77, 27, 47, 47, 47, 84, 40, 76, 63, 38, 51, 51, 51, 46, 38, 39, 20, 83, 38, 28, 75, 45, 33\",\n",
              " \" 'Links': ['http://www.scielo.br/scielo.php?script=sci_arttext&pid=S1519-69842024000100105&lang=pt', 'http://www.scielo.br/scielo.php?script=sci_arttext&pid=S1519-69842023000100260&lang=pt', 'http://www.scielo.br/scielo.php?script=sci_arttext&pid=S1519-69842023000100286&lang=pt', 'http://www.scielo.br/scielo.php?script=sci_arttext&pid=S1519-69842022000100119&lang=pt', 'http://www.scielo.br/scielo.php?script=sci_arttext&pid=S1519-69842022000100159&lang=pt', 'http://www.scielo.br/scielo.php?script=sci_arttext&pid=S1519-69842021000400867&lang=pt', 'http://www.scielo.br/scielo.php?script=sci_arttext&pid=S2237-101X2021000300814&lang=pt', 'http://www.scielo.pt/scielo.php?script=sci_arttext&pid=S0873-30152021000100091&lang=pt', 'http://www.scielo.br/scielo.php?script=sci_arttext&pid=S1980-50982021000100440&lang=pt', 'http://www.scielo.br/scielo.php?script=sci_arttext&pid=S1676-06032021000100302&lang=pt', 'http://www.scielo.br/scielo.php?script=sci_arttext&pid=S0100-204X2021000102001&lang=pt', 'http://www.scielo.br/scielo.php?script=sci_arttext&pid=S0100-67622021000100223&lang=pt', 'http://www.scielo.br/scielo.php?script=sci_arttext&pid=S0073-47212021000100218&lang=pt', 'http://www.scielo.br/scielo.php?script=sci_arttext&pid=S2179-975X2021000100803&lang=pt', 'http://www.scielo.br/scielo.php?script=sci_arttext&pid=S1983-40632021000100223&lang=pt', 'http://www.scielo.br/scielo.php?script=sci_arttext&pid=S1981-57942021000100246&lang=pt', 'http://www.scielo.br/scielo.php?script=sci_arttext&pid=S1676-06032021000400207&lang=pt', 'http://www.scielo.br/scielo.php?script=sci_arttext&pid=S0101-28002020000400498&lang=pt', 'http://www.scielo.br/scielo.php?script=sci_arttext&pid=S1983-21252020000400974&lang=pt', 'http://www.scielo.br/scielo.php?script=sci_arttext&pid=S0102-05362020000300280&lang=pt', 'https://preprints.scielo.org/index.php/scielo/preprint/view/673', 'http://www.scielo.br/scielo.php?script=sci_arttext&pid=S0104-59702020000100275&lang=pt', 'http://www.scielo.pt/scielo.php?script=sci_arttext&pid=S0871-018X2020000100175&lang=pt', 'http://www.scielo.br/scielo.php?script=sci_arttext&pid=S0100-83582020000100225&lang=pt', 'http://www.scielo.br/scielo.php?script=sci_arttext&pid=S1808-16572020000100201&lang=pt', 'http://www.scielo.br/scielo.php?script=sci_arttext&pid=S0100-204X2020000102000&lang=pt', 'http://www.scielo.br/scielo.php?script=sci_arttext&pid=S1808-16572020000100229&lang=pt', 'http://www.scielo.br/scielo.php?script=sci_arttext&pid=S2179-975X2020000100509&lang=pt', 'http://www.scielo.br/scielo.php?script=sci_arttext&pid=S1808-16572020000100224&lang=pt', 'http://www.scielo.br/scielo.php?script=sci_arttext&pid=S1676-24442019000600693&lang=pt', 'http://www.scielo.br/scielo.php?script=sci_arttext&pid=S1980-50982019000301452&lang=pt', 'http://www.scielo.br/scielo.php?script=sci_arttext&pid=S1980-50982019000301324&lang=pt', 'http://www.scielo.org.pe/scielo.php?script=sci_arttext&pid=S2413-32992019000200015&lang=pt', 'http://www.scielo.org.ar/scielo.php?script=sci_arttext&pid=S1667-782X2019000100002&lang=pt', 'http://www.scielo.br/scielo.php?script=sci_arttext&pid=S1808-16572019000100229&lang=pt', 'http://www.scielo.br/scielo.php?script=sci_arttext&pid=S1808-16572019000100409&lang=pt', 'http://www.scielo.br/scielo.php?script=sci_arttext&pid=S1808-16572019000100238&lang=pt', 'http://www.scielo.br/scielo.php?script=sci_arttext&pid=S0100-204X2019000101901&lang=pt', 'http://www.scielo.br/scielo.php?script=sci_arttext&pid=S1980-50982018000401770&lang=pt', 'http://www.scielo.pt/scielo.php?script=sci_arttext&pid=S0871-018X2018000500002&lang=pt', 'http://www.scielo.br/scielo.php?script=sci_arttext&pid=S1806-66902018000300484&lang=pt', 'http://www.scielo.br/scielo.php?script=sci_arttext&pid=S1984-29612018000300396&lang=pt', 'http://www.scielo.br/scielo.php?script=sci_arttext&pid=S1413-70542018000400408&lang=pt', 'http://www.scielo.br/scielo.php?script=sci_arttext&pid=S2236-89062018000200314&lang=pt', 'http://www.scielo.br/scielo.php?script=sci_arttext&pid=S0100-204X2018000300265&lang=pt', 'http://www.scielo.br/scielo.php?script=sci_arttext&pid=S1980-50982018000100403&lang=pt', 'http://www.scielo.br/scielo.php?script=sci_arttext&pid=S1808-16572018000100221&lang=pt', 'http://www.scielo.br/scielo.php?script=sci_arttext&pid=S1981-67232018000100420&lang=pt', 'http://www.scielo.br/scielo.php?script=sci_arttext&pid=S0100-67622018000100218&lang=pt', 'http://www.scielo.br/scielo.php?script=sci_arttext&pid=S1808-16572018000100207&lang=pt', 'http://www.scielo.br/scielo.php?script=sci_arttext&pid=S2179-975X2018000101003&lang=pt', 'http://www.scielo.br/scielo.php?script=sci_arttext&pid=S1980-50982017000401403&lang=pt', 'http://www.scielo.br/scielo.php?script=sci_arttext&pid=S1519-69842017000400803&lang=pt', 'http://www.scielo.br/scielo.php?script=sci_arttext&pid=S1983-21252017000300811&lang=pt', 'http://www.scielo.br/scielo.php?script=sci_arttext&pid=S1980-50982017000300799&lang=pt', 'http://www.scielo.br/scielo.php?script=sci_arttext&pid=S1983-40632017000300265&lang=pt', 'http://www.scielo.br/scielo.php?script=sci_arttext&pid=S0100-29452017000300401&lang=pt', 'http://www.scielo.br/scielo.php?script=sci_arttext&pid=S1519-69842017000200289&lang=pt', 'http://www.scielo.br/scielo.php?script=sci_arttext&pid=S1980-50982017000200679&lang=pt', 'http://www.scielo.br/scielo.php?script=sci_arttext&pid=S0103-84782017000400151&lang=pt', 'http://www.scielo.br/scielo.php?script=sci_arttext&pid=S0103-84782017000500153&lang=pt', 'http://www.scielo.br/scielo.php?script=sci_arttext&pid=S0103-84782017000900153&lang=pt', 'http://www.scielo.br/scielo.php?script=sci_arttext&pid=S1808-16572017000100225&lang=pt', 'http://www.scielo.br/scielo.php?script=sci_arttext&pid=S1413-70542016000600676&lang=pt', 'http://www.scielo.br/scielo.php?script=sci_arttext&pid=S1519-69842016000300568&lang=pt', 'http://www.scielo.br/scielo.php?script=sci_arttext&pid=S0034-737X2016000400584&lang=pt', 'http://www.scielo.br/scielo.php?script=sci_arttext&pid=S1807-86212016000200165&lang=pt', 'http://www.scielo.br/scielo.php?script=sci_arttext&pid=S0100-204X2016000500579&lang=pt', 'http://www.scielo.br/scielo.php?script=sci_arttext&pid=S0100-204X2016000500692&lang=pt', 'http://www.scielo.br/scielo.php?script=sci_arttext&pid=S0100-204X2016000400301&lang=pt', 'http://www.scielo.br/scielo.php?script=sci_arttext&pid=S1983-40632016000100102&lang=pt', 'http://www.scielo.br/scielo.php?script=sci_arttext&pid=S1807-86212016000100019&lang=pt', 'http://www.scielo.pt/scielo.php?script=sci_arttext&pid=S0871-018X2016000100010&lang=pt', 'http://www.scielo.br/scielo.php?script=sci_arttext&pid=S1415-43662016000200158&lang=pt', 'http://www.scielo.br/scielo.php?script=sci_arttext&pid=S1808-16572016000100301&lang=pt', 'http://www.scielo.br/scielo.php?script=sci_arttext&pid=S0100-29452016000300404&lang=pt', 'http://www.scielo.br/scielo.php?script=sci_arttext&pid=S2179-975X2016000100312&lang=pt', 'http://www.scielo.br/scielo.php?script=sci_arttext&pid=S1519-69842015000800176&lang=pt', 'http://www.scielo.br/scielo.php?script=sci_arttext&pid=S0103-84782015001101959&lang=pt', 'http://www.scielo.br/scielo.php?script=sci_arttext&pid=S0102-05362015000300394&lang=pt']}\"]"
            ]
          },
          "metadata": {},
          "execution_count": 197
        }
      ],
      "source": [
        "str(fonte).split('],')"
      ]
    },
    {
      "cell_type": "markdown",
      "metadata": {
        "id": "6UAiJ4WDJgmQ"
      },
      "source": [
        "# DataFrame:\n",
        "\n"
      ]
    },
    {
      "cell_type": "code",
      "execution_count": null,
      "metadata": {
        "id": "jMVymILDFFcs"
      },
      "outputs": [],
      "source": [
        "df = pd.DataFrame(fonte) # Instanciação do dataFrame para organização e armazenamento dos dados"
      ]
    },
    {
      "cell_type": "code",
      "execution_count": null,
      "metadata": {
        "id": "DGGMdvB3GDsT",
        "colab": {
          "base_uri": "https://localhost:8080/",
          "height": 780
        },
        "outputId": "2c9c8a4b-f75e-4cca-d24b-7e37f1c9a5c6"
      },
      "outputs": [
        {
          "output_type": "execute_result",
          "data": {
            "text/html": [
              "\n",
              "  <div id=\"df-5ad2eeed-27ac-4477-bdd9-4388e8e8e331\">\n",
              "    <div class=\"colab-df-container\">\n",
              "      <div>\n",
              "<style scoped>\n",
              "    .dataframe tbody tr th:only-of-type {\n",
              "        vertical-align: middle;\n",
              "    }\n",
              "\n",
              "    .dataframe tbody tr th {\n",
              "        vertical-align: top;\n",
              "    }\n",
              "\n",
              "    .dataframe thead th {\n",
              "        text-align: right;\n",
              "    }\n",
              "</style>\n",
              "<table border=\"1\" class=\"dataframe\">\n",
              "  <thead>\n",
              "    <tr style=\"text-align: right;\">\n",
              "      <th></th>\n",
              "      <th>Unnamed: 0</th>\n",
              "      <th>Titulos</th>\n",
              "      <th>Instituições</th>\n",
              "      <th>Autores</th>\n",
              "      <th>Ano</th>\n",
              "      <th>Volume</th>\n",
              "      <th>Links</th>\n",
              "    </tr>\n",
              "  </thead>\n",
              "  <tbody>\n",
              "    <tr>\n",
              "      <th>0</th>\n",
              "      <td>0</td>\n",
              "      <td>Ecotoxicological effects of commercial herbici...</td>\n",
              "      <td>Brazilian Journal of Biology</td>\n",
              "      <td>['Souza, A. M.', 'Maciel, J. C.', 'Barroso, G....</td>\n",
              "      <td>2024.0</td>\n",
              "      <td>84.0</td>\n",
              "      <td>http://www.scielo.br/scielo.php?script=sci_art...</td>\n",
              "    </tr>\n",
              "    <tr>\n",
              "      <th>1</th>\n",
              "      <td>1</td>\n",
              "      <td>Mortality of the cotton boll weevil in drip an...</td>\n",
              "      <td>Brazilian Journal of Biology</td>\n",
              "      <td>['Faustino, R.F.', 'Silva, C.A.D.', 'Zanuncio,...</td>\n",
              "      <td>2023.0</td>\n",
              "      <td>83.0</td>\n",
              "      <td>http://www.scielo.br/scielo.php?script=sci_art...</td>\n",
              "    </tr>\n",
              "    <tr>\n",
              "      <th>2</th>\n",
              "      <td>2</td>\n",
              "      <td>Natural parasitism in fruit fly (Diptera: Teph...</td>\n",
              "      <td>Brazilian Journal of Biology</td>\n",
              "      <td>['Monteiro, L. B.', 'Nishimura, G.', 'Monteiro...</td>\n",
              "      <td>2023.0</td>\n",
              "      <td>83.0</td>\n",
              "      <td>http://www.scielo.br/scielo.php?script=sci_art...</td>\n",
              "    </tr>\n",
              "    <tr>\n",
              "      <th>3</th>\n",
              "      <td>3</td>\n",
              "      <td>Yersinia massiliensis (Enterobacteriales: Ente...</td>\n",
              "      <td>Brazilian Journal of Biology</td>\n",
              "      <td>['Ribeiro, M. F.', 'Carvalho, V. R.', 'Favoret...</td>\n",
              "      <td>2022.0</td>\n",
              "      <td>82.0</td>\n",
              "      <td>http://www.scielo.br/scielo.php?script=sci_art...</td>\n",
              "    </tr>\n",
              "    <tr>\n",
              "      <th>4</th>\n",
              "      <td>4</td>\n",
              "      <td>Distribution of galling insects and their para...</td>\n",
              "      <td>Brazilian Journal of Biology</td>\n",
              "      <td>['Leite, G. L. D.', 'Veloso, R. V. S.', 'Azeve...</td>\n",
              "      <td>2022.0</td>\n",
              "      <td>82.0</td>\n",
              "      <td>http://www.scielo.br/scielo.php?script=sci_art...</td>\n",
              "    </tr>\n",
              "    <tr>\n",
              "      <th>...</th>\n",
              "      <td>...</td>\n",
              "      <td>...</td>\n",
              "      <td>...</td>\n",
              "      <td>...</td>\n",
              "      <td>...</td>\n",
              "      <td>...</td>\n",
              "      <td>...</td>\n",
              "    </tr>\n",
              "    <tr>\n",
              "      <th>75</th>\n",
              "      <td>75</td>\n",
              "      <td>OCURRENCE OF Revena plaumanni BONDAR, 1943 (Co...</td>\n",
              "      <td>Revista Brasileira de Fruticultura</td>\n",
              "      <td>['TONIETTO, ADILSON', 'SCHLINDWEIN, GILSON']</td>\n",
              "      <td>2016.0</td>\n",
              "      <td>38.0</td>\n",
              "      <td>http://www.scielo.br/scielo.php?script=sci_art...</td>\n",
              "    </tr>\n",
              "    <tr>\n",
              "      <th>76</th>\n",
              "      <td>76</td>\n",
              "      <td>Trophic structure of macroinvertebrates in tro...</td>\n",
              "      <td>Acta Limnologica Brasiliensia</td>\n",
              "      <td>['Silveira-Manzotti, Bruna Neves da', 'Manzott...</td>\n",
              "      <td>2016.0</td>\n",
              "      <td>28.0</td>\n",
              "      <td>http://www.scielo.br/scielo.php?script=sci_art...</td>\n",
              "    </tr>\n",
              "    <tr>\n",
              "      <th>77</th>\n",
              "      <td>77</td>\n",
              "      <td>Feeding resource partitioning between two unde...</td>\n",
              "      <td>Brazilian Journal of Biology</td>\n",
              "      <td>['Manhães, M. A.', 'Dias, M. M.', 'Lima, A. L....</td>\n",
              "      <td>2015.0</td>\n",
              "      <td>75.0</td>\n",
              "      <td>http://www.scielo.br/scielo.php?script=sci_art...</td>\n",
              "    </tr>\n",
              "    <tr>\n",
              "      <th>78</th>\n",
              "      <td>78</td>\n",
              "      <td>Plant vibration of american pepper cultivars f...</td>\n",
              "      <td>Ciência Rural</td>\n",
              "      <td>['Freitas, Pâmela Gomes Nakada', 'Magro, Felip...</td>\n",
              "      <td>2015.0</td>\n",
              "      <td>45.0</td>\n",
              "      <td>http://www.scielo.br/scielo.php?script=sci_art...</td>\n",
              "    </tr>\n",
              "    <tr>\n",
              "      <th>79</th>\n",
              "      <td>79</td>\n",
              "      <td>Occurrence of insects causing injuries to the ...</td>\n",
              "      <td>Horticultura Brasileira</td>\n",
              "      <td>['Silva, Diego MN', 'Oliveira, Fábio L', 'Dalv...</td>\n",
              "      <td>2015.0</td>\n",
              "      <td>33.0</td>\n",
              "      <td>http://www.scielo.br/scielo.php?script=sci_art...</td>\n",
              "    </tr>\n",
              "  </tbody>\n",
              "</table>\n",
              "<p>80 rows × 7 columns</p>\n",
              "</div>\n",
              "      <button class=\"colab-df-convert\" onclick=\"convertToInteractive('df-5ad2eeed-27ac-4477-bdd9-4388e8e8e331')\"\n",
              "              title=\"Convert this dataframe to an interactive table.\"\n",
              "              style=\"display:none;\">\n",
              "        \n",
              "  <svg xmlns=\"http://www.w3.org/2000/svg\" height=\"24px\"viewBox=\"0 0 24 24\"\n",
              "       width=\"24px\">\n",
              "    <path d=\"M0 0h24v24H0V0z\" fill=\"none\"/>\n",
              "    <path d=\"M18.56 5.44l.94 2.06.94-2.06 2.06-.94-2.06-.94-.94-2.06-.94 2.06-2.06.94zm-11 1L8.5 8.5l.94-2.06 2.06-.94-2.06-.94L8.5 2.5l-.94 2.06-2.06.94zm10 10l.94 2.06.94-2.06 2.06-.94-2.06-.94-.94-2.06-.94 2.06-2.06.94z\"/><path d=\"M17.41 7.96l-1.37-1.37c-.4-.4-.92-.59-1.43-.59-.52 0-1.04.2-1.43.59L10.3 9.45l-7.72 7.72c-.78.78-.78 2.05 0 2.83L4 21.41c.39.39.9.59 1.41.59.51 0 1.02-.2 1.41-.59l7.78-7.78 2.81-2.81c.8-.78.8-2.07 0-2.86zM5.41 20L4 18.59l7.72-7.72 1.47 1.35L5.41 20z\"/>\n",
              "  </svg>\n",
              "      </button>\n",
              "      \n",
              "  <style>\n",
              "    .colab-df-container {\n",
              "      display:flex;\n",
              "      flex-wrap:wrap;\n",
              "      gap: 12px;\n",
              "    }\n",
              "\n",
              "    .colab-df-convert {\n",
              "      background-color: #E8F0FE;\n",
              "      border: none;\n",
              "      border-radius: 50%;\n",
              "      cursor: pointer;\n",
              "      display: none;\n",
              "      fill: #1967D2;\n",
              "      height: 32px;\n",
              "      padding: 0 0 0 0;\n",
              "      width: 32px;\n",
              "    }\n",
              "\n",
              "    .colab-df-convert:hover {\n",
              "      background-color: #E2EBFA;\n",
              "      box-shadow: 0px 1px 2px rgba(60, 64, 67, 0.3), 0px 1px 3px 1px rgba(60, 64, 67, 0.15);\n",
              "      fill: #174EA6;\n",
              "    }\n",
              "\n",
              "    [theme=dark] .colab-df-convert {\n",
              "      background-color: #3B4455;\n",
              "      fill: #D2E3FC;\n",
              "    }\n",
              "\n",
              "    [theme=dark] .colab-df-convert:hover {\n",
              "      background-color: #434B5C;\n",
              "      box-shadow: 0px 1px 3px 1px rgba(0, 0, 0, 0.15);\n",
              "      filter: drop-shadow(0px 1px 2px rgba(0, 0, 0, 0.3));\n",
              "      fill: #FFFFFF;\n",
              "    }\n",
              "  </style>\n",
              "\n",
              "      <script>\n",
              "        const buttonEl =\n",
              "          document.querySelector('#df-5ad2eeed-27ac-4477-bdd9-4388e8e8e331 button.colab-df-convert');\n",
              "        buttonEl.style.display =\n",
              "          google.colab.kernel.accessAllowed ? 'block' : 'none';\n",
              "\n",
              "        async function convertToInteractive(key) {\n",
              "          const element = document.querySelector('#df-5ad2eeed-27ac-4477-bdd9-4388e8e8e331');\n",
              "          const dataTable =\n",
              "            await google.colab.kernel.invokeFunction('convertToInteractive',\n",
              "                                                     [key], {});\n",
              "          if (!dataTable) return;\n",
              "\n",
              "          const docLinkHtml = 'Like what you see? Visit the ' +\n",
              "            '<a target=\"_blank\" href=https://colab.research.google.com/notebooks/data_table.ipynb>data table notebook</a>'\n",
              "            + ' to learn more about interactive tables.';\n",
              "          element.innerHTML = '';\n",
              "          dataTable['output_type'] = 'display_data';\n",
              "          await google.colab.output.renderOutput(dataTable, element);\n",
              "          const docLink = document.createElement('div');\n",
              "          docLink.innerHTML = docLinkHtml;\n",
              "          element.appendChild(docLink);\n",
              "        }\n",
              "      </script>\n",
              "    </div>\n",
              "  </div>\n",
              "  "
            ],
            "text/plain": [
              "    Unnamed: 0  ...                                              Links\n",
              "0            0  ...  http://www.scielo.br/scielo.php?script=sci_art...\n",
              "1            1  ...  http://www.scielo.br/scielo.php?script=sci_art...\n",
              "2            2  ...  http://www.scielo.br/scielo.php?script=sci_art...\n",
              "3            3  ...  http://www.scielo.br/scielo.php?script=sci_art...\n",
              "4            4  ...  http://www.scielo.br/scielo.php?script=sci_art...\n",
              "..         ...  ...                                                ...\n",
              "75          75  ...  http://www.scielo.br/scielo.php?script=sci_art...\n",
              "76          76  ...  http://www.scielo.br/scielo.php?script=sci_art...\n",
              "77          77  ...  http://www.scielo.br/scielo.php?script=sci_art...\n",
              "78          78  ...  http://www.scielo.br/scielo.php?script=sci_art...\n",
              "79          79  ...  http://www.scielo.br/scielo.php?script=sci_art...\n",
              "\n",
              "[80 rows x 7 columns]"
            ]
          },
          "metadata": {},
          "execution_count": 199
        }
      ],
      "source": [
        "df_csv = df.to_csv('av1_CD')\n",
        "pd.read_csv('av1_CD') # Impressão das tabelas de dados"
      ]
    },
    {
      "cell_type": "markdown",
      "source": [
        "# Unidade 2: Analise dos dados"
      ],
      "metadata": {
        "id": "8TkrXZMRuBU2"
      }
    },
    {
      "cell_type": "code",
      "source": [
        "df.head(10)"
      ],
      "metadata": {
        "colab": {
          "base_uri": "https://localhost:8080/",
          "height": 615
        },
        "id": "xEPefZ_QuRS8",
        "outputId": "fa0b244a-c1a4-4d96-b3d6-252bcfdfe3ab"
      },
      "execution_count": null,
      "outputs": [
        {
          "output_type": "execute_result",
          "data": {
            "text/html": [
              "\n",
              "  <div id=\"df-28b2c7dd-7a97-42d4-ab92-dcbe94798b3d\">\n",
              "    <div class=\"colab-df-container\">\n",
              "      <div>\n",
              "<style scoped>\n",
              "    .dataframe tbody tr th:only-of-type {\n",
              "        vertical-align: middle;\n",
              "    }\n",
              "\n",
              "    .dataframe tbody tr th {\n",
              "        vertical-align: top;\n",
              "    }\n",
              "\n",
              "    .dataframe thead th {\n",
              "        text-align: right;\n",
              "    }\n",
              "</style>\n",
              "<table border=\"1\" class=\"dataframe\">\n",
              "  <thead>\n",
              "    <tr style=\"text-align: right;\">\n",
              "      <th></th>\n",
              "      <th>Titulos</th>\n",
              "      <th>Instituições</th>\n",
              "      <th>Autores</th>\n",
              "      <th>Ano</th>\n",
              "      <th>Volume</th>\n",
              "      <th>Links</th>\n",
              "    </tr>\n",
              "  </thead>\n",
              "  <tbody>\n",
              "    <tr>\n",
              "      <th>0</th>\n",
              "      <td>Ecotoxicological effects of commercial herbici...</td>\n",
              "      <td>Brazilian Journal of Biology</td>\n",
              "      <td>[Souza, A. M., Maciel, J. C., Barroso, G. M., ...</td>\n",
              "      <td>2024.0</td>\n",
              "      <td>84.0</td>\n",
              "      <td>http://www.scielo.br/scielo.php?script=sci_art...</td>\n",
              "    </tr>\n",
              "    <tr>\n",
              "      <th>1</th>\n",
              "      <td>Mortality of the cotton boll weevil in drip an...</td>\n",
              "      <td>Brazilian Journal of Biology</td>\n",
              "      <td>[Faustino, R.F., Silva, C.A.D., Zanuncio, J.C....</td>\n",
              "      <td>2023.0</td>\n",
              "      <td>83.0</td>\n",
              "      <td>http://www.scielo.br/scielo.php?script=sci_art...</td>\n",
              "    </tr>\n",
              "    <tr>\n",
              "      <th>2</th>\n",
              "      <td>Natural parasitism in fruit fly (Diptera: Teph...</td>\n",
              "      <td>Brazilian Journal of Biology</td>\n",
              "      <td>[Monteiro, L. B., Nishimura, G., Monteiro, R. S.]</td>\n",
              "      <td>2023.0</td>\n",
              "      <td>83.0</td>\n",
              "      <td>http://www.scielo.br/scielo.php?script=sci_art...</td>\n",
              "    </tr>\n",
              "    <tr>\n",
              "      <th>3</th>\n",
              "      <td>Yersinia massiliensis (Enterobacteriales: Ente...</td>\n",
              "      <td>Brazilian Journal of Biology</td>\n",
              "      <td>[Ribeiro, M. F., Carvalho, V. R., Favoreto, A....</td>\n",
              "      <td>2022.0</td>\n",
              "      <td>82.0</td>\n",
              "      <td>http://www.scielo.br/scielo.php?script=sci_art...</td>\n",
              "    </tr>\n",
              "    <tr>\n",
              "      <th>4</th>\n",
              "      <td>Distribution of galling insects and their para...</td>\n",
              "      <td>Brazilian Journal of Biology</td>\n",
              "      <td>[Leite, G. L. D., Veloso, R. V. S., Azevedo, A...</td>\n",
              "      <td>2022.0</td>\n",
              "      <td>82.0</td>\n",
              "      <td>http://www.scielo.br/scielo.php?script=sci_art...</td>\n",
              "    </tr>\n",
              "    <tr>\n",
              "      <th>5</th>\n",
              "      <td>Seroprevalence of Chagas disease in Southern B...</td>\n",
              "      <td>Brazilian Journal of Biology</td>\n",
              "      <td>[Dutra, A. S., Stauffert, D., Bianchi, T. F., ...</td>\n",
              "      <td>2021.0</td>\n",
              "      <td>81.0</td>\n",
              "      <td>http://www.scielo.br/scielo.php?script=sci_art...</td>\n",
              "    </tr>\n",
              "    <tr>\n",
              "      <th>6</th>\n",
              "      <td>História com maiúscula de um minúsculo inseto</td>\n",
              "      <td>Topoi (Rio de Janeiro)</td>\n",
              "      <td>[Correa, Sílvio Marcus de Souza]</td>\n",
              "      <td>2021.0</td>\n",
              "      <td>22.0</td>\n",
              "      <td>http://www.scielo.br/scielo.php?script=sci_art...</td>\n",
              "    </tr>\n",
              "    <tr>\n",
              "      <th>7</th>\n",
              "      <td>Biological control of dryocosmus kuriphilus ya...</td>\n",
              "      <td>Millenium - Journal of Education, Technologies...</td>\n",
              "      <td>[Cardoso, João, Almeida, Maria Teresa, Bento, ...</td>\n",
              "      <td>2021.0</td>\n",
              "      <td>14.0</td>\n",
              "      <td>http://www.scielo.pt/scielo.php?script=sci_art...</td>\n",
              "    </tr>\n",
              "    <tr>\n",
              "      <th>8</th>\n",
              "      <td>Efeito da temperatura no desenvolvimento e na ...</td>\n",
              "      <td>Ciência Florestal</td>\n",
              "      <td>[Künast, Talita Benedcta Santos, Queiroz, Dalv...</td>\n",
              "      <td>2021.0</td>\n",
              "      <td>31.0</td>\n",
              "      <td>http://www.scielo.br/scielo.php?script=sci_art...</td>\n",
              "    </tr>\n",
              "    <tr>\n",
              "      <th>9</th>\n",
              "      <td>Saprophytic flies in impacted areas of the Bel...</td>\n",
              "      <td>Biota Neotropica</td>\n",
              "      <td>[Queiroz, Camila Lorena Damasceno, De-Souza, C...</td>\n",
              "      <td>2021.0</td>\n",
              "      <td>21.0</td>\n",
              "      <td>http://www.scielo.br/scielo.php?script=sci_art...</td>\n",
              "    </tr>\n",
              "  </tbody>\n",
              "</table>\n",
              "</div>\n",
              "      <button class=\"colab-df-convert\" onclick=\"convertToInteractive('df-28b2c7dd-7a97-42d4-ab92-dcbe94798b3d')\"\n",
              "              title=\"Convert this dataframe to an interactive table.\"\n",
              "              style=\"display:none;\">\n",
              "        \n",
              "  <svg xmlns=\"http://www.w3.org/2000/svg\" height=\"24px\"viewBox=\"0 0 24 24\"\n",
              "       width=\"24px\">\n",
              "    <path d=\"M0 0h24v24H0V0z\" fill=\"none\"/>\n",
              "    <path d=\"M18.56 5.44l.94 2.06.94-2.06 2.06-.94-2.06-.94-.94-2.06-.94 2.06-2.06.94zm-11 1L8.5 8.5l.94-2.06 2.06-.94-2.06-.94L8.5 2.5l-.94 2.06-2.06.94zm10 10l.94 2.06.94-2.06 2.06-.94-2.06-.94-.94-2.06-.94 2.06-2.06.94z\"/><path d=\"M17.41 7.96l-1.37-1.37c-.4-.4-.92-.59-1.43-.59-.52 0-1.04.2-1.43.59L10.3 9.45l-7.72 7.72c-.78.78-.78 2.05 0 2.83L4 21.41c.39.39.9.59 1.41.59.51 0 1.02-.2 1.41-.59l7.78-7.78 2.81-2.81c.8-.78.8-2.07 0-2.86zM5.41 20L4 18.59l7.72-7.72 1.47 1.35L5.41 20z\"/>\n",
              "  </svg>\n",
              "      </button>\n",
              "      \n",
              "  <style>\n",
              "    .colab-df-container {\n",
              "      display:flex;\n",
              "      flex-wrap:wrap;\n",
              "      gap: 12px;\n",
              "    }\n",
              "\n",
              "    .colab-df-convert {\n",
              "      background-color: #E8F0FE;\n",
              "      border: none;\n",
              "      border-radius: 50%;\n",
              "      cursor: pointer;\n",
              "      display: none;\n",
              "      fill: #1967D2;\n",
              "      height: 32px;\n",
              "      padding: 0 0 0 0;\n",
              "      width: 32px;\n",
              "    }\n",
              "\n",
              "    .colab-df-convert:hover {\n",
              "      background-color: #E2EBFA;\n",
              "      box-shadow: 0px 1px 2px rgba(60, 64, 67, 0.3), 0px 1px 3px 1px rgba(60, 64, 67, 0.15);\n",
              "      fill: #174EA6;\n",
              "    }\n",
              "\n",
              "    [theme=dark] .colab-df-convert {\n",
              "      background-color: #3B4455;\n",
              "      fill: #D2E3FC;\n",
              "    }\n",
              "\n",
              "    [theme=dark] .colab-df-convert:hover {\n",
              "      background-color: #434B5C;\n",
              "      box-shadow: 0px 1px 3px 1px rgba(0, 0, 0, 0.15);\n",
              "      filter: drop-shadow(0px 1px 2px rgba(0, 0, 0, 0.3));\n",
              "      fill: #FFFFFF;\n",
              "    }\n",
              "  </style>\n",
              "\n",
              "      <script>\n",
              "        const buttonEl =\n",
              "          document.querySelector('#df-28b2c7dd-7a97-42d4-ab92-dcbe94798b3d button.colab-df-convert');\n",
              "        buttonEl.style.display =\n",
              "          google.colab.kernel.accessAllowed ? 'block' : 'none';\n",
              "\n",
              "        async function convertToInteractive(key) {\n",
              "          const element = document.querySelector('#df-28b2c7dd-7a97-42d4-ab92-dcbe94798b3d');\n",
              "          const dataTable =\n",
              "            await google.colab.kernel.invokeFunction('convertToInteractive',\n",
              "                                                     [key], {});\n",
              "          if (!dataTable) return;\n",
              "\n",
              "          const docLinkHtml = 'Like what you see? Visit the ' +\n",
              "            '<a target=\"_blank\" href=https://colab.research.google.com/notebooks/data_table.ipynb>data table notebook</a>'\n",
              "            + ' to learn more about interactive tables.';\n",
              "          element.innerHTML = '';\n",
              "          dataTable['output_type'] = 'display_data';\n",
              "          await google.colab.output.renderOutput(dataTable, element);\n",
              "          const docLink = document.createElement('div');\n",
              "          docLink.innerHTML = docLinkHtml;\n",
              "          element.appendChild(docLink);\n",
              "        }\n",
              "      </script>\n",
              "    </div>\n",
              "  </div>\n",
              "  "
            ],
            "text/plain": [
              "                                             Titulos  ...                                              Links\n",
              "0  Ecotoxicological effects of commercial herbici...  ...  http://www.scielo.br/scielo.php?script=sci_art...\n",
              "1  Mortality of the cotton boll weevil in drip an...  ...  http://www.scielo.br/scielo.php?script=sci_art...\n",
              "2  Natural parasitism in fruit fly (Diptera: Teph...  ...  http://www.scielo.br/scielo.php?script=sci_art...\n",
              "3  Yersinia massiliensis (Enterobacteriales: Ente...  ...  http://www.scielo.br/scielo.php?script=sci_art...\n",
              "4  Distribution of galling insects and their para...  ...  http://www.scielo.br/scielo.php?script=sci_art...\n",
              "5  Seroprevalence of Chagas disease in Southern B...  ...  http://www.scielo.br/scielo.php?script=sci_art...\n",
              "6      História com maiúscula de um minúsculo inseto  ...  http://www.scielo.br/scielo.php?script=sci_art...\n",
              "7  Biological control of dryocosmus kuriphilus ya...  ...  http://www.scielo.pt/scielo.php?script=sci_art...\n",
              "8  Efeito da temperatura no desenvolvimento e na ...  ...  http://www.scielo.br/scielo.php?script=sci_art...\n",
              "9  Saprophytic flies in impacted areas of the Bel...  ...  http://www.scielo.br/scielo.php?script=sci_art...\n",
              "\n",
              "[10 rows x 6 columns]"
            ]
          },
          "metadata": {},
          "execution_count": 200
        }
      ]
    },
    {
      "cell_type": "code",
      "source": [
        "df.describe()"
      ],
      "metadata": {
        "colab": {
          "base_uri": "https://localhost:8080/",
          "height": 300
        },
        "id": "pq1WhWdLuGlG",
        "outputId": "179ef347-817f-48e9-dd79-ba90e6364868"
      },
      "execution_count": null,
      "outputs": [
        {
          "output_type": "execute_result",
          "data": {
            "text/html": [
              "\n",
              "  <div id=\"df-25193d73-8957-4418-9c77-a3d9eaef2a35\">\n",
              "    <div class=\"colab-df-container\">\n",
              "      <div>\n",
              "<style scoped>\n",
              "    .dataframe tbody tr th:only-of-type {\n",
              "        vertical-align: middle;\n",
              "    }\n",
              "\n",
              "    .dataframe tbody tr th {\n",
              "        vertical-align: top;\n",
              "    }\n",
              "\n",
              "    .dataframe thead th {\n",
              "        text-align: right;\n",
              "    }\n",
              "</style>\n",
              "<table border=\"1\" class=\"dataframe\">\n",
              "  <thead>\n",
              "    <tr style=\"text-align: right;\">\n",
              "      <th></th>\n",
              "      <th>Ano</th>\n",
              "      <th>Volume</th>\n",
              "    </tr>\n",
              "  </thead>\n",
              "  <tbody>\n",
              "    <tr>\n",
              "      <th>count</th>\n",
              "      <td>79.000000</td>\n",
              "      <td>79.000000</td>\n",
              "    </tr>\n",
              "    <tr>\n",
              "      <th>mean</th>\n",
              "      <td>2018.531646</td>\n",
              "      <td>50.392405</td>\n",
              "    </tr>\n",
              "    <tr>\n",
              "      <th>std</th>\n",
              "      <td>2.123347</td>\n",
              "      <td>23.030870</td>\n",
              "    </tr>\n",
              "    <tr>\n",
              "      <th>min</th>\n",
              "      <td>2015.000000</td>\n",
              "      <td>14.000000</td>\n",
              "    </tr>\n",
              "    <tr>\n",
              "      <th>25%</th>\n",
              "      <td>2017.000000</td>\n",
              "      <td>30.500000</td>\n",
              "    </tr>\n",
              "    <tr>\n",
              "      <th>50%</th>\n",
              "      <td>2018.000000</td>\n",
              "      <td>45.000000</td>\n",
              "    </tr>\n",
              "    <tr>\n",
              "      <th>75%</th>\n",
              "      <td>2020.000000</td>\n",
              "      <td>75.500000</td>\n",
              "    </tr>\n",
              "    <tr>\n",
              "      <th>max</th>\n",
              "      <td>2024.000000</td>\n",
              "      <td>111.000000</td>\n",
              "    </tr>\n",
              "  </tbody>\n",
              "</table>\n",
              "</div>\n",
              "      <button class=\"colab-df-convert\" onclick=\"convertToInteractive('df-25193d73-8957-4418-9c77-a3d9eaef2a35')\"\n",
              "              title=\"Convert this dataframe to an interactive table.\"\n",
              "              style=\"display:none;\">\n",
              "        \n",
              "  <svg xmlns=\"http://www.w3.org/2000/svg\" height=\"24px\"viewBox=\"0 0 24 24\"\n",
              "       width=\"24px\">\n",
              "    <path d=\"M0 0h24v24H0V0z\" fill=\"none\"/>\n",
              "    <path d=\"M18.56 5.44l.94 2.06.94-2.06 2.06-.94-2.06-.94-.94-2.06-.94 2.06-2.06.94zm-11 1L8.5 8.5l.94-2.06 2.06-.94-2.06-.94L8.5 2.5l-.94 2.06-2.06.94zm10 10l.94 2.06.94-2.06 2.06-.94-2.06-.94-.94-2.06-.94 2.06-2.06.94z\"/><path d=\"M17.41 7.96l-1.37-1.37c-.4-.4-.92-.59-1.43-.59-.52 0-1.04.2-1.43.59L10.3 9.45l-7.72 7.72c-.78.78-.78 2.05 0 2.83L4 21.41c.39.39.9.59 1.41.59.51 0 1.02-.2 1.41-.59l7.78-7.78 2.81-2.81c.8-.78.8-2.07 0-2.86zM5.41 20L4 18.59l7.72-7.72 1.47 1.35L5.41 20z\"/>\n",
              "  </svg>\n",
              "      </button>\n",
              "      \n",
              "  <style>\n",
              "    .colab-df-container {\n",
              "      display:flex;\n",
              "      flex-wrap:wrap;\n",
              "      gap: 12px;\n",
              "    }\n",
              "\n",
              "    .colab-df-convert {\n",
              "      background-color: #E8F0FE;\n",
              "      border: none;\n",
              "      border-radius: 50%;\n",
              "      cursor: pointer;\n",
              "      display: none;\n",
              "      fill: #1967D2;\n",
              "      height: 32px;\n",
              "      padding: 0 0 0 0;\n",
              "      width: 32px;\n",
              "    }\n",
              "\n",
              "    .colab-df-convert:hover {\n",
              "      background-color: #E2EBFA;\n",
              "      box-shadow: 0px 1px 2px rgba(60, 64, 67, 0.3), 0px 1px 3px 1px rgba(60, 64, 67, 0.15);\n",
              "      fill: #174EA6;\n",
              "    }\n",
              "\n",
              "    [theme=dark] .colab-df-convert {\n",
              "      background-color: #3B4455;\n",
              "      fill: #D2E3FC;\n",
              "    }\n",
              "\n",
              "    [theme=dark] .colab-df-convert:hover {\n",
              "      background-color: #434B5C;\n",
              "      box-shadow: 0px 1px 3px 1px rgba(0, 0, 0, 0.15);\n",
              "      filter: drop-shadow(0px 1px 2px rgba(0, 0, 0, 0.3));\n",
              "      fill: #FFFFFF;\n",
              "    }\n",
              "  </style>\n",
              "\n",
              "      <script>\n",
              "        const buttonEl =\n",
              "          document.querySelector('#df-25193d73-8957-4418-9c77-a3d9eaef2a35 button.colab-df-convert');\n",
              "        buttonEl.style.display =\n",
              "          google.colab.kernel.accessAllowed ? 'block' : 'none';\n",
              "\n",
              "        async function convertToInteractive(key) {\n",
              "          const element = document.querySelector('#df-25193d73-8957-4418-9c77-a3d9eaef2a35');\n",
              "          const dataTable =\n",
              "            await google.colab.kernel.invokeFunction('convertToInteractive',\n",
              "                                                     [key], {});\n",
              "          if (!dataTable) return;\n",
              "\n",
              "          const docLinkHtml = 'Like what you see? Visit the ' +\n",
              "            '<a target=\"_blank\" href=https://colab.research.google.com/notebooks/data_table.ipynb>data table notebook</a>'\n",
              "            + ' to learn more about interactive tables.';\n",
              "          element.innerHTML = '';\n",
              "          dataTable['output_type'] = 'display_data';\n",
              "          await google.colab.output.renderOutput(dataTable, element);\n",
              "          const docLink = document.createElement('div');\n",
              "          docLink.innerHTML = docLinkHtml;\n",
              "          element.appendChild(docLink);\n",
              "        }\n",
              "      </script>\n",
              "    </div>\n",
              "  </div>\n",
              "  "
            ],
            "text/plain": [
              "               Ano      Volume\n",
              "count    79.000000   79.000000\n",
              "mean   2018.531646   50.392405\n",
              "std       2.123347   23.030870\n",
              "min    2015.000000   14.000000\n",
              "25%    2017.000000   30.500000\n",
              "50%    2018.000000   45.000000\n",
              "75%    2020.000000   75.500000\n",
              "max    2024.000000  111.000000"
            ]
          },
          "metadata": {},
          "execution_count": 201
        }
      ]
    },
    {
      "cell_type": "code",
      "source": [
        "df.shape"
      ],
      "metadata": {
        "colab": {
          "base_uri": "https://localhost:8080/"
        },
        "id": "PN-6f2VVuNou",
        "outputId": "f0b9da26-9756-42dc-d9b5-a2915aa4930f"
      },
      "execution_count": null,
      "outputs": [
        {
          "output_type": "execute_result",
          "data": {
            "text/plain": [
              "(80, 6)"
            ]
          },
          "metadata": {},
          "execution_count": 202
        }
      ]
    },
    {
      "cell_type": "code",
      "source": [
        "df.info()"
      ],
      "metadata": {
        "colab": {
          "base_uri": "https://localhost:8080/"
        },
        "id": "8igziij7uyMP",
        "outputId": "8bd2ae4a-1f67-431b-ffec-5554b7a05161"
      },
      "execution_count": null,
      "outputs": [
        {
          "output_type": "stream",
          "name": "stdout",
          "text": [
            "<class 'pandas.core.frame.DataFrame'>\n",
            "RangeIndex: 80 entries, 0 to 79\n",
            "Data columns (total 6 columns):\n",
            " #   Column        Non-Null Count  Dtype  \n",
            "---  ------        --------------  -----  \n",
            " 0   Titulos       80 non-null     object \n",
            " 1   Instituições  80 non-null     object \n",
            " 2   Autores       80 non-null     object \n",
            " 3   Ano           79 non-null     float64\n",
            " 4   Volume        79 non-null     float64\n",
            " 5   Links         80 non-null     object \n",
            "dtypes: float64(2), object(4)\n",
            "memory usage: 3.9+ KB\n"
          ]
        }
      ]
    },
    {
      "cell_type": "code",
      "source": [
        "fig, axs = plt.subplots(2, 1, figsize=(12, 8), sharex=True)\n",
        "\n",
        "sb.histplot(data = df, x = 'Ano', kde=True, color=\"skyblue\", ax=axs[0])\n",
        "sb.boxplot(data = df,  x = 'Ano', orient= 'h', ax=axs[1])\n",
        "\n",
        "texto = f\"Assimetria:{df['Ano'].skew():,.2f}\\nAlongamento: {df['Ano'].kurt():,.2f}\\\n",
        "\\nMédia: {df['Ano'].mean():,.2f}\\nMediana: {df['Ano'].quantile(0.5):,.2f}\"\n",
        "fig.text(x=0.4, y=1, s=texto)\n",
        "\n",
        "plt.show()"
      ],
      "metadata": {
        "colab": {
          "base_uri": "https://localhost:8080/",
          "height": 609
        },
        "id": "qOad3lNou2S1",
        "outputId": "ffd0e19f-a412-435f-b0b0-22e265e24fd2"
      },
      "execution_count": null,
      "outputs": [
        {
          "output_type": "display_data",
          "data": {
            "image/png": "[encoded data removed]",
            "text/plain": [
              "<Figure size 864x576 with 2 Axes>"
            ]
          },
          "metadata": {
            "needs_background": "light"
          }
        }
      ]
    }
  ],
  "metadata": {
    "colab": {
      "collapsed_sections": [],
      "name": "projeto-Ciencia de dados.ipynb",
      "provenance": [],
      "toc_visible": true,
      "include_colab_link": true
    },
    "kernelspec": {
      "display_name": "Python 3",
      "name": "python3"
    }
  },
  "nbformat": 4,
  "nbformat_minor": 0
}