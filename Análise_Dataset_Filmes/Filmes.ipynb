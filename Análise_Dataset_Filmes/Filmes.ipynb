{
  "nbformat": 4,
  "nbformat_minor": 0,
  "metadata": {
    "colab": {
      "provenance": [],
      "include_colab_link": true
    },
    "kernelspec": {
      "name": "python3",
      "display_name": "Python 3"
    },
    "language_info": {
      "name": "python"
    }
  },
  "cells": [
    {
      "cell_type": "markdown",
      "metadata": {
        "id": "view-in-github",
        "colab_type": "text"
      },
      "source": [
        "<a href=\"https://colab.research.google.com/github/Gus-1003/DataScience-Minhas_Praticas/blob/main/An%C3%A1lise_Dataset_Filmes/Filmes.ipynb\" target=\"_parent\"><img src=\"https://colab.research.google.com/assets/colab-badge.svg\" alt=\"Open In Colab\"/></a>"
      ]
    },
    {
      "cell_type": "markdown",
      "metadata": {
        "id": "Lh6tv2pSHrsU"
      },
      "source": [
        "# Importes:\n",
        "\n"
      ]
    },
    {
      "cell_type": "code",
      "metadata": {
        "colab": {
          "base_uri": "https://localhost:8080/"
        },
        "id": "QCVv79ImA9uD",
        "outputId": "4b8d14e9-0806-4343-c6bd-d5f8a3e7f43a"
      },
      "source": [
        "!pip install apyori"
      ],
      "execution_count": null,
      "outputs": [
        {
          "output_type": "stream",
          "name": "stdout",
          "text": [
            "Requirement already satisfied: apyori in /usr/local/lib/python3.7/dist-packages (1.1.2)\n"
          ]
        }
      ]
    },
    {
      "cell_type": "code",
      "metadata": {
        "id": "wu6997KuFJ-o"
      },
      "source": [
        "import numpy as np\n",
        "import matplotlib as plt\n",
        "import pandas as pd\n",
        "from apyori import apriori"
      ],
      "execution_count": null,
      "outputs": []
    },
    {
      "cell_type": "code",
      "metadata": {
        "id": "9WzFBNmpFppf",
        "colab": {
          "base_uri": "https://localhost:8080/",
          "height": 205
        },
        "outputId": "b2ca8a35-57b4-4c28-cbf0-cedc27771f3f"
      },
      "source": [
        "Filmes = pd.read_csv('https://github.com/Void-Sentry/Machine-Learning/blob/main/moviesAtt.csv?raw=true')\n",
        "Filmes.head()"
      ],
      "execution_count": null,
      "outputs": [
        {
          "output_type": "execute_result",
          "data": {
            "text/html": [
              "<div>\n",
              "<style scoped>\n",
              "    .dataframe tbody tr th:only-of-type {\n",
              "        vertical-align: middle;\n",
              "    }\n",
              "\n",
              "    .dataframe tbody tr th {\n",
              "        vertical-align: top;\n",
              "    }\n",
              "\n",
              "    .dataframe thead th {\n",
              "        text-align: right;\n",
              "    }\n",
              "</style>\n",
              "<table border=\"1\" class=\"dataframe\">\n",
              "  <thead>\n",
              "    <tr style=\"text-align: right;\">\n",
              "      <th></th>\n",
              "      <th>V1</th>\n",
              "      <th>V2</th>\n",
              "      <th>V3</th>\n",
              "      <th>V4</th>\n",
              "      <th>V5</th>\n",
              "    </tr>\n",
              "  </thead>\n",
              "  <tbody>\n",
              "    <tr>\n",
              "      <th>0</th>\n",
              "      <td>Sixth Sense</td>\n",
              "      <td>LOTR1</td>\n",
              "      <td>Harry Potter1</td>\n",
              "      <td>Green Mile</td>\n",
              "      <td>LOTR2</td>\n",
              "    </tr>\n",
              "    <tr>\n",
              "      <th>1</th>\n",
              "      <td>Gladiator</td>\n",
              "      <td>Patriot</td>\n",
              "      <td>Braveheart</td>\n",
              "      <td>NaN</td>\n",
              "      <td>NaN</td>\n",
              "    </tr>\n",
              "    <tr>\n",
              "      <th>2</th>\n",
              "      <td>LOTR1</td>\n",
              "      <td>LOTR2</td>\n",
              "      <td>NaN</td>\n",
              "      <td>NaN</td>\n",
              "      <td>NaN</td>\n",
              "    </tr>\n",
              "    <tr>\n",
              "      <th>3</th>\n",
              "      <td>Gladiator</td>\n",
              "      <td>Patriot</td>\n",
              "      <td>Sixth Sense</td>\n",
              "      <td>NaN</td>\n",
              "      <td>NaN</td>\n",
              "    </tr>\n",
              "    <tr>\n",
              "      <th>4</th>\n",
              "      <td>Gladiator</td>\n",
              "      <td>Patriot</td>\n",
              "      <td>Sixth Sense</td>\n",
              "      <td>NaN</td>\n",
              "      <td>NaN</td>\n",
              "    </tr>\n",
              "  </tbody>\n",
              "</table>\n",
              "</div>"
            ],
            "text/plain": [
              "            V1       V2             V3          V4     V5\n",
              "0  Sixth Sense    LOTR1  Harry Potter1  Green Mile  LOTR2\n",
              "1    Gladiator  Patriot     Braveheart         NaN    NaN\n",
              "2        LOTR1    LOTR2            NaN         NaN    NaN\n",
              "3    Gladiator  Patriot    Sixth Sense         NaN    NaN\n",
              "4    Gladiator  Patriot    Sixth Sense         NaN    NaN"
            ]
          },
          "metadata": {},
          "execution_count": 3
        }
      ]
    },
    {
      "cell_type": "markdown",
      "metadata": {
        "id": "ZOM_jASIH5KM"
      },
      "source": [
        "# Pré-Processamento\n"
      ]
    },
    {
      "cell_type": "code",
      "metadata": {
        "colab": {
          "base_uri": "https://localhost:8080/",
          "height": 175
        },
        "id": "PG1_wc_SJ0b8",
        "outputId": "22163e57-0880-4e89-8a6a-c74f2342d164"
      },
      "source": [
        "Filmes.describe()"
      ],
      "execution_count": null,
      "outputs": [
        {
          "output_type": "execute_result",
          "data": {
            "text/html": [
              "<div>\n",
              "<style scoped>\n",
              "    .dataframe tbody tr th:only-of-type {\n",
              "        vertical-align: middle;\n",
              "    }\n",
              "\n",
              "    .dataframe tbody tr th {\n",
              "        vertical-align: top;\n",
              "    }\n",
              "\n",
              "    .dataframe thead th {\n",
              "        text-align: right;\n",
              "    }\n",
              "</style>\n",
              "<table border=\"1\" class=\"dataframe\">\n",
              "  <thead>\n",
              "    <tr style=\"text-align: right;\">\n",
              "      <th></th>\n",
              "      <th>V1</th>\n",
              "      <th>V2</th>\n",
              "      <th>V3</th>\n",
              "      <th>V4</th>\n",
              "      <th>V5</th>\n",
              "    </tr>\n",
              "  </thead>\n",
              "  <tbody>\n",
              "    <tr>\n",
              "      <th>count</th>\n",
              "      <td>30</td>\n",
              "      <td>30</td>\n",
              "      <td>21</td>\n",
              "      <td>9</td>\n",
              "      <td>6</td>\n",
              "    </tr>\n",
              "    <tr>\n",
              "      <th>unique</th>\n",
              "      <td>13</td>\n",
              "      <td>14</td>\n",
              "      <td>13</td>\n",
              "      <td>6</td>\n",
              "      <td>5</td>\n",
              "    </tr>\n",
              "    <tr>\n",
              "      <th>top</th>\n",
              "      <td>Gladiator</td>\n",
              "      <td>Nosferatu</td>\n",
              "      <td>Baby Driver</td>\n",
              "      <td>SMSV</td>\n",
              "      <td>Ragnarok</td>\n",
              "    </tr>\n",
              "    <tr>\n",
              "      <th>freq</th>\n",
              "      <td>6</td>\n",
              "      <td>6</td>\n",
              "      <td>4</td>\n",
              "      <td>2</td>\n",
              "      <td>2</td>\n",
              "    </tr>\n",
              "  </tbody>\n",
              "</table>\n",
              "</div>"
            ],
            "text/plain": [
              "               V1         V2           V3    V4        V5\n",
              "count          30         30           21     9         6\n",
              "unique         13         14           13     6         5\n",
              "top     Gladiator  Nosferatu  Baby Driver  SMSV  Ragnarok\n",
              "freq            6          6            4     2         2"
            ]
          },
          "metadata": {},
          "execution_count": 4
        }
      ]
    },
    {
      "cell_type": "code",
      "metadata": {
        "colab": {
          "base_uri": "https://localhost:8080/"
        },
        "id": "Z4KuDLzQGQ43",
        "outputId": "dffc7719-4f11-4c1b-951c-d5e3e1ee6827"
      },
      "source": [
        "Filmes.info()"
      ],
      "execution_count": null,
      "outputs": [
        {
          "output_type": "stream",
          "name": "stdout",
          "text": [
            "<class 'pandas.core.frame.DataFrame'>\n",
            "RangeIndex: 30 entries, 0 to 29\n",
            "Data columns (total 5 columns):\n",
            " #   Column  Non-Null Count  Dtype \n",
            "---  ------  --------------  ----- \n",
            " 0   V1      30 non-null     object\n",
            " 1   V2      30 non-null     object\n",
            " 2   V3      21 non-null     object\n",
            " 3   V4      9 non-null      object\n",
            " 4   V5      6 non-null      object\n",
            "dtypes: object(5)\n",
            "memory usage: 1.3+ KB\n"
          ]
        }
      ]
    },
    {
      "cell_type": "code",
      "metadata": {
        "colab": {
          "base_uri": "https://localhost:8080/"
        },
        "id": "DXXDH3juKbgV",
        "outputId": "cefdfbd0-4be8-45c4-9ab8-66c40b828986"
      },
      "source": [
        "Filmes.shape"
      ],
      "execution_count": null,
      "outputs": [
        {
          "output_type": "execute_result",
          "data": {
            "text/plain": [
              "(30, 5)"
            ]
          },
          "metadata": {},
          "execution_count": 6
        }
      ]
    },
    {
      "cell_type": "code",
      "metadata": {
        "id": "HXnKS2FnGnDn"
      },
      "source": [
        "amostras = []\n",
        "for i in range(0, 30):\n",
        "  amostras.append([str(Filmes.values[i, j]) for j in range(0, 5)])"
      ],
      "execution_count": null,
      "outputs": []
    },
    {
      "cell_type": "code",
      "metadata": {
        "id": "AI6kaoI79-aK",
        "colab": {
          "base_uri": "https://localhost:8080/"
        },
        "outputId": "2075800c-6e71-4075-c2b4-429d21c4aa71"
      },
      "source": [
        "for i in range(len(amostras)):\n",
        "  amostras[i] = [n for n in amostras[i] if str(n) != 'nan']  \n",
        "\n",
        "print(amostras[1])"
      ],
      "execution_count": null,
      "outputs": [
        {
          "output_type": "stream",
          "name": "stdout",
          "text": [
            "['Gladiator', 'Patriot', 'Braveheart']\n"
          ]
        }
      ]
    },
    {
      "cell_type": "code",
      "metadata": {
        "id": "IcrXuyWH-G-3",
        "colab": {
          "base_uri": "https://localhost:8080/"
        },
        "outputId": "b7df2c08-6ba2-4616-fd60-88383d75a37e"
      },
      "source": [
        "amostras"
      ],
      "execution_count": null,
      "outputs": [
        {
          "output_type": "execute_result",
          "data": {
            "text/plain": [
              "[['Sixth Sense', 'LOTR1', 'Harry Potter1', 'Green Mile', 'LOTR2'],\n",
              " ['Gladiator', 'Patriot', 'Braveheart'],\n",
              " ['LOTR1', 'LOTR2'],\n",
              " ['Gladiator', 'Patriot', 'Sixth Sense'],\n",
              " ['Gladiator', 'Patriot', 'Sixth Sense'],\n",
              " ['Gladiator', 'Patriot', 'Sixth Sense'],\n",
              " ['Harry Potter1', 'Harry Potter2'],\n",
              " ['Gladiator', 'Patriot'],\n",
              " ['Gladiator', 'Patriot', 'Sixth Sense'],\n",
              " ['Sixth Sense', 'LOTR', 'Gladiator', 'Green Mile'],\n",
              " ['Black Panther', 'Endgame', 'Toy Story 4', 'SMSV', 'Ragnarok'],\n",
              " ['Logan', 'Nosferatu', 'Baby Driver', 'Endgame', 'Ragnarok'],\n",
              " ['Logan', 'Nosferatu'],\n",
              " ['Logan', 'Nosferatu', 'Baby Driver'],\n",
              " ['Logan', 'Nosferatu', 'Black Panther'],\n",
              " ['Toy Store 4', 'Psycho'],\n",
              " ['Logan', 'Nosferatu', 'Baby Driver'],\n",
              " ['Black Panther', 'Nosferatu'],\n",
              " ['Black Panther', 'Endgame', 'Logan', 'SMSV'],\n",
              " ['Halloween', 'Psycho', 'King Kong', 'Alien', 'Us'],\n",
              " ['Arachnophobia', 'Freaks', 'Phantom OTO'],\n",
              " ['Psycho', 'Freaks'],\n",
              " ['SMSV', 'Us', 'Alien'],\n",
              " ['Halloween', 'Alien'],\n",
              " ['Freaks', 'Halloween', 'Arachnophobia'],\n",
              " ['Halloween', 'Phantom OTO', 'Arachnophobia', 'Us'],\n",
              " ['Arachnophobia', 'Us', 'Freaks'],\n",
              " ['King Kong', 'King Kong'],\n",
              " ['Psycho', 'Halloween', 'Baby Driver', 'Logan', 'Nosferatu'],\n",
              " ['Arachnophobia', 'Freaks', 'Alien', 'Us', 'PhantomOTO']]"
            ]
          },
          "metadata": {},
          "execution_count": 9
        }
      ]
    },
    {
      "cell_type": "markdown",
      "metadata": {
        "id": "2RFOw3VnICoy"
      },
      "source": [
        "# Método Apriori:"
      ]
    },
    {
      "cell_type": "code",
      "metadata": {
        "id": "ljO_HkEZHHxv"
      },
      "source": [
        "regras_de_associacao = apriori(amostras, min_support = 0.2, min_confidence = 0.2, min_lift = 2, min_length = 2)\n",
        "resultados_de_associacao = list(regras_de_associacao)"
      ],
      "execution_count": null,
      "outputs": []
    },
    {
      "cell_type": "code",
      "metadata": {
        "colab": {
          "base_uri": "https://localhost:8080/"
        },
        "id": "ZdN0LmicHwfP",
        "outputId": "0464776e-9820-4140-c676-6f2b803dcffa"
      },
      "source": [
        "print(len(resultados_de_associacao))"
      ],
      "execution_count": null,
      "outputs": [
        {
          "output_type": "stream",
          "name": "stdout",
          "text": [
            "2\n"
          ]
        }
      ]
    },
    {
      "cell_type": "code",
      "metadata": {
        "colab": {
          "base_uri": "https://localhost:8080/"
        },
        "id": "6FuqhJ8tcwnF",
        "outputId": "4bddc363-7441-409c-9c37-13f9c1673944"
      },
      "source": [
        "for i in resultados_de_associacao:\n",
        "  pair = i[0]\n",
        "  items = [x for x in pair]\n",
        "\n",
        "  print(\"Rule: \" + items[0] + \" -> \" + items[1])\n",
        "  print(\"Support: \" + str(i[1]))\n",
        "  print(\"Confidence: \" + str(i[2][0][2]))\n",
        "  print(\"Lift: \" + str(i[2][0][3]))\n",
        "  print(\"=====================================\")"
      ],
      "execution_count": null,
      "outputs": [
        {
          "output_type": "stream",
          "name": "stdout",
          "text": [
            "Rule: Gladiator -> Patriot\n",
            "Support: 0.2\n",
            "Confidence: 0.8571428571428572\n",
            "Lift: 4.285714285714286\n",
            "=====================================\n",
            "Rule: Logan -> Nosferatu\n",
            "Support: 0.2\n",
            "Confidence: 0.8571428571428572\n",
            "Lift: 3.673469387755102\n",
            "=====================================\n"
          ]
        }
      ]
    }
  ]
}