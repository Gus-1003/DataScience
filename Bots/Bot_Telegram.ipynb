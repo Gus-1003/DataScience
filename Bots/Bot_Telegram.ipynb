{
  "cells": [
    {
      "cell_type": "markdown",
      "metadata": {
        "id": "view-in-github",
        "colab_type": "text"
      },
      "source": [
        "<a href=\"https://colab.research.google.com/github/Gus-1003/DataScience/blob/main/Bots/Bot_Telegram.ipynb\" target=\"_parent\"><img src=\"https://colab.research.google.com/assets/colab-badge.svg\" alt=\"Open In Colab\"/></a>"
      ]
    },
    {
      "cell_type": "code",
      "execution_count": null,
      "metadata": {
        "colab": {
          "base_uri": "https://localhost:8080/"
        },
        "id": "lSJhzpFxzDMi",
        "outputId": "1506e71c-a248-4fc6-bf91-deb857884d7d"
      },
      "outputs": [
        {
          "name": "stdout",
          "output_type": "stream",
          "text": [
            "Requirement already satisfied: PyTelegramBotapi in /usr/local/lib/python3.7/dist-packages (4.3.1)\n",
            "Requirement already satisfied: requests in /usr/local/lib/python3.7/dist-packages (from PyTelegramBotapi) (2.23.0)\n",
            "Requirement already satisfied: chardet<4,>=3.0.2 in /usr/local/lib/python3.7/dist-packages (from requests->PyTelegramBotapi) (3.0.4)\n",
            "Requirement already satisfied: certifi>=2017.4.17 in /usr/local/lib/python3.7/dist-packages (from requests->PyTelegramBotapi) (2021.10.8)\n",
            "Requirement already satisfied: idna<3,>=2.5 in /usr/local/lib/python3.7/dist-packages (from requests->PyTelegramBotapi) (2.10)\n",
            "Requirement already satisfied: urllib3!=1.25.0,!=1.25.1,<1.26,>=1.21.1 in /usr/local/lib/python3.7/dist-packages (from requests->PyTelegramBotapi) (1.24.3)\n"
          ]
        }
      ],
      "source": [
        "pip install PyTelegramBotapi"
      ]
    },
    {
      "cell_type": "code",
      "execution_count": null,
      "metadata": {
        "id": "jauV6rGLzZtE"
      },
      "outputs": [],
      "source": [
        "import telebot"
      ]
    },
    {
      "cell_type": "code",
      "execution_count": null,
      "metadata": {
        "id": "k4gZ-OH62GgE"
      },
      "outputs": [],
      "source": [
        "Chave_API = "
      ]
    },
    {
      "cell_type": "code",
      "execution_count": null,
      "metadata": {
        "id": "FUu79WuL2VWc"
      },
      "outputs": [],
      "source": [
        "bot = telebot.TeleBot(Chave_API)"
      ]
    },
    {
      "cell_type": "code",
      "execution_count": null,
      "metadata": {
        "id": "jk0XTAQt9nTQ"
      },
      "outputs": [],
      "source": [
        "@bot.message_handler(commands=[\"Escolha1\"])\n",
        "def Escolha1(mensager):\n",
        "  print(mensager)\n",
        "  bot.reply_to(mensager,\"Descuple, atualmente estou me atualizado;\")"
      ]
    },
    {
      "cell_type": "code",
      "execution_count": null,
      "metadata": {
        "id": "B0vY6A7J-GBh"
      },
      "outputs": [],
      "source": [
        "@bot.message_handler(commands=[\"Escolha2\"])\n",
        "def Escolha2(mensager):\n",
        "  pass"
      ]
    },
    {
      "cell_type": "code",
      "execution_count": null,
      "metadata": {
        "id": "l2fkWweN-Gux"
      },
      "outputs": [],
      "source": [
        "@bot.message_handler(commands=[\"Escolha3\"])\n",
        "def Escolha3(mensager):\n",
        "  pass"
      ]
    },
    {
      "cell_type": "code",
      "execution_count": null,
      "metadata": {
        "id": "rtQO00_M6sV3"
      },
      "outputs": [],
      "source": [
        "def verificar (mensagem):\n",
        "  return True"
      ]
    },
    {
      "cell_type": "code",
      "execution_count": null,
      "metadata": {
        "id": "lPe133ZO5jY-"
      },
      "outputs": [],
      "source": [
        "# Resposta padrão do bot\n",
        "@bot.message_handler(func=verificar)\n",
        "def responder(mensager):\n",
        "  texto = \"\"\"\n",
        "  Escolha uma opção para continuar (Clique no item):\n",
        "    /Escolha1 Conversar\n",
        "    /Escolha2 Saber as horas\n",
        "    /Escolha3 Mandar um abraço para Gustavo\n",
        "  Responder qualquer outra coisa não ira funcionar, clique em uma das opções.\n",
        "   \"\"\"\n",
        "  bot.reply_to(mensager, texto)"
      ]
    },
    {
      "cell_type": "code",
      "execution_count": null,
      "metadata": {
        "colab": {
          "background_save": true
        },
        "id": "u39Zd2t65GMv"
      },
      "outputs": [],
      "source": [
        "bot.polling()"
      ]
    }
  ],
  "metadata": {
    "colab": {
      "name": "Bot_Telegram.ipynb",
      "provenance": [],
      "authorship_tag": "ABX9TyNAlkEd1ScILxvdI209J+ap",
      "include_colab_link": true
    },
    "kernelspec": {
      "display_name": "Python 3",
      "name": "python3"
    },
    "language_info": {
      "name": "python"
    }
  },
  "nbformat": 4,
  "nbformat_minor": 0
}