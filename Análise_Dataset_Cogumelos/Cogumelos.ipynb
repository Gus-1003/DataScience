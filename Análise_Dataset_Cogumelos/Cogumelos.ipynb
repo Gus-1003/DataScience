{
  "nbformat": 4,
  "nbformat_minor": 0,
  "metadata": {
    "colab": {
      "provenance": [],
      "authorship_tag": "ABX9TyNDFahqOKrWBRVrTdNAK/Ic",
      "include_colab_link": true
    },
    "kernelspec": {
      "name": "python3",
      "display_name": "Python 3"
    },
    "language_info": {
      "name": "python"
    }
  },
  "cells": [
    {
      "cell_type": "markdown",
      "metadata": {
        "id": "view-in-github",
        "colab_type": "text"
      },
      "source": [
        "<a href=\"https://colab.research.google.com/github/Gus-1003/DataScience-Minhas_Praticas/blob/main/An%C3%A1lise_Dataset_Cogumelos/Cogumelos.ipynb\" target=\"_parent\"><img src=\"https://colab.research.google.com/assets/colab-badge.svg\" alt=\"Open In Colab\"/></a>"
      ]
    },
    {
      "cell_type": "code",
      "execution_count": null,
      "metadata": {
        "id": "xPE_GVzzuL4V"
      },
      "outputs": [],
      "source": [
        "import pandas as pd\n",
        "import seaborn as sns\n",
        "import matplotlib.pyplot as plt\n",
        "import plotly.graph_objs as go\n",
        "import plotly.express as px"
      ]
    },
    {
      "cell_type": "code",
      "source": [
        "mush = pd.read_csv(\"../input/mushroom-classification/mushrooms.csv\")\n",
        "mush"
      ],
      "metadata": {
        "id": "_a0eIXhPuewY"
      },
      "execution_count": null,
      "outputs": []
    },
    {
      "cell_type": "code",
      "source": [
        "mush.head(10)"
      ],
      "metadata": {
        "id": "FQX5qZI0ucFw"
      },
      "execution_count": null,
      "outputs": []
    },
    {
      "cell_type": "code",
      "source": [
        "mush.tail()"
      ],
      "metadata": {
        "id": "T0Gf8DN0ufZI"
      },
      "execution_count": null,
      "outputs": []
    },
    {
      "cell_type": "code",
      "source": [
        "mush.info()"
      ],
      "metadata": {
        "id": "ESL77IDJug7Y"
      },
      "execution_count": null,
      "outputs": []
    },
    {
      "cell_type": "code",
      "source": [
        "mush[\"class\"].unique()"
      ],
      "metadata": {
        "id": "9SGjmpXTuh7f"
      },
      "execution_count": null,
      "outputs": []
    },
    {
      "cell_type": "code",
      "source": [
        "mush.dtypes"
      ],
      "metadata": {
        "id": "tHHMzrvLujNX"
      },
      "execution_count": null,
      "outputs": []
    },
    {
      "cell_type": "code",
      "source": [
        "mush.shape"
      ],
      "metadata": {
        "id": "MsOk1Ifoukcf"
      },
      "execution_count": null,
      "outputs": []
    },
    {
      "cell_type": "code",
      "source": [
        "mush.isnull().sum()"
      ],
      "metadata": {
        "id": "ANebHQlTuleb"
      },
      "execution_count": null,
      "outputs": []
    },
    {
      "cell_type": "code",
      "source": [
        "mush.isna().sum()"
      ],
      "metadata": {
        "id": "79TgFhOPumav"
      },
      "execution_count": null,
      "outputs": []
    },
    {
      "cell_type": "code",
      "source": [
        "#shows description of the text data\n",
        "mush.describe()"
      ],
      "metadata": {
        "id": "3YalNrWAuoCA"
      },
      "execution_count": null,
      "outputs": []
    },
    {
      "cell_type": "code",
      "source": [
        "from sklearn.preprocessing import LabelEncoder\n",
        "mush_encoded = mush.copy()\n",
        "le = LabelEncoder()\n",
        "for col in mush_encoded.columns:\n",
        "  mush_encoded[col] = le.fit_transform(mush_encoded[col])\n",
        "\n",
        "mush_encoded.head(15)"
      ],
      "metadata": {
        "id": "5dXMPt53upKf"
      },
      "execution_count": null,
      "outputs": []
    },
    {
      "cell_type": "code",
      "source": [
        "mush_encoded.max()"
      ],
      "metadata": {
        "id": "if2baMAMuqpI"
      },
      "execution_count": null,
      "outputs": []
    },
    {
      "cell_type": "code",
      "source": [
        "mush_encoded.describe()"
      ],
      "metadata": {
        "id": "BGV2lX8rur7w"
      },
      "execution_count": null,
      "outputs": []
    },
    {
      "cell_type": "code",
      "source": [
        "#shows the name of all the columns\n",
        "mush_encoded.columns"
      ],
      "metadata": {
        "id": "NEfgZ5bCus1v"
      },
      "execution_count": null,
      "outputs": []
    },
    {
      "cell_type": "code",
      "source": [
        "import matplotlib.pylab as pylab\n",
        "params = {'legend.fontsize': 'x-large',\n",
        "         'axes.labelsize': 'x-large',\n",
        "         'axes.titlesize':'x-large',\n",
        "         'xtick.labelsize':'x-large',\n",
        "         'ytick.labelsize':'x-large'}\n",
        "pylab.rcParams.update(params)"
      ],
      "metadata": {
        "id": "uAdzOVhsut2H"
      },
      "execution_count": null,
      "outputs": []
    },
    {
      "cell_type": "code",
      "source": [
        "def plot_col(col, hue=None, color=['blue', 'purple'], labels=None):\n",
        "    fig, ax = plt.subplots(figsize=(15, 7))\n",
        "    sns.countplot(col, hue=hue, palette=color, saturation=0.6, data=mush_encoded, dodge=True, ax=ax)\n",
        "    ax.set(title = f\"Mushroom {col.title()} Quantity\", xlabel=f\"{col.title()}\", ylabel=\"Quantity\")\n",
        "    if labels!=None:\n",
        "        ax.set_xticklabels(labels)\n",
        "    if hue!=None:\n",
        "        ax.legend(('Poisonous', 'Edible'), loc=0)"
      ],
      "metadata": {
        "id": "GArupfa2uvFv"
      },
      "execution_count": null,
      "outputs": []
    },
    {
      "cell_type": "code",
      "source": [
        "class_dict = ('Poisonous', 'Edible')\n",
        "plot_col(col='class', labels=class_dict)"
      ],
      "metadata": {
        "id": "T214gpxouwav"
      },
      "execution_count": null,
      "outputs": []
    },
    {
      "cell_type": "code",
      "source": [
        "#Visualizing the number of mushrooms for each of the available cap sizes\n",
        "shape_dict = {\"bell\":\"b\",\"conical\":\"c\",\"convex\":\"x\",\"flat\":\"f\", \"knobbed\":\"k\",\"sunken\":\"s\"}\n",
        "labels = ('convex', 'bell', 'sunken', 'flat', 'knobbed', 'conical')\n",
        "plot_col(col='cap-shape', hue='class', labels=labels)"
      ],
      "metadata": {
        "id": "zz8jxdu0uyK4"
      },
      "execution_count": null,
      "outputs": []
    },
    {
      "cell_type": "code",
      "source": [
        "#Visualizing the number of mushrooms for each cap color\n",
        "color_dict = {\"purple\":\"n\",\"yellow\":\"y\", \"blue\":\"w\", \"violet\":\"g\", \"red\":\"e\",\"pink\":\"p\",\n",
        "              \"orange\":\"b\", \"purple\":\"u\", \"black\":\"c\", \"green\":\"r\"}\n",
        "plot_col(col='cap-color', color=color_dict.keys(), labels=color_dict)"
      ],
      "metadata": {
        "id": "IR4KMzT8u0TQ"
      },
      "execution_count": null,
      "outputs": []
    },
    {
      "cell_type": "code",
      "source": [
        "#Visualizing the Mushroom Cap Surface Quantity\n",
        "surface_dict = {\"smooth\":\"s\", \"scaly\":\"y\", \"fibrous\":\"f\",\"grooves\":\"g\"}\n",
        "plot_col(col='cap-surface', hue='class', labels=surface_dict)"
      ],
      "metadata": {
        "id": "sxkcEsH_u1dQ"
      },
      "execution_count": null,
      "outputs": []
    },
    {
      "cell_type": "code",
      "source": [
        "def get_labels(order, a_dict):    \n",
        "    labels = []\n",
        "    for values in order:\n",
        "        for key, value in a_dict.items():\n",
        "            if values == value:\n",
        "                labels.append(key)\n",
        "    return labels"
      ],
      "metadata": {
        "id": "m6HWIKtgu3ag"
      },
      "execution_count": null,
      "outputs": []
    },
    {
      "cell_type": "code",
      "source": [
        "odor_dict = {\"almond\":\"a\",\"anise\":\"l\",\"creosote\":\"c\",\"fishy\":\"y\",\n",
        "             \"foul\":\"f\",\"musty\":\"m\",\"none\":\"n\",\"pungent\":\"p\",\"spicy\":\"s\"}\n",
        "order = ['p', 'a', 'l', 'n', 'f', 'c', 'y', 's', 'm']\n",
        "labels = get_labels(order, odor_dict)      \n",
        "plot_col(col='odor', color=color_dict.keys(), labels=labels)"
      ],
      "metadata": {
        "id": "Ff7Ma_Cyu4aA"
      },
      "execution_count": null,
      "outputs": []
    }
  ]
}