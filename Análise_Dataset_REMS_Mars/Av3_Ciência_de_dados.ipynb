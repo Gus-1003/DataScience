{
  "nbformat": 4,
  "nbformat_minor": 0,
  "metadata": {
    "colab": {
      "name": "Cópia de Av3 - Ciência de dados.ipynb",
      "provenance": [],
      "collapsed_sections": [],
      "toc_visible": true,
      "include_colab_link": true
    },
    "kernelspec": {
      "name": "python3",
      "display_name": "Python 3"
    },
    "language_info": {
      "name": "python"
    }
  },
  "cells": [
    {
      "cell_type": "markdown",
      "metadata": {
        "id": "view-in-github",
        "colab_type": "text"
      },
      "source": [
        "<a href=\"https://colab.research.google.com/github/Gus-1003/DataScience/blob/main/An%C3%A1lise_Dataset_REMS_Mars/Av3_Ci%C3%AAncia_de_dados.ipynb\" target=\"_parent\"><img src=\"https://colab.research.google.com/assets/colab-badge.svg\" alt=\"Open In Colab\"/></a>"
      ]
    },
    {
      "cell_type": "markdown",
      "source": [
        "# Projeto - 3ª Unidade - Fundamentos e Técnicas em ciências de Dados"
      ],
      "metadata": {
        "id": "aOdyoaMy3ypu"
      }
    },
    {
      "cell_type": "markdown",
      "source": [
        "## ***Capitulo1:*** Contexto da Atividade"
      ],
      "metadata": {
        "id": "oJro1qtN3_8F"
      }
    },
    {
      "cell_type": "markdown",
      "source": [
        "### Cabeçalho:"
      ],
      "metadata": {
        "id": "Y6OrvIwf4GY1"
      }
    },
    {
      "cell_type": "markdown",
      "source": [
        "Instituição: Escola Agricula de Jundiaí - EAJ - Macaiba - RN\n",
        "\n",
        "Vinculo: Universidade Federal do Rio Grande do Norte - UFRN\n",
        "\n",
        "Curso: Analise e Desenvolvimento de Sistemas - TADS\n",
        "\n",
        "Docente: Laura Emmanuela\n",
        "\n",
        "Discentes: Gustavo Maciel; Oseias Batista;\n",
        "\n",
        "Data da Entrega: 11/02/2022"
      ],
      "metadata": {
        "id": "fXHSAtMGQ4qF"
      }
    },
    {
      "cell_type": "markdown",
      "source": [
        "### Contexto do dataset:"
      ],
      "metadata": {
        "id": "bzzLtaFSQ6hE"
      }
    },
    {
      "cell_type": "markdown",
      "source": [
        "Tema: ‎\n",
        "*   Estação de Monitoramento Ambiental MARS Rover ‎\n",
        "  *   ‎Dados meteorológicos e ambientais para o planeta Marte\n",
        "\n",
        "Fonte: https://www.kaggle.com/deepcontractor/mars-rover-environmental-monitoring-station\n",
        "\n",
        "\n",
        "\n",
        "\n",
        "\n"
      ],
      "metadata": {
        "id": "tmGDJhh-4zX1"
      }
    },
    {
      "cell_type": "markdown",
      "source": [
        "### Hipoteses:"
      ],
      "metadata": {
        "id": "GsT4gauGQ_RZ"
      }
    },
    {
      "cell_type": "markdown",
      "source": [
        "*   Existe uma correlação entre a temperatura maxima do ar com a temperatura maxima do solo em marte;\n",
        "*   A duração dos dias deve correlacionar diretamente com o grau de radiação ultra violeta medido pelos sensores;\n",
        "*   Deve haver alguma alta correlação entre o grau da radiação com a temperatura do ar e do solo\n",
        "*   Em dias mais quentes a pressão atmosferica deve ser menor que em dias mais frios;\n",
        "\n"
      ],
      "metadata": {
        "id": "D-X2NG-DSuBE"
      }
    },
    {
      "cell_type": "markdown",
      "source": [
        "## ***Capitulo 2:*** Import das Bibliotecas e Carregar Dataset"
      ],
      "metadata": {
        "id": "vMtzafF5Eu22"
      }
    },
    {
      "cell_type": "code",
      "execution_count": 87,
      "metadata": {
        "id": "ZLYg-7e-2_Cl"
      },
      "outputs": [],
      "source": [
        "import pandas as pd\n",
        "import numpy as np\n",
        "import matplotlib.pyplot as plt\n",
        "import seaborn as sb\n",
        "from sklearn.preprocessing import LabelEncoder"
      ]
    },
    {
      "cell_type": "code",
      "source": [
        "Dataframe = pd.read_csv('https://raw.githubusercontent.com/Gus-1003/DataScience/main/An%C3%A1lise_Dataset_REMS_Mars/REMS_Mars_Dataset.csv')"
      ],
      "metadata": {
        "id": "hwjOE18LFqOu"
      },
      "execution_count": 53,
      "outputs": []
    },
    {
      "cell_type": "markdown",
      "source": [
        "### Demonstração do Dataframe original:"
      ],
      "metadata": {
        "id": "-R-kM3efl8FB"
      }
    },
    {
      "cell_type": "code",
      "source": [
        "Dataframe"
      ],
      "metadata": {
        "colab": {
          "base_uri": "https://localhost:8080/",
          "height": 661
        },
        "id": "Z1oOEyNrM37J",
        "outputId": "08590ebb-0480-42ce-eabd-1851f009e401"
      },
      "execution_count": 54,
      "outputs": [
        {
          "output_type": "execute_result",
          "data": {
            "text/html": [
              "\n",
              "  <div id=\"df-d0dd1428-a002-4eca-8977-b05e55ae3338\">\n",
              "    <div class=\"colab-df-container\">\n",
              "      <div>\n",
              "<style scoped>\n",
              "    .dataframe tbody tr th:only-of-type {\n",
              "        vertical-align: middle;\n",
              "    }\n",
              "\n",
              "    .dataframe tbody tr th {\n",
              "        vertical-align: top;\n",
              "    }\n",
              "\n",
              "    .dataframe thead th {\n",
              "        text-align: right;\n",
              "    }\n",
              "</style>\n",
              "<table border=\"1\" class=\"dataframe\">\n",
              "  <thead>\n",
              "    <tr style=\"text-align: right;\">\n",
              "      <th></th>\n",
              "      <th>earth_date_time</th>\n",
              "      <th>mars_date_time</th>\n",
              "      <th>sol_number</th>\n",
              "      <th>max_ground_temp(°C)</th>\n",
              "      <th>min_ground_temp(°C)</th>\n",
              "      <th>max_air_temp(°C)</th>\n",
              "      <th>min_air_temp(°C)</th>\n",
              "      <th>mean_pressure(Pa)</th>\n",
              "      <th>wind_speed(m/h)</th>\n",
              "      <th>humidity(%)</th>\n",
              "      <th>sunrise</th>\n",
              "      <th>sunset</th>\n",
              "      <th>UV_Radiation</th>\n",
              "      <th>weather</th>\n",
              "    </tr>\n",
              "  </thead>\n",
              "  <tbody>\n",
              "    <tr>\n",
              "      <th>0</th>\n",
              "      <td>Earth, 2022-01-26 UTC</td>\n",
              "      <td>Mars, Month 6 - LS 163°</td>\n",
              "      <td>Sol 3368</td>\n",
              "      <td>-3</td>\n",
              "      <td>-71</td>\n",
              "      <td>10</td>\n",
              "      <td>-84</td>\n",
              "      <td>707</td>\n",
              "      <td>Value not available</td>\n",
              "      <td>Value not available</td>\n",
              "      <td>05:25</td>\n",
              "      <td>17:20</td>\n",
              "      <td>moderate</td>\n",
              "      <td>Sunny</td>\n",
              "    </tr>\n",
              "    <tr>\n",
              "      <th>1</th>\n",
              "      <td>Earth, 2022-01-25 UTC</td>\n",
              "      <td>Mars, Month 6 - LS 163°</td>\n",
              "      <td>Sol 3367</td>\n",
              "      <td>-3</td>\n",
              "      <td>-72</td>\n",
              "      <td>10</td>\n",
              "      <td>-87</td>\n",
              "      <td>707</td>\n",
              "      <td>Value not available</td>\n",
              "      <td>Value not available</td>\n",
              "      <td>05:25</td>\n",
              "      <td>17:20</td>\n",
              "      <td>moderate</td>\n",
              "      <td>Sunny</td>\n",
              "    </tr>\n",
              "    <tr>\n",
              "      <th>2</th>\n",
              "      <td>Earth, 2022-01-24 UTC</td>\n",
              "      <td>Mars, Month 6 - LS 162°</td>\n",
              "      <td>Sol 3366</td>\n",
              "      <td>-4</td>\n",
              "      <td>-70</td>\n",
              "      <td>8</td>\n",
              "      <td>-81</td>\n",
              "      <td>708</td>\n",
              "      <td>Value not available</td>\n",
              "      <td>Value not available</td>\n",
              "      <td>05:25</td>\n",
              "      <td>17:21</td>\n",
              "      <td>moderate</td>\n",
              "      <td>Sunny</td>\n",
              "    </tr>\n",
              "    <tr>\n",
              "      <th>3</th>\n",
              "      <td>Earth, 2022-01-23 UTC</td>\n",
              "      <td>Mars, Month 6 - LS 162°</td>\n",
              "      <td>Sol 3365</td>\n",
              "      <td>-6</td>\n",
              "      <td>-70</td>\n",
              "      <td>9</td>\n",
              "      <td>-91</td>\n",
              "      <td>707</td>\n",
              "      <td>Value not available</td>\n",
              "      <td>Value not available</td>\n",
              "      <td>05:26</td>\n",
              "      <td>17:21</td>\n",
              "      <td>moderate</td>\n",
              "      <td>Sunny</td>\n",
              "    </tr>\n",
              "    <tr>\n",
              "      <th>4</th>\n",
              "      <td>Earth, 2022-01-22 UTC</td>\n",
              "      <td>Mars, Month 6 - LS 161°</td>\n",
              "      <td>Sol 3364</td>\n",
              "      <td>-7</td>\n",
              "      <td>-71</td>\n",
              "      <td>8</td>\n",
              "      <td>-92</td>\n",
              "      <td>708</td>\n",
              "      <td>Value not available</td>\n",
              "      <td>Value not available</td>\n",
              "      <td>05:26</td>\n",
              "      <td>17:21</td>\n",
              "      <td>moderate</td>\n",
              "      <td>Sunny</td>\n",
              "    </tr>\n",
              "    <tr>\n",
              "      <th>...</th>\n",
              "      <td>...</td>\n",
              "      <td>...</td>\n",
              "      <td>...</td>\n",
              "      <td>...</td>\n",
              "      <td>...</td>\n",
              "      <td>...</td>\n",
              "      <td>...</td>\n",
              "      <td>...</td>\n",
              "      <td>...</td>\n",
              "      <td>...</td>\n",
              "      <td>...</td>\n",
              "      <td>...</td>\n",
              "      <td>...</td>\n",
              "      <td>...</td>\n",
              "    </tr>\n",
              "    <tr>\n",
              "      <th>3192</th>\n",
              "      <td>Earth, 2012-08-18 UTC</td>\n",
              "      <td>Mars, Month 6 - LS 156°</td>\n",
              "      <td>Sol 12</td>\n",
              "      <td>-18</td>\n",
              "      <td>-76</td>\n",
              "      <td>8</td>\n",
              "      <td>-82</td>\n",
              "      <td>741</td>\n",
              "      <td>Value not available</td>\n",
              "      <td>Value not available</td>\n",
              "      <td>05:28</td>\n",
              "      <td>17:21</td>\n",
              "      <td>very_high</td>\n",
              "      <td>Sunny</td>\n",
              "    </tr>\n",
              "    <tr>\n",
              "      <th>3193</th>\n",
              "      <td>Earth, 2012-08-17 UTC</td>\n",
              "      <td>Mars, Month 6 - LS 156°</td>\n",
              "      <td>Sol 11</td>\n",
              "      <td>-11</td>\n",
              "      <td>-76</td>\n",
              "      <td>9</td>\n",
              "      <td>-83</td>\n",
              "      <td>740</td>\n",
              "      <td>Value not available</td>\n",
              "      <td>Value not available</td>\n",
              "      <td>05:28</td>\n",
              "      <td>17:21</td>\n",
              "      <td>very_high</td>\n",
              "      <td>Sunny</td>\n",
              "    </tr>\n",
              "    <tr>\n",
              "      <th>3194</th>\n",
              "      <td>Earth, 2012-08-16 UTC</td>\n",
              "      <td>Mars, Month 6 - LS 155°</td>\n",
              "      <td>Sol 10</td>\n",
              "      <td>-16</td>\n",
              "      <td>-75</td>\n",
              "      <td>8</td>\n",
              "      <td>-83</td>\n",
              "      <td>739</td>\n",
              "      <td>Value not available</td>\n",
              "      <td>Value not available</td>\n",
              "      <td>05:28</td>\n",
              "      <td>17:22</td>\n",
              "      <td>very_high</td>\n",
              "      <td>Sunny</td>\n",
              "    </tr>\n",
              "    <tr>\n",
              "      <th>3195</th>\n",
              "      <td>Earth, 2012-08-15 UTC</td>\n",
              "      <td>Mars, Month 6 - LS 155°</td>\n",
              "      <td>Sol 9</td>\n",
              "      <td>Value not available</td>\n",
              "      <td>Value not available</td>\n",
              "      <td>Value not available</td>\n",
              "      <td>Value not available</td>\n",
              "      <td>Value not available</td>\n",
              "      <td>Value not available</td>\n",
              "      <td>Value not available</td>\n",
              "      <td>05:28</td>\n",
              "      <td>17:22</td>\n",
              "      <td>NaN</td>\n",
              "      <td>Sunny</td>\n",
              "    </tr>\n",
              "    <tr>\n",
              "      <th>3196</th>\n",
              "      <td>Earth, 2012-08-07 UTC</td>\n",
              "      <td>Mars, Month 6 - LS 150°</td>\n",
              "      <td>Sol 1</td>\n",
              "      <td>Value not available</td>\n",
              "      <td>Value not available</td>\n",
              "      <td>Value not available</td>\n",
              "      <td>Value not available</td>\n",
              "      <td>Value not available</td>\n",
              "      <td>Value not available</td>\n",
              "      <td>Value not available</td>\n",
              "      <td>05:30</td>\n",
              "      <td>17:22</td>\n",
              "      <td>NaN</td>\n",
              "      <td>Sunny</td>\n",
              "    </tr>\n",
              "  </tbody>\n",
              "</table>\n",
              "<p>3197 rows × 14 columns</p>\n",
              "</div>\n",
              "      <button class=\"colab-df-convert\" onclick=\"convertToInteractive('df-d0dd1428-a002-4eca-8977-b05e55ae3338')\"\n",
              "              title=\"Convert this dataframe to an interactive table.\"\n",
              "              style=\"display:none;\">\n",
              "        \n",
              "  <svg xmlns=\"http://www.w3.org/2000/svg\" height=\"24px\"viewBox=\"0 0 24 24\"\n",
              "       width=\"24px\">\n",
              "    <path d=\"M0 0h24v24H0V0z\" fill=\"none\"/>\n",
              "    <path d=\"M18.56 5.44l.94 2.06.94-2.06 2.06-.94-2.06-.94-.94-2.06-.94 2.06-2.06.94zm-11 1L8.5 8.5l.94-2.06 2.06-.94-2.06-.94L8.5 2.5l-.94 2.06-2.06.94zm10 10l.94 2.06.94-2.06 2.06-.94-2.06-.94-.94-2.06-.94 2.06-2.06.94z\"/><path d=\"M17.41 7.96l-1.37-1.37c-.4-.4-.92-.59-1.43-.59-.52 0-1.04.2-1.43.59L10.3 9.45l-7.72 7.72c-.78.78-.78 2.05 0 2.83L4 21.41c.39.39.9.59 1.41.59.51 0 1.02-.2 1.41-.59l7.78-7.78 2.81-2.81c.8-.78.8-2.07 0-2.86zM5.41 20L4 18.59l7.72-7.72 1.47 1.35L5.41 20z\"/>\n",
              "  </svg>\n",
              "      </button>\n",
              "      \n",
              "  <style>\n",
              "    .colab-df-container {\n",
              "      display:flex;\n",
              "      flex-wrap:wrap;\n",
              "      gap: 12px;\n",
              "    }\n",
              "\n",
              "    .colab-df-convert {\n",
              "      background-color: #E8F0FE;\n",
              "      border: none;\n",
              "      border-radius: 50%;\n",
              "      cursor: pointer;\n",
              "      display: none;\n",
              "      fill: #1967D2;\n",
              "      height: 32px;\n",
              "      padding: 0 0 0 0;\n",
              "      width: 32px;\n",
              "    }\n",
              "\n",
              "    .colab-df-convert:hover {\n",
              "      background-color: #E2EBFA;\n",
              "      box-shadow: 0px 1px 2px rgba(60, 64, 67, 0.3), 0px 1px 3px 1px rgba(60, 64, 67, 0.15);\n",
              "      fill: #174EA6;\n",
              "    }\n",
              "\n",
              "    [theme=dark] .colab-df-convert {\n",
              "      background-color: #3B4455;\n",
              "      fill: #D2E3FC;\n",
              "    }\n",
              "\n",
              "    [theme=dark] .colab-df-convert:hover {\n",
              "      background-color: #434B5C;\n",
              "      box-shadow: 0px 1px 3px 1px rgba(0, 0, 0, 0.15);\n",
              "      filter: drop-shadow(0px 1px 2px rgba(0, 0, 0, 0.3));\n",
              "      fill: #FFFFFF;\n",
              "    }\n",
              "  </style>\n",
              "\n",
              "      <script>\n",
              "        const buttonEl =\n",
              "          document.querySelector('#df-d0dd1428-a002-4eca-8977-b05e55ae3338 button.colab-df-convert');\n",
              "        buttonEl.style.display =\n",
              "          google.colab.kernel.accessAllowed ? 'block' : 'none';\n",
              "\n",
              "        async function convertToInteractive(key) {\n",
              "          const element = document.querySelector('#df-d0dd1428-a002-4eca-8977-b05e55ae3338');\n",
              "          const dataTable =\n",
              "            await google.colab.kernel.invokeFunction('convertToInteractive',\n",
              "                                                     [key], {});\n",
              "          if (!dataTable) return;\n",
              "\n",
              "          const docLinkHtml = 'Like what you see? Visit the ' +\n",
              "            '<a target=\"_blank\" href=https://colab.research.google.com/notebooks/data_table.ipynb>data table notebook</a>'\n",
              "            + ' to learn more about interactive tables.';\n",
              "          element.innerHTML = '';\n",
              "          dataTable['output_type'] = 'display_data';\n",
              "          await google.colab.output.renderOutput(dataTable, element);\n",
              "          const docLink = document.createElement('div');\n",
              "          docLink.innerHTML = docLinkHtml;\n",
              "          element.appendChild(docLink);\n",
              "        }\n",
              "      </script>\n",
              "    </div>\n",
              "  </div>\n",
              "  "
            ],
            "text/plain": [
              "            earth_date_time           mars_date_time  ... UV_Radiation weather\n",
              "0     Earth, 2022-01-26 UTC  Mars, Month 6 - LS 163°  ...     moderate   Sunny\n",
              "1     Earth, 2022-01-25 UTC  Mars, Month 6 - LS 163°  ...     moderate   Sunny\n",
              "2     Earth, 2022-01-24 UTC  Mars, Month 6 - LS 162°  ...     moderate   Sunny\n",
              "3     Earth, 2022-01-23 UTC  Mars, Month 6 - LS 162°  ...     moderate   Sunny\n",
              "4     Earth, 2022-01-22 UTC  Mars, Month 6 - LS 161°  ...     moderate   Sunny\n",
              "...                     ...                      ...  ...          ...     ...\n",
              "3192  Earth, 2012-08-18 UTC  Mars, Month 6 - LS 156°  ...    very_high   Sunny\n",
              "3193  Earth, 2012-08-17 UTC  Mars, Month 6 - LS 156°  ...    very_high   Sunny\n",
              "3194  Earth, 2012-08-16 UTC  Mars, Month 6 - LS 155°  ...    very_high   Sunny\n",
              "3195  Earth, 2012-08-15 UTC  Mars, Month 6 - LS 155°  ...          NaN   Sunny\n",
              "3196  Earth, 2012-08-07 UTC  Mars, Month 6 - LS 150°  ...          NaN   Sunny\n",
              "\n",
              "[3197 rows x 14 columns]"
            ]
          },
          "metadata": {},
          "execution_count": 54
        }
      ]
    },
    {
      "cell_type": "code",
      "source": [
        "#mostra tipo de dados das colunas \n",
        "Dataframe.info()"
      ],
      "metadata": {
        "colab": {
          "base_uri": "https://localhost:8080/"
        },
        "id": "lDQumAzmrtd9",
        "outputId": "bea5f714-58f9-4826-a1b7-7363f364a91a"
      },
      "execution_count": 55,
      "outputs": [
        {
          "output_type": "stream",
          "name": "stdout",
          "text": [
            "<class 'pandas.core.frame.DataFrame'>\n",
            "RangeIndex: 3197 entries, 0 to 3196\n",
            "Data columns (total 14 columns):\n",
            " #   Column               Non-Null Count  Dtype \n",
            "---  ------               --------------  ----- \n",
            " 0   earth_date_time      3197 non-null   object\n",
            " 1   mars_date_time       3197 non-null   object\n",
            " 2   sol_number           3197 non-null   object\n",
            " 3   max_ground_temp(°C)  3197 non-null   object\n",
            " 4   min_ground_temp(°C)  3197 non-null   object\n",
            " 5   max_air_temp(°C)     3197 non-null   object\n",
            " 6   min_air_temp(°C)     3197 non-null   object\n",
            " 7   mean_pressure(Pa)    3197 non-null   object\n",
            " 8   wind_speed(m/h)      3197 non-null   object\n",
            " 9   humidity(%)          3197 non-null   object\n",
            " 10  sunrise              3197 non-null   object\n",
            " 11  sunset               3197 non-null   object\n",
            " 12  UV_Radiation         3170 non-null   object\n",
            " 13  weather              3197 non-null   object\n",
            "dtypes: object(14)\n",
            "memory usage: 349.8+ KB\n"
          ]
        }
      ]
    },
    {
      "cell_type": "markdown",
      "source": [
        "informações extraidas nesse momento:\n",
        "\n",
        "*   14 colunas - Atributos;\n",
        "    * Todas as colunas são categoricas (Compostas por string)\n",
        "    * Das 14, 4 colunas possuem vinculo com data historica\n",
        "    * Das 10 restantes, 5 colunas podem ser transformadas em inteiros\n",
        "    * Das 5 restantes, 2 aparentam estar inutilizaveis (Velocidade do vento e humidade)\n",
        "*   3197 linha - Registros;\n",
        "    * Há 27 campos vazios na coluna de UV_Radiation;\n",
        "    * Outras colunas podem também não possuir dados mas inves de estarem vazias terem *value not available* ocupando o campo;\n",
        "    * Os 2 primeiros registros apresentam atributos não avaliados (Pode haver mais);\n",
        "\n"
      ],
      "metadata": {
        "id": "brohTz1rqA5f"
      }
    },
    {
      "cell_type": "markdown",
      "source": [
        "## ***Capitulo 3:*** Analise Exploratoria:"
      ],
      "metadata": {
        "id": "FS9DvoxYE5tF"
      }
    },
    {
      "cell_type": "markdown",
      "source": [
        "***Objetivo:*** Conhecer os dados antes de aplicar qualquer transformação neles, ou seja, antes de tirar qualquer conclusão;\n",
        "\n",
        "Tipos de tecnicas:\n",
        "*   Quantitaivas;\n",
        "  *   Frequência - Atributo assume um mesmo valor;\n",
        "  *   Localização - Pontos de referência;\n",
        "      *   Atributos Numericos - Média - posição equidistante dos extremos;\n",
        "      *   Descio padrão;\n",
        "      *   Atributos Categoricos - Moda - Valor encontrado com maior frequência;\n",
        "  *   Dispersão / espalhamento;\n",
        "      *   Descio padrão;\n",
        "      *   Intervalo; \n",
        "\n",
        "*   Visuais;\n",
        "  *  Diagrama de Disperção - Relacionar variáveis numéricas;\n",
        "  *  Diagrama de Caixa\n",
        "  *  Histograma\n",
        "  *  Nuvem de Palavras\n",
        "\n",
        "*   Aprendizagem de Maquina\n",
        "  *  Supervisionado;\n",
        "  *  Não - Supervisionado;\n",
        "\n"
      ],
      "metadata": {
        "id": "wtlVmyrGghj_"
      }
    },
    {
      "cell_type": "markdown",
      "source": [
        "### Limpeza geral do Dataset:"
      ],
      "metadata": {
        "id": "SjeKp5_NmhBA"
      }
    },
    {
      "cell_type": "markdown",
      "source": [
        "#### Limpeza das linhas:"
      ],
      "metadata": {
        "id": "jqWIjMh0wrQP"
      }
    },
    {
      "cell_type": "markdown",
      "source": [
        "Objetivo: Remover as linhas que possuem o termo \"Value not available\""
      ],
      "metadata": {
        "id": "yj2UTn-urcvO"
      }
    },
    {
      "cell_type": "code",
      "source": [
        "Dataframe.drop(Dataframe.index[Dataframe['min_ground_temp(°C)'] == 'Value not available'], inplace = True)\n",
        "Dataframe.drop(Dataframe.index[Dataframe['max_ground_temp(°C)'] == 'Value not available'], inplace = True)\n",
        "Dataframe.drop(Dataframe.index[Dataframe['min_air_temp(°C)'] == 'Value not available'], inplace = True)\n",
        "Dataframe.drop(Dataframe.index[Dataframe['max_air_temp(°C)'] == 'Value not available'], inplace = True)\n",
        "Dataframe.drop(Dataframe.index[Dataframe['mean_pressure(Pa)'] == 'Value not available'], inplace = True)"
      ],
      "metadata": {
        "id": "eqPJBdhbrfIq"
      },
      "execution_count": 56,
      "outputs": []
    },
    {
      "cell_type": "markdown",
      "source": [
        "Mostrar os tipos de dados nas colunas:"
      ],
      "metadata": {
        "id": "uCcB5Zloeb5n"
      }
    },
    {
      "cell_type": "code",
      "source": [
        "Dataframe.info()"
      ],
      "metadata": {
        "colab": {
          "base_uri": "https://localhost:8080/"
        },
        "id": "CzT9rbNsrnDe",
        "outputId": "9815f8fd-d54d-4a43-af66-622384bd2b8d"
      },
      "execution_count": 57,
      "outputs": [
        {
          "output_type": "stream",
          "name": "stdout",
          "text": [
            "<class 'pandas.core.frame.DataFrame'>\n",
            "Int64Index: 3168 entries, 0 to 3194\n",
            "Data columns (total 14 columns):\n",
            " #   Column               Non-Null Count  Dtype \n",
            "---  ------               --------------  ----- \n",
            " 0   earth_date_time      3168 non-null   object\n",
            " 1   mars_date_time       3168 non-null   object\n",
            " 2   sol_number           3168 non-null   object\n",
            " 3   max_ground_temp(°C)  3168 non-null   object\n",
            " 4   min_ground_temp(°C)  3168 non-null   object\n",
            " 5   max_air_temp(°C)     3168 non-null   object\n",
            " 6   min_air_temp(°C)     3168 non-null   object\n",
            " 7   mean_pressure(Pa)    3168 non-null   object\n",
            " 8   wind_speed(m/h)      3168 non-null   object\n",
            " 9   humidity(%)          3168 non-null   object\n",
            " 10  sunrise              3168 non-null   object\n",
            " 11  sunset               3168 non-null   object\n",
            " 12  UV_Radiation         3168 non-null   object\n",
            " 13  weather              3168 non-null   object\n",
            "dtypes: object(14)\n",
            "memory usage: 500.3+ KB\n"
          ]
        }
      ]
    },
    {
      "cell_type": "markdown",
      "source": [
        "informações extraidas nesse momento:\n",
        "\n",
        "*   3197 linha -> 3168;\n",
        "    * 29 linhas foram apagadas, ou seja, 29 linhas possuiam \"Value not available\" em algum dos campos das 5 colunas apostadas"
      ],
      "metadata": {
        "id": "JFPZaCzcDBG4"
      }
    },
    {
      "cell_type": "markdown",
      "source": [
        "#### Limpeza das Colunas:"
      ],
      "metadata": {
        "id": "95XRku8Sw6nv"
      }
    },
    {
      "cell_type": "markdown",
      "source": [
        "Remoção das colunas que não são uteis:\n",
        "*   wind_speed(m/h) - Só possuia not available\n",
        "*   humidity(%) - Só possuia not available \n",
        "*   weather - Só possuia summer\n",
        "\n"
      ],
      "metadata": {
        "id": "gfOXI_bse7FX"
      }
    },
    {
      "cell_type": "code",
      "source": [
        "Dataframe = Dataframe.drop(columns=['wind_speed(m/h)'])\n",
        "Dataframe = Dataframe.drop(columns=['humidity(%)'])\n",
        "Dataframe = Dataframe.drop(columns=['weather'])"
      ],
      "metadata": {
        "id": "KmEgfKJBu6oo"
      },
      "execution_count": 58,
      "outputs": []
    },
    {
      "cell_type": "markdown",
      "source": [
        "Mostra os tipos de dados das colunas:"
      ],
      "metadata": {
        "id": "x5SiM2xgfd9n"
      }
    },
    {
      "cell_type": "code",
      "source": [
        "Dataframe.info()"
      ],
      "metadata": {
        "colab": {
          "base_uri": "https://localhost:8080/"
        },
        "id": "wOHk23gZrmLW",
        "outputId": "306f4ac7-e835-4929-c25c-69804c26ada1"
      },
      "execution_count": 59,
      "outputs": [
        {
          "output_type": "stream",
          "name": "stdout",
          "text": [
            "<class 'pandas.core.frame.DataFrame'>\n",
            "Int64Index: 3168 entries, 0 to 3194\n",
            "Data columns (total 11 columns):\n",
            " #   Column               Non-Null Count  Dtype \n",
            "---  ------               --------------  ----- \n",
            " 0   earth_date_time      3168 non-null   object\n",
            " 1   mars_date_time       3168 non-null   object\n",
            " 2   sol_number           3168 non-null   object\n",
            " 3   max_ground_temp(°C)  3168 non-null   object\n",
            " 4   min_ground_temp(°C)  3168 non-null   object\n",
            " 5   max_air_temp(°C)     3168 non-null   object\n",
            " 6   min_air_temp(°C)     3168 non-null   object\n",
            " 7   mean_pressure(Pa)    3168 non-null   object\n",
            " 8   sunrise              3168 non-null   object\n",
            " 9   sunset               3168 non-null   object\n",
            " 10  UV_Radiation         3168 non-null   object\n",
            "dtypes: object(11)\n",
            "memory usage: 426.0+ KB\n"
          ]
        }
      ]
    },
    {
      "cell_type": "markdown",
      "source": [
        "### Adaptação dos dados:"
      ],
      "metadata": {
        "id": "mr7eOhK5mwUA"
      }
    },
    {
      "cell_type": "markdown",
      "source": [
        "#### Transformação: Strings -> Int´s"
      ],
      "metadata": {
        "id": "SNEgBQmXw-AE"
      }
    },
    {
      "cell_type": "code",
      "source": [
        "# Tranforma as colunas de string para int\n",
        "Dataframe['min_ground_temp(°C)'] = Dataframe['min_ground_temp(°C)'].astype(int)\n",
        "Dataframe['max_ground_temp(°C)'] = Dataframe['max_ground_temp(°C)'].astype(int)\n",
        "Dataframe['min_air_temp(°C)'] = Dataframe['min_air_temp(°C)'].astype(int)\n",
        "Dataframe['max_air_temp(°C)'] = Dataframe['max_air_temp(°C)'].astype(int)\n",
        "Dataframe['mean_pressure(Pa)'] = Dataframe['mean_pressure(Pa)'].astype(int)"
      ],
      "metadata": {
        "id": "nsPi2Knrw2s7"
      },
      "execution_count": 60,
      "outputs": []
    },
    {
      "cell_type": "code",
      "source": [
        "#mostra tipo de dados das colunas \n",
        "Dataframe.info()"
      ],
      "metadata": {
        "colab": {
          "base_uri": "https://localhost:8080/"
        },
        "id": "eMqOzmWtHXg7",
        "outputId": "01352689-1acd-4314-cdb4-520646c16613"
      },
      "execution_count": 61,
      "outputs": [
        {
          "output_type": "stream",
          "name": "stdout",
          "text": [
            "<class 'pandas.core.frame.DataFrame'>\n",
            "Int64Index: 3168 entries, 0 to 3194\n",
            "Data columns (total 11 columns):\n",
            " #   Column               Non-Null Count  Dtype \n",
            "---  ------               --------------  ----- \n",
            " 0   earth_date_time      3168 non-null   object\n",
            " 1   mars_date_time       3168 non-null   object\n",
            " 2   sol_number           3168 non-null   object\n",
            " 3   max_ground_temp(°C)  3168 non-null   int64 \n",
            " 4   min_ground_temp(°C)  3168 non-null   int64 \n",
            " 5   max_air_temp(°C)     3168 non-null   int64 \n",
            " 6   min_air_temp(°C)     3168 non-null   int64 \n",
            " 7   mean_pressure(Pa)    3168 non-null   int64 \n",
            " 8   sunrise              3168 non-null   object\n",
            " 9   sunset               3168 non-null   object\n",
            " 10  UV_Radiation         3168 non-null   object\n",
            "dtypes: int64(5), object(6)\n",
            "memory usage: 426.0+ KB\n"
          ]
        }
      ]
    },
    {
      "cell_type": "markdown",
      "source": [
        "informações extraidas nesse momento:\n",
        "\n",
        "*   Os dados foram transformados com sucesso;\n",
        "*   Interesse por modificações:\n",
        "    *  sol_number = quantidade de dias em operação;\n",
        "    *  sunsise / sunset = horas e minutos em segundos\n",
        "    *  UV_Radiation = grau de radiação -> Números ordinais"
      ],
      "metadata": {
        "id": "rXE6atrzfvPf"
      }
    },
    {
      "cell_type": "markdown",
      "source": [
        "### Demonstração pós pré-processamento:"
      ],
      "metadata": {
        "id": "XJa6A_Thm9lI"
      }
    },
    {
      "cell_type": "markdown",
      "source": [
        "#### Novas coletas de infomações(Dataset)"
      ],
      "metadata": {
        "id": "A29zDyohxDpG"
      }
    },
    {
      "cell_type": "code",
      "source": [
        "#inclui apenas colunas categóricas na descrição\n",
        "Dataframe.describe(include='object')"
      ],
      "metadata": {
        "id": "dspD0XiHBazH",
        "outputId": "8876aece-ba86-447c-b551-b648ac802e48",
        "colab": {
          "base_uri": "https://localhost:8080/",
          "height": 0
        }
      },
      "execution_count": 62,
      "outputs": [
        {
          "output_type": "execute_result",
          "data": {
            "text/html": [
              "\n",
              "  <div id=\"df-c228c130-1c0e-45ac-b271-6a2ad988ef58\">\n",
              "    <div class=\"colab-df-container\">\n",
              "      <div>\n",
              "<style scoped>\n",
              "    .dataframe tbody tr th:only-of-type {\n",
              "        vertical-align: middle;\n",
              "    }\n",
              "\n",
              "    .dataframe tbody tr th {\n",
              "        vertical-align: top;\n",
              "    }\n",
              "\n",
              "    .dataframe thead th {\n",
              "        text-align: right;\n",
              "    }\n",
              "</style>\n",
              "<table border=\"1\" class=\"dataframe\">\n",
              "  <thead>\n",
              "    <tr style=\"text-align: right;\">\n",
              "      <th></th>\n",
              "      <th>earth_date_time</th>\n",
              "      <th>mars_date_time</th>\n",
              "      <th>sol_number</th>\n",
              "      <th>sunrise</th>\n",
              "      <th>sunset</th>\n",
              "      <th>UV_Radiation</th>\n",
              "    </tr>\n",
              "  </thead>\n",
              "  <tbody>\n",
              "    <tr>\n",
              "      <th>count</th>\n",
              "      <td>3168</td>\n",
              "      <td>3168</td>\n",
              "      <td>3168</td>\n",
              "      <td>3168</td>\n",
              "      <td>3168</td>\n",
              "      <td>3168</td>\n",
              "    </tr>\n",
              "    <tr>\n",
              "      <th>unique</th>\n",
              "      <td>3168</td>\n",
              "      <td>360</td>\n",
              "      <td>3168</td>\n",
              "      <td>90</td>\n",
              "      <td>96</td>\n",
              "      <td>4</td>\n",
              "    </tr>\n",
              "    <tr>\n",
              "      <th>top</th>\n",
              "      <td>Earth, 2022-01-26 UTC</td>\n",
              "      <td>Mars, Month 3 - LS 72°</td>\n",
              "      <td>Sol 3368</td>\n",
              "      <td>05:18</td>\n",
              "      <td>17:20</td>\n",
              "      <td>moderate</td>\n",
              "    </tr>\n",
              "    <tr>\n",
              "      <th>freq</th>\n",
              "      <td>1</td>\n",
              "      <td>12</td>\n",
              "      <td>1</td>\n",
              "      <td>170</td>\n",
              "      <td>198</td>\n",
              "      <td>1449</td>\n",
              "    </tr>\n",
              "  </tbody>\n",
              "</table>\n",
              "</div>\n",
              "      <button class=\"colab-df-convert\" onclick=\"convertToInteractive('df-c228c130-1c0e-45ac-b271-6a2ad988ef58')\"\n",
              "              title=\"Convert this dataframe to an interactive table.\"\n",
              "              style=\"display:none;\">\n",
              "        \n",
              "  <svg xmlns=\"http://www.w3.org/2000/svg\" height=\"24px\"viewBox=\"0 0 24 24\"\n",
              "       width=\"24px\">\n",
              "    <path d=\"M0 0h24v24H0V0z\" fill=\"none\"/>\n",
              "    <path d=\"M18.56 5.44l.94 2.06.94-2.06 2.06-.94-2.06-.94-.94-2.06-.94 2.06-2.06.94zm-11 1L8.5 8.5l.94-2.06 2.06-.94-2.06-.94L8.5 2.5l-.94 2.06-2.06.94zm10 10l.94 2.06.94-2.06 2.06-.94-2.06-.94-.94-2.06-.94 2.06-2.06.94z\"/><path d=\"M17.41 7.96l-1.37-1.37c-.4-.4-.92-.59-1.43-.59-.52 0-1.04.2-1.43.59L10.3 9.45l-7.72 7.72c-.78.78-.78 2.05 0 2.83L4 21.41c.39.39.9.59 1.41.59.51 0 1.02-.2 1.41-.59l7.78-7.78 2.81-2.81c.8-.78.8-2.07 0-2.86zM5.41 20L4 18.59l7.72-7.72 1.47 1.35L5.41 20z\"/>\n",
              "  </svg>\n",
              "      </button>\n",
              "      \n",
              "  <style>\n",
              "    .colab-df-container {\n",
              "      display:flex;\n",
              "      flex-wrap:wrap;\n",
              "      gap: 12px;\n",
              "    }\n",
              "\n",
              "    .colab-df-convert {\n",
              "      background-color: #E8F0FE;\n",
              "      border: none;\n",
              "      border-radius: 50%;\n",
              "      cursor: pointer;\n",
              "      display: none;\n",
              "      fill: #1967D2;\n",
              "      height: 32px;\n",
              "      padding: 0 0 0 0;\n",
              "      width: 32px;\n",
              "    }\n",
              "\n",
              "    .colab-df-convert:hover {\n",
              "      background-color: #E2EBFA;\n",
              "      box-shadow: 0px 1px 2px rgba(60, 64, 67, 0.3), 0px 1px 3px 1px rgba(60, 64, 67, 0.15);\n",
              "      fill: #174EA6;\n",
              "    }\n",
              "\n",
              "    [theme=dark] .colab-df-convert {\n",
              "      background-color: #3B4455;\n",
              "      fill: #D2E3FC;\n",
              "    }\n",
              "\n",
              "    [theme=dark] .colab-df-convert:hover {\n",
              "      background-color: #434B5C;\n",
              "      box-shadow: 0px 1px 3px 1px rgba(0, 0, 0, 0.15);\n",
              "      filter: drop-shadow(0px 1px 2px rgba(0, 0, 0, 0.3));\n",
              "      fill: #FFFFFF;\n",
              "    }\n",
              "  </style>\n",
              "\n",
              "      <script>\n",
              "        const buttonEl =\n",
              "          document.querySelector('#df-c228c130-1c0e-45ac-b271-6a2ad988ef58 button.colab-df-convert');\n",
              "        buttonEl.style.display =\n",
              "          google.colab.kernel.accessAllowed ? 'block' : 'none';\n",
              "\n",
              "        async function convertToInteractive(key) {\n",
              "          const element = document.querySelector('#df-c228c130-1c0e-45ac-b271-6a2ad988ef58');\n",
              "          const dataTable =\n",
              "            await google.colab.kernel.invokeFunction('convertToInteractive',\n",
              "                                                     [key], {});\n",
              "          if (!dataTable) return;\n",
              "\n",
              "          const docLinkHtml = 'Like what you see? Visit the ' +\n",
              "            '<a target=\"_blank\" href=https://colab.research.google.com/notebooks/data_table.ipynb>data table notebook</a>'\n",
              "            + ' to learn more about interactive tables.';\n",
              "          element.innerHTML = '';\n",
              "          dataTable['output_type'] = 'display_data';\n",
              "          await google.colab.output.renderOutput(dataTable, element);\n",
              "          const docLink = document.createElement('div');\n",
              "          docLink.innerHTML = docLinkHtml;\n",
              "          element.appendChild(docLink);\n",
              "        }\n",
              "      </script>\n",
              "    </div>\n",
              "  </div>\n",
              "  "
            ],
            "text/plain": [
              "              earth_date_time          mars_date_time  ... sunset UV_Radiation\n",
              "count                    3168                    3168  ...   3168         3168\n",
              "unique                   3168                     360  ...     96            4\n",
              "top     Earth, 2022-01-26 UTC  Mars, Month 3 - LS 72°  ...  17:20     moderate\n",
              "freq                        1                      12  ...    198         1449\n",
              "\n",
              "[4 rows x 6 columns]"
            ]
          },
          "metadata": {},
          "execution_count": 62
        }
      ]
    },
    {
      "cell_type": "markdown",
      "source": [
        "*  unique: quantidade de valores únicos\n",
        "*  top: é o valor mais comum\n",
        "*  freq: é a frequência do valor mais comum"
      ],
      "metadata": {
        "id": "cIakzwOWBimR"
      }
    },
    {
      "cell_type": "markdown",
      "source": [
        "informações extraidas nesse momento (Dados Categoricos):\n",
        "\n",
        "*   3168 linha -> Registros;\n",
        "    * UV_Radiation só possui 4 valores unicos (4 niveis / categorias)\n",
        "    * Os dias na terra e o número solar(Qº de dias em marte) são unicos;"
      ],
      "metadata": {
        "id": "hE05tjf5FAkX"
      }
    },
    {
      "cell_type": "code",
      "source": [
        "#descrição estatística das colunas numéricas\n",
        "Dataframe.describe()"
      ],
      "metadata": {
        "colab": {
          "base_uri": "https://localhost:8080/",
          "height": 0
        },
        "id": "xg1wd72GH2Qc",
        "outputId": "ba3c2bfc-794b-43d1-b9cf-781522187326"
      },
      "execution_count": 63,
      "outputs": [
        {
          "output_type": "execute_result",
          "data": {
            "text/html": [
              "\n",
              "  <div id=\"df-7265cf89-b61a-492f-8a6b-eeb14813aa49\">\n",
              "    <div class=\"colab-df-container\">\n",
              "      <div>\n",
              "<style scoped>\n",
              "    .dataframe tbody tr th:only-of-type {\n",
              "        vertical-align: middle;\n",
              "    }\n",
              "\n",
              "    .dataframe tbody tr th {\n",
              "        vertical-align: top;\n",
              "    }\n",
              "\n",
              "    .dataframe thead th {\n",
              "        text-align: right;\n",
              "    }\n",
              "</style>\n",
              "<table border=\"1\" class=\"dataframe\">\n",
              "  <thead>\n",
              "    <tr style=\"text-align: right;\">\n",
              "      <th></th>\n",
              "      <th>max_ground_temp(°C)</th>\n",
              "      <th>min_ground_temp(°C)</th>\n",
              "      <th>max_air_temp(°C)</th>\n",
              "      <th>min_air_temp(°C)</th>\n",
              "      <th>mean_pressure(Pa)</th>\n",
              "    </tr>\n",
              "  </thead>\n",
              "  <tbody>\n",
              "    <tr>\n",
              "      <th>count</th>\n",
              "      <td>3168.000000</td>\n",
              "      <td>3168.000000</td>\n",
              "      <td>3168.000000</td>\n",
              "      <td>3168.000000</td>\n",
              "      <td>3168.000000</td>\n",
              "    </tr>\n",
              "    <tr>\n",
              "      <th>mean</th>\n",
              "      <td>-13.204545</td>\n",
              "      <td>-75.015152</td>\n",
              "      <td>2.010732</td>\n",
              "      <td>-80.317551</td>\n",
              "      <td>828.796402</td>\n",
              "    </tr>\n",
              "    <tr>\n",
              "      <th>std</th>\n",
              "      <td>10.492084</td>\n",
              "      <td>5.529702</td>\n",
              "      <td>9.401705</td>\n",
              "      <td>8.845239</td>\n",
              "      <td>57.136301</td>\n",
              "    </tr>\n",
              "    <tr>\n",
              "      <th>min</th>\n",
              "      <td>-67.000000</td>\n",
              "      <td>-100.000000</td>\n",
              "      <td>-61.000000</td>\n",
              "      <td>-136.000000</td>\n",
              "      <td>702.000000</td>\n",
              "    </tr>\n",
              "    <tr>\n",
              "      <th>25%</th>\n",
              "      <td>-23.000000</td>\n",
              "      <td>-79.000000</td>\n",
              "      <td>-6.000000</td>\n",
              "      <td>-86.000000</td>\n",
              "      <td>785.000000</td>\n",
              "    </tr>\n",
              "    <tr>\n",
              "      <th>50%</th>\n",
              "      <td>-12.000000</td>\n",
              "      <td>-75.000000</td>\n",
              "      <td>3.000000</td>\n",
              "      <td>-80.000000</td>\n",
              "      <td>843.000000</td>\n",
              "    </tr>\n",
              "    <tr>\n",
              "      <th>75%</th>\n",
              "      <td>-4.000000</td>\n",
              "      <td>-71.000000</td>\n",
              "      <td>10.000000</td>\n",
              "      <td>-75.000000</td>\n",
              "      <td>873.000000</td>\n",
              "    </tr>\n",
              "    <tr>\n",
              "      <th>max</th>\n",
              "      <td>11.000000</td>\n",
              "      <td>-52.000000</td>\n",
              "      <td>24.000000</td>\n",
              "      <td>-8.000000</td>\n",
              "      <td>925.000000</td>\n",
              "    </tr>\n",
              "  </tbody>\n",
              "</table>\n",
              "</div>\n",
              "      <button class=\"colab-df-convert\" onclick=\"convertToInteractive('df-7265cf89-b61a-492f-8a6b-eeb14813aa49')\"\n",
              "              title=\"Convert this dataframe to an interactive table.\"\n",
              "              style=\"display:none;\">\n",
              "        \n",
              "  <svg xmlns=\"http://www.w3.org/2000/svg\" height=\"24px\"viewBox=\"0 0 24 24\"\n",
              "       width=\"24px\">\n",
              "    <path d=\"M0 0h24v24H0V0z\" fill=\"none\"/>\n",
              "    <path d=\"M18.56 5.44l.94 2.06.94-2.06 2.06-.94-2.06-.94-.94-2.06-.94 2.06-2.06.94zm-11 1L8.5 8.5l.94-2.06 2.06-.94-2.06-.94L8.5 2.5l-.94 2.06-2.06.94zm10 10l.94 2.06.94-2.06 2.06-.94-2.06-.94-.94-2.06-.94 2.06-2.06.94z\"/><path d=\"M17.41 7.96l-1.37-1.37c-.4-.4-.92-.59-1.43-.59-.52 0-1.04.2-1.43.59L10.3 9.45l-7.72 7.72c-.78.78-.78 2.05 0 2.83L4 21.41c.39.39.9.59 1.41.59.51 0 1.02-.2 1.41-.59l7.78-7.78 2.81-2.81c.8-.78.8-2.07 0-2.86zM5.41 20L4 18.59l7.72-7.72 1.47 1.35L5.41 20z\"/>\n",
              "  </svg>\n",
              "      </button>\n",
              "      \n",
              "  <style>\n",
              "    .colab-df-container {\n",
              "      display:flex;\n",
              "      flex-wrap:wrap;\n",
              "      gap: 12px;\n",
              "    }\n",
              "\n",
              "    .colab-df-convert {\n",
              "      background-color: #E8F0FE;\n",
              "      border: none;\n",
              "      border-radius: 50%;\n",
              "      cursor: pointer;\n",
              "      display: none;\n",
              "      fill: #1967D2;\n",
              "      height: 32px;\n",
              "      padding: 0 0 0 0;\n",
              "      width: 32px;\n",
              "    }\n",
              "\n",
              "    .colab-df-convert:hover {\n",
              "      background-color: #E2EBFA;\n",
              "      box-shadow: 0px 1px 2px rgba(60, 64, 67, 0.3), 0px 1px 3px 1px rgba(60, 64, 67, 0.15);\n",
              "      fill: #174EA6;\n",
              "    }\n",
              "\n",
              "    [theme=dark] .colab-df-convert {\n",
              "      background-color: #3B4455;\n",
              "      fill: #D2E3FC;\n",
              "    }\n",
              "\n",
              "    [theme=dark] .colab-df-convert:hover {\n",
              "      background-color: #434B5C;\n",
              "      box-shadow: 0px 1px 3px 1px rgba(0, 0, 0, 0.15);\n",
              "      filter: drop-shadow(0px 1px 2px rgba(0, 0, 0, 0.3));\n",
              "      fill: #FFFFFF;\n",
              "    }\n",
              "  </style>\n",
              "\n",
              "      <script>\n",
              "        const buttonEl =\n",
              "          document.querySelector('#df-7265cf89-b61a-492f-8a6b-eeb14813aa49 button.colab-df-convert');\n",
              "        buttonEl.style.display =\n",
              "          google.colab.kernel.accessAllowed ? 'block' : 'none';\n",
              "\n",
              "        async function convertToInteractive(key) {\n",
              "          const element = document.querySelector('#df-7265cf89-b61a-492f-8a6b-eeb14813aa49');\n",
              "          const dataTable =\n",
              "            await google.colab.kernel.invokeFunction('convertToInteractive',\n",
              "                                                     [key], {});\n",
              "          if (!dataTable) return;\n",
              "\n",
              "          const docLinkHtml = 'Like what you see? Visit the ' +\n",
              "            '<a target=\"_blank\" href=https://colab.research.google.com/notebooks/data_table.ipynb>data table notebook</a>'\n",
              "            + ' to learn more about interactive tables.';\n",
              "          element.innerHTML = '';\n",
              "          dataTable['output_type'] = 'display_data';\n",
              "          await google.colab.output.renderOutput(dataTable, element);\n",
              "          const docLink = document.createElement('div');\n",
              "          docLink.innerHTML = docLinkHtml;\n",
              "          element.appendChild(docLink);\n",
              "        }\n",
              "      </script>\n",
              "    </div>\n",
              "  </div>\n",
              "  "
            ],
            "text/plain": [
              "       max_ground_temp(°C)  ...  mean_pressure(Pa)\n",
              "count          3168.000000  ...        3168.000000\n",
              "mean            -13.204545  ...         828.796402\n",
              "std              10.492084  ...          57.136301\n",
              "min             -67.000000  ...         702.000000\n",
              "25%             -23.000000  ...         785.000000\n",
              "50%             -12.000000  ...         843.000000\n",
              "75%              -4.000000  ...         873.000000\n",
              "max              11.000000  ...         925.000000\n",
              "\n",
              "[8 rows x 5 columns]"
            ]
          },
          "metadata": {},
          "execution_count": 63
        }
      ]
    },
    {
      "cell_type": "markdown",
      "source": [
        "* DataFrame.count: número de observações não nulas\n",
        "\n",
        "* DataFrame.mean: média dos valores\n",
        "\n",
        "* DataFrame.std: desvio padrão\n",
        "\n",
        "* DataFrame.max: valor máximo\n",
        "\n",
        "* DataFrame.min: valor mínimo"
      ],
      "metadata": {
        "id": "iSNKz1zHBreN"
      }
    },
    {
      "cell_type": "code",
      "source": [
        "#verifica quantas amostras possuem valor NaN por coluna\n",
        "Dataframe.isna().sum()"
      ],
      "metadata": {
        "colab": {
          "base_uri": "https://localhost:8080/"
        },
        "id": "4FWPkkkSHbC8",
        "outputId": "e1a8fdb1-532f-41f4-ff01-f22eb2a2fc07"
      },
      "execution_count": 64,
      "outputs": [
        {
          "output_type": "execute_result",
          "data": {
            "text/plain": [
              "earth_date_time        0\n",
              "mars_date_time         0\n",
              "sol_number             0\n",
              "max_ground_temp(°C)    0\n",
              "min_ground_temp(°C)    0\n",
              "max_air_temp(°C)       0\n",
              "min_air_temp(°C)       0\n",
              "mean_pressure(Pa)      0\n",
              "sunrise                0\n",
              "sunset                 0\n",
              "UV_Radiation           0\n",
              "dtype: int64"
            ]
          },
          "metadata": {},
          "execution_count": 64
        }
      ]
    },
    {
      "cell_type": "code",
      "source": [
        "#mostra as 5 primeiras amostras\n",
        "Dataframe.head()"
      ],
      "metadata": {
        "colab": {
          "base_uri": "https://localhost:8080/",
          "height": 0
        },
        "id": "i3rhaO4pHlhk",
        "outputId": "ea25183b-64b2-4de6-dc7e-e9fd1dc0fa3c"
      },
      "execution_count": 65,
      "outputs": [
        {
          "output_type": "execute_result",
          "data": {
            "text/html": [
              "\n",
              "  <div id=\"df-fdfd93ce-77d6-45e7-bbbb-5b06aab2a9f7\">\n",
              "    <div class=\"colab-df-container\">\n",
              "      <div>\n",
              "<style scoped>\n",
              "    .dataframe tbody tr th:only-of-type {\n",
              "        vertical-align: middle;\n",
              "    }\n",
              "\n",
              "    .dataframe tbody tr th {\n",
              "        vertical-align: top;\n",
              "    }\n",
              "\n",
              "    .dataframe thead th {\n",
              "        text-align: right;\n",
              "    }\n",
              "</style>\n",
              "<table border=\"1\" class=\"dataframe\">\n",
              "  <thead>\n",
              "    <tr style=\"text-align: right;\">\n",
              "      <th></th>\n",
              "      <th>earth_date_time</th>\n",
              "      <th>mars_date_time</th>\n",
              "      <th>sol_number</th>\n",
              "      <th>max_ground_temp(°C)</th>\n",
              "      <th>min_ground_temp(°C)</th>\n",
              "      <th>max_air_temp(°C)</th>\n",
              "      <th>min_air_temp(°C)</th>\n",
              "      <th>mean_pressure(Pa)</th>\n",
              "      <th>sunrise</th>\n",
              "      <th>sunset</th>\n",
              "      <th>UV_Radiation</th>\n",
              "    </tr>\n",
              "  </thead>\n",
              "  <tbody>\n",
              "    <tr>\n",
              "      <th>0</th>\n",
              "      <td>Earth, 2022-01-26 UTC</td>\n",
              "      <td>Mars, Month 6 - LS 163°</td>\n",
              "      <td>Sol 3368</td>\n",
              "      <td>-3</td>\n",
              "      <td>-71</td>\n",
              "      <td>10</td>\n",
              "      <td>-84</td>\n",
              "      <td>707</td>\n",
              "      <td>05:25</td>\n",
              "      <td>17:20</td>\n",
              "      <td>moderate</td>\n",
              "    </tr>\n",
              "    <tr>\n",
              "      <th>1</th>\n",
              "      <td>Earth, 2022-01-25 UTC</td>\n",
              "      <td>Mars, Month 6 - LS 163°</td>\n",
              "      <td>Sol 3367</td>\n",
              "      <td>-3</td>\n",
              "      <td>-72</td>\n",
              "      <td>10</td>\n",
              "      <td>-87</td>\n",
              "      <td>707</td>\n",
              "      <td>05:25</td>\n",
              "      <td>17:20</td>\n",
              "      <td>moderate</td>\n",
              "    </tr>\n",
              "    <tr>\n",
              "      <th>2</th>\n",
              "      <td>Earth, 2022-01-24 UTC</td>\n",
              "      <td>Mars, Month 6 - LS 162°</td>\n",
              "      <td>Sol 3366</td>\n",
              "      <td>-4</td>\n",
              "      <td>-70</td>\n",
              "      <td>8</td>\n",
              "      <td>-81</td>\n",
              "      <td>708</td>\n",
              "      <td>05:25</td>\n",
              "      <td>17:21</td>\n",
              "      <td>moderate</td>\n",
              "    </tr>\n",
              "    <tr>\n",
              "      <th>3</th>\n",
              "      <td>Earth, 2022-01-23 UTC</td>\n",
              "      <td>Mars, Month 6 - LS 162°</td>\n",
              "      <td>Sol 3365</td>\n",
              "      <td>-6</td>\n",
              "      <td>-70</td>\n",
              "      <td>9</td>\n",
              "      <td>-91</td>\n",
              "      <td>707</td>\n",
              "      <td>05:26</td>\n",
              "      <td>17:21</td>\n",
              "      <td>moderate</td>\n",
              "    </tr>\n",
              "    <tr>\n",
              "      <th>4</th>\n",
              "      <td>Earth, 2022-01-22 UTC</td>\n",
              "      <td>Mars, Month 6 - LS 161°</td>\n",
              "      <td>Sol 3364</td>\n",
              "      <td>-7</td>\n",
              "      <td>-71</td>\n",
              "      <td>8</td>\n",
              "      <td>-92</td>\n",
              "      <td>708</td>\n",
              "      <td>05:26</td>\n",
              "      <td>17:21</td>\n",
              "      <td>moderate</td>\n",
              "    </tr>\n",
              "  </tbody>\n",
              "</table>\n",
              "</div>\n",
              "      <button class=\"colab-df-convert\" onclick=\"convertToInteractive('df-fdfd93ce-77d6-45e7-bbbb-5b06aab2a9f7')\"\n",
              "              title=\"Convert this dataframe to an interactive table.\"\n",
              "              style=\"display:none;\">\n",
              "        \n",
              "  <svg xmlns=\"http://www.w3.org/2000/svg\" height=\"24px\"viewBox=\"0 0 24 24\"\n",
              "       width=\"24px\">\n",
              "    <path d=\"M0 0h24v24H0V0z\" fill=\"none\"/>\n",
              "    <path d=\"M18.56 5.44l.94 2.06.94-2.06 2.06-.94-2.06-.94-.94-2.06-.94 2.06-2.06.94zm-11 1L8.5 8.5l.94-2.06 2.06-.94-2.06-.94L8.5 2.5l-.94 2.06-2.06.94zm10 10l.94 2.06.94-2.06 2.06-.94-2.06-.94-.94-2.06-.94 2.06-2.06.94z\"/><path d=\"M17.41 7.96l-1.37-1.37c-.4-.4-.92-.59-1.43-.59-.52 0-1.04.2-1.43.59L10.3 9.45l-7.72 7.72c-.78.78-.78 2.05 0 2.83L4 21.41c.39.39.9.59 1.41.59.51 0 1.02-.2 1.41-.59l7.78-7.78 2.81-2.81c.8-.78.8-2.07 0-2.86zM5.41 20L4 18.59l7.72-7.72 1.47 1.35L5.41 20z\"/>\n",
              "  </svg>\n",
              "      </button>\n",
              "      \n",
              "  <style>\n",
              "    .colab-df-container {\n",
              "      display:flex;\n",
              "      flex-wrap:wrap;\n",
              "      gap: 12px;\n",
              "    }\n",
              "\n",
              "    .colab-df-convert {\n",
              "      background-color: #E8F0FE;\n",
              "      border: none;\n",
              "      border-radius: 50%;\n",
              "      cursor: pointer;\n",
              "      display: none;\n",
              "      fill: #1967D2;\n",
              "      height: 32px;\n",
              "      padding: 0 0 0 0;\n",
              "      width: 32px;\n",
              "    }\n",
              "\n",
              "    .colab-df-convert:hover {\n",
              "      background-color: #E2EBFA;\n",
              "      box-shadow: 0px 1px 2px rgba(60, 64, 67, 0.3), 0px 1px 3px 1px rgba(60, 64, 67, 0.15);\n",
              "      fill: #174EA6;\n",
              "    }\n",
              "\n",
              "    [theme=dark] .colab-df-convert {\n",
              "      background-color: #3B4455;\n",
              "      fill: #D2E3FC;\n",
              "    }\n",
              "\n",
              "    [theme=dark] .colab-df-convert:hover {\n",
              "      background-color: #434B5C;\n",
              "      box-shadow: 0px 1px 3px 1px rgba(0, 0, 0, 0.15);\n",
              "      filter: drop-shadow(0px 1px 2px rgba(0, 0, 0, 0.3));\n",
              "      fill: #FFFFFF;\n",
              "    }\n",
              "  </style>\n",
              "\n",
              "      <script>\n",
              "        const buttonEl =\n",
              "          document.querySelector('#df-fdfd93ce-77d6-45e7-bbbb-5b06aab2a9f7 button.colab-df-convert');\n",
              "        buttonEl.style.display =\n",
              "          google.colab.kernel.accessAllowed ? 'block' : 'none';\n",
              "\n",
              "        async function convertToInteractive(key) {\n",
              "          const element = document.querySelector('#df-fdfd93ce-77d6-45e7-bbbb-5b06aab2a9f7');\n",
              "          const dataTable =\n",
              "            await google.colab.kernel.invokeFunction('convertToInteractive',\n",
              "                                                     [key], {});\n",
              "          if (!dataTable) return;\n",
              "\n",
              "          const docLinkHtml = 'Like what you see? Visit the ' +\n",
              "            '<a target=\"_blank\" href=https://colab.research.google.com/notebooks/data_table.ipynb>data table notebook</a>'\n",
              "            + ' to learn more about interactive tables.';\n",
              "          element.innerHTML = '';\n",
              "          dataTable['output_type'] = 'display_data';\n",
              "          await google.colab.output.renderOutput(dataTable, element);\n",
              "          const docLink = document.createElement('div');\n",
              "          docLink.innerHTML = docLinkHtml;\n",
              "          element.appendChild(docLink);\n",
              "        }\n",
              "      </script>\n",
              "    </div>\n",
              "  </div>\n",
              "  "
            ],
            "text/plain": [
              "         earth_date_time           mars_date_time  ... sunset  UV_Radiation\n",
              "0  Earth, 2022-01-26 UTC  Mars, Month 6 - LS 163°  ...  17:20      moderate\n",
              "1  Earth, 2022-01-25 UTC  Mars, Month 6 - LS 163°  ...  17:20      moderate\n",
              "2  Earth, 2022-01-24 UTC  Mars, Month 6 - LS 162°  ...  17:21      moderate\n",
              "3  Earth, 2022-01-23 UTC  Mars, Month 6 - LS 162°  ...  17:21      moderate\n",
              "4  Earth, 2022-01-22 UTC  Mars, Month 6 - LS 161°  ...  17:21      moderate\n",
              "\n",
              "[5 rows x 11 columns]"
            ]
          },
          "metadata": {},
          "execution_count": 65
        }
      ]
    },
    {
      "cell_type": "code",
      "source": [
        "#mostra as 5 ultimas amostras\n",
        "Dataframe.tail()"
      ],
      "metadata": {
        "colab": {
          "base_uri": "https://localhost:8080/",
          "height": 0
        },
        "id": "BV1vmzokHwUU",
        "outputId": "59bc1480-c1d4-4cca-8356-1f0adc34afd8"
      },
      "execution_count": 66,
      "outputs": [
        {
          "output_type": "execute_result",
          "data": {
            "text/html": [
              "\n",
              "  <div id=\"df-a7f7b7cf-47ce-4ca3-905d-176817f5e46d\">\n",
              "    <div class=\"colab-df-container\">\n",
              "      <div>\n",
              "<style scoped>\n",
              "    .dataframe tbody tr th:only-of-type {\n",
              "        vertical-align: middle;\n",
              "    }\n",
              "\n",
              "    .dataframe tbody tr th {\n",
              "        vertical-align: top;\n",
              "    }\n",
              "\n",
              "    .dataframe thead th {\n",
              "        text-align: right;\n",
              "    }\n",
              "</style>\n",
              "<table border=\"1\" class=\"dataframe\">\n",
              "  <thead>\n",
              "    <tr style=\"text-align: right;\">\n",
              "      <th></th>\n",
              "      <th>earth_date_time</th>\n",
              "      <th>mars_date_time</th>\n",
              "      <th>sol_number</th>\n",
              "      <th>max_ground_temp(°C)</th>\n",
              "      <th>min_ground_temp(°C)</th>\n",
              "      <th>max_air_temp(°C)</th>\n",
              "      <th>min_air_temp(°C)</th>\n",
              "      <th>mean_pressure(Pa)</th>\n",
              "      <th>sunrise</th>\n",
              "      <th>sunset</th>\n",
              "      <th>UV_Radiation</th>\n",
              "    </tr>\n",
              "  </thead>\n",
              "  <tbody>\n",
              "    <tr>\n",
              "      <th>3190</th>\n",
              "      <td>Earth, 2012-08-20 UTC</td>\n",
              "      <td>Mars, Month 6 - LS 157°</td>\n",
              "      <td>Sol 14</td>\n",
              "      <td>-16</td>\n",
              "      <td>-74</td>\n",
              "      <td>9</td>\n",
              "      <td>-82</td>\n",
              "      <td>740</td>\n",
              "      <td>05:27</td>\n",
              "      <td>17:21</td>\n",
              "      <td>very_high</td>\n",
              "    </tr>\n",
              "    <tr>\n",
              "      <th>3191</th>\n",
              "      <td>Earth, 2012-08-19 UTC</td>\n",
              "      <td>Mars, Month 6 - LS 157°</td>\n",
              "      <td>Sol 13</td>\n",
              "      <td>-15</td>\n",
              "      <td>-74</td>\n",
              "      <td>8</td>\n",
              "      <td>-80</td>\n",
              "      <td>732</td>\n",
              "      <td>05:28</td>\n",
              "      <td>17:21</td>\n",
              "      <td>very_high</td>\n",
              "    </tr>\n",
              "    <tr>\n",
              "      <th>3192</th>\n",
              "      <td>Earth, 2012-08-18 UTC</td>\n",
              "      <td>Mars, Month 6 - LS 156°</td>\n",
              "      <td>Sol 12</td>\n",
              "      <td>-18</td>\n",
              "      <td>-76</td>\n",
              "      <td>8</td>\n",
              "      <td>-82</td>\n",
              "      <td>741</td>\n",
              "      <td>05:28</td>\n",
              "      <td>17:21</td>\n",
              "      <td>very_high</td>\n",
              "    </tr>\n",
              "    <tr>\n",
              "      <th>3193</th>\n",
              "      <td>Earth, 2012-08-17 UTC</td>\n",
              "      <td>Mars, Month 6 - LS 156°</td>\n",
              "      <td>Sol 11</td>\n",
              "      <td>-11</td>\n",
              "      <td>-76</td>\n",
              "      <td>9</td>\n",
              "      <td>-83</td>\n",
              "      <td>740</td>\n",
              "      <td>05:28</td>\n",
              "      <td>17:21</td>\n",
              "      <td>very_high</td>\n",
              "    </tr>\n",
              "    <tr>\n",
              "      <th>3194</th>\n",
              "      <td>Earth, 2012-08-16 UTC</td>\n",
              "      <td>Mars, Month 6 - LS 155°</td>\n",
              "      <td>Sol 10</td>\n",
              "      <td>-16</td>\n",
              "      <td>-75</td>\n",
              "      <td>8</td>\n",
              "      <td>-83</td>\n",
              "      <td>739</td>\n",
              "      <td>05:28</td>\n",
              "      <td>17:22</td>\n",
              "      <td>very_high</td>\n",
              "    </tr>\n",
              "  </tbody>\n",
              "</table>\n",
              "</div>\n",
              "      <button class=\"colab-df-convert\" onclick=\"convertToInteractive('df-a7f7b7cf-47ce-4ca3-905d-176817f5e46d')\"\n",
              "              title=\"Convert this dataframe to an interactive table.\"\n",
              "              style=\"display:none;\">\n",
              "        \n",
              "  <svg xmlns=\"http://www.w3.org/2000/svg\" height=\"24px\"viewBox=\"0 0 24 24\"\n",
              "       width=\"24px\">\n",
              "    <path d=\"M0 0h24v24H0V0z\" fill=\"none\"/>\n",
              "    <path d=\"M18.56 5.44l.94 2.06.94-2.06 2.06-.94-2.06-.94-.94-2.06-.94 2.06-2.06.94zm-11 1L8.5 8.5l.94-2.06 2.06-.94-2.06-.94L8.5 2.5l-.94 2.06-2.06.94zm10 10l.94 2.06.94-2.06 2.06-.94-2.06-.94-.94-2.06-.94 2.06-2.06.94z\"/><path d=\"M17.41 7.96l-1.37-1.37c-.4-.4-.92-.59-1.43-.59-.52 0-1.04.2-1.43.59L10.3 9.45l-7.72 7.72c-.78.78-.78 2.05 0 2.83L4 21.41c.39.39.9.59 1.41.59.51 0 1.02-.2 1.41-.59l7.78-7.78 2.81-2.81c.8-.78.8-2.07 0-2.86zM5.41 20L4 18.59l7.72-7.72 1.47 1.35L5.41 20z\"/>\n",
              "  </svg>\n",
              "      </button>\n",
              "      \n",
              "  <style>\n",
              "    .colab-df-container {\n",
              "      display:flex;\n",
              "      flex-wrap:wrap;\n",
              "      gap: 12px;\n",
              "    }\n",
              "\n",
              "    .colab-df-convert {\n",
              "      background-color: #E8F0FE;\n",
              "      border: none;\n",
              "      border-radius: 50%;\n",
              "      cursor: pointer;\n",
              "      display: none;\n",
              "      fill: #1967D2;\n",
              "      height: 32px;\n",
              "      padding: 0 0 0 0;\n",
              "      width: 32px;\n",
              "    }\n",
              "\n",
              "    .colab-df-convert:hover {\n",
              "      background-color: #E2EBFA;\n",
              "      box-shadow: 0px 1px 2px rgba(60, 64, 67, 0.3), 0px 1px 3px 1px rgba(60, 64, 67, 0.15);\n",
              "      fill: #174EA6;\n",
              "    }\n",
              "\n",
              "    [theme=dark] .colab-df-convert {\n",
              "      background-color: #3B4455;\n",
              "      fill: #D2E3FC;\n",
              "    }\n",
              "\n",
              "    [theme=dark] .colab-df-convert:hover {\n",
              "      background-color: #434B5C;\n",
              "      box-shadow: 0px 1px 3px 1px rgba(0, 0, 0, 0.15);\n",
              "      filter: drop-shadow(0px 1px 2px rgba(0, 0, 0, 0.3));\n",
              "      fill: #FFFFFF;\n",
              "    }\n",
              "  </style>\n",
              "\n",
              "      <script>\n",
              "        const buttonEl =\n",
              "          document.querySelector('#df-a7f7b7cf-47ce-4ca3-905d-176817f5e46d button.colab-df-convert');\n",
              "        buttonEl.style.display =\n",
              "          google.colab.kernel.accessAllowed ? 'block' : 'none';\n",
              "\n",
              "        async function convertToInteractive(key) {\n",
              "          const element = document.querySelector('#df-a7f7b7cf-47ce-4ca3-905d-176817f5e46d');\n",
              "          const dataTable =\n",
              "            await google.colab.kernel.invokeFunction('convertToInteractive',\n",
              "                                                     [key], {});\n",
              "          if (!dataTable) return;\n",
              "\n",
              "          const docLinkHtml = 'Like what you see? Visit the ' +\n",
              "            '<a target=\"_blank\" href=https://colab.research.google.com/notebooks/data_table.ipynb>data table notebook</a>'\n",
              "            + ' to learn more about interactive tables.';\n",
              "          element.innerHTML = '';\n",
              "          dataTable['output_type'] = 'display_data';\n",
              "          await google.colab.output.renderOutput(dataTable, element);\n",
              "          const docLink = document.createElement('div');\n",
              "          docLink.innerHTML = docLinkHtml;\n",
              "          element.appendChild(docLink);\n",
              "        }\n",
              "      </script>\n",
              "    </div>\n",
              "  </div>\n",
              "  "
            ],
            "text/plain": [
              "            earth_date_time           mars_date_time  ... sunset  UV_Radiation\n",
              "3190  Earth, 2012-08-20 UTC  Mars, Month 6 - LS 157°  ...  17:21     very_high\n",
              "3191  Earth, 2012-08-19 UTC  Mars, Month 6 - LS 157°  ...  17:21     very_high\n",
              "3192  Earth, 2012-08-18 UTC  Mars, Month 6 - LS 156°  ...  17:21     very_high\n",
              "3193  Earth, 2012-08-17 UTC  Mars, Month 6 - LS 156°  ...  17:21     very_high\n",
              "3194  Earth, 2012-08-16 UTC  Mars, Month 6 - LS 155°  ...  17:22     very_high\n",
              "\n",
              "[5 rows x 11 columns]"
            ]
          },
          "metadata": {},
          "execution_count": 66
        }
      ]
    },
    {
      "cell_type": "markdown",
      "source": [
        "### Análise das colunas categoricas"
      ],
      "metadata": {
        "id": "16h5-cOOnk6K"
      }
    },
    {
      "cell_type": "markdown",
      "source": [
        "#### Niveis de radiação:"
      ],
      "metadata": {
        "id": "mTGx2uQ-n9i4"
      }
    },
    {
      "cell_type": "code",
      "source": [
        "#fazendo referencia a uma coluna específica\n",
        "Dataframe['UV_Radiation']"
      ],
      "metadata": {
        "colab": {
          "base_uri": "https://localhost:8080/"
        },
        "id": "EEG85NXCNEFh",
        "outputId": "891c875a-045c-4106-b9f4-8ffe8f92065b"
      },
      "execution_count": 67,
      "outputs": [
        {
          "output_type": "execute_result",
          "data": {
            "text/plain": [
              "0        moderate\n",
              "1        moderate\n",
              "2        moderate\n",
              "3        moderate\n",
              "4        moderate\n",
              "          ...    \n",
              "3190    very_high\n",
              "3191    very_high\n",
              "3192    very_high\n",
              "3193    very_high\n",
              "3194    very_high\n",
              "Name: UV_Radiation, Length: 3168, dtype: object"
            ]
          },
          "metadata": {},
          "execution_count": 67
        }
      ]
    },
    {
      "cell_type": "code",
      "source": [
        "#mostra os valores únicos\n",
        "Dataframe['UV_Radiation'].unique()"
      ],
      "metadata": {
        "id": "tJ-DHpSyH_Wk",
        "colab": {
          "base_uri": "https://localhost:8080/"
        },
        "outputId": "d580934c-5d29-409d-a37c-27ec9aa402d6"
      },
      "execution_count": 68,
      "outputs": [
        {
          "output_type": "execute_result",
          "data": {
            "text/plain": [
              "array(['moderate', 'low', 'high', 'very_high'], dtype=object)"
            ]
          },
          "metadata": {},
          "execution_count": 68
        }
      ]
    },
    {
      "cell_type": "code",
      "source": [
        "Dataframe['UV_Radiation'].value_counts().head().plot.pie(autopct='%.0f%%')"
      ],
      "metadata": {
        "id": "2IiCJ2hYNI5U",
        "colab": {
          "base_uri": "https://localhost:8080/",
          "height": 266
        },
        "outputId": "96be823a-95e9-4614-f580-5da7da0336ec"
      },
      "execution_count": 69,
      "outputs": [
        {
          "output_type": "execute_result",
          "data": {
            "text/plain": [
              "<matplotlib.axes._subplots.AxesSubplot at 0x7f2d5b74e2d0>"
            ]
          },
          "metadata": {},
          "execution_count": 69
        },
        {
          "output_type": "display_data",
          "data": {
            "image/png": "[encoded data removed]",
            "text/plain": [
              "<Figure size 432x288 with 1 Axes>"
            ]
          },
          "metadata": {}
        }
      ]
    },
    {
      "cell_type": "code",
      "source": [
        "# Contagem da quantidade de registros com tal caracteristica:\n",
        "Dataframe.UV_Radiation.value_counts()"
      ],
      "metadata": {
        "colab": {
          "base_uri": "https://localhost:8080/"
        },
        "id": "SgJZqp56pwaJ",
        "outputId": "952b544d-3c96-4921-b9ad-d4cdec944148"
      },
      "execution_count": 70,
      "outputs": [
        {
          "output_type": "execute_result",
          "data": {
            "text/plain": [
              "moderate     1449\n",
              "high         1351\n",
              "very_high     284\n",
              "low            84\n",
              "Name: UV_Radiation, dtype: int64"
            ]
          },
          "metadata": {},
          "execution_count": 70
        }
      ]
    },
    {
      "cell_type": "code",
      "source": [
        "plt.bar(Dataframe.UV_Radiation.value_counts().index, Dataframe.UV_Radiation.value_counts().values);"
      ],
      "metadata": {
        "colab": {
          "base_uri": "https://localhost:8080/",
          "height": 265
        },
        "id": "VtdSS9naoFlR",
        "outputId": "454131a6-6810-42c2-ca18-c3e0c2251af8"
      },
      "execution_count": 71,
      "outputs": [
        {
          "output_type": "display_data",
          "data": {
            "image/png": "[encoded data removed]",
            "text/plain": [
              "<Figure size 432x288 with 1 Axes>"
            ]
          },
          "metadata": {
            "needs_background": "light"
          }
        }
      ]
    },
    {
      "cell_type": "code",
      "source": [
        "Dataframe.drop(Dataframe.index[Dataframe['UV_Radiation'] == 'very_high'], inplace = True)\n",
        "Dataframe.drop(Dataframe.index[Dataframe['UV_Radiation'] == 'low'], inplace = True)"
      ],
      "metadata": {
        "id": "TqxAnqW7r0GQ"
      },
      "execution_count": null,
      "outputs": []
    },
    {
      "cell_type": "code",
      "source": [
        "plt.bar(Dataframe.UV_Radiation.value_counts().index, Dataframe.UV_Radiation.value_counts().values);"
      ],
      "metadata": {
        "colab": {
          "base_uri": "https://localhost:8080/",
          "height": 264
        },
        "id": "Czdz08XxsMkw",
        "outputId": "2747a85a-87de-4666-ab67-9342c9aff0d6"
      },
      "execution_count": 73,
      "outputs": [
        {
          "output_type": "display_data",
          "data": {
            "image/png": "[encoded data removed]",
            "text/plain": [
              "<Figure size 432x288 with 1 Axes>"
            ]
          },
          "metadata": {
            "needs_background": "light"
          }
        }
      ]
    },
    {
      "cell_type": "code",
      "source": [
        "label_encoder = LabelEncoder()\n",
        "upd_radiation = label_encoder.fit_transform(Dataframe.UV_Radiation)\n",
        "upd_radiation"
      ],
      "metadata": {
        "colab": {
          "base_uri": "https://localhost:8080/"
        },
        "id": "NO6Cf6prtvgX",
        "outputId": "c00b4829-a65d-4999-e64f-b8a440831bec"
      },
      "execution_count": 89,
      "outputs": [
        {
          "output_type": "execute_result",
          "data": {
            "text/plain": [
              "array([1, 1, 1, ..., 0, 0, 0])"
            ]
          },
          "metadata": {},
          "execution_count": 89
        }
      ]
    },
    {
      "cell_type": "code",
      "source": [
        "Dataframe['UV_Radiation'] = upd_radiation"
      ],
      "metadata": {
        "id": "uYu0lztdvTQW"
      },
      "execution_count": 90,
      "outputs": []
    },
    {
      "cell_type": "code",
      "source": [
        "Soloframe = Dataframe[['min_ground_temp(°C)', 'max_ground_temp(°C)', 'UV_Radiation']]\n",
        "Soloframe"
      ],
      "metadata": {
        "colab": {
          "base_uri": "https://localhost:8080/",
          "height": 423
        },
        "id": "abGCWOTaNSNb",
        "outputId": "2e19ad8c-5ab4-4532-9896-e578d773dcb0"
      },
      "execution_count": 91,
      "outputs": [
        {
          "output_type": "execute_result",
          "data": {
            "text/html": [
              "\n",
              "  <div id=\"df-0d08b4bd-acd3-4069-ae4d-08b30b0c32cd\">\n",
              "    <div class=\"colab-df-container\">\n",
              "      <div>\n",
              "<style scoped>\n",
              "    .dataframe tbody tr th:only-of-type {\n",
              "        vertical-align: middle;\n",
              "    }\n",
              "\n",
              "    .dataframe tbody tr th {\n",
              "        vertical-align: top;\n",
              "    }\n",
              "\n",
              "    .dataframe thead th {\n",
              "        text-align: right;\n",
              "    }\n",
              "</style>\n",
              "<table border=\"1\" class=\"dataframe\">\n",
              "  <thead>\n",
              "    <tr style=\"text-align: right;\">\n",
              "      <th></th>\n",
              "      <th>min_ground_temp(°C)</th>\n",
              "      <th>max_ground_temp(°C)</th>\n",
              "      <th>UV_Radiation</th>\n",
              "    </tr>\n",
              "  </thead>\n",
              "  <tbody>\n",
              "    <tr>\n",
              "      <th>0</th>\n",
              "      <td>-71</td>\n",
              "      <td>-3</td>\n",
              "      <td>1</td>\n",
              "    </tr>\n",
              "    <tr>\n",
              "      <th>1</th>\n",
              "      <td>-72</td>\n",
              "      <td>-3</td>\n",
              "      <td>1</td>\n",
              "    </tr>\n",
              "    <tr>\n",
              "      <th>2</th>\n",
              "      <td>-70</td>\n",
              "      <td>-4</td>\n",
              "      <td>1</td>\n",
              "    </tr>\n",
              "    <tr>\n",
              "      <th>3</th>\n",
              "      <td>-70</td>\n",
              "      <td>-6</td>\n",
              "      <td>1</td>\n",
              "    </tr>\n",
              "    <tr>\n",
              "      <th>4</th>\n",
              "      <td>-71</td>\n",
              "      <td>-7</td>\n",
              "      <td>1</td>\n",
              "    </tr>\n",
              "    <tr>\n",
              "      <th>...</th>\n",
              "      <td>...</td>\n",
              "      <td>...</td>\n",
              "      <td>...</td>\n",
              "    </tr>\n",
              "    <tr>\n",
              "      <th>3096</th>\n",
              "      <td>-65</td>\n",
              "      <td>-4</td>\n",
              "      <td>0</td>\n",
              "    </tr>\n",
              "    <tr>\n",
              "      <th>3097</th>\n",
              "      <td>-66</td>\n",
              "      <td>-5</td>\n",
              "      <td>0</td>\n",
              "    </tr>\n",
              "    <tr>\n",
              "      <th>3098</th>\n",
              "      <td>-66</td>\n",
              "      <td>-8</td>\n",
              "      <td>0</td>\n",
              "    </tr>\n",
              "    <tr>\n",
              "      <th>3099</th>\n",
              "      <td>-66</td>\n",
              "      <td>-6</td>\n",
              "      <td>0</td>\n",
              "    </tr>\n",
              "    <tr>\n",
              "      <th>3135</th>\n",
              "      <td>-73</td>\n",
              "      <td>0</td>\n",
              "      <td>0</td>\n",
              "    </tr>\n",
              "  </tbody>\n",
              "</table>\n",
              "<p>2800 rows × 3 columns</p>\n",
              "</div>\n",
              "      <button class=\"colab-df-convert\" onclick=\"convertToInteractive('df-0d08b4bd-acd3-4069-ae4d-08b30b0c32cd')\"\n",
              "              title=\"Convert this dataframe to an interactive table.\"\n",
              "              style=\"display:none;\">\n",
              "        \n",
              "  <svg xmlns=\"http://www.w3.org/2000/svg\" height=\"24px\"viewBox=\"0 0 24 24\"\n",
              "       width=\"24px\">\n",
              "    <path d=\"M0 0h24v24H0V0z\" fill=\"none\"/>\n",
              "    <path d=\"M18.56 5.44l.94 2.06.94-2.06 2.06-.94-2.06-.94-.94-2.06-.94 2.06-2.06.94zm-11 1L8.5 8.5l.94-2.06 2.06-.94-2.06-.94L8.5 2.5l-.94 2.06-2.06.94zm10 10l.94 2.06.94-2.06 2.06-.94-2.06-.94-.94-2.06-.94 2.06-2.06.94z\"/><path d=\"M17.41 7.96l-1.37-1.37c-.4-.4-.92-.59-1.43-.59-.52 0-1.04.2-1.43.59L10.3 9.45l-7.72 7.72c-.78.78-.78 2.05 0 2.83L4 21.41c.39.39.9.59 1.41.59.51 0 1.02-.2 1.41-.59l7.78-7.78 2.81-2.81c.8-.78.8-2.07 0-2.86zM5.41 20L4 18.59l7.72-7.72 1.47 1.35L5.41 20z\"/>\n",
              "  </svg>\n",
              "      </button>\n",
              "      \n",
              "  <style>\n",
              "    .colab-df-container {\n",
              "      display:flex;\n",
              "      flex-wrap:wrap;\n",
              "      gap: 12px;\n",
              "    }\n",
              "\n",
              "    .colab-df-convert {\n",
              "      background-color: #E8F0FE;\n",
              "      border: none;\n",
              "      border-radius: 50%;\n",
              "      cursor: pointer;\n",
              "      display: none;\n",
              "      fill: #1967D2;\n",
              "      height: 32px;\n",
              "      padding: 0 0 0 0;\n",
              "      width: 32px;\n",
              "    }\n",
              "\n",
              "    .colab-df-convert:hover {\n",
              "      background-color: #E2EBFA;\n",
              "      box-shadow: 0px 1px 2px rgba(60, 64, 67, 0.3), 0px 1px 3px 1px rgba(60, 64, 67, 0.15);\n",
              "      fill: #174EA6;\n",
              "    }\n",
              "\n",
              "    [theme=dark] .colab-df-convert {\n",
              "      background-color: #3B4455;\n",
              "      fill: #D2E3FC;\n",
              "    }\n",
              "\n",
              "    [theme=dark] .colab-df-convert:hover {\n",
              "      background-color: #434B5C;\n",
              "      box-shadow: 0px 1px 3px 1px rgba(0, 0, 0, 0.15);\n",
              "      filter: drop-shadow(0px 1px 2px rgba(0, 0, 0, 0.3));\n",
              "      fill: #FFFFFF;\n",
              "    }\n",
              "  </style>\n",
              "\n",
              "      <script>\n",
              "        const buttonEl =\n",
              "          document.querySelector('#df-0d08b4bd-acd3-4069-ae4d-08b30b0c32cd button.colab-df-convert');\n",
              "        buttonEl.style.display =\n",
              "          google.colab.kernel.accessAllowed ? 'block' : 'none';\n",
              "\n",
              "        async function convertToInteractive(key) {\n",
              "          const element = document.querySelector('#df-0d08b4bd-acd3-4069-ae4d-08b30b0c32cd');\n",
              "          const dataTable =\n",
              "            await google.colab.kernel.invokeFunction('convertToInteractive',\n",
              "                                                     [key], {});\n",
              "          if (!dataTable) return;\n",
              "\n",
              "          const docLinkHtml = 'Like what you see? Visit the ' +\n",
              "            '<a target=\"_blank\" href=https://colab.research.google.com/notebooks/data_table.ipynb>data table notebook</a>'\n",
              "            + ' to learn more about interactive tables.';\n",
              "          element.innerHTML = '';\n",
              "          dataTable['output_type'] = 'display_data';\n",
              "          await google.colab.output.renderOutput(dataTable, element);\n",
              "          const docLink = document.createElement('div');\n",
              "          docLink.innerHTML = docLinkHtml;\n",
              "          element.appendChild(docLink);\n",
              "        }\n",
              "      </script>\n",
              "    </div>\n",
              "  </div>\n",
              "  "
            ],
            "text/plain": [
              "      min_ground_temp(°C)  max_ground_temp(°C)  UV_Radiation\n",
              "0                     -71                   -3             1\n",
              "1                     -72                   -3             1\n",
              "2                     -70                   -4             1\n",
              "3                     -70                   -6             1\n",
              "4                     -71                   -7             1\n",
              "...                   ...                  ...           ...\n",
              "3096                  -65                   -4             0\n",
              "3097                  -66                   -5             0\n",
              "3098                  -66                   -8             0\n",
              "3099                  -66                   -6             0\n",
              "3135                  -73                    0             0\n",
              "\n",
              "[2800 rows x 3 columns]"
            ]
          },
          "metadata": {},
          "execution_count": 91
        }
      ]
    },
    {
      "cell_type": "markdown",
      "source": [
        "### área de Gráficos - Testes de váriaveis\n"
      ],
      "metadata": {
        "id": "1S-rpMbJL955"
      }
    },
    {
      "cell_type": "code",
      "source": [
        "fig, axs = plt.subplots(2, 2, figsize=(18, 8))\n",
        "\n",
        "sb.histplot(data=Dataframe, x='max_ground_temp(°C)', kde=True, color=\"skyblue\", ax=axs[0, 0])\n",
        "sb.histplot(data=Dataframe, x='min_ground_temp(°C)', kde=True, color=\"olive\", ax=axs[0, 1])\n",
        "sb.histplot(data=Dataframe, x='max_air_temp(°C)', kde=True, color=\"gold\", ax=axs[1, 0])\n",
        "sb.histplot(data=Dataframe, x='min_air_temp(°C)', kde=True, color=\"teal\", ax=axs[1, 1])\n",
        "\n",
        "plt.show()"
      ],
      "metadata": {
        "id": "KSjzrufHc6A5",
        "colab": {
          "base_uri": "https://localhost:8080/",
          "height": 501
        },
        "outputId": "35e1cccb-7646-4a81-c205-2407f59f8bc3"
      },
      "execution_count": 92,
      "outputs": [
        {
          "output_type": "display_data",
          "data": {
            "image/png": "[encoded data removed]",
            "text/plain": [
              "<Figure size 1296x576 with 4 Axes>"
            ]
          },
          "metadata": {
            "needs_background": "light"
          }
        }
      ]
    },
    {
      "cell_type": "markdown",
      "source": [
        "### Identificação de Outliers:"
      ],
      "metadata": {
        "id": "Yhv3qg6B0Y68"
      }
    },
    {
      "cell_type": "code",
      "source": [
        "colunas = ['max_ground_temp(°C)', 'min_ground_temp(°C)', 'max_air_temp(°C)', 'min_air_temp(°C)']\n",
        "Dataframe[colunas].plot.box(grid = True, figsize=(12,8))"
      ],
      "metadata": {
        "id": "ORH9xUhG3NNA",
        "colab": {
          "base_uri": "https://localhost:8080/",
          "height": 502
        },
        "outputId": "be88d0e0-29eb-4dd5-d0b7-40a440af129f"
      },
      "execution_count": 78,
      "outputs": [
        {
          "output_type": "execute_result",
          "data": {
            "text/plain": [
              "<matplotlib.axes._subplots.AxesSubplot at 0x7f2d5b528590>"
            ]
          },
          "metadata": {},
          "execution_count": 78
        },
        {
          "output_type": "display_data",
          "data": {
            "image/png": "[encoded data removed]",
            "text/plain": [
              "<Figure size 864x576 with 1 Axes>"
            ]
          },
          "metadata": {
            "needs_background": "light"
          }
        }
      ]
    },
    {
      "cell_type": "code",
      "source": [
        "fig, axs = plt.subplots(2, 2, figsize=(18, 8))\n",
        "\n",
        "sb.boxplot(data=Dataframe, x='max_ground_temp(°C)', color=\"skyblue\", ax=axs[0, 0])\n",
        "sb.boxplot(data=Dataframe, x='min_ground_temp(°C)',  color=\"olive\", ax=axs[0, 1])\n",
        "sb.boxplot(data=Dataframe, x='max_air_temp(°C)', color=\"gold\", ax=axs[1, 0])\n",
        "sb.boxplot(data=Dataframe, x='min_air_temp(°C)', color=\"teal\", ax=axs[1, 1])\n",
        "\n",
        "plt.show()"
      ],
      "metadata": {
        "id": "ySb3Qwmm0uTR",
        "colab": {
          "base_uri": "https://localhost:8080/",
          "height": 497
        },
        "outputId": "b155cea4-5e3b-4ed8-bdd4-1681ca893703"
      },
      "execution_count": 79,
      "outputs": [
        {
          "output_type": "display_data",
          "data": {
            "image/png": "[encoded data removed]",
            "text/plain": [
              "<Figure size 1296x576 with 4 Axes>"
            ]
          },
          "metadata": {
            "needs_background": "light"
          }
        }
      ]
    },
    {
      "cell_type": "code",
      "source": [
        "Dataframe['min_air_temp(°C)'].describe()"
      ],
      "metadata": {
        "id": "AJQRptFg2nVg",
        "colab": {
          "base_uri": "https://localhost:8080/"
        },
        "outputId": "6417090c-6f8a-4e47-ffef-c6629a790a25"
      },
      "execution_count": 80,
      "outputs": [
        {
          "output_type": "execute_result",
          "data": {
            "text/plain": [
              "count    2800.000000\n",
              "mean      -81.105714\n",
              "std         8.699639\n",
              "min      -136.000000\n",
              "25%       -86.000000\n",
              "50%       -81.000000\n",
              "75%       -75.000000\n",
              "max        -8.000000\n",
              "Name: min_air_temp(°C), dtype: float64"
            ]
          },
          "metadata": {},
          "execution_count": 80
        }
      ]
    },
    {
      "cell_type": "code",
      "source": [
        "#trata outlier pela regra do 1.5*IQR (variação interquartil)\n",
        "\n",
        "q1 = Dataframe['min_air_temp(°C)'].quantile(0.25)\n",
        "print(f'q1: {q1}')\n",
        "q3 = Dataframe['min_air_temp(°C)'].quantile(0.75)\n",
        "print(f'q3: {q3}')\n",
        "iqr = q3 - q1\n",
        "print(f'iqr: {iqr}')\n",
        "lLim = q1 - 1.5 * iqr \n",
        "print(f'lLim: {lLim}')\n",
        "hLim = q3 + 1.5 * iqr\n",
        "print(f'hLim: {hLim}')"
      ],
      "metadata": {
        "id": "GS4KhqSU2mZs",
        "colab": {
          "base_uri": "https://localhost:8080/"
        },
        "outputId": "e60ac8a9-ee89-4eaf-9941-e613e71b70ad"
      },
      "execution_count": 81,
      "outputs": [
        {
          "output_type": "stream",
          "name": "stdout",
          "text": [
            "q1: -86.0\n",
            "q3: -75.0\n",
            "iqr: 11.0\n",
            "lLim: -102.5\n",
            "hLim: -58.5\n"
          ]
        }
      ]
    },
    {
      "cell_type": "code",
      "source": [
        "#SUBSTITUI VALORES CONSIDERADOS OUTLIER\n",
        "\n",
        "Dataframe.loc[Dataframe['min_air_temp(°C)'] < lLim, 'min_air_temp(°C)'] = lLim #substitui os valores abaixo do limite inferior pelo limite inferior\n",
        "Dataframe.loc[Dataframe['min_air_temp(°C)'] > hLim, 'min_air_temp(°C)'] = hLim #substitui os valores acima do limite superior pelo limite superior"
      ],
      "metadata": {
        "id": "r76HwNCy2D_p"
      },
      "execution_count": 82,
      "outputs": []
    },
    {
      "cell_type": "code",
      "source": [
        "sb.boxplot(data=Dataframe, x='min_air_temp(°C)', color=\"teal\")\n",
        "plt.show()"
      ],
      "metadata": {
        "colab": {
          "base_uri": "https://localhost:8080/",
          "height": 280
        },
        "id": "IoUOy_E4xD9E",
        "outputId": "5b4daedf-0318-4a8e-8773-8508b16e74ca"
      },
      "execution_count": 97,
      "outputs": [
        {
          "output_type": "display_data",
          "data": {
            "image/png": "[encoded data removed]",
            "text/plain": [
              "<Figure size 432x288 with 1 Axes>"
            ]
          },
          "metadata": {
            "needs_background": "light"
          }
        }
      ]
    },
    {
      "cell_type": "code",
      "source": [
        "Dataframe[colunas].describe()"
      ],
      "metadata": {
        "id": "4T7ea3M43rmH",
        "colab": {
          "base_uri": "https://localhost:8080/",
          "height": 300
        },
        "outputId": "580f61e5-e639-47aa-c11d-1f1b47310848"
      },
      "execution_count": 83,
      "outputs": [
        {
          "output_type": "execute_result",
          "data": {
            "text/html": [
              "\n",
              "  <div id=\"df-97c906cc-e4a5-4534-8277-7ee28b3c09c8\">\n",
              "    <div class=\"colab-df-container\">\n",
              "      <div>\n",
              "<style scoped>\n",
              "    .dataframe tbody tr th:only-of-type {\n",
              "        vertical-align: middle;\n",
              "    }\n",
              "\n",
              "    .dataframe tbody tr th {\n",
              "        vertical-align: top;\n",
              "    }\n",
              "\n",
              "    .dataframe thead th {\n",
              "        text-align: right;\n",
              "    }\n",
              "</style>\n",
              "<table border=\"1\" class=\"dataframe\">\n",
              "  <thead>\n",
              "    <tr style=\"text-align: right;\">\n",
              "      <th></th>\n",
              "      <th>max_ground_temp(°C)</th>\n",
              "      <th>min_ground_temp(°C)</th>\n",
              "      <th>max_air_temp(°C)</th>\n",
              "      <th>min_air_temp(°C)</th>\n",
              "    </tr>\n",
              "  </thead>\n",
              "  <tbody>\n",
              "    <tr>\n",
              "      <th>count</th>\n",
              "      <td>2800.000000</td>\n",
              "      <td>2800.000000</td>\n",
              "      <td>2800.000000</td>\n",
              "      <td>2800.000000</td>\n",
              "    </tr>\n",
              "    <tr>\n",
              "      <th>mean</th>\n",
              "      <td>-14.001429</td>\n",
              "      <td>-75.686071</td>\n",
              "      <td>1.481786</td>\n",
              "      <td>-81.018750</td>\n",
              "    </tr>\n",
              "    <tr>\n",
              "      <th>std</th>\n",
              "      <td>10.371829</td>\n",
              "      <td>5.278356</td>\n",
              "      <td>9.095167</td>\n",
              "      <td>7.687568</td>\n",
              "    </tr>\n",
              "    <tr>\n",
              "      <th>min</th>\n",
              "      <td>-35.000000</td>\n",
              "      <td>-100.000000</td>\n",
              "      <td>-61.000000</td>\n",
              "      <td>-102.500000</td>\n",
              "    </tr>\n",
              "    <tr>\n",
              "      <th>25%</th>\n",
              "      <td>-23.000000</td>\n",
              "      <td>-79.000000</td>\n",
              "      <td>-6.000000</td>\n",
              "      <td>-86.000000</td>\n",
              "    </tr>\n",
              "    <tr>\n",
              "      <th>50%</th>\n",
              "      <td>-14.000000</td>\n",
              "      <td>-76.000000</td>\n",
              "      <td>2.000000</td>\n",
              "      <td>-81.000000</td>\n",
              "    </tr>\n",
              "    <tr>\n",
              "      <th>75%</th>\n",
              "      <td>-5.000000</td>\n",
              "      <td>-71.000000</td>\n",
              "      <td>9.000000</td>\n",
              "      <td>-75.000000</td>\n",
              "    </tr>\n",
              "    <tr>\n",
              "      <th>max</th>\n",
              "      <td>11.000000</td>\n",
              "      <td>-52.000000</td>\n",
              "      <td>22.000000</td>\n",
              "      <td>-58.500000</td>\n",
              "    </tr>\n",
              "  </tbody>\n",
              "</table>\n",
              "</div>\n",
              "      <button class=\"colab-df-convert\" onclick=\"convertToInteractive('df-97c906cc-e4a5-4534-8277-7ee28b3c09c8')\"\n",
              "              title=\"Convert this dataframe to an interactive table.\"\n",
              "              style=\"display:none;\">\n",
              "        \n",
              "  <svg xmlns=\"http://www.w3.org/2000/svg\" height=\"24px\"viewBox=\"0 0 24 24\"\n",
              "       width=\"24px\">\n",
              "    <path d=\"M0 0h24v24H0V0z\" fill=\"none\"/>\n",
              "    <path d=\"M18.56 5.44l.94 2.06.94-2.06 2.06-.94-2.06-.94-.94-2.06-.94 2.06-2.06.94zm-11 1L8.5 8.5l.94-2.06 2.06-.94-2.06-.94L8.5 2.5l-.94 2.06-2.06.94zm10 10l.94 2.06.94-2.06 2.06-.94-2.06-.94-.94-2.06-.94 2.06-2.06.94z\"/><path d=\"M17.41 7.96l-1.37-1.37c-.4-.4-.92-.59-1.43-.59-.52 0-1.04.2-1.43.59L10.3 9.45l-7.72 7.72c-.78.78-.78 2.05 0 2.83L4 21.41c.39.39.9.59 1.41.59.51 0 1.02-.2 1.41-.59l7.78-7.78 2.81-2.81c.8-.78.8-2.07 0-2.86zM5.41 20L4 18.59l7.72-7.72 1.47 1.35L5.41 20z\"/>\n",
              "  </svg>\n",
              "      </button>\n",
              "      \n",
              "  <style>\n",
              "    .colab-df-container {\n",
              "      display:flex;\n",
              "      flex-wrap:wrap;\n",
              "      gap: 12px;\n",
              "    }\n",
              "\n",
              "    .colab-df-convert {\n",
              "      background-color: #E8F0FE;\n",
              "      border: none;\n",
              "      border-radius: 50%;\n",
              "      cursor: pointer;\n",
              "      display: none;\n",
              "      fill: #1967D2;\n",
              "      height: 32px;\n",
              "      padding: 0 0 0 0;\n",
              "      width: 32px;\n",
              "    }\n",
              "\n",
              "    .colab-df-convert:hover {\n",
              "      background-color: #E2EBFA;\n",
              "      box-shadow: 0px 1px 2px rgba(60, 64, 67, 0.3), 0px 1px 3px 1px rgba(60, 64, 67, 0.15);\n",
              "      fill: #174EA6;\n",
              "    }\n",
              "\n",
              "    [theme=dark] .colab-df-convert {\n",
              "      background-color: #3B4455;\n",
              "      fill: #D2E3FC;\n",
              "    }\n",
              "\n",
              "    [theme=dark] .colab-df-convert:hover {\n",
              "      background-color: #434B5C;\n",
              "      box-shadow: 0px 1px 3px 1px rgba(0, 0, 0, 0.15);\n",
              "      filter: drop-shadow(0px 1px 2px rgba(0, 0, 0, 0.3));\n",
              "      fill: #FFFFFF;\n",
              "    }\n",
              "  </style>\n",
              "\n",
              "      <script>\n",
              "        const buttonEl =\n",
              "          document.querySelector('#df-97c906cc-e4a5-4534-8277-7ee28b3c09c8 button.colab-df-convert');\n",
              "        buttonEl.style.display =\n",
              "          google.colab.kernel.accessAllowed ? 'block' : 'none';\n",
              "\n",
              "        async function convertToInteractive(key) {\n",
              "          const element = document.querySelector('#df-97c906cc-e4a5-4534-8277-7ee28b3c09c8');\n",
              "          const dataTable =\n",
              "            await google.colab.kernel.invokeFunction('convertToInteractive',\n",
              "                                                     [key], {});\n",
              "          if (!dataTable) return;\n",
              "\n",
              "          const docLinkHtml = 'Like what you see? Visit the ' +\n",
              "            '<a target=\"_blank\" href=https://colab.research.google.com/notebooks/data_table.ipynb>data table notebook</a>'\n",
              "            + ' to learn more about interactive tables.';\n",
              "          element.innerHTML = '';\n",
              "          dataTable['output_type'] = 'display_data';\n",
              "          await google.colab.output.renderOutput(dataTable, element);\n",
              "          const docLink = document.createElement('div');\n",
              "          docLink.innerHTML = docLinkHtml;\n",
              "          element.appendChild(docLink);\n",
              "        }\n",
              "      </script>\n",
              "    </div>\n",
              "  </div>\n",
              "  "
            ],
            "text/plain": [
              "       max_ground_temp(°C)  ...  min_air_temp(°C)\n",
              "count          2800.000000  ...       2800.000000\n",
              "mean            -14.001429  ...        -81.018750\n",
              "std              10.371829  ...          7.687568\n",
              "min             -35.000000  ...       -102.500000\n",
              "25%             -23.000000  ...        -86.000000\n",
              "50%             -14.000000  ...        -81.000000\n",
              "75%              -5.000000  ...        -75.000000\n",
              "max              11.000000  ...        -58.500000\n",
              "\n",
              "[8 rows x 4 columns]"
            ]
          },
          "metadata": {},
          "execution_count": 83
        }
      ]
    },
    {
      "cell_type": "markdown",
      "source": [
        "### Gráfico de Dispersão:"
      ],
      "metadata": {
        "id": "esNSI86XOvyN"
      }
    },
    {
      "cell_type": "code",
      "source": [
        "sb.pairplot(data=Dataframe[['max_ground_temp(°C)', 'min_ground_temp(°C)', 'max_air_temp(°C)', 'min_air_temp(°C)', 'UV_Radiation']])"
      ],
      "metadata": {
        "id": "DVjrVP4sN8GD",
        "colab": {
          "base_uri": "https://localhost:8080/",
          "height": 921
        },
        "outputId": "9b5282b9-ff9a-4328-fc92-c7ab0087cb2d"
      },
      "execution_count": 93,
      "outputs": [
        {
          "output_type": "execute_result",
          "data": {
            "text/plain": [
              "<seaborn.axisgrid.PairGrid at 0x7f2d57cdfc90>"
            ]
          },
          "metadata": {},
          "execution_count": 93
        },
        {
          "output_type": "display_data",
          "data": {
            "image/png": "[encoded data removed]",
            "text/plain": [
              "<Figure size 900x900 with 30 Axes>"
            ]
          },
          "metadata": {
            "needs_background": "light"
          }
        }
      ]
    },
    {
      "cell_type": "markdown",
      "source": [
        "### Correlações:"
      ],
      "metadata": {
        "id": "J33beN09O7JS"
      }
    },
    {
      "cell_type": "markdown",
      "source": [
        "Verifica o quão fortemente dois atributos estão correlacionados entre si. Uma medida de correlação clássica é o coeficiente de correlação de Pearson que mede o grau de correlação e a direção dessa correlação, se positiva ou negativa.\n",
        "\n",
        "Esse coeficiente assume apenas valores entre -1 e 1, onde:\n",
        "\n",
        "\n",
        "> 1 significa uma correlação perfeita positiva entre as duas variáveis;\n",
        "-1 significa uma correlação perfeita negativa entre as duas variáveis, ou seja, se uma aumenta a outra diminui;\n",
        "0 significa que as duas variáveis não dependem linearmente uma da outra\n",
        "Pode-se dizer ainda que, considerando os valores positivos ou negativos:\n",
        "*  0 < corr < 0.3 significa fraca correlação;\n",
        "*  0.3 < corr < 0.7 significa correlação moderada;\n",
        "*  0.7 < corr < 1 significa correlação forte.\n",
        "\n",
        "Uma correlação negativa é uma relação entre duas variáveis ​​que se movem em direções opostas. Em outras palavras, quando a variável A aumenta, a variável B diminui."
      ],
      "metadata": {
        "id": "TlLDDyHgPWk6"
      }
    },
    {
      "cell_type": "code",
      "source": [
        "corr = Dataframe.select_dtypes(exclude='object').corr()\n",
        "sb.heatmap(corr, annot=True, fmt=\".1f\")"
      ],
      "metadata": {
        "id": "9HkD2RsyO_aK",
        "colab": {
          "base_uri": "https://localhost:8080/",
          "height": 390
        },
        "outputId": "70650f07-ff77-4963-c9ba-14bf76be839c"
      },
      "execution_count": 94,
      "outputs": [
        {
          "output_type": "execute_result",
          "data": {
            "text/plain": [
              "<matplotlib.axes._subplots.AxesSubplot at 0x7f2d56e7b810>"
            ]
          },
          "metadata": {},
          "execution_count": 94
        },
        {
          "output_type": "display_data",
          "data": {
            "image/png": "[encoded data removed]",
            "text/plain": [
              "<Figure size 432x288 with 2 Axes>"
            ]
          },
          "metadata": {
            "needs_background": "light"
          }
        }
      ]
    },
    {
      "cell_type": "markdown",
      "source": [
        "## ***Capitulo 4:*** Analise Explicita:"
      ],
      "metadata": {
        "id": "bIR7FXeiFGhl"
      }
    },
    {
      "cell_type": "markdown",
      "source": [
        "Introdução:\n",
        "> Nessa analise temos que realçar os dados que estão explicitos nas tabelas e a partir de operações de ordenação e rotulagem os transformar em informações;\n",
        "\n",
        "Ferramentas:\n",
        "*   Filtros\n",
        "*   Criações de colunas\n",
        "\n"
      ],
      "metadata": {
        "id": "UyDLf96djdME"
      }
    }
  ]
}