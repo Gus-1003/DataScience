{
  "nbformat": 4,
  "nbformat_minor": 0,
  "metadata": {
    "colab": {
      "provenance": [],
      "collapsed_sections": [
        "A_SMiPorSG23"
      ],
      "toc_visible": true,
      "include_colab_link": true
    },
    "kernelspec": {
      "name": "python3",
      "display_name": "Python 3"
    },
    "language_info": {
      "name": "python"
    }
  },
  "cells": [
    {
      "cell_type": "markdown",
      "metadata": {
        "id": "view-in-github",
        "colab_type": "text"
      },
      "source": [
        "<a href=\"https://colab.research.google.com/github/Gus-1003/DataScience-Minhas_Praticas/blob/main/Analise_Dataset_Avalia%C3%A7%C3%A3o_restaurante/Analise_Dataset_Avalia%C3%A7%C3%A3o_restaurante.ipynb\" target=\"_parent\"><img src=\"https://colab.research.google.com/assets/colab-badge.svg\" alt=\"Open In Colab\"/></a>"
      ]
    },
    {
      "cell_type": "markdown",
      "source": [
        "# Contexto:"
      ],
      "metadata": {
        "id": "xJdWULpzuH0M"
      }
    },
    {
      "cell_type": "markdown",
      "source": [
        "## Para deixar claro:\n"
      ],
      "metadata": {
        "id": "dzNkhi9-Ep0p"
      }
    },
    {
      "cell_type": "markdown",
      "source": [
        "Esta será a minha primeira experiência na aplicação de conhecimentos e técnicas de análise multivariada. Caso você, que está lendo, identifique algum erro ou tenha alguma sugestão, por favor, entre em contato comigo pelo e-mail: gm88605363@gmail.com."
      ],
      "metadata": {
        "id": "2YgVZen_EwaI"
      }
    },
    {
      "cell_type": "markdown",
      "source": [
        "A análise multivariada é um conjunto de técnicas estatísticas que lidam com a análise simultânea de múltiplas variáveis ​​para obter uma melhor compreensão dos dados. As etapas comuns para uma análise multivariada incluem:\n",
        "\n",
        "> **Coleta e preparação dos dados:** Esta etapa envolve a coleta de dados relevantes e a preparação desses dados para análise, incluindo a identificação e tratamento de dados ausentes, valores discrepantes, erros e outras anomalias.\n",
        "\n",
        "> **Seleção de variáveis:** A seleção de variáveis ​​adequadas é essencial para garantir que a análise multivariada seja efetiva e relevante. Isso envolve identificar as variáveis ​​que são mais importantes para o problema em questão e descartar as variáveis ​​que não são relevantes.\n",
        "\n",
        "> **Análise exploratória de dados:** A análise exploratória de dados é realizada para examinar a distribuição, a relação e a estrutura dos dados. As técnicas comuns para análise exploratória de dados incluem tabelas de frequência, histogramas, gráficos de dispersão, boxplots, matriz de correlação, entre outros.\n",
        "\n",
        "> **Seleção de método de análise:** A seleção do método de análise apropriado é fundamental para a análise multivariada. Alguns dos métodos mais comuns são análise de componentes principais, análise fatorial, análise discriminante, regressão múltipla, análise de cluster, entre outros.\n",
        "\n",
        "> **Interpretação dos resultados:** A interpretação dos resultados da análise multivariada é a etapa final. Nesta etapa, os resultados são interpretados para identificar as principais conclusões e padrões nos dados, bem como as implicações para a tomada de decisões. A interpretação pode incluir a visualização dos dados, como gráficos e mapas, para tornar os resultados mais claros e fáceis de entender."
      ],
      "metadata": {
        "id": "9rhrV4idYbs0"
      }
    },
    {
      "cell_type": "markdown",
      "metadata": {
        "id": "a3oDpL5sSRjs"
      },
      "source": [
        "# Importando Bibliotecas:\n"
      ]
    },
    {
      "cell_type": "code",
      "metadata": {
        "id": "wu6997KuFJ-o"
      },
      "source": [
        "# Numpy é uma biblioteca para realizar operações matemáticas com arrays e matrizes multidimensionais.\n",
        "import numpy as np\n",
        "\n",
        "'''O Pandas consegue manipular e analisar de dados em Python. Ele oferece estruturas de dados e \n",
        "ferramentas para trabalhar com dados tabulares e séries temporais.'''\n",
        "import pandas as pd\n",
        "\n",
        "'''matplotlib.pyplot, biblioteca de visualização de dados em Python. Ele permite a criação de \n",
        "gráficos 2D de alta qualidade, como gráficos de linha, gráficos de barras, gráficos de dispersão e muito mais.'''\n",
        "import matplotlib.pyplot as plt\n",
        "\n",
        "'''seaborn é usada para visualização de dados estatísticos em Python. Ele fornece uma \n",
        "interface de alto nível para criar gráficos estatísticos atraentes e informativos.'''\n",
        "import seaborn as sns"
      ],
      "execution_count": 1,
      "outputs": []
    },
    {
      "cell_type": "markdown",
      "source": [
        "# Lendo arquivo:"
      ],
      "metadata": {
        "id": "1QDiRBy1sPbs"
      }
    },
    {
      "cell_type": "code",
      "metadata": {
        "id": "9WzFBNmpFppf"
      },
      "source": [
        "dados = \"https://raw.githubusercontent.com/Gus-1003/DataScience-Minhas_Praticas/main/Analise_Dataset_Avalia%C3%A7%C3%A3o_restaurante/Restaurante.csv\"\n",
        "df = pd.read_csv(dados, delimiter=\",\", quotechar='\"')"
      ],
      "execution_count": 2,
      "outputs": []
    },
    {
      "cell_type": "markdown",
      "source": [
        "# Preparando os Dados:"
      ],
      "metadata": {
        "id": "r_oOvB-TscoW"
      }
    },
    {
      "cell_type": "markdown",
      "source": [
        "## Visualização:"
      ],
      "metadata": {
        "id": "sQCPfMcytEik"
      }
    },
    {
      "cell_type": "code",
      "source": [
        "# exibe o dataframe\n",
        "df"
      ],
      "metadata": {
        "colab": {
          "base_uri": "https://localhost:8080/",
          "height": 426
        },
        "id": "dCDHBw_tYDpE",
        "outputId": "c6a9d2e3-5da8-4abb-ecf2-87b31381fa44"
      },
      "execution_count": 3,
      "outputs": [
        {
          "output_type": "execute_result",
          "data": {
            "text/plain": [
              "   AVALIAÇÃO 1 AVALIAÇÃO 2 AVALIAÇÃO 3        Situação\n",
              "0         9,69       22,91        2,36      Fidelizado\n",
              "1         5,54       28,64        5,17      Fidelizado\n",
              "2           ??       22,91          ??      Fidelizado\n",
              "3        12,46       40,09        3,22      Fidelizado\n",
              "4        11,07       17,18        1,55      Fidelizado\n",
              "5         8,30       57.27        6,90      Fidelizado\n",
              "6         2,77       34,36       12,41  Não fidelizado\n",
              "7         5,54       17.18        6,01  Não fidelizado\n",
              "8           ??       11,45          ??  Não fidelizado\n",
              "9         8,30          ??          ??  Não fidelizado\n",
              "10        6,92        5,73        4,88  Não fidelizado\n",
              "11       13,84       11,45        0,83  Não fidelizado"
            ],
            "text/html": [
              "\n",
              "  <div id=\"df-8059bcc5-cbf0-4b80-a0da-c204d91ed71c\">\n",
              "    <div class=\"colab-df-container\">\n",
              "      <div>\n",
              "<style scoped>\n",
              "    .dataframe tbody tr th:only-of-type {\n",
              "        vertical-align: middle;\n",
              "    }\n",
              "\n",
              "    .dataframe tbody tr th {\n",
              "        vertical-align: top;\n",
              "    }\n",
              "\n",
              "    .dataframe thead th {\n",
              "        text-align: right;\n",
              "    }\n",
              "</style>\n",
              "<table border=\"1\" class=\"dataframe\">\n",
              "  <thead>\n",
              "    <tr style=\"text-align: right;\">\n",
              "      <th></th>\n",
              "      <th>AVALIAÇÃO 1</th>\n",
              "      <th>AVALIAÇÃO 2</th>\n",
              "      <th>AVALIAÇÃO 3</th>\n",
              "      <th>Situação</th>\n",
              "    </tr>\n",
              "  </thead>\n",
              "  <tbody>\n",
              "    <tr>\n",
              "      <th>0</th>\n",
              "      <td>9,69</td>\n",
              "      <td>22,91</td>\n",
              "      <td>2,36</td>\n",
              "      <td>Fidelizado</td>\n",
              "    </tr>\n",
              "    <tr>\n",
              "      <th>1</th>\n",
              "      <td>5,54</td>\n",
              "      <td>28,64</td>\n",
              "      <td>5,17</td>\n",
              "      <td>Fidelizado</td>\n",
              "    </tr>\n",
              "    <tr>\n",
              "      <th>2</th>\n",
              "      <td>??</td>\n",
              "      <td>22,91</td>\n",
              "      <td>??</td>\n",
              "      <td>Fidelizado</td>\n",
              "    </tr>\n",
              "    <tr>\n",
              "      <th>3</th>\n",
              "      <td>12,46</td>\n",
              "      <td>40,09</td>\n",
              "      <td>3,22</td>\n",
              "      <td>Fidelizado</td>\n",
              "    </tr>\n",
              "    <tr>\n",
              "      <th>4</th>\n",
              "      <td>11,07</td>\n",
              "      <td>17,18</td>\n",
              "      <td>1,55</td>\n",
              "      <td>Fidelizado</td>\n",
              "    </tr>\n",
              "    <tr>\n",
              "      <th>5</th>\n",
              "      <td>8,30</td>\n",
              "      <td>57.27</td>\n",
              "      <td>6,90</td>\n",
              "      <td>Fidelizado</td>\n",
              "    </tr>\n",
              "    <tr>\n",
              "      <th>6</th>\n",
              "      <td>2,77</td>\n",
              "      <td>34,36</td>\n",
              "      <td>12,41</td>\n",
              "      <td>Não fidelizado</td>\n",
              "    </tr>\n",
              "    <tr>\n",
              "      <th>7</th>\n",
              "      <td>5,54</td>\n",
              "      <td>17.18</td>\n",
              "      <td>6,01</td>\n",
              "      <td>Não fidelizado</td>\n",
              "    </tr>\n",
              "    <tr>\n",
              "      <th>8</th>\n",
              "      <td>??</td>\n",
              "      <td>11,45</td>\n",
              "      <td>??</td>\n",
              "      <td>Não fidelizado</td>\n",
              "    </tr>\n",
              "    <tr>\n",
              "      <th>9</th>\n",
              "      <td>8,30</td>\n",
              "      <td>??</td>\n",
              "      <td>??</td>\n",
              "      <td>Não fidelizado</td>\n",
              "    </tr>\n",
              "    <tr>\n",
              "      <th>10</th>\n",
              "      <td>6,92</td>\n",
              "      <td>5,73</td>\n",
              "      <td>4,88</td>\n",
              "      <td>Não fidelizado</td>\n",
              "    </tr>\n",
              "    <tr>\n",
              "      <th>11</th>\n",
              "      <td>13,84</td>\n",
              "      <td>11,45</td>\n",
              "      <td>0,83</td>\n",
              "      <td>Não fidelizado</td>\n",
              "    </tr>\n",
              "  </tbody>\n",
              "</table>\n",
              "</div>\n",
              "      <button class=\"colab-df-convert\" onclick=\"convertToInteractive('df-8059bcc5-cbf0-4b80-a0da-c204d91ed71c')\"\n",
              "              title=\"Convert this dataframe to an interactive table.\"\n",
              "              style=\"display:none;\">\n",
              "        \n",
              "  <svg xmlns=\"http://www.w3.org/2000/svg\" height=\"24px\"viewBox=\"0 0 24 24\"\n",
              "       width=\"24px\">\n",
              "    <path d=\"M0 0h24v24H0V0z\" fill=\"none\"/>\n",
              "    <path d=\"M18.56 5.44l.94 2.06.94-2.06 2.06-.94-2.06-.94-.94-2.06-.94 2.06-2.06.94zm-11 1L8.5 8.5l.94-2.06 2.06-.94-2.06-.94L8.5 2.5l-.94 2.06-2.06.94zm10 10l.94 2.06.94-2.06 2.06-.94-2.06-.94-.94-2.06-.94 2.06-2.06.94z\"/><path d=\"M17.41 7.96l-1.37-1.37c-.4-.4-.92-.59-1.43-.59-.52 0-1.04.2-1.43.59L10.3 9.45l-7.72 7.72c-.78.78-.78 2.05 0 2.83L4 21.41c.39.39.9.59 1.41.59.51 0 1.02-.2 1.41-.59l7.78-7.78 2.81-2.81c.8-.78.8-2.07 0-2.86zM5.41 20L4 18.59l7.72-7.72 1.47 1.35L5.41 20z\"/>\n",
              "  </svg>\n",
              "      </button>\n",
              "      \n",
              "  <style>\n",
              "    .colab-df-container {\n",
              "      display:flex;\n",
              "      flex-wrap:wrap;\n",
              "      gap: 12px;\n",
              "    }\n",
              "\n",
              "    .colab-df-convert {\n",
              "      background-color: #E8F0FE;\n",
              "      border: none;\n",
              "      border-radius: 50%;\n",
              "      cursor: pointer;\n",
              "      display: none;\n",
              "      fill: #1967D2;\n",
              "      height: 32px;\n",
              "      padding: 0 0 0 0;\n",
              "      width: 32px;\n",
              "    }\n",
              "\n",
              "    .colab-df-convert:hover {\n",
              "      background-color: #E2EBFA;\n",
              "      box-shadow: 0px 1px 2px rgba(60, 64, 67, 0.3), 0px 1px 3px 1px rgba(60, 64, 67, 0.15);\n",
              "      fill: #174EA6;\n",
              "    }\n",
              "\n",
              "    [theme=dark] .colab-df-convert {\n",
              "      background-color: #3B4455;\n",
              "      fill: #D2E3FC;\n",
              "    }\n",
              "\n",
              "    [theme=dark] .colab-df-convert:hover {\n",
              "      background-color: #434B5C;\n",
              "      box-shadow: 0px 1px 3px 1px rgba(0, 0, 0, 0.15);\n",
              "      filter: drop-shadow(0px 1px 2px rgba(0, 0, 0, 0.3));\n",
              "      fill: #FFFFFF;\n",
              "    }\n",
              "  </style>\n",
              "\n",
              "      <script>\n",
              "        const buttonEl =\n",
              "          document.querySelector('#df-8059bcc5-cbf0-4b80-a0da-c204d91ed71c button.colab-df-convert');\n",
              "        buttonEl.style.display =\n",
              "          google.colab.kernel.accessAllowed ? 'block' : 'none';\n",
              "\n",
              "        async function convertToInteractive(key) {\n",
              "          const element = document.querySelector('#df-8059bcc5-cbf0-4b80-a0da-c204d91ed71c');\n",
              "          const dataTable =\n",
              "            await google.colab.kernel.invokeFunction('convertToInteractive',\n",
              "                                                     [key], {});\n",
              "          if (!dataTable) return;\n",
              "\n",
              "          const docLinkHtml = 'Like what you see? Visit the ' +\n",
              "            '<a target=\"_blank\" href=https://colab.research.google.com/notebooks/data_table.ipynb>data table notebook</a>'\n",
              "            + ' to learn more about interactive tables.';\n",
              "          element.innerHTML = '';\n",
              "          dataTable['output_type'] = 'display_data';\n",
              "          await google.colab.output.renderOutput(dataTable, element);\n",
              "          const docLink = document.createElement('div');\n",
              "          docLink.innerHTML = docLinkHtml;\n",
              "          element.appendChild(docLink);\n",
              "        }\n",
              "      </script>\n",
              "    </div>\n",
              "  </div>\n",
              "  "
            ]
          },
          "metadata": {},
          "execution_count": 3
        }
      ]
    },
    {
      "cell_type": "code",
      "source": [
        "# substituindo as vírgulas por pontos em todas as colunas\n",
        "df = df.replace(\",\", \".\", regex=True)"
      ],
      "metadata": {
        "id": "g0m7CX--ZI9E"
      },
      "execution_count": 4,
      "outputs": []
    },
    {
      "cell_type": "code",
      "source": [
        "# Substituindo os valores ausentes por NaN\n",
        "df = df.replace(\"??\", np.nan)\n",
        "\n",
        "# Convertendo as colunas de avaliação para valores float\n",
        "df[[\"AVALIAÇÃO 1\", \"AVALIAÇÃO 2\", \"AVALIAÇÃO 3\"]] = df[[\"AVALIAÇÃO 1\", \"AVALIAÇÃO 2\", \"AVALIAÇÃO 3\"]].astype(float)\n",
        "\n",
        "df.rename(columns={\"AVALIAÇÃO 1\": \"Nota 1\", \"AVALIAÇÃO 2\": 'Nota 2', \"AVALIAÇÃO 3\": \"Nota 3\"}, inplace=True)"
      ],
      "metadata": {
        "id": "JJqk7x1QZLWN"
      },
      "execution_count": 5,
      "outputs": []
    },
    {
      "cell_type": "code",
      "source": [
        "df = df[df[\"Nota 2\"] < 23].reset_index(drop=True)\n",
        "df"
      ],
      "metadata": {
        "colab": {
          "base_uri": "https://localhost:8080/",
          "height": 269
        },
        "id": "0H_f5fIRboNt",
        "outputId": "98a51928-5304-437a-c6b6-1f4a94bcd5d9"
      },
      "execution_count": 6,
      "outputs": [
        {
          "output_type": "execute_result",
          "data": {
            "text/plain": [
              "   Nota 1  Nota 2  Nota 3        Situação\n",
              "0    9.69   22.91    2.36      Fidelizado\n",
              "1     NaN   22.91     NaN      Fidelizado\n",
              "2   11.07   17.18    1.55      Fidelizado\n",
              "3    5.54   17.18    6.01  Não fidelizado\n",
              "4     NaN   11.45     NaN  Não fidelizado\n",
              "5    6.92    5.73    4.88  Não fidelizado\n",
              "6   13.84   11.45    0.83  Não fidelizado"
            ],
            "text/html": [
              "\n",
              "  <div id=\"df-964366b7-bdfb-499f-9fba-a3e396812171\">\n",
              "    <div class=\"colab-df-container\">\n",
              "      <div>\n",
              "<style scoped>\n",
              "    .dataframe tbody tr th:only-of-type {\n",
              "        vertical-align: middle;\n",
              "    }\n",
              "\n",
              "    .dataframe tbody tr th {\n",
              "        vertical-align: top;\n",
              "    }\n",
              "\n",
              "    .dataframe thead th {\n",
              "        text-align: right;\n",
              "    }\n",
              "</style>\n",
              "<table border=\"1\" class=\"dataframe\">\n",
              "  <thead>\n",
              "    <tr style=\"text-align: right;\">\n",
              "      <th></th>\n",
              "      <th>Nota 1</th>\n",
              "      <th>Nota 2</th>\n",
              "      <th>Nota 3</th>\n",
              "      <th>Situação</th>\n",
              "    </tr>\n",
              "  </thead>\n",
              "  <tbody>\n",
              "    <tr>\n",
              "      <th>0</th>\n",
              "      <td>9.69</td>\n",
              "      <td>22.91</td>\n",
              "      <td>2.36</td>\n",
              "      <td>Fidelizado</td>\n",
              "    </tr>\n",
              "    <tr>\n",
              "      <th>1</th>\n",
              "      <td>NaN</td>\n",
              "      <td>22.91</td>\n",
              "      <td>NaN</td>\n",
              "      <td>Fidelizado</td>\n",
              "    </tr>\n",
              "    <tr>\n",
              "      <th>2</th>\n",
              "      <td>11.07</td>\n",
              "      <td>17.18</td>\n",
              "      <td>1.55</td>\n",
              "      <td>Fidelizado</td>\n",
              "    </tr>\n",
              "    <tr>\n",
              "      <th>3</th>\n",
              "      <td>5.54</td>\n",
              "      <td>17.18</td>\n",
              "      <td>6.01</td>\n",
              "      <td>Não fidelizado</td>\n",
              "    </tr>\n",
              "    <tr>\n",
              "      <th>4</th>\n",
              "      <td>NaN</td>\n",
              "      <td>11.45</td>\n",
              "      <td>NaN</td>\n",
              "      <td>Não fidelizado</td>\n",
              "    </tr>\n",
              "    <tr>\n",
              "      <th>5</th>\n",
              "      <td>6.92</td>\n",
              "      <td>5.73</td>\n",
              "      <td>4.88</td>\n",
              "      <td>Não fidelizado</td>\n",
              "    </tr>\n",
              "    <tr>\n",
              "      <th>6</th>\n",
              "      <td>13.84</td>\n",
              "      <td>11.45</td>\n",
              "      <td>0.83</td>\n",
              "      <td>Não fidelizado</td>\n",
              "    </tr>\n",
              "  </tbody>\n",
              "</table>\n",
              "</div>\n",
              "      <button class=\"colab-df-convert\" onclick=\"convertToInteractive('df-964366b7-bdfb-499f-9fba-a3e396812171')\"\n",
              "              title=\"Convert this dataframe to an interactive table.\"\n",
              "              style=\"display:none;\">\n",
              "        \n",
              "  <svg xmlns=\"http://www.w3.org/2000/svg\" height=\"24px\"viewBox=\"0 0 24 24\"\n",
              "       width=\"24px\">\n",
              "    <path d=\"M0 0h24v24H0V0z\" fill=\"none\"/>\n",
              "    <path d=\"M18.56 5.44l.94 2.06.94-2.06 2.06-.94-2.06-.94-.94-2.06-.94 2.06-2.06.94zm-11 1L8.5 8.5l.94-2.06 2.06-.94-2.06-.94L8.5 2.5l-.94 2.06-2.06.94zm10 10l.94 2.06.94-2.06 2.06-.94-2.06-.94-.94-2.06-.94 2.06-2.06.94z\"/><path d=\"M17.41 7.96l-1.37-1.37c-.4-.4-.92-.59-1.43-.59-.52 0-1.04.2-1.43.59L10.3 9.45l-7.72 7.72c-.78.78-.78 2.05 0 2.83L4 21.41c.39.39.9.59 1.41.59.51 0 1.02-.2 1.41-.59l7.78-7.78 2.81-2.81c.8-.78.8-2.07 0-2.86zM5.41 20L4 18.59l7.72-7.72 1.47 1.35L5.41 20z\"/>\n",
              "  </svg>\n",
              "      </button>\n",
              "      \n",
              "  <style>\n",
              "    .colab-df-container {\n",
              "      display:flex;\n",
              "      flex-wrap:wrap;\n",
              "      gap: 12px;\n",
              "    }\n",
              "\n",
              "    .colab-df-convert {\n",
              "      background-color: #E8F0FE;\n",
              "      border: none;\n",
              "      border-radius: 50%;\n",
              "      cursor: pointer;\n",
              "      display: none;\n",
              "      fill: #1967D2;\n",
              "      height: 32px;\n",
              "      padding: 0 0 0 0;\n",
              "      width: 32px;\n",
              "    }\n",
              "\n",
              "    .colab-df-convert:hover {\n",
              "      background-color: #E2EBFA;\n",
              "      box-shadow: 0px 1px 2px rgba(60, 64, 67, 0.3), 0px 1px 3px 1px rgba(60, 64, 67, 0.15);\n",
              "      fill: #174EA6;\n",
              "    }\n",
              "\n",
              "    [theme=dark] .colab-df-convert {\n",
              "      background-color: #3B4455;\n",
              "      fill: #D2E3FC;\n",
              "    }\n",
              "\n",
              "    [theme=dark] .colab-df-convert:hover {\n",
              "      background-color: #434B5C;\n",
              "      box-shadow: 0px 1px 3px 1px rgba(0, 0, 0, 0.15);\n",
              "      filter: drop-shadow(0px 1px 2px rgba(0, 0, 0, 0.3));\n",
              "      fill: #FFFFFF;\n",
              "    }\n",
              "  </style>\n",
              "\n",
              "      <script>\n",
              "        const buttonEl =\n",
              "          document.querySelector('#df-964366b7-bdfb-499f-9fba-a3e396812171 button.colab-df-convert');\n",
              "        buttonEl.style.display =\n",
              "          google.colab.kernel.accessAllowed ? 'block' : 'none';\n",
              "\n",
              "        async function convertToInteractive(key) {\n",
              "          const element = document.querySelector('#df-964366b7-bdfb-499f-9fba-a3e396812171');\n",
              "          const dataTable =\n",
              "            await google.colab.kernel.invokeFunction('convertToInteractive',\n",
              "                                                     [key], {});\n",
              "          if (!dataTable) return;\n",
              "\n",
              "          const docLinkHtml = 'Like what you see? Visit the ' +\n",
              "            '<a target=\"_blank\" href=https://colab.research.google.com/notebooks/data_table.ipynb>data table notebook</a>'\n",
              "            + ' to learn more about interactive tables.';\n",
              "          element.innerHTML = '';\n",
              "          dataTable['output_type'] = 'display_data';\n",
              "          await google.colab.output.renderOutput(dataTable, element);\n",
              "          const docLink = document.createElement('div');\n",
              "          docLink.innerHTML = docLinkHtml;\n",
              "          element.appendChild(docLink);\n",
              "        }\n",
              "      </script>\n",
              "    </div>\n",
              "  </div>\n",
              "  "
            ]
          },
          "metadata": {},
          "execution_count": 6
        }
      ]
    },
    {
      "cell_type": "markdown",
      "source": [
        "## Visão Estatística:"
      ],
      "metadata": {
        "id": "leUwzNbwtHRd"
      }
    },
    {
      "cell_type": "code",
      "metadata": {
        "colab": {
          "base_uri": "https://localhost:8080/"
        },
        "id": "a1JI1RGTl-S8",
        "outputId": "5ca979c2-1370-483d-bbc9-fd09ea9f6bb4"
      },
      "source": [
        "df.info()"
      ],
      "execution_count": 7,
      "outputs": [
        {
          "output_type": "stream",
          "name": "stdout",
          "text": [
            "<class 'pandas.core.frame.DataFrame'>\n",
            "RangeIndex: 7 entries, 0 to 6\n",
            "Data columns (total 4 columns):\n",
            " #   Column    Non-Null Count  Dtype  \n",
            "---  ------    --------------  -----  \n",
            " 0   Nota 1    5 non-null      float64\n",
            " 1   Nota 2    7 non-null      float64\n",
            " 2   Nota 3    5 non-null      float64\n",
            " 3   Situação  7 non-null      object \n",
            "dtypes: float64(3), object(1)\n",
            "memory usage: 352.0+ bytes\n"
          ]
        }
      ]
    },
    {
      "cell_type": "code",
      "metadata": {
        "colab": {
          "base_uri": "https://localhost:8080/",
          "height": 301
        },
        "id": "2YdJBLmGmUKb",
        "outputId": "10a2a596-acd7-4778-9729-047b18019749"
      },
      "source": [
        "df.describe()"
      ],
      "execution_count": 8,
      "outputs": [
        {
          "output_type": "execute_result",
          "data": {
            "text/plain": [
              "          Nota 1     Nota 2    Nota 3\n",
              "count   5.000000   7.000000  5.000000\n",
              "mean    9.412000  15.544286  3.126000\n",
              "std     3.302873   6.373188  2.221268\n",
              "min     5.540000   5.730000  0.830000\n",
              "25%     6.920000  11.450000  1.550000\n",
              "50%     9.690000  17.180000  2.360000\n",
              "75%    11.070000  20.045000  4.880000\n",
              "max    13.840000  22.910000  6.010000"
            ],
            "text/html": [
              "\n",
              "  <div id=\"df-42e16155-b135-4ea0-af02-9bbf29fea4a4\">\n",
              "    <div class=\"colab-df-container\">\n",
              "      <div>\n",
              "<style scoped>\n",
              "    .dataframe tbody tr th:only-of-type {\n",
              "        vertical-align: middle;\n",
              "    }\n",
              "\n",
              "    .dataframe tbody tr th {\n",
              "        vertical-align: top;\n",
              "    }\n",
              "\n",
              "    .dataframe thead th {\n",
              "        text-align: right;\n",
              "    }\n",
              "</style>\n",
              "<table border=\"1\" class=\"dataframe\">\n",
              "  <thead>\n",
              "    <tr style=\"text-align: right;\">\n",
              "      <th></th>\n",
              "      <th>Nota 1</th>\n",
              "      <th>Nota 2</th>\n",
              "      <th>Nota 3</th>\n",
              "    </tr>\n",
              "  </thead>\n",
              "  <tbody>\n",
              "    <tr>\n",
              "      <th>count</th>\n",
              "      <td>5.000000</td>\n",
              "      <td>7.000000</td>\n",
              "      <td>5.000000</td>\n",
              "    </tr>\n",
              "    <tr>\n",
              "      <th>mean</th>\n",
              "      <td>9.412000</td>\n",
              "      <td>15.544286</td>\n",
              "      <td>3.126000</td>\n",
              "    </tr>\n",
              "    <tr>\n",
              "      <th>std</th>\n",
              "      <td>3.302873</td>\n",
              "      <td>6.373188</td>\n",
              "      <td>2.221268</td>\n",
              "    </tr>\n",
              "    <tr>\n",
              "      <th>min</th>\n",
              "      <td>5.540000</td>\n",
              "      <td>5.730000</td>\n",
              "      <td>0.830000</td>\n",
              "    </tr>\n",
              "    <tr>\n",
              "      <th>25%</th>\n",
              "      <td>6.920000</td>\n",
              "      <td>11.450000</td>\n",
              "      <td>1.550000</td>\n",
              "    </tr>\n",
              "    <tr>\n",
              "      <th>50%</th>\n",
              "      <td>9.690000</td>\n",
              "      <td>17.180000</td>\n",
              "      <td>2.360000</td>\n",
              "    </tr>\n",
              "    <tr>\n",
              "      <th>75%</th>\n",
              "      <td>11.070000</td>\n",
              "      <td>20.045000</td>\n",
              "      <td>4.880000</td>\n",
              "    </tr>\n",
              "    <tr>\n",
              "      <th>max</th>\n",
              "      <td>13.840000</td>\n",
              "      <td>22.910000</td>\n",
              "      <td>6.010000</td>\n",
              "    </tr>\n",
              "  </tbody>\n",
              "</table>\n",
              "</div>\n",
              "      <button class=\"colab-df-convert\" onclick=\"convertToInteractive('df-42e16155-b135-4ea0-af02-9bbf29fea4a4')\"\n",
              "              title=\"Convert this dataframe to an interactive table.\"\n",
              "              style=\"display:none;\">\n",
              "        \n",
              "  <svg xmlns=\"http://www.w3.org/2000/svg\" height=\"24px\"viewBox=\"0 0 24 24\"\n",
              "       width=\"24px\">\n",
              "    <path d=\"M0 0h24v24H0V0z\" fill=\"none\"/>\n",
              "    <path d=\"M18.56 5.44l.94 2.06.94-2.06 2.06-.94-2.06-.94-.94-2.06-.94 2.06-2.06.94zm-11 1L8.5 8.5l.94-2.06 2.06-.94-2.06-.94L8.5 2.5l-.94 2.06-2.06.94zm10 10l.94 2.06.94-2.06 2.06-.94-2.06-.94-.94-2.06-.94 2.06-2.06.94z\"/><path d=\"M17.41 7.96l-1.37-1.37c-.4-.4-.92-.59-1.43-.59-.52 0-1.04.2-1.43.59L10.3 9.45l-7.72 7.72c-.78.78-.78 2.05 0 2.83L4 21.41c.39.39.9.59 1.41.59.51 0 1.02-.2 1.41-.59l7.78-7.78 2.81-2.81c.8-.78.8-2.07 0-2.86zM5.41 20L4 18.59l7.72-7.72 1.47 1.35L5.41 20z\"/>\n",
              "  </svg>\n",
              "      </button>\n",
              "      \n",
              "  <style>\n",
              "    .colab-df-container {\n",
              "      display:flex;\n",
              "      flex-wrap:wrap;\n",
              "      gap: 12px;\n",
              "    }\n",
              "\n",
              "    .colab-df-convert {\n",
              "      background-color: #E8F0FE;\n",
              "      border: none;\n",
              "      border-radius: 50%;\n",
              "      cursor: pointer;\n",
              "      display: none;\n",
              "      fill: #1967D2;\n",
              "      height: 32px;\n",
              "      padding: 0 0 0 0;\n",
              "      width: 32px;\n",
              "    }\n",
              "\n",
              "    .colab-df-convert:hover {\n",
              "      background-color: #E2EBFA;\n",
              "      box-shadow: 0px 1px 2px rgba(60, 64, 67, 0.3), 0px 1px 3px 1px rgba(60, 64, 67, 0.15);\n",
              "      fill: #174EA6;\n",
              "    }\n",
              "\n",
              "    [theme=dark] .colab-df-convert {\n",
              "      background-color: #3B4455;\n",
              "      fill: #D2E3FC;\n",
              "    }\n",
              "\n",
              "    [theme=dark] .colab-df-convert:hover {\n",
              "      background-color: #434B5C;\n",
              "      box-shadow: 0px 1px 3px 1px rgba(0, 0, 0, 0.15);\n",
              "      filter: drop-shadow(0px 1px 2px rgba(0, 0, 0, 0.3));\n",
              "      fill: #FFFFFF;\n",
              "    }\n",
              "  </style>\n",
              "\n",
              "      <script>\n",
              "        const buttonEl =\n",
              "          document.querySelector('#df-42e16155-b135-4ea0-af02-9bbf29fea4a4 button.colab-df-convert');\n",
              "        buttonEl.style.display =\n",
              "          google.colab.kernel.accessAllowed ? 'block' : 'none';\n",
              "\n",
              "        async function convertToInteractive(key) {\n",
              "          const element = document.querySelector('#df-42e16155-b135-4ea0-af02-9bbf29fea4a4');\n",
              "          const dataTable =\n",
              "            await google.colab.kernel.invokeFunction('convertToInteractive',\n",
              "                                                     [key], {});\n",
              "          if (!dataTable) return;\n",
              "\n",
              "          const docLinkHtml = 'Like what you see? Visit the ' +\n",
              "            '<a target=\"_blank\" href=https://colab.research.google.com/notebooks/data_table.ipynb>data table notebook</a>'\n",
              "            + ' to learn more about interactive tables.';\n",
              "          element.innerHTML = '';\n",
              "          dataTable['output_type'] = 'display_data';\n",
              "          await google.colab.output.renderOutput(dataTable, element);\n",
              "          const docLink = document.createElement('div');\n",
              "          docLink.innerHTML = docLinkHtml;\n",
              "          element.appendChild(docLink);\n",
              "        }\n",
              "      </script>\n",
              "    </div>\n",
              "  </div>\n",
              "  "
            ]
          },
          "metadata": {},
          "execution_count": 8
        }
      ]
    },
    {
      "cell_type": "code",
      "source": [
        "df.describe(include=\"object\")"
      ],
      "metadata": {
        "colab": {
          "base_uri": "https://localhost:8080/",
          "height": 175
        },
        "id": "CBcGZgCquI2c",
        "outputId": "37265836-92ee-4d5f-ea6a-62beac2a93dc"
      },
      "execution_count": 9,
      "outputs": [
        {
          "output_type": "execute_result",
          "data": {
            "text/plain": [
              "              Situação\n",
              "count                7\n",
              "unique               2\n",
              "top     Não fidelizado\n",
              "freq                 4"
            ],
            "text/html": [
              "\n",
              "  <div id=\"df-3997e6dd-d53a-45ec-a9d7-43a251dfe247\">\n",
              "    <div class=\"colab-df-container\">\n",
              "      <div>\n",
              "<style scoped>\n",
              "    .dataframe tbody tr th:only-of-type {\n",
              "        vertical-align: middle;\n",
              "    }\n",
              "\n",
              "    .dataframe tbody tr th {\n",
              "        vertical-align: top;\n",
              "    }\n",
              "\n",
              "    .dataframe thead th {\n",
              "        text-align: right;\n",
              "    }\n",
              "</style>\n",
              "<table border=\"1\" class=\"dataframe\">\n",
              "  <thead>\n",
              "    <tr style=\"text-align: right;\">\n",
              "      <th></th>\n",
              "      <th>Situação</th>\n",
              "    </tr>\n",
              "  </thead>\n",
              "  <tbody>\n",
              "    <tr>\n",
              "      <th>count</th>\n",
              "      <td>7</td>\n",
              "    </tr>\n",
              "    <tr>\n",
              "      <th>unique</th>\n",
              "      <td>2</td>\n",
              "    </tr>\n",
              "    <tr>\n",
              "      <th>top</th>\n",
              "      <td>Não fidelizado</td>\n",
              "    </tr>\n",
              "    <tr>\n",
              "      <th>freq</th>\n",
              "      <td>4</td>\n",
              "    </tr>\n",
              "  </tbody>\n",
              "</table>\n",
              "</div>\n",
              "      <button class=\"colab-df-convert\" onclick=\"convertToInteractive('df-3997e6dd-d53a-45ec-a9d7-43a251dfe247')\"\n",
              "              title=\"Convert this dataframe to an interactive table.\"\n",
              "              style=\"display:none;\">\n",
              "        \n",
              "  <svg xmlns=\"http://www.w3.org/2000/svg\" height=\"24px\"viewBox=\"0 0 24 24\"\n",
              "       width=\"24px\">\n",
              "    <path d=\"M0 0h24v24H0V0z\" fill=\"none\"/>\n",
              "    <path d=\"M18.56 5.44l.94 2.06.94-2.06 2.06-.94-2.06-.94-.94-2.06-.94 2.06-2.06.94zm-11 1L8.5 8.5l.94-2.06 2.06-.94-2.06-.94L8.5 2.5l-.94 2.06-2.06.94zm10 10l.94 2.06.94-2.06 2.06-.94-2.06-.94-.94-2.06-.94 2.06-2.06.94z\"/><path d=\"M17.41 7.96l-1.37-1.37c-.4-.4-.92-.59-1.43-.59-.52 0-1.04.2-1.43.59L10.3 9.45l-7.72 7.72c-.78.78-.78 2.05 0 2.83L4 21.41c.39.39.9.59 1.41.59.51 0 1.02-.2 1.41-.59l7.78-7.78 2.81-2.81c.8-.78.8-2.07 0-2.86zM5.41 20L4 18.59l7.72-7.72 1.47 1.35L5.41 20z\"/>\n",
              "  </svg>\n",
              "      </button>\n",
              "      \n",
              "  <style>\n",
              "    .colab-df-container {\n",
              "      display:flex;\n",
              "      flex-wrap:wrap;\n",
              "      gap: 12px;\n",
              "    }\n",
              "\n",
              "    .colab-df-convert {\n",
              "      background-color: #E8F0FE;\n",
              "      border: none;\n",
              "      border-radius: 50%;\n",
              "      cursor: pointer;\n",
              "      display: none;\n",
              "      fill: #1967D2;\n",
              "      height: 32px;\n",
              "      padding: 0 0 0 0;\n",
              "      width: 32px;\n",
              "    }\n",
              "\n",
              "    .colab-df-convert:hover {\n",
              "      background-color: #E2EBFA;\n",
              "      box-shadow: 0px 1px 2px rgba(60, 64, 67, 0.3), 0px 1px 3px 1px rgba(60, 64, 67, 0.15);\n",
              "      fill: #174EA6;\n",
              "    }\n",
              "\n",
              "    [theme=dark] .colab-df-convert {\n",
              "      background-color: #3B4455;\n",
              "      fill: #D2E3FC;\n",
              "    }\n",
              "\n",
              "    [theme=dark] .colab-df-convert:hover {\n",
              "      background-color: #434B5C;\n",
              "      box-shadow: 0px 1px 3px 1px rgba(0, 0, 0, 0.15);\n",
              "      filter: drop-shadow(0px 1px 2px rgba(0, 0, 0, 0.3));\n",
              "      fill: #FFFFFF;\n",
              "    }\n",
              "  </style>\n",
              "\n",
              "      <script>\n",
              "        const buttonEl =\n",
              "          document.querySelector('#df-3997e6dd-d53a-45ec-a9d7-43a251dfe247 button.colab-df-convert');\n",
              "        buttonEl.style.display =\n",
              "          google.colab.kernel.accessAllowed ? 'block' : 'none';\n",
              "\n",
              "        async function convertToInteractive(key) {\n",
              "          const element = document.querySelector('#df-3997e6dd-d53a-45ec-a9d7-43a251dfe247');\n",
              "          const dataTable =\n",
              "            await google.colab.kernel.invokeFunction('convertToInteractive',\n",
              "                                                     [key], {});\n",
              "          if (!dataTable) return;\n",
              "\n",
              "          const docLinkHtml = 'Like what you see? Visit the ' +\n",
              "            '<a target=\"_blank\" href=https://colab.research.google.com/notebooks/data_table.ipynb>data table notebook</a>'\n",
              "            + ' to learn more about interactive tables.';\n",
              "          element.innerHTML = '';\n",
              "          dataTable['output_type'] = 'display_data';\n",
              "          await google.colab.output.renderOutput(dataTable, element);\n",
              "          const docLink = document.createElement('div');\n",
              "          docLink.innerHTML = docLinkHtml;\n",
              "          element.appendChild(docLink);\n",
              "        }\n",
              "      </script>\n",
              "    </div>\n",
              "  </div>\n",
              "  "
            ]
          },
          "metadata": {},
          "execution_count": 9
        }
      ]
    },
    {
      "cell_type": "markdown",
      "source": [
        "## Tratamento dos Dados:"
      ],
      "metadata": {
        "id": "V4obnaY7Df5o"
      }
    },
    {
      "cell_type": "code",
      "source": [
        "# Esse código retorna a contagem de valores nulos em cada coluna do DataFrame dados, ordenando do menor para o maior número de valores nulos.\n",
        "df.isna().sum().sort_values(ascending=False)"
      ],
      "metadata": {
        "colab": {
          "base_uri": "https://localhost:8080/"
        },
        "id": "dUHQtVISQwa4",
        "outputId": "757e8179-77fb-477a-f95b-425113cb5a48"
      },
      "execution_count": 10,
      "outputs": [
        {
          "output_type": "execute_result",
          "data": {
            "text/plain": [
              "Nota 1      2\n",
              "Nota 3      2\n",
              "Nota 2      0\n",
              "Situação    0\n",
              "dtype: int64"
            ]
          },
          "metadata": {},
          "execution_count": 10
        }
      ]
    },
    {
      "cell_type": "code",
      "source": [
        "# substituindo os valores faltantes pela média de cada coluna\n",
        "df = df.fillna(df.mean())"
      ],
      "metadata": {
        "colab": {
          "base_uri": "https://localhost:8080/"
        },
        "id": "fTJ6lYKCaCaN",
        "outputId": "245994d5-dd11-4334-a2d2-a87afc21e714"
      },
      "execution_count": 11,
      "outputs": [
        {
          "output_type": "stream",
          "name": "stderr",
          "text": [
            "<ipython-input-11-78535052bb2d>:2: FutureWarning: The default value of numeric_only in DataFrame.mean is deprecated. In a future version, it will default to False. In addition, specifying 'numeric_only=None' is deprecated. Select only valid columns or specify the value of numeric_only to silence this warning.\n",
            "  df = df.fillna(df.mean())\n"
          ]
        }
      ]
    },
    {
      "cell_type": "code",
      "source": [
        "df"
      ],
      "metadata": {
        "colab": {
          "base_uri": "https://localhost:8080/",
          "height": 269
        },
        "id": "_bb4KKCrDxk_",
        "outputId": "263ab0a8-1339-4193-eb5e-cbda9f94d59d"
      },
      "execution_count": 12,
      "outputs": [
        {
          "output_type": "execute_result",
          "data": {
            "text/plain": [
              "   Nota 1  Nota 2  Nota 3        Situação\n",
              "0   9.690   22.91   2.360      Fidelizado\n",
              "1   9.412   22.91   3.126      Fidelizado\n",
              "2  11.070   17.18   1.550      Fidelizado\n",
              "3   5.540   17.18   6.010  Não fidelizado\n",
              "4   9.412   11.45   3.126  Não fidelizado\n",
              "5   6.920    5.73   4.880  Não fidelizado\n",
              "6  13.840   11.45   0.830  Não fidelizado"
            ],
            "text/html": [
              "\n",
              "  <div id=\"df-9f960ac2-6ee2-4533-a906-5e6f674823ad\">\n",
              "    <div class=\"colab-df-container\">\n",
              "      <div>\n",
              "<style scoped>\n",
              "    .dataframe tbody tr th:only-of-type {\n",
              "        vertical-align: middle;\n",
              "    }\n",
              "\n",
              "    .dataframe tbody tr th {\n",
              "        vertical-align: top;\n",
              "    }\n",
              "\n",
              "    .dataframe thead th {\n",
              "        text-align: right;\n",
              "    }\n",
              "</style>\n",
              "<table border=\"1\" class=\"dataframe\">\n",
              "  <thead>\n",
              "    <tr style=\"text-align: right;\">\n",
              "      <th></th>\n",
              "      <th>Nota 1</th>\n",
              "      <th>Nota 2</th>\n",
              "      <th>Nota 3</th>\n",
              "      <th>Situação</th>\n",
              "    </tr>\n",
              "  </thead>\n",
              "  <tbody>\n",
              "    <tr>\n",
              "      <th>0</th>\n",
              "      <td>9.690</td>\n",
              "      <td>22.91</td>\n",
              "      <td>2.360</td>\n",
              "      <td>Fidelizado</td>\n",
              "    </tr>\n",
              "    <tr>\n",
              "      <th>1</th>\n",
              "      <td>9.412</td>\n",
              "      <td>22.91</td>\n",
              "      <td>3.126</td>\n",
              "      <td>Fidelizado</td>\n",
              "    </tr>\n",
              "    <tr>\n",
              "      <th>2</th>\n",
              "      <td>11.070</td>\n",
              "      <td>17.18</td>\n",
              "      <td>1.550</td>\n",
              "      <td>Fidelizado</td>\n",
              "    </tr>\n",
              "    <tr>\n",
              "      <th>3</th>\n",
              "      <td>5.540</td>\n",
              "      <td>17.18</td>\n",
              "      <td>6.010</td>\n",
              "      <td>Não fidelizado</td>\n",
              "    </tr>\n",
              "    <tr>\n",
              "      <th>4</th>\n",
              "      <td>9.412</td>\n",
              "      <td>11.45</td>\n",
              "      <td>3.126</td>\n",
              "      <td>Não fidelizado</td>\n",
              "    </tr>\n",
              "    <tr>\n",
              "      <th>5</th>\n",
              "      <td>6.920</td>\n",
              "      <td>5.73</td>\n",
              "      <td>4.880</td>\n",
              "      <td>Não fidelizado</td>\n",
              "    </tr>\n",
              "    <tr>\n",
              "      <th>6</th>\n",
              "      <td>13.840</td>\n",
              "      <td>11.45</td>\n",
              "      <td>0.830</td>\n",
              "      <td>Não fidelizado</td>\n",
              "    </tr>\n",
              "  </tbody>\n",
              "</table>\n",
              "</div>\n",
              "      <button class=\"colab-df-convert\" onclick=\"convertToInteractive('df-9f960ac2-6ee2-4533-a906-5e6f674823ad')\"\n",
              "              title=\"Convert this dataframe to an interactive table.\"\n",
              "              style=\"display:none;\">\n",
              "        \n",
              "  <svg xmlns=\"http://www.w3.org/2000/svg\" height=\"24px\"viewBox=\"0 0 24 24\"\n",
              "       width=\"24px\">\n",
              "    <path d=\"M0 0h24v24H0V0z\" fill=\"none\"/>\n",
              "    <path d=\"M18.56 5.44l.94 2.06.94-2.06 2.06-.94-2.06-.94-.94-2.06-.94 2.06-2.06.94zm-11 1L8.5 8.5l.94-2.06 2.06-.94-2.06-.94L8.5 2.5l-.94 2.06-2.06.94zm10 10l.94 2.06.94-2.06 2.06-.94-2.06-.94-.94-2.06-.94 2.06-2.06.94z\"/><path d=\"M17.41 7.96l-1.37-1.37c-.4-.4-.92-.59-1.43-.59-.52 0-1.04.2-1.43.59L10.3 9.45l-7.72 7.72c-.78.78-.78 2.05 0 2.83L4 21.41c.39.39.9.59 1.41.59.51 0 1.02-.2 1.41-.59l7.78-7.78 2.81-2.81c.8-.78.8-2.07 0-2.86zM5.41 20L4 18.59l7.72-7.72 1.47 1.35L5.41 20z\"/>\n",
              "  </svg>\n",
              "      </button>\n",
              "      \n",
              "  <style>\n",
              "    .colab-df-container {\n",
              "      display:flex;\n",
              "      flex-wrap:wrap;\n",
              "      gap: 12px;\n",
              "    }\n",
              "\n",
              "    .colab-df-convert {\n",
              "      background-color: #E8F0FE;\n",
              "      border: none;\n",
              "      border-radius: 50%;\n",
              "      cursor: pointer;\n",
              "      display: none;\n",
              "      fill: #1967D2;\n",
              "      height: 32px;\n",
              "      padding: 0 0 0 0;\n",
              "      width: 32px;\n",
              "    }\n",
              "\n",
              "    .colab-df-convert:hover {\n",
              "      background-color: #E2EBFA;\n",
              "      box-shadow: 0px 1px 2px rgba(60, 64, 67, 0.3), 0px 1px 3px 1px rgba(60, 64, 67, 0.15);\n",
              "      fill: #174EA6;\n",
              "    }\n",
              "\n",
              "    [theme=dark] .colab-df-convert {\n",
              "      background-color: #3B4455;\n",
              "      fill: #D2E3FC;\n",
              "    }\n",
              "\n",
              "    [theme=dark] .colab-df-convert:hover {\n",
              "      background-color: #434B5C;\n",
              "      box-shadow: 0px 1px 3px 1px rgba(0, 0, 0, 0.15);\n",
              "      filter: drop-shadow(0px 1px 2px rgba(0, 0, 0, 0.3));\n",
              "      fill: #FFFFFF;\n",
              "    }\n",
              "  </style>\n",
              "\n",
              "      <script>\n",
              "        const buttonEl =\n",
              "          document.querySelector('#df-9f960ac2-6ee2-4533-a906-5e6f674823ad button.colab-df-convert');\n",
              "        buttonEl.style.display =\n",
              "          google.colab.kernel.accessAllowed ? 'block' : 'none';\n",
              "\n",
              "        async function convertToInteractive(key) {\n",
              "          const element = document.querySelector('#df-9f960ac2-6ee2-4533-a906-5e6f674823ad');\n",
              "          const dataTable =\n",
              "            await google.colab.kernel.invokeFunction('convertToInteractive',\n",
              "                                                     [key], {});\n",
              "          if (!dataTable) return;\n",
              "\n",
              "          const docLinkHtml = 'Like what you see? Visit the ' +\n",
              "            '<a target=\"_blank\" href=https://colab.research.google.com/notebooks/data_table.ipynb>data table notebook</a>'\n",
              "            + ' to learn more about interactive tables.';\n",
              "          element.innerHTML = '';\n",
              "          dataTable['output_type'] = 'display_data';\n",
              "          await google.colab.output.renderOutput(dataTable, element);\n",
              "          const docLink = document.createElement('div');\n",
              "          docLink.innerHTML = docLinkHtml;\n",
              "          element.appendChild(docLink);\n",
              "        }\n",
              "      </script>\n",
              "    </div>\n",
              "  </div>\n",
              "  "
            ]
          },
          "metadata": {},
          "execution_count": 12
        }
      ]
    },
    {
      "cell_type": "markdown",
      "source": [
        "## Identificando a coluna Alvo: \n",
        "(Dependente da Relação entre os outros atributos)"
      ],
      "metadata": {
        "id": "hRoITEs7rKge"
      }
    },
    {
      "cell_type": "code",
      "source": [
        "df['Situação'] = df['Situação'].replace({'Fidelizado': 1, 'Não fidelizado': 0})"
      ],
      "metadata": {
        "id": "djcqS4aFrZ_X"
      },
      "execution_count": 13,
      "outputs": []
    },
    {
      "cell_type": "code",
      "source": [
        "# Analisando o Balance\n",
        "Fiel, esporadico = df[\"Situação\"].value_counts()"
      ],
      "metadata": {
        "id": "E-S-AJbcuen0"
      },
      "execution_count": 14,
      "outputs": []
    },
    {
      "cell_type": "code",
      "source": [
        "# Mostrando graficamente a diferença entre tipos de um mesmo atributo:\n",
        "\n",
        "# Dados de exemplo\n",
        "valores = ['Fidelizado', 'Não fidelizado']\n",
        "contagem = [Fiel, esporadico]\n",
        "\n",
        "# Configuração do gráfico de barras\n",
        "plt.bar(valores, contagem)\n",
        "plt.title('Quantidade de Casos')\n",
        "plt.xlabel('Tipo do Cliente')\n",
        "plt.ylabel('Quantidade')\n",
        "\n",
        "# Exibição do gráfico\n",
        "plt.show()"
      ],
      "metadata": {
        "colab": {
          "base_uri": "https://localhost:8080/",
          "height": 472
        },
        "id": "nSzlx9bAw8tr",
        "outputId": "073e0f30-8188-483a-f51a-2983f44a6861"
      },
      "execution_count": 15,
      "outputs": [
        {
          "output_type": "display_data",
          "data": {
            "text/plain": [
              "<Figure size 640x480 with 1 Axes>"
            ],
            "image/png": "[encoded data removed]"
          },
          "metadata": {}
        }
      ]
    },
    {
      "cell_type": "markdown",
      "source": [
        "# Explorando os Dados:"
      ],
      "metadata": {
        "id": "EYuSEGELZOFK"
      }
    },
    {
      "cell_type": "markdown",
      "source": [
        "## Verificando Escalas:"
      ],
      "metadata": {
        "id": "rqa9rEB44U4B"
      }
    },
    {
      "cell_type": "markdown",
      "source": [
        "### Boxplot:"
      ],
      "metadata": {
        "id": "GoxFmiv3wZKh"
      }
    },
    {
      "cell_type": "code",
      "source": [
        "# Plotando o boxplot para cada coluna\n",
        "for coluna in df.columns[:3]:\n",
        "  plt.figure()\n",
        "  plt.boxplot(df[coluna])\n",
        "  plt.title(f'{coluna}')\n",
        "  plt.xlabel('Coluna Atual')\n",
        "  plt.ylabel('Nota')\n",
        "\n",
        "# Exibição dos gráficos\n",
        "plt.show()"
      ],
      "metadata": {
        "colab": {
          "base_uri": "https://localhost:8080/",
          "height": 1000
        },
        "id": "Yb5kn0xj4soS",
        "outputId": "e2e82137-e951-48eb-94ae-82d808e490b0"
      },
      "execution_count": 16,
      "outputs": [
        {
          "output_type": "display_data",
          "data": {
            "text/plain": [
              "<Figure size 640x480 with 1 Axes>"
            ],
            "image/png": "[encoded data removed]"
          },
          "metadata": {}
        },
        {
          "output_type": "display_data",
          "data": {
            "text/plain": [
              "<Figure size 640x480 with 1 Axes>"
            ],
            "image/png": "[encoded data removed]"
          },
          "metadata": {}
        },
        {
          "output_type": "display_data",
          "data": {
            "text/plain": [
              "<Figure size 640x480 with 1 Axes>"
            ],
            "image/png": "[encoded data removed]"
          },
          "metadata": {}
        }
      ]
    },
    {
      "cell_type": "code",
      "source": [
        "df"
      ],
      "metadata": {
        "colab": {
          "base_uri": "https://localhost:8080/",
          "height": 269
        },
        "id": "NojaMGizbXs1",
        "outputId": "f869f4a0-85ba-4066-dc6b-94815f5a75e7"
      },
      "execution_count": 17,
      "outputs": [
        {
          "output_type": "execute_result",
          "data": {
            "text/plain": [
              "   Nota 1  Nota 2  Nota 3  Situação\n",
              "0   9.690   22.91   2.360         1\n",
              "1   9.412   22.91   3.126         1\n",
              "2  11.070   17.18   1.550         1\n",
              "3   5.540   17.18   6.010         0\n",
              "4   9.412   11.45   3.126         0\n",
              "5   6.920    5.73   4.880         0\n",
              "6  13.840   11.45   0.830         0"
            ],
            "text/html": [
              "\n",
              "  <div id=\"df-dbffd94a-1913-4603-a86f-4f080b292b24\">\n",
              "    <div class=\"colab-df-container\">\n",
              "      <div>\n",
              "<style scoped>\n",
              "    .dataframe tbody tr th:only-of-type {\n",
              "        vertical-align: middle;\n",
              "    }\n",
              "\n",
              "    .dataframe tbody tr th {\n",
              "        vertical-align: top;\n",
              "    }\n",
              "\n",
              "    .dataframe thead th {\n",
              "        text-align: right;\n",
              "    }\n",
              "</style>\n",
              "<table border=\"1\" class=\"dataframe\">\n",
              "  <thead>\n",
              "    <tr style=\"text-align: right;\">\n",
              "      <th></th>\n",
              "      <th>Nota 1</th>\n",
              "      <th>Nota 2</th>\n",
              "      <th>Nota 3</th>\n",
              "      <th>Situação</th>\n",
              "    </tr>\n",
              "  </thead>\n",
              "  <tbody>\n",
              "    <tr>\n",
              "      <th>0</th>\n",
              "      <td>9.690</td>\n",
              "      <td>22.91</td>\n",
              "      <td>2.360</td>\n",
              "      <td>1</td>\n",
              "    </tr>\n",
              "    <tr>\n",
              "      <th>1</th>\n",
              "      <td>9.412</td>\n",
              "      <td>22.91</td>\n",
              "      <td>3.126</td>\n",
              "      <td>1</td>\n",
              "    </tr>\n",
              "    <tr>\n",
              "      <th>2</th>\n",
              "      <td>11.070</td>\n",
              "      <td>17.18</td>\n",
              "      <td>1.550</td>\n",
              "      <td>1</td>\n",
              "    </tr>\n",
              "    <tr>\n",
              "      <th>3</th>\n",
              "      <td>5.540</td>\n",
              "      <td>17.18</td>\n",
              "      <td>6.010</td>\n",
              "      <td>0</td>\n",
              "    </tr>\n",
              "    <tr>\n",
              "      <th>4</th>\n",
              "      <td>9.412</td>\n",
              "      <td>11.45</td>\n",
              "      <td>3.126</td>\n",
              "      <td>0</td>\n",
              "    </tr>\n",
              "    <tr>\n",
              "      <th>5</th>\n",
              "      <td>6.920</td>\n",
              "      <td>5.73</td>\n",
              "      <td>4.880</td>\n",
              "      <td>0</td>\n",
              "    </tr>\n",
              "    <tr>\n",
              "      <th>6</th>\n",
              "      <td>13.840</td>\n",
              "      <td>11.45</td>\n",
              "      <td>0.830</td>\n",
              "      <td>0</td>\n",
              "    </tr>\n",
              "  </tbody>\n",
              "</table>\n",
              "</div>\n",
              "      <button class=\"colab-df-convert\" onclick=\"convertToInteractive('df-dbffd94a-1913-4603-a86f-4f080b292b24')\"\n",
              "              title=\"Convert this dataframe to an interactive table.\"\n",
              "              style=\"display:none;\">\n",
              "        \n",
              "  <svg xmlns=\"http://www.w3.org/2000/svg\" height=\"24px\"viewBox=\"0 0 24 24\"\n",
              "       width=\"24px\">\n",
              "    <path d=\"M0 0h24v24H0V0z\" fill=\"none\"/>\n",
              "    <path d=\"M18.56 5.44l.94 2.06.94-2.06 2.06-.94-2.06-.94-.94-2.06-.94 2.06-2.06.94zm-11 1L8.5 8.5l.94-2.06 2.06-.94-2.06-.94L8.5 2.5l-.94 2.06-2.06.94zm10 10l.94 2.06.94-2.06 2.06-.94-2.06-.94-.94-2.06-.94 2.06-2.06.94z\"/><path d=\"M17.41 7.96l-1.37-1.37c-.4-.4-.92-.59-1.43-.59-.52 0-1.04.2-1.43.59L10.3 9.45l-7.72 7.72c-.78.78-.78 2.05 0 2.83L4 21.41c.39.39.9.59 1.41.59.51 0 1.02-.2 1.41-.59l7.78-7.78 2.81-2.81c.8-.78.8-2.07 0-2.86zM5.41 20L4 18.59l7.72-7.72 1.47 1.35L5.41 20z\"/>\n",
              "  </svg>\n",
              "      </button>\n",
              "      \n",
              "  <style>\n",
              "    .colab-df-container {\n",
              "      display:flex;\n",
              "      flex-wrap:wrap;\n",
              "      gap: 12px;\n",
              "    }\n",
              "\n",
              "    .colab-df-convert {\n",
              "      background-color: #E8F0FE;\n",
              "      border: none;\n",
              "      border-radius: 50%;\n",
              "      cursor: pointer;\n",
              "      display: none;\n",
              "      fill: #1967D2;\n",
              "      height: 32px;\n",
              "      padding: 0 0 0 0;\n",
              "      width: 32px;\n",
              "    }\n",
              "\n",
              "    .colab-df-convert:hover {\n",
              "      background-color: #E2EBFA;\n",
              "      box-shadow: 0px 1px 2px rgba(60, 64, 67, 0.3), 0px 1px 3px 1px rgba(60, 64, 67, 0.15);\n",
              "      fill: #174EA6;\n",
              "    }\n",
              "\n",
              "    [theme=dark] .colab-df-convert {\n",
              "      background-color: #3B4455;\n",
              "      fill: #D2E3FC;\n",
              "    }\n",
              "\n",
              "    [theme=dark] .colab-df-convert:hover {\n",
              "      background-color: #434B5C;\n",
              "      box-shadow: 0px 1px 3px 1px rgba(0, 0, 0, 0.15);\n",
              "      filter: drop-shadow(0px 1px 2px rgba(0, 0, 0, 0.3));\n",
              "      fill: #FFFFFF;\n",
              "    }\n",
              "  </style>\n",
              "\n",
              "      <script>\n",
              "        const buttonEl =\n",
              "          document.querySelector('#df-dbffd94a-1913-4603-a86f-4f080b292b24 button.colab-df-convert');\n",
              "        buttonEl.style.display =\n",
              "          google.colab.kernel.accessAllowed ? 'block' : 'none';\n",
              "\n",
              "        async function convertToInteractive(key) {\n",
              "          const element = document.querySelector('#df-dbffd94a-1913-4603-a86f-4f080b292b24');\n",
              "          const dataTable =\n",
              "            await google.colab.kernel.invokeFunction('convertToInteractive',\n",
              "                                                     [key], {});\n",
              "          if (!dataTable) return;\n",
              "\n",
              "          const docLinkHtml = 'Like what you see? Visit the ' +\n",
              "            '<a target=\"_blank\" href=https://colab.research.google.com/notebooks/data_table.ipynb>data table notebook</a>'\n",
              "            + ' to learn more about interactive tables.';\n",
              "          element.innerHTML = '';\n",
              "          dataTable['output_type'] = 'display_data';\n",
              "          await google.colab.output.renderOutput(dataTable, element);\n",
              "          const docLink = document.createElement('div');\n",
              "          docLink.innerHTML = docLinkHtml;\n",
              "          element.appendChild(docLink);\n",
              "        }\n",
              "      </script>\n",
              "    </div>\n",
              "  </div>\n",
              "  "
            ]
          },
          "metadata": {},
          "execution_count": 17
        }
      ]
    },
    {
      "cell_type": "markdown",
      "source": [
        "### Histograma:"
      ],
      "metadata": {
        "id": "gntHnkaQwcwG"
      }
    },
    {
      "cell_type": "code",
      "source": [
        "df.hist(figsize=(10,10))"
      ],
      "metadata": {
        "colab": {
          "base_uri": "https://localhost:8080/",
          "height": 922
        },
        "id": "JuI0Ecunpt5m",
        "outputId": "ef192a9e-cb02-4147-8299-3164d91e9946"
      },
      "execution_count": 18,
      "outputs": [
        {
          "output_type": "execute_result",
          "data": {
            "text/plain": [
              "array([[<Axes: title={'center': 'Nota 1'}>,\n",
              "        <Axes: title={'center': 'Nota 2'}>],\n",
              "       [<Axes: title={'center': 'Nota 3'}>,\n",
              "        <Axes: title={'center': 'Situação'}>]], dtype=object)"
            ]
          },
          "metadata": {},
          "execution_count": 18
        },
        {
          "output_type": "display_data",
          "data": {
            "text/plain": [
              "<Figure size 1000x1000 with 4 Axes>"
            ],
            "image/png": "[encoded data removed]"
          },
          "metadata": {}
        }
      ]
    },
    {
      "cell_type": "markdown",
      "source": [
        "## Selecionando Variáveis"
      ],
      "metadata": {
        "id": "QvS900uGwO-W"
      }
    },
    {
      "cell_type": "markdown",
      "source": [
        "Existem diversas técnicas para identificar as variáveis mais relevantes em uma análise multivariada, sendo as mais comuns:\n",
        "\n",
        "> **Análise de componentes principais (PCA):** técnica que busca reduzir a dimensionalidade do conjunto de dados, identificando quais variáveis têm maior contribuição para a variabilidade dos dados;\n",
        "\n",
        "> **Análise de correlação:** verificação da relação entre as variáveis através do coeficiente de correlação, podendo identificar variáveis que estão altamente correlacionadas e, portanto, podem ser redundantes;\n",
        "\n",
        "> **Análise de regressão:** verificação da contribuição de cada variável na explicação da variabilidade do modelo, permitindo identificar aquelas com maior impacto na resposta.\n",
        "\n",
        "Além disso, outras técnicas de seleção de variáveis também podem ser utilizadas, como análise discriminante, árvores de decisão, redes neurais, entre outras. A escolha da técnica mais adequada depende do objetivo da análise e das características dos dados em questão."
      ],
      "metadata": {
        "id": "hUN9MjdqZXL7"
      }
    },
    {
      "cell_type": "markdown",
      "source": [
        "### Importando Biblioteca:"
      ],
      "metadata": {
        "id": "z7TUaf6VwpkG"
      }
    },
    {
      "cell_type": "code",
      "source": [
        "from sklearn.decomposition import PCA"
      ],
      "metadata": {
        "id": "hRpvqbnoaUxr"
      },
      "execution_count": 19,
      "outputs": []
    },
    {
      "cell_type": "markdown",
      "source": [
        "No algoritmo abaixo, a biblioteca sklearn é utilizada para criar o objeto PCA e aplicá-lo nos dados normalizados. Em seguida, são obtidas as componentes principais e a variação explicada por cada uma delas. A partir dessa análise, é possível identificar as variáveis mais relevantes para o modelo.\n"
      ],
      "metadata": {
        "id": "_e0zusA3aYr7"
      }
    },
    {
      "cell_type": "markdown",
      "source": [
        "### Checando o Dataset:"
      ],
      "metadata": {
        "id": "EthcCx4qwlV2"
      }
    },
    {
      "cell_type": "code",
      "source": [
        "df"
      ],
      "metadata": {
        "colab": {
          "base_uri": "https://localhost:8080/",
          "height": 269
        },
        "id": "6x9t8CKEhGqN",
        "outputId": "de0af429-d920-4b9b-d16c-43e1b13bd5f3"
      },
      "execution_count": 20,
      "outputs": [
        {
          "output_type": "execute_result",
          "data": {
            "text/plain": [
              "   Nota 1  Nota 2  Nota 3  Situação\n",
              "0   9.690   22.91   2.360         1\n",
              "1   9.412   22.91   3.126         1\n",
              "2  11.070   17.18   1.550         1\n",
              "3   5.540   17.18   6.010         0\n",
              "4   9.412   11.45   3.126         0\n",
              "5   6.920    5.73   4.880         0\n",
              "6  13.840   11.45   0.830         0"
            ],
            "text/html": [
              "\n",
              "  <div id=\"df-754abaa4-63bf-4e40-9ff9-6956ceb3f20f\">\n",
              "    <div class=\"colab-df-container\">\n",
              "      <div>\n",
              "<style scoped>\n",
              "    .dataframe tbody tr th:only-of-type {\n",
              "        vertical-align: middle;\n",
              "    }\n",
              "\n",
              "    .dataframe tbody tr th {\n",
              "        vertical-align: top;\n",
              "    }\n",
              "\n",
              "    .dataframe thead th {\n",
              "        text-align: right;\n",
              "    }\n",
              "</style>\n",
              "<table border=\"1\" class=\"dataframe\">\n",
              "  <thead>\n",
              "    <tr style=\"text-align: right;\">\n",
              "      <th></th>\n",
              "      <th>Nota 1</th>\n",
              "      <th>Nota 2</th>\n",
              "      <th>Nota 3</th>\n",
              "      <th>Situação</th>\n",
              "    </tr>\n",
              "  </thead>\n",
              "  <tbody>\n",
              "    <tr>\n",
              "      <th>0</th>\n",
              "      <td>9.690</td>\n",
              "      <td>22.91</td>\n",
              "      <td>2.360</td>\n",
              "      <td>1</td>\n",
              "    </tr>\n",
              "    <tr>\n",
              "      <th>1</th>\n",
              "      <td>9.412</td>\n",
              "      <td>22.91</td>\n",
              "      <td>3.126</td>\n",
              "      <td>1</td>\n",
              "    </tr>\n",
              "    <tr>\n",
              "      <th>2</th>\n",
              "      <td>11.070</td>\n",
              "      <td>17.18</td>\n",
              "      <td>1.550</td>\n",
              "      <td>1</td>\n",
              "    </tr>\n",
              "    <tr>\n",
              "      <th>3</th>\n",
              "      <td>5.540</td>\n",
              "      <td>17.18</td>\n",
              "      <td>6.010</td>\n",
              "      <td>0</td>\n",
              "    </tr>\n",
              "    <tr>\n",
              "      <th>4</th>\n",
              "      <td>9.412</td>\n",
              "      <td>11.45</td>\n",
              "      <td>3.126</td>\n",
              "      <td>0</td>\n",
              "    </tr>\n",
              "    <tr>\n",
              "      <th>5</th>\n",
              "      <td>6.920</td>\n",
              "      <td>5.73</td>\n",
              "      <td>4.880</td>\n",
              "      <td>0</td>\n",
              "    </tr>\n",
              "    <tr>\n",
              "      <th>6</th>\n",
              "      <td>13.840</td>\n",
              "      <td>11.45</td>\n",
              "      <td>0.830</td>\n",
              "      <td>0</td>\n",
              "    </tr>\n",
              "  </tbody>\n",
              "</table>\n",
              "</div>\n",
              "      <button class=\"colab-df-convert\" onclick=\"convertToInteractive('df-754abaa4-63bf-4e40-9ff9-6956ceb3f20f')\"\n",
              "              title=\"Convert this dataframe to an interactive table.\"\n",
              "              style=\"display:none;\">\n",
              "        \n",
              "  <svg xmlns=\"http://www.w3.org/2000/svg\" height=\"24px\"viewBox=\"0 0 24 24\"\n",
              "       width=\"24px\">\n",
              "    <path d=\"M0 0h24v24H0V0z\" fill=\"none\"/>\n",
              "    <path d=\"M18.56 5.44l.94 2.06.94-2.06 2.06-.94-2.06-.94-.94-2.06-.94 2.06-2.06.94zm-11 1L8.5 8.5l.94-2.06 2.06-.94-2.06-.94L8.5 2.5l-.94 2.06-2.06.94zm10 10l.94 2.06.94-2.06 2.06-.94-2.06-.94-.94-2.06-.94 2.06-2.06.94z\"/><path d=\"M17.41 7.96l-1.37-1.37c-.4-.4-.92-.59-1.43-.59-.52 0-1.04.2-1.43.59L10.3 9.45l-7.72 7.72c-.78.78-.78 2.05 0 2.83L4 21.41c.39.39.9.59 1.41.59.51 0 1.02-.2 1.41-.59l7.78-7.78 2.81-2.81c.8-.78.8-2.07 0-2.86zM5.41 20L4 18.59l7.72-7.72 1.47 1.35L5.41 20z\"/>\n",
              "  </svg>\n",
              "      </button>\n",
              "      \n",
              "  <style>\n",
              "    .colab-df-container {\n",
              "      display:flex;\n",
              "      flex-wrap:wrap;\n",
              "      gap: 12px;\n",
              "    }\n",
              "\n",
              "    .colab-df-convert {\n",
              "      background-color: #E8F0FE;\n",
              "      border: none;\n",
              "      border-radius: 50%;\n",
              "      cursor: pointer;\n",
              "      display: none;\n",
              "      fill: #1967D2;\n",
              "      height: 32px;\n",
              "      padding: 0 0 0 0;\n",
              "      width: 32px;\n",
              "    }\n",
              "\n",
              "    .colab-df-convert:hover {\n",
              "      background-color: #E2EBFA;\n",
              "      box-shadow: 0px 1px 2px rgba(60, 64, 67, 0.3), 0px 1px 3px 1px rgba(60, 64, 67, 0.15);\n",
              "      fill: #174EA6;\n",
              "    }\n",
              "\n",
              "    [theme=dark] .colab-df-convert {\n",
              "      background-color: #3B4455;\n",
              "      fill: #D2E3FC;\n",
              "    }\n",
              "\n",
              "    [theme=dark] .colab-df-convert:hover {\n",
              "      background-color: #434B5C;\n",
              "      box-shadow: 0px 1px 3px 1px rgba(0, 0, 0, 0.15);\n",
              "      filter: drop-shadow(0px 1px 2px rgba(0, 0, 0, 0.3));\n",
              "      fill: #FFFFFF;\n",
              "    }\n",
              "  </style>\n",
              "\n",
              "      <script>\n",
              "        const buttonEl =\n",
              "          document.querySelector('#df-754abaa4-63bf-4e40-9ff9-6956ceb3f20f button.colab-df-convert');\n",
              "        buttonEl.style.display =\n",
              "          google.colab.kernel.accessAllowed ? 'block' : 'none';\n",
              "\n",
              "        async function convertToInteractive(key) {\n",
              "          const element = document.querySelector('#df-754abaa4-63bf-4e40-9ff9-6956ceb3f20f');\n",
              "          const dataTable =\n",
              "            await google.colab.kernel.invokeFunction('convertToInteractive',\n",
              "                                                     [key], {});\n",
              "          if (!dataTable) return;\n",
              "\n",
              "          const docLinkHtml = 'Like what you see? Visit the ' +\n",
              "            '<a target=\"_blank\" href=https://colab.research.google.com/notebooks/data_table.ipynb>data table notebook</a>'\n",
              "            + ' to learn more about interactive tables.';\n",
              "          element.innerHTML = '';\n",
              "          dataTable['output_type'] = 'display_data';\n",
              "          await google.colab.output.renderOutput(dataTable, element);\n",
              "          const docLink = document.createElement('div');\n",
              "          docLink.innerHTML = docLinkHtml;\n",
              "          element.appendChild(docLink);\n",
              "        }\n",
              "      </script>\n",
              "    </div>\n",
              "  </div>\n",
              "  "
            ]
          },
          "metadata": {},
          "execution_count": 20
        }
      ]
    },
    {
      "cell_type": "markdown",
      "source": [
        "### PCA"
      ],
      "metadata": {
        "id": "Z0IKvUfPtPCQ"
      }
    },
    {
      "cell_type": "markdown",
      "source": [
        "O PCA (Principal Component Analysis) é uma técnica de redução de dimensionalidade que visa identificar as direções (componentes principais) em que os dados apresentam a maior variância e, então, projetar os dados em um espaço dimensional menor, mantendo a maior parte das informações relevantes.\n",
        "\n",
        "No caso de um dataset de câncer de mama com 569 amostras e 31 atributos, o PCA poderia ser implementado da seguinte forma em Python:"
      ],
      "metadata": {
        "id": "Gl8tTIeFt2C1"
      }
    },
    {
      "cell_type": "code",
      "source": [
        "# Aplicação de um Algoritmo de PCA:\n",
        "\n",
        "# Normalizar os dados\n",
        "df_normal = (df - df.mean()) / df.std()\n",
        "\n",
        "# Criar o objeto PCA\n",
        "pca = PCA()\n",
        "\n",
        "# Aplicar o PCA nos dados normalizados\n",
        "pca.fit(df_normal)\n",
        "\n",
        "# Obter as componentes principais\n",
        "componentes_principais = pca.components_\n",
        "\n",
        "# Obter a variação explicada por cada componente principal\n",
        "var_explicada = pca.explained_variance_ratio_\n",
        "\n",
        "# Imprimir as componentes principais e a variação explicada por cada uma\n",
        "for i, componente in enumerate(componentes_principais):\n",
        "    print('Analise da coluna ' + df_normal.columns[i] + ':', var_explicada[i])\n",
        "    print()"
      ],
      "metadata": {
        "colab": {
          "base_uri": "https://localhost:8080/"
        },
        "id": "9APO5H_qELun",
        "outputId": "28ca3cd8-c6fc-456d-f743-c4befc488232"
      },
      "execution_count": 21,
      "outputs": [
        {
          "output_type": "stream",
          "name": "stdout",
          "text": [
            "Analise da coluna Nota 1: 0.5823368376180075\n",
            "\n",
            "Analise da coluna Nota 2: 0.37047616685002016\n",
            "\n",
            "Analise da coluna Nota 3: 0.045239477268491285\n",
            "\n",
            "Analise da coluna Situação: 0.0019475182634810843\n",
            "\n"
          ]
        }
      ]
    },
    {
      "cell_type": "markdown",
      "source": [
        "### Análise de correlação::"
      ],
      "metadata": {
        "id": "We4Imffatnju"
      }
    },
    {
      "cell_type": "markdown",
      "source": [
        "A análise de correlação é uma técnica estatística que permite avaliar a relação entre duas ou mais variáveis. A correlação pode ser positiva, negativa ou neutra, dependendo da direção e força da relação entre as variáveis.\n",
        "\n",
        "A correlação positiva indica que há uma relação direta entre as variáveis, ou seja, quando uma aumenta, a outra também aumenta. Já a correlação negativa indica que há uma relação inversa entre as variáveis, ou seja, quando uma aumenta, a outra diminui. A correlação neutra indica que não há relação entre as variáveis.\n",
        "\n",
        "Uma das medidas mais comuns para avaliar a correlação entre duas variáveis é o coeficiente de correlação de Pearson, que varia entre -1 e 1. Um valor de -1 indica correlação negativa perfeita, 0 indica ausência de correlação e 1 indica correlação positiva perfeita.\n",
        "\n",
        "Para realizar uma análise de correlação, podemos utilizar ferramentas estatísticas como a matriz de correlação, que mostra a correlação entre todas as variáveis de um conjunto de dados, ou gráficos de dispersão, que permitem visualizar a relação entre duas variáveis. Também é possível utilizar técnicas mais avançadas, como a análise de regressão, que permite avaliar a relação entre uma variável dependente e uma ou mais variáveis independentes.\n",
        "\n",
        "Em resumo, a análise de correlação é uma ferramenta importante na análise de dados, permitindo avaliar a relação entre as variáveis e identificar padrões e tendências nos dados."
      ],
      "metadata": {
        "id": "AMQ3hldqtq7z"
      }
    },
    {
      "cell_type": "markdown",
      "source": [
        "***Especifico:***"
      ],
      "metadata": {
        "id": "vLPCgyvjzYz5"
      }
    },
    {
      "cell_type": "code",
      "source": [
        "# Calcula a correlação de Pearson de todas as colunas com a coluna diagnosis\n",
        "correlation = df.corr()['Situação'].sort_values(ascending=False)\n",
        "\n",
        "# Exibe a correlação em ordem crescente\n",
        "print(correlation)"
      ],
      "metadata": {
        "colab": {
          "base_uri": "https://localhost:8080/"
        },
        "id": "R3YUsPDNzAN5",
        "outputId": "7d757e44-ffbe-42e6-f6ba-618e3feca07f"
      },
      "execution_count": 22,
      "outputs": [
        {
          "output_type": "stream",
          "name": "stdout",
          "text": [
            "Situação    1.000000\n",
            "Nota 2      0.800754\n",
            "Nota 1      0.223842\n",
            "Nota 3     -0.402638\n",
            "Name: Situação, dtype: float64\n"
          ]
        }
      ]
    },
    {
      "cell_type": "markdown",
      "source": [
        "***Especifico:***"
      ],
      "metadata": {
        "id": "-xRYotVOzdVH"
      }
    },
    {
      "cell_type": "code",
      "source": [
        "# Definindo o tamanho da figura\n",
        "plt.figure(figsize=(10, 10))\n",
        "\n",
        "# Criando um mapa de calor da matriz de correlação\n",
        "sns.heatmap(df.corr(), cmap='coolwarm', annot=True)\n",
        "\n",
        "plt.show()"
      ],
      "metadata": {
        "colab": {
          "base_uri": "https://localhost:8080/",
          "height": 836
        },
        "id": "BdDY7WgUkvmM",
        "outputId": "60cb8acd-d5a9-4e94-83de-f6d90e268077"
      },
      "execution_count": 23,
      "outputs": [
        {
          "output_type": "display_data",
          "data": {
            "text/plain": [
              "<Figure size 1000x1000 with 2 Axes>"
            ],
            "image/png": "[encoded data removed]"
          },
          "metadata": {}
        }
      ]
    },
    {
      "cell_type": "code",
      "source": [
        "df"
      ],
      "metadata": {
        "colab": {
          "base_uri": "https://localhost:8080/",
          "height": 269
        },
        "id": "j9A8eFpjeSkP",
        "outputId": "45b8d8bc-4888-4641-9ef1-da0a5b5f121e"
      },
      "execution_count": 24,
      "outputs": [
        {
          "output_type": "execute_result",
          "data": {
            "text/plain": [
              "   Nota 1  Nota 2  Nota 3  Situação\n",
              "0   9.690   22.91   2.360         1\n",
              "1   9.412   22.91   3.126         1\n",
              "2  11.070   17.18   1.550         1\n",
              "3   5.540   17.18   6.010         0\n",
              "4   9.412   11.45   3.126         0\n",
              "5   6.920    5.73   4.880         0\n",
              "6  13.840   11.45   0.830         0"
            ],
            "text/html": [
              "\n",
              "  <div id=\"df-497ea3e7-4bae-4404-98df-8e448ab3436a\">\n",
              "    <div class=\"colab-df-container\">\n",
              "      <div>\n",
              "<style scoped>\n",
              "    .dataframe tbody tr th:only-of-type {\n",
              "        vertical-align: middle;\n",
              "    }\n",
              "\n",
              "    .dataframe tbody tr th {\n",
              "        vertical-align: top;\n",
              "    }\n",
              "\n",
              "    .dataframe thead th {\n",
              "        text-align: right;\n",
              "    }\n",
              "</style>\n",
              "<table border=\"1\" class=\"dataframe\">\n",
              "  <thead>\n",
              "    <tr style=\"text-align: right;\">\n",
              "      <th></th>\n",
              "      <th>Nota 1</th>\n",
              "      <th>Nota 2</th>\n",
              "      <th>Nota 3</th>\n",
              "      <th>Situação</th>\n",
              "    </tr>\n",
              "  </thead>\n",
              "  <tbody>\n",
              "    <tr>\n",
              "      <th>0</th>\n",
              "      <td>9.690</td>\n",
              "      <td>22.91</td>\n",
              "      <td>2.360</td>\n",
              "      <td>1</td>\n",
              "    </tr>\n",
              "    <tr>\n",
              "      <th>1</th>\n",
              "      <td>9.412</td>\n",
              "      <td>22.91</td>\n",
              "      <td>3.126</td>\n",
              "      <td>1</td>\n",
              "    </tr>\n",
              "    <tr>\n",
              "      <th>2</th>\n",
              "      <td>11.070</td>\n",
              "      <td>17.18</td>\n",
              "      <td>1.550</td>\n",
              "      <td>1</td>\n",
              "    </tr>\n",
              "    <tr>\n",
              "      <th>3</th>\n",
              "      <td>5.540</td>\n",
              "      <td>17.18</td>\n",
              "      <td>6.010</td>\n",
              "      <td>0</td>\n",
              "    </tr>\n",
              "    <tr>\n",
              "      <th>4</th>\n",
              "      <td>9.412</td>\n",
              "      <td>11.45</td>\n",
              "      <td>3.126</td>\n",
              "      <td>0</td>\n",
              "    </tr>\n",
              "    <tr>\n",
              "      <th>5</th>\n",
              "      <td>6.920</td>\n",
              "      <td>5.73</td>\n",
              "      <td>4.880</td>\n",
              "      <td>0</td>\n",
              "    </tr>\n",
              "    <tr>\n",
              "      <th>6</th>\n",
              "      <td>13.840</td>\n",
              "      <td>11.45</td>\n",
              "      <td>0.830</td>\n",
              "      <td>0</td>\n",
              "    </tr>\n",
              "  </tbody>\n",
              "</table>\n",
              "</div>\n",
              "      <button class=\"colab-df-convert\" onclick=\"convertToInteractive('df-497ea3e7-4bae-4404-98df-8e448ab3436a')\"\n",
              "              title=\"Convert this dataframe to an interactive table.\"\n",
              "              style=\"display:none;\">\n",
              "        \n",
              "  <svg xmlns=\"http://www.w3.org/2000/svg\" height=\"24px\"viewBox=\"0 0 24 24\"\n",
              "       width=\"24px\">\n",
              "    <path d=\"M0 0h24v24H0V0z\" fill=\"none\"/>\n",
              "    <path d=\"M18.56 5.44l.94 2.06.94-2.06 2.06-.94-2.06-.94-.94-2.06-.94 2.06-2.06.94zm-11 1L8.5 8.5l.94-2.06 2.06-.94-2.06-.94L8.5 2.5l-.94 2.06-2.06.94zm10 10l.94 2.06.94-2.06 2.06-.94-2.06-.94-.94-2.06-.94 2.06-2.06.94z\"/><path d=\"M17.41 7.96l-1.37-1.37c-.4-.4-.92-.59-1.43-.59-.52 0-1.04.2-1.43.59L10.3 9.45l-7.72 7.72c-.78.78-.78 2.05 0 2.83L4 21.41c.39.39.9.59 1.41.59.51 0 1.02-.2 1.41-.59l7.78-7.78 2.81-2.81c.8-.78.8-2.07 0-2.86zM5.41 20L4 18.59l7.72-7.72 1.47 1.35L5.41 20z\"/>\n",
              "  </svg>\n",
              "      </button>\n",
              "      \n",
              "  <style>\n",
              "    .colab-df-container {\n",
              "      display:flex;\n",
              "      flex-wrap:wrap;\n",
              "      gap: 12px;\n",
              "    }\n",
              "\n",
              "    .colab-df-convert {\n",
              "      background-color: #E8F0FE;\n",
              "      border: none;\n",
              "      border-radius: 50%;\n",
              "      cursor: pointer;\n",
              "      display: none;\n",
              "      fill: #1967D2;\n",
              "      height: 32px;\n",
              "      padding: 0 0 0 0;\n",
              "      width: 32px;\n",
              "    }\n",
              "\n",
              "    .colab-df-convert:hover {\n",
              "      background-color: #E2EBFA;\n",
              "      box-shadow: 0px 1px 2px rgba(60, 64, 67, 0.3), 0px 1px 3px 1px rgba(60, 64, 67, 0.15);\n",
              "      fill: #174EA6;\n",
              "    }\n",
              "\n",
              "    [theme=dark] .colab-df-convert {\n",
              "      background-color: #3B4455;\n",
              "      fill: #D2E3FC;\n",
              "    }\n",
              "\n",
              "    [theme=dark] .colab-df-convert:hover {\n",
              "      background-color: #434B5C;\n",
              "      box-shadow: 0px 1px 3px 1px rgba(0, 0, 0, 0.15);\n",
              "      filter: drop-shadow(0px 1px 2px rgba(0, 0, 0, 0.3));\n",
              "      fill: #FFFFFF;\n",
              "    }\n",
              "  </style>\n",
              "\n",
              "      <script>\n",
              "        const buttonEl =\n",
              "          document.querySelector('#df-497ea3e7-4bae-4404-98df-8e448ab3436a button.colab-df-convert');\n",
              "        buttonEl.style.display =\n",
              "          google.colab.kernel.accessAllowed ? 'block' : 'none';\n",
              "\n",
              "        async function convertToInteractive(key) {\n",
              "          const element = document.querySelector('#df-497ea3e7-4bae-4404-98df-8e448ab3436a');\n",
              "          const dataTable =\n",
              "            await google.colab.kernel.invokeFunction('convertToInteractive',\n",
              "                                                     [key], {});\n",
              "          if (!dataTable) return;\n",
              "\n",
              "          const docLinkHtml = 'Like what you see? Visit the ' +\n",
              "            '<a target=\"_blank\" href=https://colab.research.google.com/notebooks/data_table.ipynb>data table notebook</a>'\n",
              "            + ' to learn more about interactive tables.';\n",
              "          element.innerHTML = '';\n",
              "          dataTable['output_type'] = 'display_data';\n",
              "          await google.colab.output.renderOutput(dataTable, element);\n",
              "          const docLink = document.createElement('div');\n",
              "          docLink.innerHTML = docLinkHtml;\n",
              "          element.appendChild(docLink);\n",
              "        }\n",
              "      </script>\n",
              "    </div>\n",
              "  </div>\n",
              "  "
            ]
          },
          "metadata": {},
          "execution_count": 24
        }
      ]
    }
  ]
}